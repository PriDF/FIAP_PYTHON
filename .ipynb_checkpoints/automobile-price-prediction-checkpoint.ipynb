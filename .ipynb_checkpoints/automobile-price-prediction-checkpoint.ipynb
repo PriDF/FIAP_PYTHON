{
 "cells": [
  {
   "cell_type": "markdown",
   "metadata": {},
   "source": [
    "# MBA FIAP Inteligência Artificial & Machine Learning\n",
    "\n",
    "![Image of Dementia](img/ml.png)\n",
    "\n",
    "## Programando IA com Python\n",
    "## Projeto Final: Estimando Preços de Automóveis Utilizando Modelos de Regressão\n",
    "\n",
    "Este projeto final tem como objetivo explorar os conhecimentos adquiridos nas aulas práticas. Por meio uma trilha guiada para construir um classificador que permitirá predizer o valor de um automóvel baseado em algumas características que cada grupo deverá escolher.\n",
    "\n",
    "Este projeto poderá ser feita por grupos de até 4 pessoas.\n",
    "\n",
    "| Nome dos Integrantes               | RM            | Turma |\n",
    "| :--------------------------------- | :------------- | :-----: |\n",
    "| Cauê Engelmann                     | RM 331199      | `2IA` |\n",
    "| Marcelo Gulfier                    | RM 330738      | `2IA` |\n",
    "| Marcos Massaharu Muto              | RM 330930      | `2IA` |\n",
    "| Priscila Daniele Fritsch Gonçalves | RM 331893      | `2IA` |\n",
    "\n",
    "Por ser um projeto guiado, fique atento quando houver as marcações **Implementação** indica que é necessário realizar alguma implementação em Python no bloco a seguir onde há a inscrição ```##IMPLEMENTAR``` e **Resposta** indica que é esperado uma resposta objetiva relacionado a algum questionamento. Cada grupo pode utilizar nas respostas objetivas quaisquer itens necessários que enriqueçam seu ponto vista, como gráficos e, até mesmo, trechos de código-fonte.\n",
    "\n",
    "Pode-se utilizar quantos blocos forem necessários para realizar determinadas implementações ou utilizá-las para justificar as respostas. Não é obrigatório utilizar somente o bloco indicado.\n",
    "\n",
    "Ao final não se esqueça de subir os arquivos do projeto nas contas do GitHub de cada membro, ou subir na do representante do grupo e os membros realizarem o fork do projeto.\n",
    "\n",
    "A avaliação terá mais ênfase nos seguintes tópicos de desenvolvimento do projeto:\n",
    " \n",
    "1. __Exploração de Dados__\n",
    "2. __Preparação de Dados__\n",
    "3. __Desenvolvimento do Modelo__\n",
    "4. __Treinamento e Teste do Modelo__\n",
    "5. __Validação e Otimização do Modelo__\n",
    "6. __Conclusões Finais__\n",
    "\n",
    "## Exploração de Dados"
   ]
  },
  {
   "cell_type": "markdown",
   "metadata": {},
   "source": [
    "Os dados que serão utilizados foram modificados para propocionar uma experiência que explore melhor as técnicas de processamento e preparação de dados aprendidas.\n",
    "\n",
    "Originalmente os dados foram extraídos do Kaggle deste [dataset](https://www.kaggle.com/nisargpatel/automobiles/data)."
   ]
  },
  {
   "cell_type": "markdown",
   "metadata": {},
   "source": [
    "**Implementação** \n",
    "\n",
    "Carregue o dataset \"automobile-mod.csv\" que se encontra na pasta \"data\" e faça uma inspeção nas 10 primeiras linhas para identificação básica dos atributos.\n",
    "\n",
    "O dataset original \"automobile.csv\" se encontra na mesma pasta apenas como referência. Não deverá ser utilizado.\n",
    "\n",
    "__Atualizado em 16/07/2017__"
   ]
  },
  {
   "cell_type": "code",
<<<<<<< HEAD
   "execution_count": 99,
=======
   "execution_count": 3,
>>>>>>> upstream/master
   "metadata": {},
   "outputs": [],
   "source": [
    "import seaborn as sns\n",
    "import matplotlib.pyplot as plt\n",
    "import pandas as pd\n",
    "import numpy as np\n",
<<<<<<< HEAD
    "import re\n",
    "\n",
    "%matplotlib inline\n",
    "plt.style.use('seaborn')"
=======
    "\n",
    "%matplotlib inline"
>>>>>>> upstream/master
   ]
  },
  {
   "cell_type": "code",
<<<<<<< HEAD
   "execution_count": 9,
=======
   "execution_count": 4,
>>>>>>> upstream/master
   "metadata": {},
   "outputs": [
    {
     "data": {
      "text/html": [
       "<div>\n",
       "<style scoped>\n",
       "    .dataframe tbody tr th:only-of-type {\n",
       "        vertical-align: middle;\n",
       "    }\n",
       "\n",
       "    .dataframe tbody tr th {\n",
       "        vertical-align: top;\n",
       "    }\n",
       "\n",
       "    .dataframe thead th {\n",
       "        text-align: right;\n",
       "    }\n",
       "</style>\n",
       "<table border=\"1\" class=\"dataframe\">\n",
       "  <thead>\n",
       "    <tr style=\"text-align: right;\">\n",
       "      <th></th>\n",
       "      <th>make</th>\n",
       "      <th>fuel_type</th>\n",
       "      <th>aspiration</th>\n",
       "      <th>number_of_doors</th>\n",
       "      <th>body_style</th>\n",
       "      <th>drive_wheels</th>\n",
       "      <th>engine_location</th>\n",
       "      <th>wheel_base</th>\n",
       "      <th>length</th>\n",
       "      <th>width</th>\n",
       "      <th>...</th>\n",
       "      <th>engine_size</th>\n",
       "      <th>fuel_system</th>\n",
       "      <th>bore</th>\n",
       "      <th>stroke</th>\n",
       "      <th>compression_ratio</th>\n",
       "      <th>horsepower</th>\n",
       "      <th>peak_rpm</th>\n",
       "      <th>city_mpg</th>\n",
       "      <th>highway_mpg</th>\n",
       "      <th>price</th>\n",
       "    </tr>\n",
       "  </thead>\n",
       "  <tbody>\n",
       "    <tr>\n",
       "      <th>0</th>\n",
       "      <td>alfa-romero</td>\n",
       "      <td>gas</td>\n",
       "      <td>std</td>\n",
       "      <td>two</td>\n",
       "      <td>convertible</td>\n",
       "      <td>rwd</td>\n",
       "      <td>front</td>\n",
       "      <td>88.6</td>\n",
       "      <td>168.8</td>\n",
       "      <td>64.1</td>\n",
       "      <td>...</td>\n",
       "      <td>130</td>\n",
       "      <td>mpfi</td>\n",
       "      <td>3.47</td>\n",
       "      <td>2.68</td>\n",
       "      <td>9.0</td>\n",
       "      <td>111</td>\n",
       "      <td>5000.0</td>\n",
       "      <td>21.0</td>\n",
       "      <td>27.0</td>\n",
       "      <td>13495</td>\n",
       "    </tr>\n",
       "    <tr>\n",
       "      <th>1</th>\n",
       "      <td>alfa-romero</td>\n",
       "      <td>gas</td>\n",
       "      <td>std</td>\n",
       "      <td>two</td>\n",
       "      <td>convertible</td>\n",
       "      <td>rwd</td>\n",
       "      <td>front</td>\n",
       "      <td>88.6</td>\n",
       "      <td>168.8</td>\n",
       "      <td>64.1</td>\n",
       "      <td>...</td>\n",
       "      <td>130</td>\n",
       "      <td>mpfi</td>\n",
       "      <td>3.47</td>\n",
       "      <td>2.68</td>\n",
       "      <td>9.0</td>\n",
       "      <td>111</td>\n",
       "      <td>5000.0</td>\n",
       "      <td>21.0</td>\n",
       "      <td>27.0</td>\n",
       "      <td>16500</td>\n",
       "    </tr>\n",
       "    <tr>\n",
       "      <th>2</th>\n",
       "      <td>alfa-romero</td>\n",
       "      <td>gas</td>\n",
       "      <td>std</td>\n",
       "      <td>two</td>\n",
       "      <td>hatchback</td>\n",
       "      <td>rwd</td>\n",
       "      <td>front</td>\n",
       "      <td>94.5</td>\n",
       "      <td>171.2</td>\n",
       "      <td>65.5</td>\n",
       "      <td>...</td>\n",
       "      <td>152</td>\n",
       "      <td>mpfi</td>\n",
       "      <td>2.68</td>\n",
       "      <td>3.47</td>\n",
       "      <td>9.0</td>\n",
       "      <td>154</td>\n",
       "      <td>5000.0</td>\n",
       "      <td>19.0</td>\n",
       "      <td>26.0</td>\n",
       "      <td>16500</td>\n",
       "    </tr>\n",
       "    <tr>\n",
       "      <th>3</th>\n",
       "      <td>audi</td>\n",
       "      <td>gas</td>\n",
       "      <td>std</td>\n",
       "      <td>four</td>\n",
       "      <td>sedan</td>\n",
       "      <td>fwd</td>\n",
       "      <td>front</td>\n",
       "      <td>99.8</td>\n",
       "      <td>176.6</td>\n",
       "      <td>66.2</td>\n",
       "      <td>...</td>\n",
       "      <td>109</td>\n",
       "      <td>mpfi</td>\n",
       "      <td>3.19</td>\n",
       "      <td>3.40</td>\n",
       "      <td>10.0</td>\n",
       "      <td>102</td>\n",
       "      <td>5500.0</td>\n",
       "      <td>24.0</td>\n",
       "      <td>30.0</td>\n",
       "      <td>13950</td>\n",
       "    </tr>\n",
       "    <tr>\n",
       "      <th>4</th>\n",
       "      <td>audi</td>\n",
       "      <td>gas</td>\n",
       "      <td>std</td>\n",
       "      <td>four</td>\n",
       "      <td>sedan</td>\n",
       "      <td>4wd</td>\n",
       "      <td>front</td>\n",
       "      <td>99.4</td>\n",
       "      <td>176.6</td>\n",
       "      <td>66.4</td>\n",
       "      <td>...</td>\n",
       "      <td>136</td>\n",
       "      <td>mpfi</td>\n",
       "      <td>3.19</td>\n",
       "      <td>3.40</td>\n",
       "      <td>8.0</td>\n",
       "      <td>115</td>\n",
       "      <td>5500.0</td>\n",
       "      <td>18.0</td>\n",
       "      <td>22.0</td>\n",
       "      <td>17450</td>\n",
       "    </tr>\n",
       "    <tr>\n",
       "      <th>5</th>\n",
       "      <td>audi</td>\n",
       "      <td>gas</td>\n",
       "      <td>std</td>\n",
       "      <td>two</td>\n",
       "      <td>sedan</td>\n",
       "      <td>fwd</td>\n",
       "      <td>front</td>\n",
       "      <td>99.8</td>\n",
       "      <td>177.3</td>\n",
       "      <td>66.3</td>\n",
       "      <td>...</td>\n",
       "      <td>136</td>\n",
       "      <td>mpfi</td>\n",
       "      <td>3.19</td>\n",
       "      <td>3.40</td>\n",
       "      <td>8.5</td>\n",
       "      <td>110</td>\n",
       "      <td>5500.0</td>\n",
       "      <td>19.0</td>\n",
       "      <td>25.0</td>\n",
       "      <td>15250</td>\n",
       "    </tr>\n",
       "    <tr>\n",
       "      <th>6</th>\n",
       "      <td>audi</td>\n",
       "      <td>gas</td>\n",
       "      <td>std</td>\n",
       "      <td>four</td>\n",
       "      <td>sedan</td>\n",
       "      <td>fwd</td>\n",
       "      <td>front</td>\n",
       "      <td>105.8</td>\n",
       "      <td>192.7</td>\n",
       "      <td>71.4</td>\n",
       "      <td>...</td>\n",
       "      <td>136</td>\n",
       "      <td>mpfi</td>\n",
       "      <td>3.19</td>\n",
       "      <td>3.40</td>\n",
       "      <td>8.5</td>\n",
       "      <td>110</td>\n",
       "      <td>5500.0</td>\n",
       "      <td>19.0</td>\n",
       "      <td>25.0</td>\n",
       "      <td>17710</td>\n",
       "    </tr>\n",
       "    <tr>\n",
       "      <th>7</th>\n",
       "      <td>audi</td>\n",
       "      <td>gas</td>\n",
       "      <td>std</td>\n",
       "      <td>four</td>\n",
       "      <td>wagon</td>\n",
       "      <td>fwd</td>\n",
       "      <td>front</td>\n",
       "      <td>105.8</td>\n",
       "      <td>192.7</td>\n",
       "      <td>71.4</td>\n",
       "      <td>...</td>\n",
       "      <td>136</td>\n",
       "      <td>mpfi</td>\n",
       "      <td>3.19</td>\n",
       "      <td>3.40</td>\n",
       "      <td>8.5</td>\n",
       "      <td>110</td>\n",
       "      <td>5500.0</td>\n",
       "      <td>19.0</td>\n",
       "      <td>25.0</td>\n",
       "      <td>18920</td>\n",
       "    </tr>\n",
       "    <tr>\n",
       "      <th>8</th>\n",
       "      <td>audi</td>\n",
       "      <td>gas</td>\n",
       "      <td>turbo</td>\n",
       "      <td>four</td>\n",
       "      <td>sedan</td>\n",
       "      <td>fwd</td>\n",
       "      <td>front</td>\n",
       "      <td>105.8</td>\n",
       "      <td>192.7</td>\n",
       "      <td>71.4</td>\n",
       "      <td>...</td>\n",
       "      <td>131</td>\n",
       "      <td>mpfi</td>\n",
       "      <td>3.13</td>\n",
       "      <td>3.40</td>\n",
       "      <td>8.3</td>\n",
       "      <td>140</td>\n",
       "      <td>5500.0</td>\n",
       "      <td>17.0</td>\n",
       "      <td>20.0</td>\n",
       "      <td>23875</td>\n",
       "    </tr>\n",
       "    <tr>\n",
       "      <th>9</th>\n",
       "      <td>bmw</td>\n",
       "      <td>gas</td>\n",
       "      <td>std</td>\n",
       "      <td>two</td>\n",
       "      <td>sedan</td>\n",
       "      <td>rwd</td>\n",
       "      <td>front</td>\n",
       "      <td>101.2</td>\n",
       "      <td>176.8</td>\n",
       "      <td>64.8</td>\n",
       "      <td>...</td>\n",
       "      <td>108</td>\n",
       "      <td>mpfi</td>\n",
       "      <td>3.50</td>\n",
       "      <td>2.80</td>\n",
       "      <td>8.8</td>\n",
       "      <td>101</td>\n",
       "      <td>5800.0</td>\n",
       "      <td>23.0</td>\n",
       "      <td>29.0</td>\n",
       "      <td>16430</td>\n",
       "    </tr>\n",
       "  </tbody>\n",
       "</table>\n",
       "<p>10 rows × 24 columns</p>\n",
       "</div>"
      ],
      "text/plain": [
       "          make fuel_type aspiration number_of_doors   body_style drive_wheels  \\\n",
       "0  alfa-romero       gas        std             two  convertible          rwd   \n",
       "1  alfa-romero       gas        std             two  convertible          rwd   \n",
       "2  alfa-romero       gas        std             two    hatchback          rwd   \n",
       "3         audi       gas        std            four        sedan          fwd   \n",
       "4         audi       gas        std            four        sedan          4wd   \n",
       "5         audi       gas        std             two        sedan          fwd   \n",
       "6         audi       gas        std            four        sedan          fwd   \n",
       "7         audi       gas        std            four        wagon          fwd   \n",
       "8         audi       gas      turbo            four        sedan          fwd   \n",
       "9          bmw       gas        std             two        sedan          rwd   \n",
       "\n",
       "  engine_location  wheel_base  length  width  ...    engine_size  fuel_system  \\\n",
       "0           front        88.6   168.8   64.1  ...            130         mpfi   \n",
       "1           front        88.6   168.8   64.1  ...            130         mpfi   \n",
       "2           front        94.5   171.2   65.5  ...            152         mpfi   \n",
       "3           front        99.8   176.6   66.2  ...            109         mpfi   \n",
       "4           front        99.4   176.6   66.4  ...            136         mpfi   \n",
       "5           front        99.8   177.3   66.3  ...            136         mpfi   \n",
       "6           front       105.8   192.7   71.4  ...            136         mpfi   \n",
       "7           front       105.8   192.7   71.4  ...            136         mpfi   \n",
       "8           front       105.8   192.7   71.4  ...            131         mpfi   \n",
       "9           front       101.2   176.8   64.8  ...            108         mpfi   \n",
       "\n",
       "   bore stroke  compression_ratio horsepower  peak_rpm  city_mpg  highway_mpg  \\\n",
       "0  3.47   2.68                9.0        111    5000.0      21.0         27.0   \n",
       "1  3.47   2.68                9.0        111    5000.0      21.0         27.0   \n",
       "2  2.68   3.47                9.0        154    5000.0      19.0         26.0   \n",
       "3  3.19   3.40               10.0        102    5500.0      24.0         30.0   \n",
       "4  3.19   3.40                8.0        115    5500.0      18.0         22.0   \n",
       "5  3.19   3.40                8.5        110    5500.0      19.0         25.0   \n",
       "6  3.19   3.40                8.5        110    5500.0      19.0         25.0   \n",
       "7  3.19   3.40                8.5        110    5500.0      19.0         25.0   \n",
       "8  3.13   3.40                8.3        140    5500.0      17.0         20.0   \n",
       "9  3.50   2.80                8.8        101    5800.0      23.0         29.0   \n",
       "\n",
       "   price  \n",
       "0  13495  \n",
       "1  16500  \n",
       "2  16500  \n",
       "3  13950  \n",
       "4  17450  \n",
       "5  15250  \n",
       "6  17710  \n",
       "7  18920  \n",
       "8  23875  \n",
       "9  16430  \n",
       "\n",
       "[10 rows x 24 columns]"
      ]
     },
<<<<<<< HEAD
     "execution_count": 9,
=======
     "execution_count": 4,
>>>>>>> upstream/master
     "metadata": {},
     "output_type": "execute_result"
    }
   ],
   "source": [
    "automobile = pd.read_csv(\"data/automobile-mod.csv\", sep=\";\")\n",
    "automobile.head(10)\n"
   ]
  },
  {
   "cell_type": "markdown",
   "metadata": {},
   "source": [
    "Relação das coluna e seu significado:\n",
    "\n",
    "1. make: fabricante\n",
    "2. fuel_type: tipo de combustível\n",
    "3. aspiration: tipo de aspiração do motor, ex. turbo ou padrão (std)\n",
    "4. body_style: estilo do carro, ex. sedan ou hatchback\n",
    "5. drive_wheels: tração do carro, ex. rwd (tração traseira) ou frw (tração dianteira)\n",
    "6. wheel_base: entre-eixos, distância entre o eixo dianteiro e o eixo traseiro\n",
    "7. length: comprimento\n",
    "8. width: largura\n",
    "9. height: altura\n",
    "10. curb_wheight: peso\n",
    "11. engine_type: tipo do motor\n",
    "12. number_of_cylinders: cilindrada, quantidade de cilindros\n",
    "13. engine_size: tamanho do motor\n",
    "14. fuel_system: sistema de injeção\n",
    "15. bore: diâmetro do cilindro\n",
    "16. stroke: diâmetro do pistão\n",
    "17. compression_ratio: razão de compressão\n",
    "18. horsepower: cavalo de força ou HP\n",
    "19. peak_rpm: pico de RPM (rotações por minuto)\n",
    "20. city_mpg: consumo em mpg (milhas por galão) na cidade\n",
    "21. highway_mpg: consumo em mpg (milhas por galão) na estrada\n",
    "22. price: preço (**Variável Alvo**)"
   ]
  },
  {
   "cell_type": "markdown",
   "metadata": {},
   "source": [
    "### Correlacionamento dos atributos"
   ]
  },
  {
   "cell_type": "markdown",
   "metadata": {},
   "source": [
    "Vamos utilizar algumas suposições e validar se elas são verdadeiras, por exemplo, o preço do carro pode variar com seu consumo, tamanho ou força? Vamos explorar estas hipósteses ou outras que o grupo julgue relevante."
   ]
  },
  {
   "cell_type": "code",
<<<<<<< HEAD
   "execution_count": 14,
=======
   "execution_count": 5,
>>>>>>> upstream/master
   "metadata": {},
   "outputs": [
    {
     "data": {
      "text/html": [
       "<div>\n",
       "<style scoped>\n",
       "    .dataframe tbody tr th:only-of-type {\n",
       "        vertical-align: middle;\n",
       "    }\n",
       "\n",
       "    .dataframe tbody tr th {\n",
       "        vertical-align: top;\n",
       "    }\n",
       "\n",
       "    .dataframe thead th {\n",
       "        text-align: right;\n",
       "    }\n",
       "</style>\n",
       "<table border=\"1\" class=\"dataframe\">\n",
       "  <thead>\n",
       "    <tr style=\"text-align: right;\">\n",
       "      <th></th>\n",
       "      <th>city_mpg</th>\n",
       "      <th>highway_mpg</th>\n",
       "      <th>length</th>\n",
       "      <th>width</th>\n",
       "      <th>height</th>\n",
       "      <th>horsepower</th>\n",
       "      <th>price</th>\n",
       "    </tr>\n",
       "  </thead>\n",
       "  <tbody>\n",
       "    <tr>\n",
       "      <th>city_mpg</th>\n",
       "      <td>1.000000</td>\n",
       "      <td>0.875933</td>\n",
       "      <td>-0.633185</td>\n",
       "      <td>-0.620316</td>\n",
       "      <td>-0.069029</td>\n",
       "      <td>-0.763573</td>\n",
       "      <td>-0.657661</td>\n",
       "    </tr>\n",
       "    <tr>\n",
       "      <th>highway_mpg</th>\n",
       "      <td>0.875933</td>\n",
       "      <td>1.000000</td>\n",
       "      <td>-0.709308</td>\n",
       "      <td>-0.697742</td>\n",
       "      <td>-0.117146</td>\n",
       "      <td>-0.776634</td>\n",
       "      <td>-0.712812</td>\n",
       "    </tr>\n",
       "    <tr>\n",
       "      <th>length</th>\n",
       "      <td>-0.633185</td>\n",
       "      <td>-0.709308</td>\n",
       "      <td>1.000000</td>\n",
       "      <td>0.857170</td>\n",
       "      <td>0.492063</td>\n",
       "      <td>0.577923</td>\n",
       "      <td>0.690628</td>\n",
       "    </tr>\n",
       "    <tr>\n",
       "      <th>width</th>\n",
       "      <td>-0.620316</td>\n",
       "      <td>-0.697742</td>\n",
       "      <td>0.857170</td>\n",
       "      <td>1.000000</td>\n",
       "      <td>0.306002</td>\n",
       "      <td>0.613488</td>\n",
       "      <td>0.751265</td>\n",
       "    </tr>\n",
       "    <tr>\n",
       "      <th>height</th>\n",
       "      <td>-0.069029</td>\n",
       "      <td>-0.117146</td>\n",
       "      <td>0.492063</td>\n",
       "      <td>0.306002</td>\n",
       "      <td>1.000000</td>\n",
       "      <td>-0.085544</td>\n",
       "      <td>0.135486</td>\n",
       "    </tr>\n",
       "    <tr>\n",
       "      <th>horsepower</th>\n",
       "      <td>-0.763573</td>\n",
       "      <td>-0.776634</td>\n",
       "      <td>0.577923</td>\n",
       "      <td>0.613488</td>\n",
       "      <td>-0.085544</td>\n",
       "      <td>1.000000</td>\n",
       "      <td>0.810795</td>\n",
       "    </tr>\n",
       "    <tr>\n",
       "      <th>price</th>\n",
       "      <td>-0.657661</td>\n",
       "      <td>-0.712812</td>\n",
       "      <td>0.690628</td>\n",
       "      <td>0.751265</td>\n",
       "      <td>0.135486</td>\n",
       "      <td>0.810795</td>\n",
       "      <td>1.000000</td>\n",
       "    </tr>\n",
       "  </tbody>\n",
       "</table>\n",
       "</div>"
      ],
      "text/plain": [
       "             city_mpg  highway_mpg    length     width    height  horsepower  \\\n",
       "city_mpg     1.000000     0.875933 -0.633185 -0.620316 -0.069029   -0.763573   \n",
       "highway_mpg  0.875933     1.000000 -0.709308 -0.697742 -0.117146   -0.776634   \n",
       "length      -0.633185    -0.709308  1.000000  0.857170  0.492063    0.577923   \n",
       "width       -0.620316    -0.697742  0.857170  1.000000  0.306002    0.613488   \n",
       "height      -0.069029    -0.117146  0.492063  0.306002  1.000000   -0.085544   \n",
       "horsepower  -0.763573    -0.776634  0.577923  0.613488 -0.085544    1.000000   \n",
       "price       -0.657661    -0.712812  0.690628  0.751265  0.135486    0.810795   \n",
       "\n",
       "                price  \n",
       "city_mpg    -0.657661  \n",
       "highway_mpg -0.712812  \n",
       "length       0.690628  \n",
       "width        0.751265  \n",
       "height       0.135486  \n",
       "horsepower   0.810795  \n",
       "price        1.000000  "
      ]
     },
<<<<<<< HEAD
     "execution_count": 14,
=======
     "execution_count": 5,
>>>>>>> upstream/master
     "metadata": {},
     "output_type": "execute_result"
    }
   ],
   "source": [
    "auto_correlacao = automobile[[\"city_mpg\", \"highway_mpg\", \"length\", \"width\", \"height\", \"horsepower\", \"price\"]].corr()\n",
    "auto_correlacao"
   ]
  },
  {
   "cell_type": "code",
<<<<<<< HEAD
   "execution_count": 48,
=======
   "execution_count": 6,
   "metadata": {
    "scrolled": true
   },
   "outputs": [
    {
     "name": "stdout",
     "output_type": "stream",
     "text": [
      "10 com maiores preços\n",
      "              make  price\n",
      "71   mercedes-benz  45400\n",
      "15             bmw  41315\n",
      "70   mercedes-benz  40960\n",
      "125        porsche  37028\n",
      "16             bmw  36880\n",
      "46          jaguar  36000\n",
      "45          jaguar  35550\n",
      "69   mercedes-benz  35056\n",
      "68   mercedes-benz  34184\n",
      "124        porsche  34028\n",
      "\n",
      "\n",
      "10 com maiores dimensões\n",
      "     length  width  height\n",
      "70    208.1   71.7    56.7\n",
      "68    202.6   71.7    56.5\n",
      "67    202.6   71.7    56.3\n",
      "44    199.6   69.6    52.8\n",
      "45    199.6   69.6    52.8\n",
      "71    199.2   72.0    55.4\n",
      "106   198.9   68.4    58.7\n",
      "107   198.9   68.4    58.7\n",
      "111   198.9   68.4    58.7\n",
      "110   198.9   68.4    56.7\n",
      "\n",
      "\n",
      "10 com maiores potências\n",
      "     horsepower\n",
      "46          262\n",
      "125         207\n",
      "124         207\n",
      "123         207\n",
      "102         200\n",
      "70          184\n",
      "71          184\n",
      "16          182\n",
      "15          182\n",
      "14          182\n",
      "\n",
      "\n",
      "10 mais econômicos\n",
      "     city_mpg  highway_mpg\n",
      "66        0.0         25.0\n",
      "181       0.0         34.0\n",
      "46       13.0         17.0\n",
      "70       14.0         16.0\n",
      "71       14.0         16.0\n",
      "44       15.0         19.0\n",
      "45       15.0         19.0\n",
      "16       15.0         20.0\n",
      "68       16.0         18.0\n",
      "69       16.0         18.0\n"
     ]
    }
   ],
   "source": [
    "auto_pricey=automobile.sort_values([\"price\"], ascending=False).head(10)[[\"make\", \"price\"]]\n",
    "auto_biggest=automobile.sort_values([\"length\", \"width\", \"height\"], ascending=False).head(10)[[\"length\", \"width\", \"height\"]]\n",
    "auto_powerful=automobile.sort_values([\"horsepower\"], ascending=False).head(10)[[\"horsepower\"]]\n",
    "auto_economic=automobile.sort_values([\"city_mpg\", \"highway_mpg\"]).head(10)[[\"city_mpg\", \"highway_mpg\"]]\n",
    "print(\"10 com maiores preços\")\n",
    "print(auto_pricey)\n",
    "print(\"\\n\\n10 com maiores dimensões\")\n",
    "print(auto_biggest)\n",
    "print(\"\\n\\n10 com maiores potências\")\n",
    "print(auto_powerful)\n",
    "print(\"\\n\\n10 mais econômicos\")\n",
    "print(auto_economic)\n"
   ]
  },
  {
   "cell_type": "code",
   "execution_count": 7,
>>>>>>> upstream/master
   "metadata": {},
   "outputs": [
    {
     "name": "stdout",
     "output_type": "stream",
     "text": [
      "Preço X Tamanho\n",
      "             make  price  length  width  height\n",
      "71  mercedes-benz  45400   199.2   72.0    55.4\n",
      "70  mercedes-benz  40960   208.1   71.7    56.7\n",
      "45         jaguar  35550   199.6   69.6    52.8\n",
      "68  mercedes-benz  34184   202.6   71.7    56.5\n",
      "\n",
      "Preço X Força\n",
      "              make  price  horsepower\n",
      "71   mercedes-benz  45400         184\n",
      "15             bmw  41315         182\n",
      "70   mercedes-benz  40960         184\n",
      "125        porsche  37028         207\n",
      "16             bmw  36880         182\n",
      "46          jaguar  36000         262\n",
      "124        porsche  34028         207\n",
      "\n",
      "Preço X Consumo\n",
      "             make  price  city_mpg  highway_mpg\n",
      "71  mercedes-benz  45400      14.0         16.0\n",
      "70  mercedes-benz  40960      14.0         16.0\n",
      "16            bmw  36880      15.0         20.0\n",
      "46         jaguar  36000      13.0         17.0\n",
      "45         jaguar  35550      15.0         19.0\n",
      "69  mercedes-benz  35056      16.0         18.0\n",
      "68  mercedes-benz  34184      16.0         18.0\n"
     ]
    }
   ],
   "source": [
<<<<<<< HEAD
    "auto_pricey=automobile.sort_values([\"price\"], ascending=False).head(10)[[\"make\", \"price\"]]\n",
    "auto_biggest=automobile.sort_values([\"length\", \"width\", \"height\"], ascending=False).head(10)[[\"length\", \"width\", \"height\"]]\n",
    "auto_powerful=automobile.sort_values([\"horsepower\"], ascending=False).head(10)[[\"horsepower\"]]\n",
    "auto_economic=automobile.sort_values([\"city_mpg\", \"highway_mpg\"]).head(10)[[\"city_mpg\", \"highway_mpg\"]]\n",
    "\n",
=======
>>>>>>> upstream/master
    "auto_pricey_biggest = pd.merge(auto_pricey, auto_biggest, left_index=True, right_index=True)\n",
    "auto_pricey_powerful = pd.merge(auto_pricey, auto_powerful, left_index=True, right_index=True)\n",
    "auto_pricey_economic = pd.merge(auto_pricey, auto_economic, left_index=True, right_index=True)\n",
    "print(\"Preço X Tamanho\")\n",
    "print(auto_pricey_biggest)\n",
    "print(\"\")\n",
    "print(\"Preço X Força\")\n",
    "print(auto_pricey_powerful)\n",
    "print(\"\")\n",
    "print(\"Preço X Consumo\")\n",
    "print(auto_pricey_economic)"
   ]
  },
  {
   "cell_type": "markdown",
   "metadata": {},
   "source": [
    "**Pergunta:** Cite um exemplo de pelo menos os 3 cenários propostos que corroboram a leitura dos dados apresentados, justique sua resposta."
   ]
  },
  {
   "cell_type": "markdown",
   "metadata": {},
   "source": [
    "**Resposta:** No procedimento acima foram listadas as classificações dos 10 carros com maior preço, maior tamanho, maior força e menor consumo. A seguir a tabela de preços foi relacionada com as outras três tabelas resultando nas tabelas ilustradas acima.\n",
    "\n",
    "Baseado nesse cruzamento, nota-se que há quatro carros em comum entre os 10 maiores preços e os 10 maiores tamanhos. Entre maiores preços e maiores forças há 7 carros em comum, bem como maiores preços e menor consumo. \n",
    "\n",
<<<<<<< HEAD
    "Também nota-se que os carros com índice 70 e 71 aparecem nos três comparativos. Portanto, pode-se afirmar que o preço dos automóveis é correlacionado ao tamanho, força e consumo."
   ]
  },
  {
   "cell_type": "code",
   "execution_count": 17,
   "metadata": {},
   "outputs": [
    {
     "data": {
      "text/plain": [
       "(array([0.00148511, 0.00297022, 0.00445534, 0.        , 0.02673201,\n",
       "        0.01336601, 0.00297022, 0.03118735, 0.03564268, 0.04455335,\n",
       "        0.04752358, 0.00742556, 0.01039578, 0.02376179, 0.02227668,\n",
       "        0.00742556, 0.00148511, 0.01039578, 0.00297022, 0.00148511]),\n",
       " array([141.1 , 144.45, 147.8 , 151.15, 154.5 , 157.85, 161.2 , 164.55,\n",
       "        167.9 , 171.25, 174.6 , 177.95, 181.3 , 184.65, 188.  , 191.35,\n",
       "        194.7 , 198.05, 201.4 , 204.75, 208.1 ]),\n",
       " <a list of 20 Patch objects>)"
      ]
     },
     "execution_count": 17,
     "metadata": {},
     "output_type": "execute_result"
    },
    {
     "data": {
      "image/png": "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\n",
      "text/plain": [
       "<matplotlib.figure.Figure at 0x140df90c240>"
      ]
     },
     "metadata": {},
     "output_type": "display_data"
    }
   ],
   "source": [
    "plt.hist(automobile[[\"price\"]], color=\"blue\", alpha=0.5, bins=20, density=True)\n",
    "plt.hist(automobile[[\"length\"]], color=\"red\", alpha=0.5, bins=20, density=True)"
   ]
  },
  {
   "cell_type": "code",
   "execution_count": 18,
   "metadata": {},
   "outputs": [
    {
     "data": {
      "text/plain": [
       "(array([0.00850449, 0.        , 0.00850449, 0.00850449, 0.        ,\n",
       "        0.28915253, 0.17008972, 0.13607178, 0.28064804, 0.11055832,\n",
       "        0.27214356, 0.09354935, 0.05102692, 0.11055832, 0.04252243,\n",
       "        0.01700897, 0.        , 0.04252243, 0.03401794, 0.03401794]),\n",
       " array([60.3  , 60.885, 61.47 , 62.055, 62.64 , 63.225, 63.81 , 64.395,\n",
       "        64.98 , 65.565, 66.15 , 66.735, 67.32 , 67.905, 68.49 , 69.075,\n",
       "        69.66 , 70.245, 70.83 , 71.415, 72.   ]),\n",
       " <a list of 20 Patch objects>)"
      ]
     },
     "execution_count": 18,
     "metadata": {},
     "output_type": "execute_result"
    },
    {
     "data": {
      "image/png": "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\n",
      "text/plain": [
       "<matplotlib.figure.Figure at 0x140e0c10ac8>"
      ]
     },
     "metadata": {},
     "output_type": "display_data"
    }
   ],
   "source": [
    "plt.hist(automobile[[\"price\"]], color=\"blue\", alpha=0.5, bins=20, density=True)\n",
    "plt.hist(automobile[[\"width\"]], color=\"red\", alpha=0.5, bins=20, density=True)"
   ]
  },
  {
   "cell_type": "code",
   "execution_count": 25,
   "metadata": {},
   "outputs": [
    {
     "data": {
      "text/plain": [
       "(array([0.01243781, 0.03731343, 0.1119403 , 0.09121061, 0.13681592,\n",
       "        0.16998342, 0.15754561, 0.06218905, 0.01658375, 0.03731343]),\n",
       " array([47.8, 49. , 50.2, 51.4, 52.6, 53.8, 55. , 56.2, 57.4, 58.6, 59.8]),\n",
       " <a list of 10 Patch objects>)"
      ]
     },
     "execution_count": 25,
     "metadata": {},
     "output_type": "execute_result"
    },
    {
     "data": {
      "image/png": "iVBORw0KGgoAAAANSUhEUgAAAX0AAAD8CAYAAACb4nSYAAAABHNCSVQICAgIfAhkiAAAAAlwSFlzAAALEgAACxIB0t1+/AAAADl0RVh0U29mdHdhcmUAbWF0cGxvdGxpYiB2ZXJzaW9uIDIuMS4yLCBodHRwOi8vbWF0cGxvdGxpYi5vcmcvNQv5yAAAFuFJREFUeJzt3X/sXXd93/HnKzYOv1agyXfdloTZXVJpRkWsddwxDYZASx1pxZuWbA7TmkxI7tTlj4m1W5i21EnpJNatmaZmEpnISEEsSdGYrOHNMBBUqoDZgRbqpKZfvJB8MYVvmhBqQmJ/7ff+OOfOxyfH/p7vD8c25/mQru45n/P5nPM59577Oud+7v1+b6oKSdI0XHahOyBJeukY+pI0IYa+JE2IoS9JE2LoS9KEGPqSNCGGviRNiKEvSRNi6EvShGy80B3ou/LKK2vz5s0XuhuSdEl55JFHnqqqueXqXXShv3nzZg4ePHihuyFJl5Qk3xhTz+EdSZoQQ1+SJsTQl6QJMfQlaUIMfUmaEENfkibE0JekCTH0JWlCDH1JmhBDXyuzZ09zk3RJMvQlaUIMfUmaEENfkibE0JekCTH0JWlCDH1JmhBDX5ImZFToJ9mR5HCS+SR3DCx/a5IvJVlKclNv2euTfDLJY0keTbJ5fbouSVqpZUM/yQbgXuBGYCtwS5KtvWpPALcBHx1YxW8Bv15VfxnYDnxnLR2WJK3emN/I3Q7MV9URgCQPAjuBR2cVqurxdtmpbsP25LCxqj7V1ju2Pt2WJK3GmOGdq4AnO/MLbdkYPwF8N8l/S/LlJL/evnOQJF0AY0I/A2U1cv0bgbcAvwRcD/w4zTDQmRtIdic5mOTg4uLiyFVLklZqTOgvANd05q8Gjo5c/wLw5ao6UlVLwH8Hfqpfqaruq6ptVbVtbm5u5KolSSs1JvQPANcl2ZJkE7AL2Dty/QeA1yWZJfnb6XwWIEl6aS0b+u0V+u3AfuAx4OGqOpTk7iTvBEhyfZIF4GbgA0kOtW1P0gztfDrJV2mGiv7z+dkVvaT8F8vSJWnMt3eoqn3Avl7ZnZ3pAzTDPkNtPwW8cQ19lCStE/8iV5ImxNCXpAkx9CVpQgx9SZoQQ1+SJsTQl6QJMfQlaUIMfUmaEENfkibE0JekCTH0JWlCDH1JmhBDX5ImxNCXpAkx9CVpQgx9SZqQUaGfZEeSw0nmk9wxsPytSb6UZCnJTQPLfyTJN5P85np0WpK0OsuGfpINwL3AjcBW4JYkW3vVngBuAz56ltX8KvC51XdTkrQexlzpbwfmq+pIVR0HHgR2ditU1eNV9RXgVL9xkp8Gfgz45Dr0V5K0BmNC/yrgyc78Qlu2rCSXAf8e+OVl6u1OcjDJwcXFxTGrliStwpjQz0BZjVz/LwL7qurJc1WqqvuqaltVbZubmxu5aknSSm0cUWcBuKYzfzVwdOT63wy8JckvAq8GNiU5VlUv+jBYknT+jQn9A8B1SbYA3wR2Ae8as/Kq+gez6SS3AdsMfEm6cJYN/apaSnI7sB/YANxfVYeS3A0crKq9Sa4HPg68Dvi5JHdV1RvOa8/10tqz50L3QNI6GHOlT1XtA/b1yu7sTB+gGfY51zo+BHxoxT2UJK0b/yJXkibE0JekCTH0JWlCDH1JmhBDX5ImxNCXpAkx9CVpQgx9SZoQQ1+SJsTQl6QJMfQlaUIMfUmaEENfkibE0JekCTH0JWlCRoV+kh1JDieZT/KiX75K8tYkX0qylOSmTvmbknw+yaEkX0ny99ez85KklVk29JNsAO4FbgS2Arck2dqr9gRwG/DRXvlzwM+3v6K1A/gPSV671k5LklZnzC9nbQfmq+oIQJIHgZ3Ao7MKVfV4u+xUt2FVfa0zfTTJd4A54Ltr7rkkacXGDO9cBTzZmV9oy1YkyXZgE/D1lbaVJK2PMaGfgbJayUaS/Hngw8A/qqpTA8t3JzmY5ODi4uJKVi1JWoExob8AXNOZvxo4OnYDSX4E+ATwr6rqC0N1quq+qtpWVdvm5ubGrlqStEJjQv8AcF2SLUk2AbuAvWNW3tb/OPBbVfXbq++mJGk9LBv6VbUE3A7sBx4DHq6qQ0nuTvJOgCTXJ1kAbgY+kORQ2/zvAW8Fbkvye+3tTedlTyRJyxrz7R2qah+wr1d2Z2f6AM2wT7/dR4CPrLGPkqR14l/kStKEGPqSNCGGviRNiKEvSRNi6GvYnj3NTdIPFUNfkibE0JekCTH0JWlCDH1JmhBDX5ImxNCXpAkx9CVpQgx9SZoQQ1+SJsTQl6QJGRX6SXYkOZxkPskdA8vfmuRLSZaS3NRbdmuSP2pvt65XxyVJK7ds6CfZANwL3AhsBW5JsrVX7QngNuCjvbY/CvwK8DPAduBXkrxu7d2WJK3GmCv97cB8VR2pquPAg8DOboWqeryqvgKc6rX9WeBTVfV0VT0DfArYsQ79liStwpjQvwp4sjO/0JaNsZa2kqR1Nib0M1BWI9c/qm2S3UkOJjm4uLg4ctWSpJUaE/oLwDWd+auBoyPXP6ptVd1XVduqatvc3NzIVUuSVmpM6B8ArkuyJckmYBewd+T69wM3JHld+wHuDW2ZJOkCWDb0q2oJuJ0mrB8DHq6qQ0nuTvJOgCTXJ1kAbgY+kORQ2/Zp4FdpThwHgLvbMknSBbBxTKWq2gfs65Xd2Zk+QDN0M9T2fuD+NfRRkrRO/ItcSZoQQ1+SJsTQl6QJMfQlaUIMfUmaEENfkiZk1Fc2NWF79lzoHkhaR17pS9KEGPqSNCGGviRNiKEvSRNi6EvShBj6kjQhhr4kTYihL0kTYuhL0oSMCv0kO5IcTjKf5I6B5Zcneahd/sUkm9vylyV5IMlXkzyW5L3r231J0kosG/pJNgD3AjcCW4FbkmztVXs38ExVXQvcA7y/Lb8ZuLyqfhL4aeAXZicESdJLb8yV/nZgvqqOVNVx4EFgZ6/OTuCBdvpjwDuSBCjgVUk2Aq8AjgPfW5eeS5JWbEzoXwU82ZlfaMsG67Q/pP4scAXNCeD7wLeAJ4B/N/TD6El2JzmY5ODi4uKKd0KSNM6Y0M9AWY2ssx04CfwFYAvwz5L8+IsqVt1XVduqatvc3NyILkmSVmNM6C8A13TmrwaOnq1OO5TzGuBp4F3A/6qqE1X1HeB3gW1r7bQkaXXGhP4B4LokW5JsAnYBe3t19gK3ttM3AZ+pqqIZ0nl7Gq8C/irwh+vTdUnSSi0b+u0Y/e3AfuAx4OGqOpTk7iTvbKt9ELgiyTzwHmD2tc57gVcDf0Bz8vgvVfWVdd4HSdJIo345q6r2Aft6ZXd2pp+n+Xpmv92xoXJJ0oXhX+RK0oQY+pI0IYa+JE2IoS9JE2LoS9KEGPqSNCGGviRNiKEvSRNi6EvShBj6kjQhhr4kTYihL0kTYuhL0oQY+pI0IYa+JE3IqNBPsiPJ4STzSe4YWH55kofa5V9Msrmz7I1JPp/kUJKvJnn5+nVfkrQSy4Z+kg00v4B1I7AVuCXJ1l61dwPPVNW1wD3A+9u2G4GPAP+4qt4AvA04sW6914W3Z09zk3RJGHOlvx2Yr6ojVXUceBDY2auzE3ignf4Y8I4kAW4AvlJVvw9QVX9SVSfXp+uSpJUaE/pXAU925hfassE67W/qPgtcAfwEUEn2J/lSkn++9i5LklZrzG/kZqCsRtbZCPx14HrgOeDTSR6pqk+f0TjZDewGeP3rXz+iS5Kk1Rhzpb8AXNOZvxo4erY67Tj+a4Cn2/LPVdVTVfUczY+r/1R/A1V1X1Vtq6ptc3NzK98LSdIoY0L/AHBdki1JNgG7gL29OnuBW9vpm4DPVFUB+4E3JnllezL4G8Cj69N1SdJKLTu8U1VLSW6nCfANwP1VdSjJ3cDBqtoLfBD4cJJ5miv8XW3bZ5L8Bs2Jo4B9VfWJ87QvkqRljBnTp6r20QzNdMvu7Ew/D9x8lrYfofnapiTpAvMvciVpQgx9SZoQQ1+SJsTQl6QJMfQlaUIMfUmaEENfkibE0JekCTH0JWlCDH1JmhBDX5ImxNCXpAkx9CVpQgx9SZoQQ1+SJmRU6CfZkeRwkvkkdwwsvzzJQ+3yLybZ3Fv++iTHkvzS+nRbkrQay4Z+kg3AvcCNwFbgliRbe9XeDTxTVdcC9wDv7y2/B/ifa++uJGktxlzpbwfmq+pIVR0HHgR29ursBB5opz8GvCNJAJL8beAIcGh9uixJWq0xoX8V8GRnfqEtG6xTVUvAs8AVSV4F/AvgrrV3VZK0VmNCPwNlNbLOXcA9VXXsnBtIdic5mOTg4uLiiC5JklZjzA+jLwDXdOavBo6epc5Cko3Aa4CngZ8Bbkryb4HXAqeSPF9Vv9ltXFX3AfcBbNu2rX9CkSStkzGhfwC4LskW4JvALuBdvTp7gVuBzwM3AZ+pqgLeMquQZA9wrB/4kqSXzrKhX1VLSW4H9gMbgPur6lCSu4GDVbUX+CDw4STzNFf4u85np3Ue7dmzPu3Xuh5J58WYK32qah+wr1d2Z2f6eeDmZdaxZxX9kyStI/8iV5ImxNCXpAkx9CVpQgx9SZoQQ1+SJsTQl6QJMfQlaUIMfUmaEENfkibE0JekCTH0JWlCDH1JmhBDX5ImxNCXpAkx9CVpQgx9SZqQUaGfZEeSw0nmk9wxsPzyJA+1y7+YZHNb/jeTPJLkq+3929e3+5KklVg29JNsAO4FbgS2Arck2dqr9m7gmaq6FrgHeH9b/hTwc1X1kzS/ofvh9eq4JGnlxlzpbwfmq+pIVR0HHgR29ursBB5opz8GvCNJqurLVXW0LT8EvDzJ5evRcUnSyo0J/auAJzvzC23ZYJ2qWgKeBa7o1fm7wJer6oX+BpLsTnIwycHFxcWxfZckrdCY0M9AWa2kTpI30Az5/MLQBqrqvqraVlXb5ubmRnRJkrQaY0J/AbimM381cPRsdZJsBF4DPN3OXw18HPj5qvr6WjssSVq9MaF/ALguyZYkm4BdwN5enb00H9QC3AR8pqoqyWuBTwDvrarfXa9OS5JWZ9nQb8fobwf2A48BD1fVoSR3J3lnW+2DwBVJ5oH3ALOvdd4OXAv86yS/197+7LrvhSRplI1jKlXVPmBfr+zOzvTzwM0D7d4HvG+NfdSlYM+eC90DSSP4F7mSNCGGviRNiKEvSRNi6EvShIz6IFcT4Aex0iR4pS9JE2LoS9KEGPqSNCGGviRNiKEvSRNi6EvShPiVTUkXpQv5LeIf5m8wG/o/BNbjAH3bZ1fR5m1r3+6l5oc5DHTahXqeX4rt/tCFvi/Kl85nP3uOZXteql5IWgnH9CVpQkaFfpIdSQ4nmU9yx8Dyy5M81C7/YpLNnWXvbcsPJ/nZ9eu6JGmllg39JBuAe4Ebga3ALUm29qq9G3imqq4F7qH5EXTaeruANwA7gP/Urk+SdAGMudLfDsxX1ZGqOg48COzs1dkJPNBOfwx4R5K05Q9W1QtV9X+B+XZ9kqQLYEzoXwU82ZlfaMsG67S/qfsscMXItpKkl8iYb+9koKxG1hnTliS7gd3t7LEkh0f062yubO+faqefGlm2mjZrKbuo1n3Xem/vc3ddCo/TRf+8XMTbc1/Ow/buuuv/l63GXxxVq6rOeQPeDOzvzL8XeG+vzn7gze30xrbT6dft1jtfN+AgcHA2PbZsNW0u1u25Lxfn9tyXi3N7F+O+nM/bmOGdA8B1SbYk2UTzwezeXp29wK3t9E3AZ6rZg73ArvbbPVuA64D/M2KbkqTzYNnhnapaSnI7zVX6BuD+qjqU5G6as9Je4IPAh5PMA0/TnBho6z0MPAosAf+kqk6ep32RJC1j1F/kVtU+YF+v7M7O9PPAzWdp+2vAr62hjyt138D02LLVtLlYt3c+1+2+XJzrdl8uznWvZnvnTdpxJEnSBPhvGCRpQi7Kf7iW5H7gbwEvA17e3h8D/gzNiao4/XXQ7rQkXYpmQy7dXDtFk3uXAZto8vpp4Ghb54aq+s5KN3SxXul/iObfNjwD3A483pZ/HPgucBJ4BHge+D5wnOYPwk6109/g9IP4tfb+VFvWHc/qfqi81N4f69Q5dY4+1jLLh7bR3fapTtm5xtiWG38b+mD8+YH2Q9s+NVCv6/hAvaWBut19GWv2fHSd6GyDgekh/XUM7efZlh8ZWD57PIcem+We8+8ObOPkwHz3HuAHwAvt9BLwXNumu+/fHujP1zjzWC1gsdNuts7uto736nf7Dc1rDuB7A9t7tjP9/YHlDJTN7k9w+rjsHp9LA2VD6x06jvvrgOaxm9UbavP7A+1nz2n3cep+V37WfujY7xp6bmd967Y70an3rfZ+Vu9bNMcDNDn2aprA/2s0gf+nwM1V9abVBD5cpKFfVb9Ds4PPAZ+meVBeQfM/fV5J8wBeSdP/y7tNad4V/DKnz5h/jtNPajjzXcHJgelvd+qc6x3EKV78+PUDodo63e3Pys/1TqV7gCz3B26X9cqL0wfNrP3ZwrW77qGD+QederPlR8/Rp6FtnW3+5MB6NvTu+9Pd56v/mDIwv9zx/aqBslmbZwaW9Y8fGH6uznWSnO1Pt28v53RYbaA5hvt1XjOwzcs625w9no+26zjVWU+3z4sD/X11bzsv0Dw2/eN5dgI7QRNE3b4wUH/WBprH4dF2+lin7ezE9EKnTf+qtzs9dMx2yzZw+lh8fmD5FQP9vaxX7xTN4zA7MaZT73nO3OfuiaV7IpwZOga7Iyyvpdn3Wdkr222cAP643fbjNP/7bAPNY/h3BtY52kX7QW77nzr/B80wz37gWuAvAV9vqxyjOVhnQbNEc5AH+DfAv+ysbswQkMNEmqKh437ogmbMsuW2c5Im3Fa7jgvtpcqIornofRz4K+02X6C5yn8VzQXCfwTeV6sI8EvxgR9j9odiQ1cCcPrqYyVDHt0rlpU6tnyVs1puCGnMUBQMDwOtxvGBsrMdeNW5Lddm7ME7dlhtue11nRhRNjTEM/TObmi7Yx77sw07nmv5aq7Y+m2GrpyHtj8ru4wzj4Gxr4fQBP7s3S+99azmOZ3p9vt7A8u7636uM32u47Y/fz4Dvzu8NHt38aM0F7ongd+hyZCNwBeAh4C3AP9wNRu7lEJ/CZhr70/SvP1e6tx+wOkn62WcvvofGiucvcXuvrBn7yC6j0n/bSOc+dZs7IvulSPrDVnuOeq+9YSz96m7nrEvsKF6mwbKvnGW9mF4SORsdccIKztuzzUWPDP0hYaX9ea7wwuz7fc/J1pLKHRPJLP1n2T4OdjQqTszOxkt99w+T/Pa6Y5Td9fRvT9Bc3XZP3nPXjfHaa5Il9vmEmcG28wftfenOrfZdo732vUvbk7w4sf/BM0wcF/3eOm+Fk/R/EPI/ol56MQ4NCx8stfuuU75KV48RDgbGpvdjrd1v9vWf4JmiOhwu64/oXkMvgz8BvBPaYaDHgU+yir/Y/GlFPrfo/kXD7Or5j/mdKjPQn/2zZ6nOH0V8UR7331iT7Vt5jvr39zed68+nuvMD13RnO3Krvsh2SlOHzDfHKg/ewEVL35x0Zv/0846+y+CWT+74+o1UG8lxgyJAfxYrw/dZV3dPvTH//sfvJ2r38/1ls1O7P0r1P54bL9vswuF7njy0Du6s70reYEzH6MXeLExV/onev3sXsnPbt3+fKHTbmapbbvcyX2JJjjSLp9dfc9C9NucvmiC0ye/jZ0+vqJdvkgz9v3JXl/7Yfw0Z540Z7Z09nn2+URonpdNvfr9d5gv4/TnGLN9vpzm9d4/drqP3ew1VMAf0vzX3xOceSHYz8VDnf063tad5VD3g9pZ2exzvFdy5uv7W22/FzjzQuN17fIr23VfSTOMc3m7rhuAT9Dk39XAb9MMe/8Bq3BRjukn+a/A2zgdJo61S5c+Pzc7u/5jM7tY+D7NyWN2gn6C5qT4v4H3rObf2lyUoS9JOj8upeEdSdIaGfqSNCGGviRNiKEvSRNi6EvShBj6kjQhhr4kTYihL0kT8v8Ao6sHNzeNQXYAAAAASUVORK5CYII=\n",
      "text/plain": [
       "<matplotlib.figure.Figure at 0x140e29ecfd0>"
      ]
     },
     "metadata": {},
     "output_type": "display_data"
    }
   ],
   "source": [
    "plt.hist(automobile[[\"price\"]], color=\"blue\", alpha=0.5, bins=10, density=True)\n",
    "plt.hist(automobile[[\"height\"]], color=\"red\", alpha=0.5, bins=10, density=True)"
   ]
  },
  {
   "cell_type": "code",
   "execution_count": 12,
   "metadata": {},
   "outputs": [
    {
     "data": {
      "text/plain": [
       "(array([0.00325475, 0.0172037 , 0.00883433, 0.01301902, 0.01208909,\n",
       "        0.0092993 , 0.0092993 , 0.00185986, 0.00232482, 0.00418468,\n",
       "        0.00604454, 0.00139489, 0.00232482, 0.        , 0.00185986,\n",
       "        0.        , 0.        , 0.        , 0.        , 0.00046496]),\n",
       " array([ 48. ,  58.7,  69.4,  80.1,  90.8, 101.5, 112.2, 122.9, 133.6,\n",
       "        144.3, 155. , 165.7, 176.4, 187.1, 197.8, 208.5, 219.2, 229.9,\n",
       "        240.6, 251.3, 262. ]),\n",
       " <a list of 20 Patch objects>)"
      ]
     },
     "execution_count": 12,
     "metadata": {},
     "output_type": "execute_result"
    },
    {
     "data": {
      "image/png": "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\n",
      "text/plain": [
       "<matplotlib.figure.Figure at 0x140e01702b0>"
      ]
     },
     "metadata": {},
     "output_type": "display_data"
    }
   ],
   "source": [
    "plt.hist(automobile[[\"price\"]], color=\"blue\", alpha=0.5, bins=20, density=True)\n",
    "plt.hist(automobile[[\"horsepower\"]], color=\"red\", alpha=0.5, bins=20, density=True)"
   ]
  },
  {
   "cell_type": "code",
   "execution_count": 35,
   "metadata": {},
   "outputs": [
    {
     "data": {
      "text/plain": [
       "<matplotlib.axes._subplots.AxesSubplot at 0x140e329e4a8>"
      ]
     },
     "execution_count": 35,
     "metadata": {},
     "output_type": "execute_result"
    },
    {
     "data": {
      "image/png": "iVBORw0KGgoAAAANSUhEUgAAAZAAAAD8CAYAAABZ/vJZAAAABHNCSVQICAgIfAhkiAAAAAlwSFlzAAALEgAACxIB0t1+/AAAADl0RVh0U29mdHdhcmUAbWF0cGxvdGxpYiB2ZXJzaW9uIDIuMS4yLCBodHRwOi8vbWF0cGxvdGxpYi5vcmcvNQv5yAAAIABJREFUeJzt3Xl8XeV95/HP796rfd9ly4tkLIxtbAIIDIFQAgQcCDidkMHQZGhCQheYtEM7hUz7yqTppFPSV8pMmpWUZkhaYhySJi4hLEnckLAYyyw23mVZtmVbsvZ91zN/3CNHCMm6vpZ07r36vl8vvXT03HOe+zvmoq/Oec55jjnnEBEROVsBvwsQEZH4pAAREZGoKEBERCQqChAREYmKAkRERKKiABERkagoQEREJCoKEBERiYoCREREohLyu4DZVFhY6MrLy/0uQ0QkruzYsaPZOVc03XoJHSDl5eVUV1f7XYaISFwxsyORrKdTWCIiEhUFiIiIREUBIiIiUVGAiIhIVBQgIiISFQWIiIhERQEiIiJRUYCIiEhUFCAiIhKVhL4TPZE9se3oOW1/17olM1SJiMxXOgIREZGoKEBERCQqChAREYlKRAFiZuvNbL+Z1ZjZQ5O8nmJmT3qvbzOz8nGvfdZr329mN03Xp5nd77U5Mysc125m9hXvtZ1mdkm0Oy0iIudu2gAxsyDwNeCDwCrgTjNbNWG1e4A259xy4BHgYW/bVcBGYDWwHvi6mQWn6fMl4AZg4nTCHwQqva97gW+c3a6KiMhMiuQI5HKgxjlX65wbBDYBGyasswF43Ft+CrjezMxr3+ScG3DOHQZqvP6m7NM594Zzrm6SOjYA33VhrwK5ZrbgbHZWRERmTiQBUgYcG/dzvdc26TrOuWGgAyg4w7aR9BlNHZjZvWZWbWbVTU1N03QpIiLRiiRAbJI2F+E6Z9t+rnXgnHvUOVflnKsqKpr2iYwiIhKlSAKkHlg87udFwImp1jGzEJADtJ5h20j6jKYOERGZI5EEyHag0swqzCyZ8KD4lgnrbAHu9pZvB37pnHNe+0bvKq0KwgPgr0XY50RbgP/iXY11BdDhnDsZQf0iIjILpp3KxDk3bGb3A88BQeCfnXO7zewLQLVzbgvwGPA9M6shfOSx0dt2t5ltBvYAw8B9zrkRCF+uO7FPr/0zwF8ApcBOM3vGOfcp4BngZsID8b3AJ2bqH0FERM6ehQ8UElNVVZWrrq72u4xZobmwRGS2mNkO51zVdOvpTnQREYmKAkRERKKiABERkagoQEREJCoKEBERiYoCREREoqIAERGRqChAREQkKgoQERGJigJERESiogAREZGoKEBERCQqChAREYmKAkRERKKiABERkagoQEREJCoKEBERiYoCREREoqIAERGRqChAREQkKgoQERGJigJERESiogAREZGoKEBERCQqChAREYmKAkRERKKiABERkagoQEREJCoKEBERiYoCREREohJRgJjZejPbb2Y1ZvbQJK+nmNmT3uvbzKx83Guf9dr3m9lN0/VpZhVeHwe9PpO99iVmttXM3jCznWZ287nsuIiInJtpA8TMgsDXgA8Cq4A7zWzVhNXuAdqcc8uBR4CHvW1XARuB1cB64OtmFpymz4eBR5xzlUCb1zfAXwGbnXMXe31+PbpdFhGRmRDJEcjlQI1zrtY5NwhsAjZMWGcD8Li3/BRwvZmZ177JOTfgnDsM1Hj9Tdqnt811Xh94fX7YW3ZAtrecA5w4u12ViQaGRxgeGfW7DBGJU6EI1ikDjo37uR5YN9U6zrlhM+sACrz2VydsW+YtT9ZnAdDunBueZP3PA8+b2X8FMoAbIqhdJjHqHN956TBfenY/2WkhPrZuKXeuW0JhZorfpYlIHInkCMQmaXMRrjNT7QB3Av/PObcIuBn4npm9q34zu9fMqs2suqmpaZLu5rfugWG+/WItf/3ve7isIp/zS7L48gsHuPGRFznZ0ed3eSISRyIJkHpg8bifF/Hu00en1zGzEOFTTK1n2Haq9mYg1+tj4nvdA2wGcM69AqQChROLdc496pyrcs5VFRUVRbB788tzbzdQ397Hlz96EY9/4jK+d886nv6vV9M/NMIDT77FyOjEvw1ERCYXSYBsByq9q6OSCQ9gb5mwzhbgbm/5duCXzjnntW/0rtKqACqB16bq09tmq9cHXp8/8ZaPAtcDmNlKwgGiQ4yzcLKjj9ePtvHeZQV85NJFhIec4MKyHD5/22peqW3hWy8e8rlKEYkX0waINx5xP/AcsJfwlVC7zewLZnabt9pjQIGZ1QAPAA952+4mfNSwB3gWuM85NzJVn15fDwIPeH0VeH0D/BnwaTN7C/g+8Pte4EgEnHP8bFcDqUlBrl1R/K7XP3rpIm5Zu4B/eP4Au090+FChiMQbS+TfwVVVVa66utrvMmbFE9uOntX6Bxq7+H8v13HLmgVctfxdZ/4A6Bsc4e+f38d5RZn83rqlZ+zvrnVLzur9RSR+mNkO51zVdOvpTvR5Yuu+U+RnJLNuWf6U66QlB7miooA9Jzpp7h6Yw+pEJB4pQOaB9t5BjrT2UrU0j1DgzP/JrzyvgGDA+M3B5jmqTkTilQJkHth1PDymsXZR7rTrZqUmcfGSXF4/2kZX/9BslyYicUwBMg/srO+gLDeN/IzkiNa/enkRI6OOV2pbZrkyEYlnCpAE19I9wPH2PtYuyol4m6KsFFaUZrGjrk33hYjIlBQgCW7s9NWassgDBOCSJXl0DQxzqKl7NsoSkQSgAElwO+s7WJKfTm56ZKevxlxQmkVqUoA3j7XPUmUiEu8UIAmspXuAhs7+sz76AAgFA6wpy2X3iQ4GhkdmoToRiXcKkARW29QDwPklWVFtf/HiXIZGHHtOdM5kWSKSIBQgCexQczdZqSEKM8/u9NWYpQXp5KUn8YZOY4nIJBQgCco5x+GmHioKM05Pmni2zIz3LM7j0KluOnVPiIhMoABJUM3dg3QNDHNeYeY59bN2UQ4OdBpLRN5FAZKgapvDl99WFGWcUz/FWSkUZqYoQETkXRQgCaq2qYfs1BAFEd59PhUzY/XCbGqbu+kdHJ5+AxGZNxQgCcg5x+HmHpYVZUY9/jHe6oXZjDrYd7JrBqoTkUShAElAp7oG6B4YZlnhuZ2+GlOWm0ZOWpIeNCUi76AASUCHm8P3f1TMUICMncY6eKpbNxWKyGkKkAR0tLWXrNRQxLPvRmL1whyGRx0HGjU3loiEKUASUH1bL4ty02Zk/GPM0oJ0MpKDOo0lIqcpQBJM3+AIzd2DlOWlz2i/ATMuKM3mQGOXpngXEUABknCOt/cBsCgvbcb7vmBBFv1Do9S19Mx43yISfxQgCeZ4Wy8Ai3JnPkCWF2cSChj7TuqmQhFRgCSc+vY+8jOSSU8JzXjfKaEg5xVlsrehC+d0GktkvlOAJJj6tj7KZuHoY8wFC7Jo7Rmk5pSuxhKZ7xQgCaSrf4iOvqFZGf8Yc0FpNgAv7G2ctfcQkfigAEkgx9vGBtBn9gqs8XLSkijLTePnexQgIvOdAiSB1Lf3YcDC3NRZfZ+VC7J441g7TV0Ds/o+IhLbFCAJpL6tl6KsFFJCwVl9nwtKs3EOtu47NavvIyKxTQGSIJxzHG/rm9XTV2MW5KSyMCdV4yAi85wCJEF0DwzTMzjCgpzZPX0F4ckVb1hVwq8PNtE/pMkVReYrBUiCaOwMj0eUZM9+gADcsLKE/qFRXqppnpP3E5HYE1GAmNl6M9tvZjVm9tAkr6eY2ZPe69vMrHzca5/12veb2U3T9WlmFV4fB70+k8e99p/NbI+Z7TazJ6Ld6UTU2NkPQEl2ypy837pl+WSmhPj5Xo2DiMxX0waImQWBrwEfBFYBd5rZqgmr3QO0OeeWA48AD3vbrgI2AquB9cDXzSw4TZ8PA4845yqBNq9vzKwS+CxwlXNuNfCnUe91Amrs7CcjOUhWatKcvF9KKMjvnF/EL/Y2MqrJFUXmpUiOQC4Hapxztc65QWATsGHCOhuAx73lp4DrLTyX+AZgk3NuwDl3GKjx+pu0T2+b67w+8Pr8sLf8aeBrzrk2AOec/vQdp6Gzf85OX425fmUxp7oG2HlcU7yLzEeRBEgZcGzcz/Ve26TrOOeGgQ6g4AzbTtVeALR7fUx8r/OB883sJTN71czWR1D7vDDqHKc6ByiZgwH08a67oJhgwHh+d8Ocvq+IxIZIAmSypxJNPGcx1Toz1Q4QAiqBa4E7gX8ys9x3FWt2r5lVm1l1U1PTJN0lnvbeIQZHRinNmtsAyU1P5opl+TynABGZlyIJkHpg8bifFwEnplrHzEJADtB6hm2nam8Gcr0+Jr5XPfAT59yQdzpsP+FAeQfn3KPOuSrnXFVRUVEEuxf/5noAfbybVpdyqKmHmlNdc/7eIuKvSAJkO1DpXR2VTHhQfMuEdbYAd3vLtwO/dOH5vrcAG72rtCoI/8J/bao+vW22en3g9fkTb/nHwPsBzKyQ8Cmt2rPd4UTU4AVI8RyPgQDcuKoUgOd266ZCkflm2gDxxiPuB54D9gKbnXO7zewLZnabt9pjQIGZ1QAPAA952+4GNgN7gGeB+5xzI1P16fX1IPCA11eB1zfeui1mtodwyPx351zLue1+Ymjs7Cc3PYnUpNmdwmQypTmpXLwkl2ff1mkskfkmoqcOOeeeAZ6Z0Pa5ccv9wEen2PaLwBcj6dNrryV8ldbEdkc4nB6IpOb5pKGjn1Ifjj7G3LS6lL/72T7q23rnZCoVEYkNuhM9zg2PjtLcPTDnl/COd9Pq8Gms53UaS2ReUYDEuebuQUbd3E1hMpmKwgwuKM3iZ2+f9K0GEZl7CpA419jh3xVY492yZgHb69o40d7nax0iMncUIHGusbOfgEFRlr8BcutFCwF4eufEK7xFJFEpQOJcQ2c/hZkphAL+/qcsL8zgokU5/PtbOo0lMl8oQOJcow9zYE3l1osWsut4B4ebe/wuRUTmgAIkjg0MjdDWOxQzAfKhtQsxgy1v6jSWyHygAIljp7rCD5Eq9XkAfUxpTiqXl+ez5a3jhG/bEZFEpgCJY7+dAys2jkAANrynjENNPezSFO8iCU8BEscaOvtJChp5GcnTrzxHblm7gNSkAE9uPzb9yiIS1xQgcWxsAD1gk82C74+ctCRuXrOALW+eoHdwePoNRCRuKUDiWEPnACVz/AyQSGy8bAldA8M8s0sTLIokMgVInOoeGKZnYHjOn0IYicvK81hWmMGT24/6XYqIzCIFSJzy8yFS0zEz7rhsMdvr2qg51e13OSIySxQgcWosQPycxv1M/tMliwgFjH/ddsTvUkRklihA4lRDRz/pyUEyUyJ6pMucK8pK4daLFvLk9mN09A75XY6IzAIFSJwauwLLYugKrIk+9b4KegdHeOI1jYWIJCIFSBxyztHY5e9DpCKxemEOVy8v5DsvHWZweNTvckRkhsXm+Q85o/q2PgaHR30dQH9iW2RHFcuLM/lNTTP/40e7uGRp3un2u9Ytma3SRGSO6AgkDh1o7AJidwB9vMriTEqyU3jxYBOjmh9LJKEoQOLQvoZwgMT6KSwIX9J77YpiTnUN8Naxdr/LEZEZpACJQwcau8hNSyI1Keh3KRFZU5ZDWW4aL+xtZGhEYyEiiUIBEof2N3TFxdHHmIAZN60upb13iG21LX6XIyIzRAESZ4ZGRjnU1B1XAQLhwfTK4ky27m+ib3DE73JEZAYoQOJMXXMPQyMuJqcwmc5Nq0vpHxrhud2aZFEkEShA4kw8DaBPtDA3jauXF/JaXSsv1zT7XY6InCMFSJw50NhFMGAUZcXfEQjADatKKMhI5sEf7aRnQM8LEYlnCpA4s6+hi/KCdJKC8fmfLikY4COXLKK+rY+/fWav3+WIyDmIz99C89iBxi4uKM32u4xzUl6Ywb3vW8a/bjvKZj36ViRuKUDiSO/gMEdbezm/JMvvUs7Zf79pBe+rLOSvfvw2rx9t87scEYmCAiSOHGzsxjlYURr/ARIKBvjHOy+mNCeVP/jeDo629PpdkoicpYgCxMzWm9l+M6sxs4cmeT3FzJ70Xt9mZuXjXvus177fzG6ark8zq/D6OOj1mTzhvW43M2dmVdHscDzb782BlQgBApCbnsxjd1cxPDLKnd9+lWOtChGReDJtgJhZEPga8EFgFXCnma2asNo9QJtzbjnwCPCwt+0qYCOwGlgPfN3MgtP0+TDwiHOuEmjz+h6rJQv4DLAtut2Nb/sbukhNCrAkP93vUmZMZUkW37tnHV39Q9z57Vepb1OIiMSLSI5ALgdqnHO1zrlBYBOwYcI6G4DHveWngOst/KSjDcAm59yAc+4wUOP1N2mf3jbXeX3g9fnhce/zN8CXgP6z3M+EcKCxi8riLIKB2H2IVDQuLMvhXz61jo6+IX736y9r0kWROBFJgJQB4y+VqffaJl3HOTcMdAAFZ9h2qvYCoN3r4x3vZWYXA4udc09HUHNC2tfQlTCnryZauyiXH/3Re0kJBbjj0Vd49u2TfpckItOIJEAm+3N34oMdplpnRtrNLED41NifnaHOcCFm95pZtZlVNzU1Tbd63GjtGaSpa4AVCXAF1lQqS7L48X1XsXJBNn/4L6/zzV8dwukZIiIxK5IAqQcWj/t5EXBiqnXMLATkAK1n2Haq9mYg1+tjfHsWcCHwH2ZWB1wBbJlsIN0596hzrso5V1VUVBTB7sWH/d4UJucn6BHImMLMFL7/6Sv40NoF/N3P9vHgD3fqcbgiMSqSANkOVHpXRyUTHhTfMmGdLcDd3vLtwC9d+E/HLcBG7yqtCqASeG2qPr1ttnp94PX5E+dch3Ou0DlX7pwrB14FbnPOVUe533Fn7CmEFyR4gACkJgX5ysaL+cx1y9lcXc/vf+c1OnqH/C5LRCaYNkC88Yj7geeAvcBm59xuM/uCmd3mrfYYUGBmNcADwEPetruBzcAe4FngPufcyFR9en09CDzg9VXg9T3v7WvoIictieI4nQPrbAUCxgM3ruAf/vNFbK9r5Xe/8RJHWnr8LktExrFEPsdcVVXlqqsT4yDlI994mWDA2PwHVwLwxLajPld0bu5atyTidbfVtvAH/7KDUCDAv35qXcJeSCASK8xsh3Nu2nvtdCd6HHDOcaChK6EH0M9k3bICnvrDKwkY3PHoK+yq7/C7JBFBARIXTnT00zUwPK//8l5enMUP/vBKMpJD3PXtV9l9QiEi4rfQ9KuI3w40JNYUJhD9KbjfW7eEb/7qEBu/9Sp/+DvnkZeRPP1GkzibU2giMjkdgcSBsacQJsIsvOcqNz2ZT1xVwdDoKN95uY5ePZRKxDcKkDiwr6GThTmp5KQl+V1KTCjJTuXjV5TT3jvIpu3HGE3gC0FEYpkCJA7sOdHJygXx/RCpmVZRmMGtFy2kpqmbrftO+V2OyLykAIlx/UMj1Db3KEAmUbU0j4sX5/LLfac4eKrL73JE5h0FSIw72NjNyKhTgEzCzNjwnjKKslLYXF1Pj8ZDROaUAiTG7T3ZCcDKBRpAn0xyKMAdly2mb3CYn+7SDL4ic0kBEuP2nOwkPTnI0oIMv0uJWQty0rh2RTFvHms/HbgiMvsUIDFu78lOVpQm3kOkZtq1K4oozU7lx28ep29wxO9yROYFBUgMc86x96SuwIpEKBDgI5csort/mJ/va/S7HJF5QQESw0509NPZP6wAiVBZXhqXV+SzrbaFhs55+dRjkTmlAIlhe0+Ez+ev0gB6xD6wsoSUUJCnd57Q0wxFZpkCJIaNDQivKNURSKTSU0J8YFUJtU09vH1CA+ois0kBEsP2NnSytCCdzBTNeXk2LivPpzQ7led2NzAyqqMQkdmiAIlhe092sVJHH2ctGDBuXF1Ca88g1Uda/S5HJGEpQGJUZ/8Qh5t7WL1QARKNFSVZLM1PZ+u+UwyNjPpdjkhCUoDEqLePhx+YtHZxrs+VxCcz48bVpXT2D/PKoRa/yxFJSAqQGDX22NY1ZTk+VxK/KgozOL8kk18daKJ/SDcXisw0BUiM2nm8g0V5aeRH+cQ9CbtxVSl9QyP8+mCT36WIJBwFSIzaVd/B2kU6+jhXC3PTWFOWw0s1LXRrtl6RGaUAiUHtvYMcbe1lTZnGP2bCDStLGB4d5T/268FTIjNJARKDdo0NoOsIZEYUZaVwyZI8th1upa130O9yRBKGAiQG7fQG0C/UAPqMue6CYgz0+FuRGaQAiUG76juoKMwgJy3J71ISRm56MpdV5PP60TZaugf8LkckIShAYtCu4x26fHcWXHt+EcGA8UsdhYjMCAVIjGnuHuB4e5/GP2ZBVmoSV1QU8OaxdmpOdfldjkjcU4DEmF0a/5hV7zu/iKRggEd+ftDvUkTingIkxlQfaSUUMB2BzJLMlBDvXV7AT3ee1PPTRc6RAiTGbK9rY3VZDunJmsJ9trxveRFZqSEeeeGA36WIxLWIAsTM1pvZfjOrMbOHJnk9xcye9F7fZmbl4177rNe+38xumq5PM6vw+jjo9ZnstT9gZnvMbKeZ/cLMlp7LjseiweFR3jrWTtXSPL9LSWhpyUE+dfUynt/TePqUoYicvWkDxMyCwNeADwKrgDvNbNWE1e4B2pxzy4FHgIe9bVcBG4HVwHrg62YWnKbPh4FHnHOVQJvXN8AbQJVzbi3wFPCl6HY5dr19ooOB4VEuK1eAzLZPXl1ObnoS//DCfr9LEYlbkRyBXA7UOOdqnXODwCZgw4R1NgCPe8tPAdebmXntm5xzA865w0CN19+kfXrbXOf1gdfnhwGcc1udc71e+6vAorPf3dhWXRd++NGlS/N9riTxZaUmce81y9i6v4kdeuiUSFQiCZAy4Ni4n+u9tknXcc4NAx1AwRm2naq9AGj3+pjqvSB8VPKzCGqPK9V1bZQXpFOUleJ3KfPC77+3nKKsFP73M/twTo++FTlbkQSITdI28f+2qdaZqfbfvpHZx4Aq4O8nWRczu9fMqs2suqkpfqbwds6x40ibjj7mUHpyiD+9oZLqI228sKfR73JE4k4kAVIPLB738yLgxFTrmFkIyAFaz7DtVO3NQK7Xx7vey8xuAP4SuM05N+l8FM65R51zVc65qqKiogh2LzYcbu6hpWdQ4x9z7I6qxSwryuDhZ/cxrEffipyVSAJkO1DpXR2VTHhQfMuEdbYAd3vLtwO/dOFzAluAjd5VWhVAJfDaVH1622z1+sDr8ycAZnYx8C3C4ZFwc1FU17UBUFWuI5C5FAoGeHD9BRxq6mFzdb3f5YjElWkDxBuPuB94DtgLbHbO7TazL5jZbd5qjwEFZlYDPAA85G27G9gM7AGeBe5zzo1M1afX14PAA15fBV7fED5llQn8wMzeNLOJIRbXtte1kpeexHlFGX6XMu/cuKqEy8rz+PLz++noG/K7HJG4EdHdas65Z4BnJrR9btxyP/DRKbb9IvDFSPr02msJX6U1sf2GSGqNR845Xj7UwuUV+YQvRJO5ZGb8z1tXc+tXf8P//flBPnfrxKvURWQyuhM9Bhxq6uF4ex/XnB8/YzaJ5sKyHO68fAmPv1LHgUZNtCgSCQVIDPj1wfDVYtdUKkD89Oc3riAjOcjnt+zWZb0iEVCAxIAXDzRRUZjB4vx0v0uZ1/Izkvnzm1bw8qEW/u2N436XIxLzFCA+Gxge4dXaVq6pLPS7FAF+b91SLlmSyxee3kNTl55cKHImChCf7ahro29ohPfp9FVMCAaML92+lt6BET6/Zff0G4jMYwoQn/3qYBNJQePK8wr8LkU8y4uz+JMbKvnprpP8bNdJv8sRiVkKEJ/9+kAzlyzJIyNFz/+IJfdes4y1i3J48Ic7Od7e53c5IjFJAeKjxs5+9pzs1OW7MSgpGOArGy9m1MGffP8NTXMiMgkFiI/GTo/ctLrE50pkMuWFGXzxdy+k+kgbj/xcTy8UmUgB4qOf7jrJBaVZLC/O8rsUmcKG95RxR9Vivrb1EE/vnDiHqMj8pgDxSUNHP9vr2rhlzQK/S5FpfOHDq6lamsefbX6Lt461+12OSMxQgPjkp97pq5vXKkBiXUooyDc/filFWSl8+rvV1Lf1Tr+RyDygAPHJT3eeYOWCbM4ryvS7FIlAYWYKj919Gf1DI9z17W00dPT7XZKI7xQgPjje3sfrR9v5kI4+4sqK0iwe/+TltPYMcte3X+VUl0JE5jcFiA+efis8GKvxj/hz8ZI8vvOJyzjZ0c8d33qVY606nSXzlwJkjo2MOv5l2xEuL8+nvFAPj4pHl5Xn8717wkci/+kbL/P28Q6/SxLxhQJkjm3dd4pjrX3c/d5yv0uRc1BVns8P/+hKkoMB7vjWK/x0p6Y8kflHATLHHn+ljtLsVG7UzYNxb3lxFj/64/eyojSL+554nb95eg9DumNd5hFNwDSHak518+uDzfz5jeeTFFR2++mJbUfPafu71i0BoCQ7lU33XsnfPrOXx35zmG2HW/jyR9/DitLEvzl0pv4NJX7pt9gc+u4rdSQHA2y8XP/jJJLkUIDP37aab37sUk6293PrP/6Gf/zFQfqHRvwuTWRW6QhkjjR09LO5+hi3XrSQwswUv8uRWbD+wlIuK8/jc1t28+UXDvCDHfX81S0r+cCqEszM7/LO2dDIKA0d/ZzqGqCzf4i36tsZHQ0/+jcUDJCaFCA9OUR+ejJpyUGfq5W5oACZI19+fj+jo/CnN1T6XYrMgDOdvrnqvEJKslL5950nuPd7O1iSn84NK0s4ryjjdJDE8umbkVHH4eZu9p7sYl9DJ/tOdrGvoYsTHX1E+qj41KQAJVmpLMxNY1FeGsuLM8lKTZrdwmXOKUDmwJ4TnTz1ej2furpCzz2fJ5YXZ/KZ6yqpPtLK1n2n+OeXDrM4L42rlheyemGO3+W9Q/fAMG8cbaO6ro0dR9p442gbPYPh02+hgHFeUSaXLs3j9sJFLMxNpTg7lZy0JF7c30QgYBgwNOLoGxqhZ2CY9t5BWnoGaejsZ8eRNl6pbQFgYU4qlSVZVJZksjRfl7AnAgXILHPO8bfP7CUnLYn736+jj/kkGDDWVRRwyZI8qutaeelQC5u2HyMnrYGGzj4+cskilvkwlU1rOKEUAAAMGUlEQVR4Is9WqutaqT7Sxt6TnYw6CBisKM3mI5cu4qJFueGpdoozSAlNfjpq38muad9r1DlOtvdz8FQXBxq7+PXBJn51oIm0pCBv1bdzy5oFXLW8kOSQhmPjkblIj0njUFVVlauurva1hp/uPMl9T7zO5z60ik9eXTFj/Z7rFTAy90adY9/JLl6ra6HmVDejDlYuyOYDq0q47oJiLlyYTegsrs6L5DMwNDJKU9cAx9p6OdLSy5GWHtp6hwBIChpL8tNZWpDB0vx0Fuenk5o0u2MX/UMj1JzqZu/JTmpOddM1MExWaogPrCrhljULuLqycMrAkrljZjucc1XTrqcAmT1HW3q55Su/ZllxJj/4gytn9K8sBUh8u35lMVvePMHzexrYcaSNUQcZyUEuWZrH6oU5rFqYzbLCDBblpZGTljTpIPzYZ2Bk1NE9MExH3xAdfUO09gzS0NHHyY5+mrsH8Ma5yUoJsbTAC4yCdBbkpBEM+De4/5FLy/jNwWae2dXA83sa6OofJislxA2rSrh5zQLeV1k464Emk4s0QHQKa5YMDI9w//dfxwy+eufFOkSXdyjJTuXT1yzj09cso6V7gFdqW9hWGz6l9Nhvahka+e0fdmlJQXLSkshKDZEUDBAMGKPO0dg5wMDwCN39w0z8MzAnLYkFOamsWpBNaU4qZblp5Gckx9TVYCmhINevLOH6lSUMDq/hpZpmntl1kuf3NPJvbxwnMyXEDSuL+eCaBVxTWaQru2KQAmQWjI46/udPdrOzvoNvffxSDZzLGRVkpvChtQv50NqFAAwOj3KoqZsjLb3Ut/XS2NlPR98QnX3DDI+OMjLqCJgRMCMlFCArNYnstBA5aUnkpCWRmxZ/l9EmhwK8/4Ji3n9BMV8cHuXlQ78Nkx+/eYKkoLGmLIfLKwq4vCKPS5fmk5Omq7r8pgCZYSOjjod+uJMf7Kjn/vcv56bVpX6XJHEmORRg5YJsVi7IPuN68X4ac7r637M4jzVludQ2d3PoVDd1Lb08+uIhvvkrMCAvI5mSrBSKs1MpyU6hOCuV/IzkiE97xfKl1PFCATKD+gZHePCHO9ny1gn+5PpK3fMhco6CAaOyOIvK4vDUMIPDo94FAT00dPTT2DXA/sau0+M8EL4HJTctmdz0pPCXt5yTlkR2avhU4NlcrCBTU4DMkB1HWvmzzW9R19LLX6xfwR9fu9zvkkQSTnIowHlFme94kufw6Cgt3YOc6hqgvXeQtt4h2nsHae8doq6lh/6hd09wmZYU5PGX6yjOTqHEO4IpyU6l+PQRTSpFmSkau5xGRAFiZuuB/wsEgX9yzv3dhNdTgO8ClwItwB3OuTrvtc8C9wAjwGecc8+dqU8zqwA2AfnA68DHnXODZ3oPP+1r6OTRF2v5tzeOU5abxhOfXsd7zyv0uyyJcfF++imWhAIBLwRSJ329f2iE9t4hOvuH6OoforN/mM6+Ibr6hznc3MPO+g66+ofecRQzJiM5eHqMKSs1icyU0OmvDe9ZSGFWCoWZKeSmJRHw8Yo2v0wbIGYWBL4GfACoB7ab2Rbn3J5xq90DtDnnlpvZRuBh4A4zWwVsBFYDC4Gfm9n53jZT9fkw8IhzbpOZfdPr+xtTvce5/gOcLeccx1r7+MW+Rp7f3cgrtS2kJQX55FUV/LcPnE9mig7qRGJJalKQ0pwgpTmTBwyE79HpHRzxgiUcMqe/94W/N3T00z0wfDponqw+dnr7YMAoyEimIDOFwsxkijJTvHBJpiDjt8tFmSnkZyQnzCm0SH7bXQ7UOOdqAcxsE7ABGB8gG4DPe8tPAV+18PWCG4BNzrkB4LCZ1Xj9MVmfZrYXuA64y1vnca/fb0z1Hm4WbmRp6xmkvq2P9r7w4XBjRz/H2/s41NTN7hOdtPYMAnBeUQZ/fuP5fOyKpeSmJ890GSIyRwJmp48sIG3K9Uado39whK6BYa5YVkBz98Bvv7oGaekZoKl7kNqmHpq7BxgYnvz5MHnpSRRmho9eCrNSKMhIpjAzmYyUEBnJIdKSg2SkBElLCpGREiQ9OUhSMEDAjFDQCAaMUCDgfTecV9voqGNk1DHqIDMlNOtX40USIGXAsXE/1wPrplrHOTdsZh1Agdf+6oRty7zlyfosANqdc8OTrD/VezRHsA9nZdP2Yzz87L53tGV6N2HdsLKYC8tyuKaySI+kFZlnAmakp4RITwlx5XkFZ1zXufANni3dg6dDpql7kOauAVp6woHT3D3Arvp2mrsH6R4YPmN/Z+t/ffhCPnbF0hntc6JIAmSyE3sT/+qfap2p2ic7fjvT+pHWgZndC9zr/dhtZvsn2S4qu4FnJn+pkFkIshii/Ytv2r9Z8Htz91ZR7d/HH4aPR/+eESVPJAFSDywe9/Mi4MQU69SbWQjIAVqn2Xay9mYg18xC3lHI+PWneo93cM49CjwawX7NGDOrjuS2/3il/Ytv2r/4Fsv7F8lIznag0swqzCyZ8KD4lgnrbAHu9pZvB37pjU1sATaaWYp3dVUl8NpUfXrbbPX6wOvzJ9O8h4iI+GDaIxBvvOF+4DnCl9z+s3Nut5l9Aah2zm0BHgO+5w2StxIOBLz1NhMecB8G7nPOjQBM1qf3lg8Cm8zsfwFveH0z1XuIiIg/Eno23rliZvd6p84SkvYvvmn/4lss758CREREopIYd7OIiMicU4CcIzNbb2b7zazGzB7yu54zMbN/NrNTZvb2uLZ8M3vBzA563/O8djOzr3j7tdPMLhm3zd3e+gfN7O5x7Zea2S5vm6/YHD58wswWm9lWM9trZrvN7E8SbP9Szew1M3vL27+/9torzGybV+uT3kUpeBeuPOnVus3Mysf19Vmvfb+Z3TSu3ffPspkFzewNM3va+zlh9s/M6rzPz5tmVu21xffn0zmnryi/CF8AcAhYBiQDbwGr/K7rDPVeA1wCvD2u7UvAQ97yQ8DD3vLNwM8I339zBbDNa88Har3ved5ynvfaa8CV3jY/Az44h/u2ALjEW84CDgCrEmj/DMj0lpOAbV7dm4GNXvs3gT/ylv8Y+Ka3vBF40lte5X1OU4AK7/MbjJXPMvAA8ATwtPdzwuwfUAcUTmiL68+njkDOzelpXpxzg4Qngdzgc01Tcs69yLvvndlAeMoYvO8fHtf+XRf2KuH7cxYANwEvOOdanXNtwAvAeu+1bOfcKy78af7uuL5mnXPupHPudW+5C9hLePaCRNk/55zr9n5M8r4c4al/nvLaJ+7f2H4/BVzv/UV6enoh59xhYGx6Id8/y2a2CLgF+CfvZyOB9m8Kcf35VICcm8mmeSmbYt1YVeKcOwnhX8JAsdc+1b6dqb1+kvY5553OuJjwX+kJs3/e6Z03gVOEf3EcIsKpf4Dx0wudzX7Ppf8D/AUwNoFUxFMbER/754DnzWyHhWfMgDj/fGrq2HMT0fQqcepsp6eJiX8LM8sEfgj8qXOu8wyngeNu/1z4Hqr3mFku8G/AyjPUNFPTC80JM/sQcMo5t8PMrh1rPkNNcbV/nquccyfMrBh4wcz2nWHduPh86gjk3EQyzUusa/QOf/G+n/Lap9q3M7UvmqR9zphZEuHw+Ffn3I+85oTZvzHOuXbgPwifG8+18NQ+E2s6vR8W2fRCfn+WrwJuM7M6wqeXriN8RJIo+4dz7oT3/RThPwAuJ94/n3M5iJRoX4SP4GoJD9aNDcyt9ruuaWou552D6H/POwfxvuQt38I7B/Fe89rzgcOEB/DyvOV877Xt3rpjg3g3z+F+GeHzvv9nQnui7F8RkOstpwG/Bj4E/IB3DjL/sbd8H+8cZN7sLa/mnYPMtYQHmGPmswxcy28H0RNi/4AMIGvc8svA+nj/fM75hyPRvghfLXGA8Pnov/S7nmlq/T5wEhgi/BfLPYTPG/8COOh9H/swGuGHfh0CdgFV4/r5JOHByRrgE+Paq4C3vW2+inej6hzt29WED9l3Am96Xzcn0P6tJTy1z06vhs957csIX31T4/2yTfHaU72fa7zXl43r6y+9fdjPuCt1YuWzzDsDJCH2z9uPt7yv3WPvH++fT92JLiIiUdEYiIiIREUBIiIiUVGAiIhIVBQgIiISFQWIiIhERQEiIiJRUYCIiEhUFCAiIhKV/w+p8wc9wLH2+wAAAABJRU5ErkJggg==\n",
      "text/plain": [
       "<matplotlib.figure.Figure at 0x140e348b710>"
      ]
     },
     "metadata": {},
     "output_type": "display_data"
    }
   ],
   "source": [
    "sns.distplot(automobile[[\"price\"]])"
=======
    "Para corroborar a observação feita acima, nota-se, pela matriz de correlação, que a relação entre preço e força (horsepower) é de 0.81, indicando uma alta correlação positiva, ou seja, quanto maior a força maior o preço. A correlação entre largura e comprimento e preço varia entre 0.69 e 0.75, sendo razoavelmente alto o índice de correlação. Já a correlação entre consumo e preço varia entre -0.65 e -0.71, indicando um índice de correlação negativo razoavelmente alto, ou seja, quanto menor o consumo do carro, maior o preço. \n",
    "\n",
    "Também nota-se que os carros com índice 70 e 71 aparecem nos três comparativos. \n",
    "\n",
    "Portanto, pode-se afirmar que o preço dos automóveis é correlacionado positivamente ao tamanho e força e negativamente em relação ao consumo."
>>>>>>> upstream/master
   ]
  },
  {
   "cell_type": "markdown",
   "metadata": {},
   "source": [
    "## Preparação dos Dados"
   ]
  },
  {
   "cell_type": "markdown",
   "metadata": {},
   "source": [
    "### Identificação de Outliers Visualmente"
   ]
  },
  {
   "cell_type": "markdown",
   "metadata": {},
   "source": [
    "Utilize visualizações gráficas para encontrar outliers em todos os atributos deste dataset.\n",
    "Ainda não vamos remover ou atualizar os valores, por enquanto é uma análise exploratória.\n",
    "\n",
    "Lembre-se que cada atributo possui um valor e dimensão diferente, portanto comparações devem estar em uma mesma base, por exemplo, __price__ não pode ser comparado com __width__ pois os eixos __y__ estarão sem proporção."
   ]
  },
  {
   "cell_type": "code",
<<<<<<< HEAD
   "execution_count": 37,
=======
   "execution_count": 8,
>>>>>>> upstream/master
   "metadata": {},
   "outputs": [
    {
     "data": {
      "text/html": [
       "<div>\n",
       "<style scoped>\n",
       "    .dataframe tbody tr th:only-of-type {\n",
       "        vertical-align: middle;\n",
       "    }\n",
       "\n",
       "    .dataframe tbody tr th {\n",
       "        vertical-align: top;\n",
       "    }\n",
       "\n",
       "    .dataframe thead th {\n",
       "        text-align: right;\n",
       "    }\n",
       "</style>\n",
       "<table border=\"1\" class=\"dataframe\">\n",
       "  <thead>\n",
       "    <tr style=\"text-align: right;\">\n",
       "      <th></th>\n",
<<<<<<< HEAD
       "      <th>wheel_base</th>\n",
       "      <th>length</th>\n",
       "      <th>width</th>\n",
       "      <th>height</th>\n",
       "      <th>curb_weight</th>\n",
       "      <th>engine_size</th>\n",
=======
       "      <th>make</th>\n",
       "      <th>fuel_type</th>\n",
       "      <th>aspiration</th>\n",
       "      <th>number_of_doors</th>\n",
       "      <th>body_style</th>\n",
       "      <th>drive_wheels</th>\n",
       "      <th>engine_location</th>\n",
       "      <th>wheel_base</th>\n",
       "      <th>length</th>\n",
       "      <th>width</th>\n",
       "      <th>...</th>\n",
       "      <th>engine_size</th>\n",
       "      <th>fuel_system</th>\n",
>>>>>>> upstream/master
       "      <th>bore</th>\n",
       "      <th>stroke</th>\n",
       "      <th>compression_ratio</th>\n",
       "      <th>horsepower</th>\n",
       "      <th>peak_rpm</th>\n",
       "      <th>city_mpg</th>\n",
       "      <th>highway_mpg</th>\n",
       "      <th>price</th>\n",
       "    </tr>\n",
       "  </thead>\n",
       "  <tbody>\n",
       "    <tr>\n",
<<<<<<< HEAD
       "      <th>count</th>\n",
       "      <td>201.000000</td>\n",
       "      <td>201.000000</td>\n",
       "      <td>201.000000</td>\n",
       "      <td>201.000000</td>\n",
       "      <td>201.000000</td>\n",
       "      <td>201.000000</td>\n",
       "      <td>201.000000</td>\n",
       "      <td>201.000000</td>\n",
       "      <td>201.000000</td>\n",
       "      <td>201.000000</td>\n",
       "      <td>199.000000</td>\n",
       "      <td>200.000000</td>\n",
       "      <td>200.00000</td>\n",
       "      <td>201.000000</td>\n",
       "    </tr>\n",
       "    <tr>\n",
       "      <th>mean</th>\n",
       "      <td>98.797015</td>\n",
       "      <td>174.200995</td>\n",
       "      <td>65.889055</td>\n",
       "      <td>53.766667</td>\n",
       "      <td>2555.666667</td>\n",
       "      <td>126.875622</td>\n",
       "      <td>3.329701</td>\n",
       "      <td>3.261741</td>\n",
       "      <td>10.164279</td>\n",
       "      <td>103.263682</td>\n",
       "      <td>5062.814070</td>\n",
       "      <td>24.925000</td>\n",
       "      <td>30.54500</td>\n",
       "      <td>13207.129353</td>\n",
       "    </tr>\n",
       "    <tr>\n",
       "      <th>std</th>\n",
       "      <td>6.066366</td>\n",
       "      <td>12.322175</td>\n",
       "      <td>2.101471</td>\n",
       "      <td>2.447822</td>\n",
       "      <td>517.296727</td>\n",
       "      <td>41.546834</td>\n",
       "      <td>0.268166</td>\n",
       "      <td>0.317875</td>\n",
       "      <td>4.004965</td>\n",
       "      <td>37.389372</td>\n",
       "      <td>694.766962</td>\n",
       "      <td>6.905636</td>\n",
       "      <td>7.15359</td>\n",
       "      <td>7947.066342</td>\n",
       "    </tr>\n",
       "    <tr>\n",
       "      <th>min</th>\n",
       "      <td>86.600000</td>\n",
       "      <td>141.100000</td>\n",
       "      <td>60.300000</td>\n",
       "      <td>47.800000</td>\n",
       "      <td>1488.000000</td>\n",
       "      <td>61.000000</td>\n",
       "      <td>2.540000</td>\n",
       "      <td>2.070000</td>\n",
       "      <td>7.000000</td>\n",
       "      <td>48.000000</td>\n",
       "      <td>0.000000</td>\n",
       "      <td>0.000000</td>\n",
       "      <td>0.00000</td>\n",
       "      <td>5118.000000</td>\n",
       "    </tr>\n",
       "    <tr>\n",
       "      <th>25%</th>\n",
       "      <td>94.500000</td>\n",
       "      <td>166.800000</td>\n",
       "      <td>64.100000</td>\n",
       "      <td>52.000000</td>\n",
       "      <td>2169.000000</td>\n",
       "      <td>98.000000</td>\n",
       "      <td>3.150000</td>\n",
       "      <td>3.110000</td>\n",
       "      <td>8.600000</td>\n",
       "      <td>70.000000</td>\n",
       "      <td>4800.000000</td>\n",
       "      <td>19.000000</td>\n",
       "      <td>25.00000</td>\n",
       "      <td>7775.000000</td>\n",
       "    </tr>\n",
       "    <tr>\n",
       "      <th>50%</th>\n",
       "      <td>97.000000</td>\n",
       "      <td>173.200000</td>\n",
       "      <td>65.500000</td>\n",
       "      <td>54.100000</td>\n",
       "      <td>2414.000000</td>\n",
       "      <td>120.000000</td>\n",
       "      <td>3.310000</td>\n",
       "      <td>3.290000</td>\n",
       "      <td>9.000000</td>\n",
       "      <td>95.000000</td>\n",
       "      <td>5100.000000</td>\n",
       "      <td>24.000000</td>\n",
       "      <td>30.00000</td>\n",
       "      <td>10295.000000</td>\n",
       "    </tr>\n",
       "    <tr>\n",
       "      <th>75%</th>\n",
       "      <td>102.400000</td>\n",
       "      <td>183.500000</td>\n",
       "      <td>66.600000</td>\n",
       "      <td>55.500000</td>\n",
       "      <td>2926.000000</td>\n",
       "      <td>141.000000</td>\n",
       "      <td>3.580000</td>\n",
       "      <td>3.460000</td>\n",
       "      <td>9.400000</td>\n",
       "      <td>116.000000</td>\n",
       "      <td>5500.000000</td>\n",
       "      <td>30.000000</td>\n",
       "      <td>34.00000</td>\n",
       "      <td>16500.000000</td>\n",
       "    </tr>\n",
       "    <tr>\n",
       "      <th>max</th>\n",
       "      <td>120.900000</td>\n",
       "      <td>208.100000</td>\n",
       "      <td>72.000000</td>\n",
       "      <td>59.800000</td>\n",
       "      <td>4066.000000</td>\n",
       "      <td>326.000000</td>\n",
       "      <td>3.940000</td>\n",
       "      <td>4.170000</td>\n",
       "      <td>23.000000</td>\n",
       "      <td>262.000000</td>\n",
       "      <td>6600.000000</td>\n",
       "      <td>49.000000</td>\n",
       "      <td>54.00000</td>\n",
       "      <td>45400.000000</td>\n",
       "    </tr>\n",
       "  </tbody>\n",
       "</table>\n",
       "</div>"
      ],
      "text/plain": [
       "       wheel_base      length       width      height  curb_weight  \\\n",
       "count  201.000000  201.000000  201.000000  201.000000   201.000000   \n",
       "mean    98.797015  174.200995   65.889055   53.766667  2555.666667   \n",
       "std      6.066366   12.322175    2.101471    2.447822   517.296727   \n",
       "min     86.600000  141.100000   60.300000   47.800000  1488.000000   \n",
       "25%     94.500000  166.800000   64.100000   52.000000  2169.000000   \n",
       "50%     97.000000  173.200000   65.500000   54.100000  2414.000000   \n",
       "75%    102.400000  183.500000   66.600000   55.500000  2926.000000   \n",
       "max    120.900000  208.100000   72.000000   59.800000  4066.000000   \n",
       "\n",
       "       engine_size        bore      stroke  compression_ratio  horsepower  \\\n",
       "count   201.000000  201.000000  201.000000         201.000000  201.000000   \n",
       "mean    126.875622    3.329701    3.261741          10.164279  103.263682   \n",
       "std      41.546834    0.268166    0.317875           4.004965   37.389372   \n",
       "min      61.000000    2.540000    2.070000           7.000000   48.000000   \n",
       "25%      98.000000    3.150000    3.110000           8.600000   70.000000   \n",
       "50%     120.000000    3.310000    3.290000           9.000000   95.000000   \n",
       "75%     141.000000    3.580000    3.460000           9.400000  116.000000   \n",
       "max     326.000000    3.940000    4.170000          23.000000  262.000000   \n",
       "\n",
       "          peak_rpm    city_mpg  highway_mpg         price  \n",
       "count   199.000000  200.000000    200.00000    201.000000  \n",
       "mean   5062.814070   24.925000     30.54500  13207.129353  \n",
       "std     694.766962    6.905636      7.15359   7947.066342  \n",
       "min       0.000000    0.000000      0.00000   5118.000000  \n",
       "25%    4800.000000   19.000000     25.00000   7775.000000  \n",
       "50%    5100.000000   24.000000     30.00000  10295.000000  \n",
       "75%    5500.000000   30.000000     34.00000  16500.000000  \n",
       "max    6600.000000   49.000000     54.00000  45400.000000  "
      ]
     },
     "execution_count": 37,
=======
       "      <th>0</th>\n",
       "      <td>alfa-romero</td>\n",
       "      <td>gas</td>\n",
       "      <td>std</td>\n",
       "      <td>2</td>\n",
       "      <td>convertible</td>\n",
       "      <td>rwd</td>\n",
       "      <td>front</td>\n",
       "      <td>88.6</td>\n",
       "      <td>168.8</td>\n",
       "      <td>64.1</td>\n",
       "      <td>...</td>\n",
       "      <td>130</td>\n",
       "      <td>mpfi</td>\n",
       "      <td>3.47</td>\n",
       "      <td>2.68</td>\n",
       "      <td>9.0</td>\n",
       "      <td>111</td>\n",
       "      <td>5000.0</td>\n",
       "      <td>21.0</td>\n",
       "      <td>27.0</td>\n",
       "      <td>13495</td>\n",
       "    </tr>\n",
       "    <tr>\n",
       "      <th>1</th>\n",
       "      <td>alfa-romero</td>\n",
       "      <td>gas</td>\n",
       "      <td>std</td>\n",
       "      <td>2</td>\n",
       "      <td>convertible</td>\n",
       "      <td>rwd</td>\n",
       "      <td>front</td>\n",
       "      <td>88.6</td>\n",
       "      <td>168.8</td>\n",
       "      <td>64.1</td>\n",
       "      <td>...</td>\n",
       "      <td>130</td>\n",
       "      <td>mpfi</td>\n",
       "      <td>3.47</td>\n",
       "      <td>2.68</td>\n",
       "      <td>9.0</td>\n",
       "      <td>111</td>\n",
       "      <td>5000.0</td>\n",
       "      <td>21.0</td>\n",
       "      <td>27.0</td>\n",
       "      <td>16500</td>\n",
       "    </tr>\n",
       "    <tr>\n",
       "      <th>2</th>\n",
       "      <td>alfa-romero</td>\n",
       "      <td>gas</td>\n",
       "      <td>std</td>\n",
       "      <td>2</td>\n",
       "      <td>hatchback</td>\n",
       "      <td>rwd</td>\n",
       "      <td>front</td>\n",
       "      <td>94.5</td>\n",
       "      <td>171.2</td>\n",
       "      <td>65.5</td>\n",
       "      <td>...</td>\n",
       "      <td>152</td>\n",
       "      <td>mpfi</td>\n",
       "      <td>2.68</td>\n",
       "      <td>3.47</td>\n",
       "      <td>9.0</td>\n",
       "      <td>154</td>\n",
       "      <td>5000.0</td>\n",
       "      <td>19.0</td>\n",
       "      <td>26.0</td>\n",
       "      <td>16500</td>\n",
       "    </tr>\n",
       "    <tr>\n",
       "      <th>3</th>\n",
       "      <td>audi</td>\n",
       "      <td>gas</td>\n",
       "      <td>std</td>\n",
       "      <td>4</td>\n",
       "      <td>sedan</td>\n",
       "      <td>fwd</td>\n",
       "      <td>front</td>\n",
       "      <td>99.8</td>\n",
       "      <td>176.6</td>\n",
       "      <td>66.2</td>\n",
       "      <td>...</td>\n",
       "      <td>109</td>\n",
       "      <td>mpfi</td>\n",
       "      <td>3.19</td>\n",
       "      <td>3.40</td>\n",
       "      <td>10.0</td>\n",
       "      <td>102</td>\n",
       "      <td>5500.0</td>\n",
       "      <td>24.0</td>\n",
       "      <td>30.0</td>\n",
       "      <td>13950</td>\n",
       "    </tr>\n",
       "    <tr>\n",
       "      <th>4</th>\n",
       "      <td>audi</td>\n",
       "      <td>gas</td>\n",
       "      <td>std</td>\n",
       "      <td>4</td>\n",
       "      <td>sedan</td>\n",
       "      <td>4wd</td>\n",
       "      <td>front</td>\n",
       "      <td>99.4</td>\n",
       "      <td>176.6</td>\n",
       "      <td>66.4</td>\n",
       "      <td>...</td>\n",
       "      <td>136</td>\n",
       "      <td>mpfi</td>\n",
       "      <td>3.19</td>\n",
       "      <td>3.40</td>\n",
       "      <td>8.0</td>\n",
       "      <td>115</td>\n",
       "      <td>5500.0</td>\n",
       "      <td>18.0</td>\n",
       "      <td>22.0</td>\n",
       "      <td>17450</td>\n",
       "    </tr>\n",
       "    <tr>\n",
       "      <th>5</th>\n",
       "      <td>audi</td>\n",
       "      <td>gas</td>\n",
       "      <td>std</td>\n",
       "      <td>2</td>\n",
       "      <td>sedan</td>\n",
       "      <td>fwd</td>\n",
       "      <td>front</td>\n",
       "      <td>99.8</td>\n",
       "      <td>177.3</td>\n",
       "      <td>66.3</td>\n",
       "      <td>...</td>\n",
       "      <td>136</td>\n",
       "      <td>mpfi</td>\n",
       "      <td>3.19</td>\n",
       "      <td>3.40</td>\n",
       "      <td>8.5</td>\n",
       "      <td>110</td>\n",
       "      <td>5500.0</td>\n",
       "      <td>19.0</td>\n",
       "      <td>25.0</td>\n",
       "      <td>15250</td>\n",
       "    </tr>\n",
       "    <tr>\n",
       "      <th>6</th>\n",
       "      <td>audi</td>\n",
       "      <td>gas</td>\n",
       "      <td>std</td>\n",
       "      <td>4</td>\n",
       "      <td>sedan</td>\n",
       "      <td>fwd</td>\n",
       "      <td>front</td>\n",
       "      <td>105.8</td>\n",
       "      <td>192.7</td>\n",
       "      <td>71.4</td>\n",
       "      <td>...</td>\n",
       "      <td>136</td>\n",
       "      <td>mpfi</td>\n",
       "      <td>3.19</td>\n",
       "      <td>3.40</td>\n",
       "      <td>8.5</td>\n",
       "      <td>110</td>\n",
       "      <td>5500.0</td>\n",
       "      <td>19.0</td>\n",
       "      <td>25.0</td>\n",
       "      <td>17710</td>\n",
       "    </tr>\n",
       "    <tr>\n",
       "      <th>7</th>\n",
       "      <td>audi</td>\n",
       "      <td>gas</td>\n",
       "      <td>std</td>\n",
       "      <td>4</td>\n",
       "      <td>wagon</td>\n",
       "      <td>fwd</td>\n",
       "      <td>front</td>\n",
       "      <td>105.8</td>\n",
       "      <td>192.7</td>\n",
       "      <td>71.4</td>\n",
       "      <td>...</td>\n",
       "      <td>136</td>\n",
       "      <td>mpfi</td>\n",
       "      <td>3.19</td>\n",
       "      <td>3.40</td>\n",
       "      <td>8.5</td>\n",
       "      <td>110</td>\n",
       "      <td>5500.0</td>\n",
       "      <td>19.0</td>\n",
       "      <td>25.0</td>\n",
       "      <td>18920</td>\n",
       "    </tr>\n",
       "    <tr>\n",
       "      <th>8</th>\n",
       "      <td>audi</td>\n",
       "      <td>gas</td>\n",
       "      <td>turbo</td>\n",
       "      <td>4</td>\n",
       "      <td>sedan</td>\n",
       "      <td>fwd</td>\n",
       "      <td>front</td>\n",
       "      <td>105.8</td>\n",
       "      <td>192.7</td>\n",
       "      <td>71.4</td>\n",
       "      <td>...</td>\n",
       "      <td>131</td>\n",
       "      <td>mpfi</td>\n",
       "      <td>3.13</td>\n",
       "      <td>3.40</td>\n",
       "      <td>8.3</td>\n",
       "      <td>140</td>\n",
       "      <td>5500.0</td>\n",
       "      <td>17.0</td>\n",
       "      <td>20.0</td>\n",
       "      <td>23875</td>\n",
       "    </tr>\n",
       "    <tr>\n",
       "      <th>9</th>\n",
       "      <td>bmw</td>\n",
       "      <td>gas</td>\n",
       "      <td>std</td>\n",
       "      <td>2</td>\n",
       "      <td>sedan</td>\n",
       "      <td>rwd</td>\n",
       "      <td>front</td>\n",
       "      <td>101.2</td>\n",
       "      <td>176.8</td>\n",
       "      <td>64.8</td>\n",
       "      <td>...</td>\n",
       "      <td>108</td>\n",
       "      <td>mpfi</td>\n",
       "      <td>3.50</td>\n",
       "      <td>2.80</td>\n",
       "      <td>8.8</td>\n",
       "      <td>101</td>\n",
       "      <td>5800.0</td>\n",
       "      <td>23.0</td>\n",
       "      <td>29.0</td>\n",
       "      <td>16430</td>\n",
       "    </tr>\n",
       "  </tbody>\n",
       "</table>\n",
       "<p>10 rows × 24 columns</p>\n",
       "</div>"
      ],
      "text/plain": [
       "          make fuel_type aspiration  number_of_doors   body_style  \\\n",
       "0  alfa-romero       gas        std                2  convertible   \n",
       "1  alfa-romero       gas        std                2  convertible   \n",
       "2  alfa-romero       gas        std                2    hatchback   \n",
       "3         audi       gas        std                4        sedan   \n",
       "4         audi       gas        std                4        sedan   \n",
       "5         audi       gas        std                2        sedan   \n",
       "6         audi       gas        std                4        sedan   \n",
       "7         audi       gas        std                4        wagon   \n",
       "8         audi       gas      turbo                4        sedan   \n",
       "9          bmw       gas        std                2        sedan   \n",
       "\n",
       "  drive_wheels engine_location  wheel_base  length  width  ...    engine_size  \\\n",
       "0          rwd           front        88.6   168.8   64.1  ...            130   \n",
       "1          rwd           front        88.6   168.8   64.1  ...            130   \n",
       "2          rwd           front        94.5   171.2   65.5  ...            152   \n",
       "3          fwd           front        99.8   176.6   66.2  ...            109   \n",
       "4          4wd           front        99.4   176.6   66.4  ...            136   \n",
       "5          fwd           front        99.8   177.3   66.3  ...            136   \n",
       "6          fwd           front       105.8   192.7   71.4  ...            136   \n",
       "7          fwd           front       105.8   192.7   71.4  ...            136   \n",
       "8          fwd           front       105.8   192.7   71.4  ...            131   \n",
       "9          rwd           front       101.2   176.8   64.8  ...            108   \n",
       "\n",
       "   fuel_system  bore stroke  compression_ratio horsepower  peak_rpm  city_mpg  \\\n",
       "0         mpfi  3.47   2.68                9.0        111    5000.0      21.0   \n",
       "1         mpfi  3.47   2.68                9.0        111    5000.0      21.0   \n",
       "2         mpfi  2.68   3.47                9.0        154    5000.0      19.0   \n",
       "3         mpfi  3.19   3.40               10.0        102    5500.0      24.0   \n",
       "4         mpfi  3.19   3.40                8.0        115    5500.0      18.0   \n",
       "5         mpfi  3.19   3.40                8.5        110    5500.0      19.0   \n",
       "6         mpfi  3.19   3.40                8.5        110    5500.0      19.0   \n",
       "7         mpfi  3.19   3.40                8.5        110    5500.0      19.0   \n",
       "8         mpfi  3.13   3.40                8.3        140    5500.0      17.0   \n",
       "9         mpfi  3.50   2.80                8.8        101    5800.0      23.0   \n",
       "\n",
       "   highway_mpg  price  \n",
       "0         27.0  13495  \n",
       "1         27.0  16500  \n",
       "2         26.0  16500  \n",
       "3         30.0  13950  \n",
       "4         22.0  17450  \n",
       "5         25.0  15250  \n",
       "6         25.0  17710  \n",
       "7         25.0  18920  \n",
       "8         20.0  23875  \n",
       "9         29.0  16430  \n",
       "\n",
       "[10 rows x 24 columns]"
      ]
     },
     "execution_count": 8,
>>>>>>> upstream/master
     "metadata": {},
     "output_type": "execute_result"
    }
   ],
   "source": [
<<<<<<< HEAD
    "auto_describe = automobile.describe()\n",
    "auto_describe"
=======
    "#Converte a informação sobre número de portas para um valor numérico \n",
    "mapa_num_doors = {\"one\":1,\"two\":2,\"three\":3,\"four\":4,\"five\":5,\"six\":6,\"seven\":7,\"eight\":8,\"nine\":9,\"ten\":10}\n",
    "\n",
    "automobile_conv = automobile.copy()\n",
    "\n",
    "automobile_conv[\"number_of_doors\"] = automobile_conv[\"number_of_doors\"].map(mapa_num_doors) \n",
    "\n",
    "automobile_conv.head(10)"
>>>>>>> upstream/master
   ]
  },
  {
   "cell_type": "code",
<<<<<<< HEAD
   "execution_count": 97,
=======
   "execution_count": 9,
>>>>>>> upstream/master
   "metadata": {},
   "outputs": [
    {
     "data": {
      "text/html": [
       "<div>\n",
       "<style scoped>\n",
       "    .dataframe tbody tr th:only-of-type {\n",
       "        vertical-align: middle;\n",
       "    }\n",
       "\n",
       "    .dataframe tbody tr th {\n",
       "        vertical-align: top;\n",
       "    }\n",
       "\n",
       "    .dataframe thead th {\n",
       "        text-align: right;\n",
       "    }\n",
       "</style>\n",
       "<table border=\"1\" class=\"dataframe\">\n",
       "  <thead>\n",
       "    <tr style=\"text-align: right;\">\n",
       "      <th></th>\n",
<<<<<<< HEAD
       "    </tr>\n",
       "    <tr>\n",
       "      <th>fuel_type</th>\n",
=======
       "      <th>make</th>\n",
       "      <th>fuel_type</th>\n",
       "      <th>aspiration</th>\n",
       "      <th>number_of_doors</th>\n",
       "      <th>body_style</th>\n",
       "      <th>drive_wheels</th>\n",
       "      <th>engine_location</th>\n",
       "      <th>wheel_base</th>\n",
       "      <th>length</th>\n",
       "      <th>width</th>\n",
       "      <th>...</th>\n",
       "      <th>engine_size</th>\n",
       "      <th>fuel_system</th>\n",
       "      <th>bore</th>\n",
       "      <th>stroke</th>\n",
       "      <th>compression_ratio</th>\n",
       "      <th>horsepower</th>\n",
       "      <th>peak_rpm</th>\n",
       "      <th>city_mpg</th>\n",
       "      <th>highway_mpg</th>\n",
       "      <th>price</th>\n",
>>>>>>> upstream/master
       "    </tr>\n",
       "  </thead>\n",
       "  <tbody>\n",
       "    <tr>\n",
<<<<<<< HEAD
       "      <th>diesel</th>\n",
       "    </tr>\n",
       "    <tr>\n",
       "      <th>gas</th>\n",
       "    </tr>\n",
       "  </tbody>\n",
       "</table>\n",
       "</div>"
      ],
      "text/plain": [
       "Empty DataFrame\n",
       "Columns: []\n",
       "Index: [diesel, gas]"
      ]
     },
     "execution_count": 97,
     "metadata": {},
     "output_type": "execute_result"
    }
   ],
   "source": [
    "auto_fuel = automobile[[\"fuel_type\"]].groupby(\"fuel_type\").sum()\n",
    "auto_fuel"
   ]
  },
  {
   "cell_type": "code",
   "execution_count": 98,
   "metadata": {},
   "outputs": [
    {
     "data": {
      "text/html": [
       "<div>\n",
       "<style scoped>\n",
       "    .dataframe tbody tr th:only-of-type {\n",
       "        vertical-align: middle;\n",
       "    }\n",
       "\n",
       "    .dataframe tbody tr th {\n",
       "        vertical-align: top;\n",
       "    }\n",
       "\n",
       "    .dataframe thead th {\n",
       "        text-align: right;\n",
       "    }\n",
       "</style>\n",
       "<table border=\"1\" class=\"dataframe\">\n",
       "  <thead>\n",
       "    <tr style=\"text-align: right;\">\n",
       "      <th></th>\n",
       "    </tr>\n",
       "    <tr>\n",
       "      <th>aspiration</th>\n",
       "    </tr>\n",
       "  </thead>\n",
       "  <tbody>\n",
       "    <tr>\n",
       "      <th>std</th>\n",
       "    </tr>\n",
       "    <tr>\n",
       "      <th>turbo</th>\n",
       "    </tr>\n",
       "  </tbody>\n",
       "</table>\n",
       "</div>"
      ],
      "text/plain": [
       "Empty DataFrame\n",
       "Columns: []\n",
       "Index: [std, turbo]"
      ]
     },
     "execution_count": 98,
     "metadata": {},
     "output_type": "execute_result"
    }
   ],
   "source": [
    "auto_aspiration = automobile[[\"aspiration\"]].groupby(\"aspiration\").sum()\n",
    "auto_aspiration"
   ]
  },
  {
   "cell_type": "code",
   "execution_count": 57,
   "metadata": {},
   "outputs": [],
   "source": [
    "auto_normalized = automobile.copy()\n",
    "auto_normalized[[\"price\"]] = automobile[[\"price\"]].div(auto_normalized[[\"price\"]].mean())\n",
    "auto_normalized[[\"horsepower\"]] = automobile[[\"horsepower\"]].div(auto_normalized[[\"horsepower\"]].mean())"
   ]
  },
  {
   "cell_type": "code",
   "execution_count": 90,
   "metadata": {},
   "outputs": [
    {
     "data": {
      "text/plain": [
       "<matplotlib.axes._subplots.AxesSubplot at 0x140eb27b518>"
      ]
     },
     "execution_count": 90,
     "metadata": {},
     "output_type": "execute_result"
    },
    {
     "data": {
      "image/png": "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\n",
      "text/plain": [
       "<matplotlib.figure.Figure at 0x140ead11390>"
      ]
     },
     "metadata": {},
     "output_type": "display_data"
    }
   ],
   "source": [
    "fig, (nor1,nor2) = plt.subplots(ncols=2)\n",
    "fig.set_size_inches(20, 6)\n",
    "sns.boxplot(ax=nor1,data=auto_normalized[[\"price\"]])\n",
    "sns.boxplot(ax=nor2,data=auto_normalized[[\"horsepower\"]])"
=======
       "      <th>0</th>\n",
       "      <td>alfa-romero</td>\n",
       "      <td>gas</td>\n",
       "      <td>std</td>\n",
       "      <td>-0.567164</td>\n",
       "      <td>convertible</td>\n",
       "      <td>rwd</td>\n",
       "      <td>front</td>\n",
       "      <td>-0.297289</td>\n",
       "      <td>-0.080612</td>\n",
       "      <td>-0.152911</td>\n",
       "      <td>...</td>\n",
       "      <td>0.011790</td>\n",
       "      <td>mpfi</td>\n",
       "      <td>0.100213</td>\n",
       "      <td>-0.277020</td>\n",
       "      <td>-0.072767</td>\n",
       "      <td>0.036151</td>\n",
       "      <td>-0.009517</td>\n",
       "      <td>-0.080102</td>\n",
       "      <td>-0.065648</td>\n",
       "      <td>0.007146</td>\n",
       "    </tr>\n",
       "    <tr>\n",
       "      <th>1</th>\n",
       "      <td>alfa-romero</td>\n",
       "      <td>gas</td>\n",
       "      <td>std</td>\n",
       "      <td>-0.567164</td>\n",
       "      <td>convertible</td>\n",
       "      <td>rwd</td>\n",
       "      <td>front</td>\n",
       "      <td>-0.297289</td>\n",
       "      <td>-0.080612</td>\n",
       "      <td>-0.152911</td>\n",
       "      <td>...</td>\n",
       "      <td>0.011790</td>\n",
       "      <td>mpfi</td>\n",
       "      <td>0.100213</td>\n",
       "      <td>-0.277020</td>\n",
       "      <td>-0.072767</td>\n",
       "      <td>0.036151</td>\n",
       "      <td>-0.009517</td>\n",
       "      <td>-0.080102</td>\n",
       "      <td>-0.065648</td>\n",
       "      <td>0.081745</td>\n",
       "    </tr>\n",
       "    <tr>\n",
       "      <th>2</th>\n",
       "      <td>alfa-romero</td>\n",
       "      <td>gas</td>\n",
       "      <td>std</td>\n",
       "      <td>-0.567164</td>\n",
       "      <td>hatchback</td>\n",
       "      <td>rwd</td>\n",
       "      <td>front</td>\n",
       "      <td>-0.125277</td>\n",
       "      <td>-0.044791</td>\n",
       "      <td>-0.033253</td>\n",
       "      <td>...</td>\n",
       "      <td>0.094809</td>\n",
       "      <td>mpfi</td>\n",
       "      <td>-0.464072</td>\n",
       "      <td>0.099171</td>\n",
       "      <td>-0.072767</td>\n",
       "      <td>0.237086</td>\n",
       "      <td>-0.009517</td>\n",
       "      <td>-0.120918</td>\n",
       "      <td>-0.084167</td>\n",
       "      <td>0.081745</td>\n",
       "    </tr>\n",
       "    <tr>\n",
       "      <th>3</th>\n",
       "      <td>audi</td>\n",
       "      <td>gas</td>\n",
       "      <td>std</td>\n",
       "      <td>0.432836</td>\n",
       "      <td>sedan</td>\n",
       "      <td>fwd</td>\n",
       "      <td>front</td>\n",
       "      <td>0.029242</td>\n",
       "      <td>0.035806</td>\n",
       "      <td>0.026577</td>\n",
       "      <td>...</td>\n",
       "      <td>-0.067455</td>\n",
       "      <td>mpfi</td>\n",
       "      <td>-0.099787</td>\n",
       "      <td>0.065837</td>\n",
       "      <td>-0.010267</td>\n",
       "      <td>-0.005905</td>\n",
       "      <td>0.066240</td>\n",
       "      <td>-0.018878</td>\n",
       "      <td>-0.010093</td>\n",
       "      <td>0.018442</td>\n",
       "    </tr>\n",
       "    <tr>\n",
       "      <th>4</th>\n",
       "      <td>audi</td>\n",
       "      <td>gas</td>\n",
       "      <td>std</td>\n",
       "      <td>0.432836</td>\n",
       "      <td>sedan</td>\n",
       "      <td>4wd</td>\n",
       "      <td>front</td>\n",
       "      <td>0.017580</td>\n",
       "      <td>0.035806</td>\n",
       "      <td>0.043671</td>\n",
       "      <td>...</td>\n",
       "      <td>0.034432</td>\n",
       "      <td>mpfi</td>\n",
       "      <td>-0.099787</td>\n",
       "      <td>0.065837</td>\n",
       "      <td>-0.135267</td>\n",
       "      <td>0.054843</td>\n",
       "      <td>0.066240</td>\n",
       "      <td>-0.141327</td>\n",
       "      <td>-0.158241</td>\n",
       "      <td>0.105329</td>\n",
       "    </tr>\n",
       "    <tr>\n",
       "      <th>5</th>\n",
       "      <td>audi</td>\n",
       "      <td>gas</td>\n",
       "      <td>std</td>\n",
       "      <td>-0.567164</td>\n",
       "      <td>sedan</td>\n",
       "      <td>fwd</td>\n",
       "      <td>front</td>\n",
       "      <td>0.029242</td>\n",
       "      <td>0.046254</td>\n",
       "      <td>0.035124</td>\n",
       "      <td>...</td>\n",
       "      <td>0.034432</td>\n",
       "      <td>mpfi</td>\n",
       "      <td>-0.099787</td>\n",
       "      <td>0.065837</td>\n",
       "      <td>-0.104017</td>\n",
       "      <td>0.031478</td>\n",
       "      <td>0.066240</td>\n",
       "      <td>-0.120918</td>\n",
       "      <td>-0.102685</td>\n",
       "      <td>0.050714</td>\n",
       "    </tr>\n",
       "    <tr>\n",
       "      <th>6</th>\n",
       "      <td>audi</td>\n",
       "      <td>gas</td>\n",
       "      <td>std</td>\n",
       "      <td>0.432836</td>\n",
       "      <td>sedan</td>\n",
       "      <td>fwd</td>\n",
       "      <td>front</td>\n",
       "      <td>0.204169</td>\n",
       "      <td>0.276105</td>\n",
       "      <td>0.471021</td>\n",
       "      <td>...</td>\n",
       "      <td>0.034432</td>\n",
       "      <td>mpfi</td>\n",
       "      <td>-0.099787</td>\n",
       "      <td>0.065837</td>\n",
       "      <td>-0.104017</td>\n",
       "      <td>0.031478</td>\n",
       "      <td>0.066240</td>\n",
       "      <td>-0.120918</td>\n",
       "      <td>-0.102685</td>\n",
       "      <td>0.111784</td>\n",
       "    </tr>\n",
       "    <tr>\n",
       "      <th>7</th>\n",
       "      <td>audi</td>\n",
       "      <td>gas</td>\n",
       "      <td>std</td>\n",
       "      <td>0.432836</td>\n",
       "      <td>wagon</td>\n",
       "      <td>fwd</td>\n",
       "      <td>front</td>\n",
       "      <td>0.204169</td>\n",
       "      <td>0.276105</td>\n",
       "      <td>0.471021</td>\n",
       "      <td>...</td>\n",
       "      <td>0.034432</td>\n",
       "      <td>mpfi</td>\n",
       "      <td>-0.099787</td>\n",
       "      <td>0.065837</td>\n",
       "      <td>-0.104017</td>\n",
       "      <td>0.031478</td>\n",
       "      <td>0.066240</td>\n",
       "      <td>-0.120918</td>\n",
       "      <td>-0.102685</td>\n",
       "      <td>0.141822</td>\n",
       "    </tr>\n",
       "    <tr>\n",
       "      <th>8</th>\n",
       "      <td>audi</td>\n",
       "      <td>gas</td>\n",
       "      <td>turbo</td>\n",
       "      <td>0.432836</td>\n",
       "      <td>sedan</td>\n",
       "      <td>fwd</td>\n",
       "      <td>front</td>\n",
       "      <td>0.204169</td>\n",
       "      <td>0.276105</td>\n",
       "      <td>0.471021</td>\n",
       "      <td>...</td>\n",
       "      <td>0.015564</td>\n",
       "      <td>mpfi</td>\n",
       "      <td>-0.142644</td>\n",
       "      <td>0.065837</td>\n",
       "      <td>-0.116517</td>\n",
       "      <td>0.171665</td>\n",
       "      <td>0.066240</td>\n",
       "      <td>-0.161735</td>\n",
       "      <td>-0.195278</td>\n",
       "      <td>0.264830</td>\n",
       "    </tr>\n",
       "    <tr>\n",
       "      <th>9</th>\n",
       "      <td>bmw</td>\n",
       "      <td>gas</td>\n",
       "      <td>std</td>\n",
       "      <td>-0.567164</td>\n",
       "      <td>sedan</td>\n",
       "      <td>rwd</td>\n",
       "      <td>front</td>\n",
       "      <td>0.070058</td>\n",
       "      <td>0.038791</td>\n",
       "      <td>-0.093082</td>\n",
       "      <td>...</td>\n",
       "      <td>-0.071229</td>\n",
       "      <td>mpfi</td>\n",
       "      <td>0.121642</td>\n",
       "      <td>-0.219877</td>\n",
       "      <td>-0.085267</td>\n",
       "      <td>-0.010578</td>\n",
       "      <td>0.111695</td>\n",
       "      <td>-0.039286</td>\n",
       "      <td>-0.028611</td>\n",
       "      <td>0.080008</td>\n",
       "    </tr>\n",
       "  </tbody>\n",
       "</table>\n",
       "<p>10 rows × 24 columns</p>\n",
       "</div>"
      ],
      "text/plain": [
       "          make fuel_type aspiration  number_of_doors   body_style  \\\n",
       "0  alfa-romero       gas        std        -0.567164  convertible   \n",
       "1  alfa-romero       gas        std        -0.567164  convertible   \n",
       "2  alfa-romero       gas        std        -0.567164    hatchback   \n",
       "3         audi       gas        std         0.432836        sedan   \n",
       "4         audi       gas        std         0.432836        sedan   \n",
       "5         audi       gas        std        -0.567164        sedan   \n",
       "6         audi       gas        std         0.432836        sedan   \n",
       "7         audi       gas        std         0.432836        wagon   \n",
       "8         audi       gas      turbo         0.432836        sedan   \n",
       "9          bmw       gas        std        -0.567164        sedan   \n",
       "\n",
       "  drive_wheels engine_location  wheel_base    length     width    ...     \\\n",
       "0          rwd           front   -0.297289 -0.080612 -0.152911    ...      \n",
       "1          rwd           front   -0.297289 -0.080612 -0.152911    ...      \n",
       "2          rwd           front   -0.125277 -0.044791 -0.033253    ...      \n",
       "3          fwd           front    0.029242  0.035806  0.026577    ...      \n",
       "4          4wd           front    0.017580  0.035806  0.043671    ...      \n",
       "5          fwd           front    0.029242  0.046254  0.035124    ...      \n",
       "6          fwd           front    0.204169  0.276105  0.471021    ...      \n",
       "7          fwd           front    0.204169  0.276105  0.471021    ...      \n",
       "8          fwd           front    0.204169  0.276105  0.471021    ...      \n",
       "9          rwd           front    0.070058  0.038791 -0.093082    ...      \n",
       "\n",
       "   engine_size  fuel_system      bore    stroke  compression_ratio horsepower  \\\n",
       "0     0.011790         mpfi  0.100213 -0.277020          -0.072767   0.036151   \n",
       "1     0.011790         mpfi  0.100213 -0.277020          -0.072767   0.036151   \n",
       "2     0.094809         mpfi -0.464072  0.099171          -0.072767   0.237086   \n",
       "3    -0.067455         mpfi -0.099787  0.065837          -0.010267  -0.005905   \n",
       "4     0.034432         mpfi -0.099787  0.065837          -0.135267   0.054843   \n",
       "5     0.034432         mpfi -0.099787  0.065837          -0.104017   0.031478   \n",
       "6     0.034432         mpfi -0.099787  0.065837          -0.104017   0.031478   \n",
       "7     0.034432         mpfi -0.099787  0.065837          -0.104017   0.031478   \n",
       "8     0.015564         mpfi -0.142644  0.065837          -0.116517   0.171665   \n",
       "9    -0.071229         mpfi  0.121642 -0.219877          -0.085267  -0.010578   \n",
       "\n",
       "   peak_rpm  city_mpg  highway_mpg     price  \n",
       "0 -0.009517 -0.080102    -0.065648  0.007146  \n",
       "1 -0.009517 -0.080102    -0.065648  0.081745  \n",
       "2 -0.009517 -0.120918    -0.084167  0.081745  \n",
       "3  0.066240 -0.018878    -0.010093  0.018442  \n",
       "4  0.066240 -0.141327    -0.158241  0.105329  \n",
       "5  0.066240 -0.120918    -0.102685  0.050714  \n",
       "6  0.066240 -0.120918    -0.102685  0.111784  \n",
       "7  0.066240 -0.120918    -0.102685  0.141822  \n",
       "8  0.066240 -0.161735    -0.195278  0.264830  \n",
       "9  0.111695 -0.039286    -0.028611  0.080008  \n",
       "\n",
       "[10 rows x 24 columns]"
      ]
     },
     "execution_count": 9,
     "metadata": {},
     "output_type": "execute_result"
    }
   ],
   "source": [
    "def normalize(df,colunas):\n",
    "    df_aux = df.copy()\n",
    "    for col in colunas:\n",
    "        df_aux[col] = (df_aux[col] - df_aux[col].mean()) / (df_aux[col].max() - df_aux[col].min())\n",
    "    return (df_aux) \n",
    "\n",
    "cols_numericas = [\"number_of_doors\",\"wheel_base\",\"length\",\"width\",\"height\",\"engine_size\",\n",
    "                      \"bore\",\"stroke\",\"compression_ratio\",\"horsepower\",\"peak_rpm\",\n",
    "                      \"city_mpg\",\"highway_mpg\",\"price\"]\n",
    "\n",
    "#Normaliza as informações númericas do dataframe de automóveis \n",
    "automobile_norm = normalize(automobile_conv,cols_numericas)\n",
    "\n",
    "automobile_norm.head(10)"
>>>>>>> upstream/master
   ]
  },
  {
   "cell_type": "code",
<<<<<<< HEAD
   "execution_count": 63,
=======
   "execution_count": 10,
>>>>>>> upstream/master
   "metadata": {},
   "outputs": [
    {
     "data": {
<<<<<<< HEAD
      "image/png": "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\n",
      "text/plain": [
       "<matplotlib.figure.Figure at 0x140e5e7a6d8>"
=======
      "image/png": "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\n",
      "text/plain": [
       "<Figure size 1296x6336 with 28 Axes>"
>>>>>>> upstream/master
      ]
     },
     "metadata": {},
     "output_type": "display_data"
    }
   ],
   "source": [
<<<<<<< HEAD
    "fig, ax = plt.subplots()\n",
    "fig.set_size_inches(8, 6)\n",
    "sns.boxplot(ax=ax, data=auto_normalized, y=\"price\", x=\"horsepower\")\n",
    "sns.despine()"
   ]
  },
  {
   "cell_type": "code",
   "execution_count": 82,
   "metadata": {},
   "outputs": [
    {
     "data": {
      "text/plain": [
       "<matplotlib.axes._subplots.AxesSubplot at 0x140e7f32470>"
      ]
     },
     "execution_count": 82,
     "metadata": {},
     "output_type": "execute_result"
    },
    {
     "data": {
      "image/png": "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\n",
      "text/plain": [
       "<matplotlib.figure.Figure at 0x140e8546780>"
      ]
     },
     "metadata": {},
     "output_type": "display_data"
    }
   ],
   "source": [
    "fig, (ax1, ax2) = plt.subplots(ncols=2, sharey=True)\n",
    "fig.set_size_inches(18, 8)\n",
    "sns.violinplot(ax=ax1, data=auto_normalized[[\"price\"]],bw=0.1,inner=\"quartile\")\n",
    "sns.violinplot(ax=ax2, data=auto_normalized[[\"horsepower\"]],bw=0.1,inner=\"stick\")"
=======
    "import math \n",
    "\n",
    "n_linhas = len(cols_numericas)\n",
    "fig,ax = plt.subplots(nrows=n_linhas,ncols=2, sharey=True)\n",
    "\n",
    "\n",
    "fig.set_size_inches(18, 88)\n",
    "for i in range(n_linhas):    \n",
    "    sns.boxplot(ax=ax[i,0], data=[automobile_norm[cols_numericas[i]]]).set_title(cols_numericas[i])\n",
    "    sns.violinplot(ax=ax[i,1], data=[automobile_norm[cols_numericas[i]]]).set_title(cols_numericas[i])    "
   ]
  },
  {
   "cell_type": "markdown",
   "metadata": {},
   "source": [
    "Podemos verificar visualmente que há candidatos a serem outliers para as seguinte características dos veículos: wheel_base, length, width, engine_size, bore, stroke, compression_ratio, horsepower, peak_rpm, city_mpg, highway_mpg e price. "
>>>>>>> upstream/master
   ]
  },
  {
   "cell_type": "code",
<<<<<<< HEAD
   "execution_count": 87,
   "metadata": {},
   "outputs": [
    {
     "data": {
      "text/plain": [
       "<seaborn.axisgrid.FacetGrid at 0x140e7406a20>"
      ]
     },
     "execution_count": 87,
     "metadata": {},
     "output_type": "execute_result"
    },
    {
     "data": {
      "image/png": "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\n",
      "text/plain": [
       "<matplotlib.figure.Figure at 0x140e7406668>"
      ]
     },
     "metadata": {},
     "output_type": "display_data"
    }
   ],
   "source": [
    "sns.lmplot(\"horsepower\",\"price\",auto_normalized, order=2,\n",
    "          scatter_kws={\"marker\":\"x\", \"color\":\"blue\"},\n",
    "          line_kws={\"linewidth\":1, \"color\": \"orange\"})"
   ]
  },
  {
   "cell_type": "code",
   "execution_count": 4,
   "metadata": {
    "collapsed": true
   },
   "outputs": [],
   "source": [
    "#IMPLEMENTAÇÃO\n",
=======
   "execution_count": 12,
   "metadata": {},
   "outputs": [
    {
     "name": "stdout",
     "output_type": "stream",
     "text": [
      "Candidatos a outliers para wheel_base\n",
      "    wheel_base\n",
      "67    0.489883\n",
      "68    0.489883\n",
      "70    0.644402\n",
      "\n",
      "\n",
      "\n",
      "Candidatos a outliers para length\n",
      "      length\n",
      "17 -0.494045\n",
      "\n",
      "\n",
      "\n",
      "Candidatos a outliers para width\n",
      "       width\n",
      "6   0.471021\n",
      "7   0.471021\n",
      "8   0.471021\n",
      "16  0.428286\n",
      "17 -0.477697\n",
      "46  0.402645\n",
      "67  0.496662\n",
      "68  0.496662\n",
      "69  0.394098\n",
      "70  0.496662\n",
      "71  0.522303\n",
      "\n",
      "\n",
      "\n",
      "Candidatos a outliers para engine_size\n",
      "    engine_size\n",
      "14     0.309903\n",
      "15     0.309903\n",
      "16     0.309903\n",
      "44     0.494809\n",
      "45     0.494809\n",
      "46     0.751413\n",
      "68     0.404243\n",
      "69     0.404243\n",
      "70     0.683488\n",
      "71     0.668394\n",
      "\n",
      "\n",
      "\n",
      "Candidatos a outliers para stroke\n",
      "       stroke\n",
      "44   0.432504\n",
      "45   0.432504\n",
      "108 -0.510353\n",
      "110 -0.510353\n",
      "130 -0.567496\n",
      "134 -0.429401\n",
      "\n",
      "\n",
      "\n",
      "Candidatos a outliers para compression_ratio\n",
      "     compression_ratio\n",
      "28           -0.197767\n",
      "46            0.083483\n",
      "60            0.783483\n",
      "63            0.739733\n",
      "64            0.708483\n",
      "65            0.708483\n",
      "66            0.708483\n",
      "67            0.708483\n",
      "79           -0.197767\n",
      "80           -0.197767\n",
      "81           -0.197767\n",
      "87            0.733483\n",
      "105           0.677233\n",
      "107           0.677233\n",
      "109           0.677233\n",
      "111           0.677233\n",
      "113           0.677233\n",
      "114          -0.197767\n",
      "121          -0.197767\n",
      "154           0.770983\n",
      "155           0.770983\n",
      "170           0.770983\n",
      "178           0.802233\n",
      "180           0.802233\n",
      "183           0.802233\n",
      "188           0.802233\n",
      "199           0.802233\n",
      "\n",
      "\n",
      "\n",
      "Candidatos a outliers para horsepower\n",
      "     horsepower\n",
      "46     0.741758\n",
      "102    0.452039\n",
      "123    0.484749\n",
      "124    0.484749\n",
      "125    0.484749\n",
      "\n",
      "\n",
      "\n",
      "Candidatos a outliers para peak_rpm\n",
      "     peak_rpm\n",
      "32  -0.767093\n",
      "35  -0.767093\n",
      "161  0.232907\n",
      "162  0.232907\n",
      "\n",
      "\n",
      "\n",
      "Candidatos a outliers para city_mpg\n",
      "     city_mpg\n",
      "17   0.450510\n",
      "29   0.491327\n",
      "66  -0.508673\n",
      "181 -0.508673\n",
      "\n",
      "\n",
      "\n",
      "Candidatos a outliers para highway_mpg\n",
      "    highway_mpg\n",
      "17     0.415833\n",
      "29     0.434352\n",
      "67    -0.565648\n",
      "87     0.360278\n",
      "\n",
      "\n",
      "\n",
      "Candidatos a outliers para price\n",
      "        price\n",
      "14   0.435750\n",
      "15   0.697777\n",
      "16   0.587679\n",
      "44   0.472739\n",
      "45   0.554661\n",
      "46   0.565833\n",
      "67   0.456603\n",
      "68   0.520750\n",
      "69   0.542398\n",
      "70   0.688965\n",
      "71   0.799187\n",
      "123  0.479640\n",
      "124  0.516878\n",
      "125  0.591353\n",
      "\n",
      "\n",
      "\n"
     ]
    }
   ],
   "source": [
    "estat = automobile_norm.describe()\n",
    "for col in cols_numericas:\n",
    "    #Intervalo inter-quartil\n",
    "    iq = (estat[col][\"75%\"] - estat[col][\"25%\"])\n",
    "    #Limite superior para outlier é 1,5 vezes o intervalo interquartial acima do 75% percentil\n",
    "    lim_sup = estat[col][\"75%\"] + 1.5 * iq \n",
    "    #Limite inferior para outlier é 1,5 vezes o intervalo interquartial abaixo do 25% percentil\n",
    "    lim_inf = estat[col][\"25%\"] - 1.5 * iq \n",
    "    #Seleciona os carros que seguem a regra calculada acima\n",
    "    vet_out = automobile_norm[(automobile_norm[col] > lim_sup) | (automobile_norm[col] < lim_inf)][[col]]\n",
    "    #Se algum elemento foi selecionado, imprima\n",
    "    if (len(vet_out) > 0 ):\n",
    "       print(\"Candidatos a outliers para \" + col) \n",
    "       print(vet_out)\n",
    "       print(\"\\n\\n\")\n",
>>>>>>> upstream/master
    "\n"
   ]
  },
  {
   "cell_type": "markdown",
   "metadata": {},
   "source": [
    "Antes de explorar melhor as correlações, vamos analisar se há dados discrepante no conjunto de dados. Analisar os dados sem esta análise antes pode nos levar a algum viés indesejado."
   ]
  },
  {
   "cell_type": "markdown",
   "metadata": {},
   "source": [
    "### Análise de valores inválidos"
   ]
  },
  {
   "cell_type": "markdown",
   "metadata": {},
   "source": [
    "Analise e busque por valores considerados nulos."
   ]
  },
  {
   "cell_type": "code",
   "execution_count": 5,
   "metadata": {
    "collapsed": true
   },
   "outputs": [],
   "source": [
    "#IMPLEMENTAÇÃO\n",
    "\n"
   ]
  },
  {
   "cell_type": "markdown",
   "metadata": {},
   "source": [
    "Para os dados considerados nulos, realize a imputação de dados utilizando um valor apropriado (note que pode haver dados paramétricos e dados numéricos). Justique sua resposta."
   ]
  },
  {
   "cell_type": "code",
   "execution_count": 6,
   "metadata": {
    "collapsed": true
   },
   "outputs": [],
   "source": [
    "#IMPLEMENTAÇÃO\n",
    "\n"
   ]
  },
  {
   "cell_type": "markdown",
   "metadata": {},
   "source": [
    "### Análise de valores com valores iguais a 0"
   ]
  },
  {
   "cell_type": "markdown",
   "metadata": {},
   "source": [
    "Analise se no conjunto de dados há valores iguais a 0 e verifique se faz parte do contexto. Caso não faça parte do contexto, utilize alguma técnica de imputação de dados apropriada.\n",
    "\n",
    "Inspecione o dataset por dados iguais a 0."
   ]
  },
  {
   "cell_type": "code",
   "execution_count": 7,
   "metadata": {
    "collapsed": true
   },
   "outputs": [],
   "source": [
    "#IMPLEMENTAÇÃO\n",
    "\n"
   ]
  },
  {
   "cell_type": "markdown",
   "metadata": {},
   "source": [
    "A imputação de dados pode seguir algum padrão dos demais exemplos ou pode ser simplesmente atribuído um valor. Avalie tais condições de acordo com as inspeções de dados."
   ]
  },
  {
   "cell_type": "code",
   "execution_count": 220,
   "metadata": {
    "collapsed": true
   },
   "outputs": [],
   "source": [
    "#IMPLEMENTAÇÃO\n",
    "\n"
   ]
  },
  {
   "cell_type": "markdown",
   "metadata": {},
   "source": [
    "### Análise Numérica de Outliers"
   ]
  },
  {
   "cell_type": "markdown",
   "metadata": {},
   "source": [
    "Da análise visual de outliers realizada acima vamos utilizar uma métrica de verificação mais apropriada e objetiva afim de criar um patamar aceitável de dados não discrepantes.\n",
    "\n",
    "Neste projeto vamos considerar [o Método Turco para identificar discrepantes](http://datapigtechnologies.com/blog/index.php/highlighting-outliers-in-your-data-with-the-tukey-method/), que utiliza um __passo de limite__ que é 5 vezes (em nosso projeto) a diferença entre o terceiro (Q3) e o primeiro quartil (Q1). Deste modo, valores que sejam maiores que o Q3 + passo de limite ou menor Q2 - passo de limite sejam sinalizados como outliers.\n",
    "\n",
    "Construa uma função que receba como parâmetro de entrada um série de dados e exiba os valores discrepantes. Utilize o boilerplate abaixo para completar as instruções faltantes.\n",
    "\n",
    "*Dica: utilize a função do Numpy de percentil, np.percentile(serie, 25) para quartil 1 e np.percentile(serie, 75) para quartil 3.*"
   ]
  },
  {
   "cell_type": "code",
   "execution_count": 8,
   "metadata": {
    "collapsed": true
   },
   "outputs": [],
   "source": [
    "def identificacao_outlier(df, column_name): \n",
    "    print(column_name)\n",
    "    \n",
    "    #IMPLEMENTAÇÃO\n",
    "    \n",
    "    print(outlier_upper + outlier_lower)"
   ]
  },
  {
   "cell_type": "markdown",
   "metadata": {},
   "source": [
    "**Pergunta:** Houve dados discrepantes localizados pela metodologia sugerida? Qual foi a sua conclusão, são realmente dados que devem ser removidos ou mantidos? Justifique.\n",
    "\n",
    "**Resposta:**\n"
   ]
  },
  {
   "cell_type": "markdown",
   "metadata": {},
   "source": [
    "### Mapeamento de Dados Paramétricos"
   ]
  },
  {
   "cell_type": "markdown",
   "metadata": {},
   "source": [
    "Os algoritmos de aprendizado de máquina precisam receber dados que sejam inteiramente numéricos. Dados que representam uma classificação como por exemplo um tipo de carro, como sedan ou hatchback, deve ser convertido em um valor numérico associado, como por exemplo 1 ou 2.\n",
    "\n",
    "Crie uma função que receba uma lista única e retorne um dicionário com a categoria e um código numérico crescente e incremental para posteriormente utilizarmos como mapeamento."
   ]
  },
  {
   "cell_type": "code",
   "execution_count": 9,
   "metadata": {
    "collapsed": true
   },
   "outputs": [],
   "source": [
    "#IMPLEMENTAÇÃO\n",
    "\n",
    "def mapear_serie(serie):\n",
    "    dict_gen = {}\n",
    "    \n",
    "    #IMPLEMENTAÇÃO\n",
    "        \n",
    "    return dict_gen"
   ]
  },
  {
   "cell_type": "markdown",
   "metadata": {},
   "source": [
    "Com a funcão criada, crie dicionários para cada coluna paramétrica. Lembre-se que é necessário passar somente valores únicos.\n",
    "\n",
    "*Dica: utilize a função unique() do dataframe para obter valores únicos de uma determinada série (ou coluna).*"
   ]
  },
  {
   "cell_type": "code",
   "execution_count": 10,
   "metadata": {
    "collapsed": true
   },
   "outputs": [],
   "source": [
    "# IMPLEMENTAÇÃO \n",
    "\n"
   ]
  },
  {
   "cell_type": "markdown",
   "metadata": {},
   "source": [
    "Até este momento seu conjunto de dados não deve conter nenhum dado paramétrico. Todos os dados armazenados com valores como texto, por exemplo, \"diese\", \"gas\" deve estar preenchido com valores numéricos, como 1 ou 2.\n",
    "\n",
    "Inspecione seus dados e certifique de que tudo está certo.\n",
    "\n",
    "*Dica: utilize uma inspeção simples visual, com 20 amostras.*"
   ]
  },
  {
   "cell_type": "code",
   "execution_count": 11,
   "metadata": {
    "collapsed": true
   },
   "outputs": [],
   "source": [
    "#IMPLEMENTAÇÃO\n",
    "\n"
   ]
  },
  {
   "cell_type": "markdown",
   "metadata": {},
   "source": [
    "## Desenvolvimento do Modelo"
   ]
  },
  {
   "cell_type": "markdown",
   "metadata": {},
   "source": [
    "O conjunto de dados que temos a nossa disposição indica a aplicação de um modelo voltado a regressão, ou seja, queremos prever um preço de um veículo dada certas condições. É um problema típico de predição de série numérica.\n",
    "\n",
    "Podemos aplicar quaisquer algoritmos de regressão existente que tenha aplicação de classificação, pois é de um domínio diferente.\n",
    "\n",
    "Iremos explorar 3 modelos de algoritmos de regressão para testar a performance de cada um deles. Ao final será eleito o que apresentar melhor performance de pontuação R2.\n",
    "\n",
    "Os algoritmos são:\n",
    "\n",
    "1. [Regressão Linear](http://scikit-learn.org/stable/auto_examples/linear_model/plot_ols.html)\n",
    "2. [Regressão de Árvore de Decisão](http://scikit-learn.org/stable/modules/generated/sklearn.tree.DecisionTreeRegressor.html)\n",
    "3. [Regressão Ridge](http://scikit-learn.org/stable/modules/linear_model.html#ridge-regression)"
   ]
  },
  {
   "cell_type": "markdown",
   "metadata": {},
   "source": [
    "**Pergunta:** Explique como cada modelo de regressão funciona, indicando pelo menos um caso de uso em cada um deles.\n",
    "\n",
    "**Resposta:**"
   ]
  },
  {
   "cell_type": "markdown",
<<<<<<< HEAD
   "metadata": {},
=======
   "metadata": {
    "collapsed": true
   },
>>>>>>> upstream/master
   "source": [
    "Antes de partimos para o treinamento do modelo, precisaremos separar os dados em subconjuntos para permitir avaliar adequadamente o modelo.\n",
    "\n",
    "Uma boa razão de tamanho de conjunto de treinamento e testes é 80% e 20% ou ainda, 70% e 30%. O importante é não misturar dados de treinamento com os de teste para termos uma ideia melhor sobre a performance do modelo com dados previametne não treinados.\n",
    "\n",
    "Antes de separarmos os dados, a partir das análises realizadas anteriormente, quais seriam os atributos a serem utilizados e qual seria o atributo preditor?"
   ]
  },
  {
   "cell_type": "code",
   "execution_count": 1,
   "metadata": {
    "collapsed": true
   },
   "outputs": [],
   "source": [
    "#IMPLEMENTAÇÃO\n",
    "\n"
   ]
  },
  {
   "cell_type": "markdown",
   "metadata": {},
   "source": [
    "Crie subsets de treinamento e teste utilizado uma razão adequada de tamanho.\n",
    "Utilze o ```train_test_split``` passando como parâmetros"
   ]
  },
  {
   "cell_type": "code",
   "execution_count": 2,
   "metadata": {
    "collapsed": true
   },
   "outputs": [],
   "source": [
    "from sklearn.model_selection import train_test_split\n",
    "\n",
    "#IMPLEMENTAÇÃO\n",
    "\n"
   ]
  },
  {
   "cell_type": "markdown",
   "metadata": {},
   "source": [
    "Inspecione cada subconjunto de dados obtidos do ```train_test_split```. Note que nos conjuntos X devemos ter atributos, logo é esperado uma matriz com mais de uma coluna. Nos conjuntos y, é a classe de predição, logo é esperado apenas um atributo."
   ]
  },
  {
   "cell_type": "code",
   "execution_count": 3,
   "metadata": {
    "collapsed": true
   },
   "outputs": [],
   "source": [
    "#IMPLEMENTAÇÃO\n",
    "#Inspeção de X_train\n",
    "\n"
   ]
  },
  {
   "cell_type": "code",
   "execution_count": 4,
   "metadata": {
    "collapsed": true
   },
   "outputs": [],
   "source": [
    "#IMPLEMENTAÇÃO\n",
    "#Inspeção de Y_train\n",
    "\n"
   ]
  },
  {
   "cell_type": "markdown",
   "metadata": {},
   "source": [
    "Verifique também se a razão dos conjuntos está coerente com a divisão estabelecida. Para estes cálculos divia o número de itens do conjunto de treino pelo total e também o de testes pelo total."
   ]
  },
  {
   "cell_type": "code",
   "execution_count": 5,
   "metadata": {
    "collapsed": true
   },
   "outputs": [],
   "source": [
    "#IMPLEMENTAÇÃO\n",
    "\n"
   ]
  },
  {
   "cell_type": "markdown",
   "metadata": {},
   "source": [
    "## Treinamento e teste do modelo\n",
    "\n",
    "Após separarmos os dados adequadamente, selecionar os atributos que irão compor como o modelo deve treinar e qual atributo deve perseguir, o próximo passo é treinar este modelo e verificar, pelos testes, sua performance.\n",
    "\n",
    "Este estudo também irá levar a escolhermos qual algoritmo devemos utilizar dentre os três selecionados neste ajuste.\n",
    "\n",
    "Para avaliarmos a performance dos modelos, vamos criar uma função que determinará a pontuação R2.\n",
    "\n",
    "Não esqueça de avaliar os conjuntos de dados de treino (```X_train```, ```y_train``` e de teste, ```X_test``` e ```y_test```)"
   ]
  },
  {
   "cell_type": "code",
   "execution_count": 7,
   "metadata": {
    "collapsed": true
   },
   "outputs": [],
   "source": [
    "from sklearn.metrics import mean_squared_error, r2_score\n",
    "\n",
    "def pontuacao(modelo, X_test, y_test):\n",
    "    y_pred = modelo.predict(X_test)\n",
    "    print(\"%s R2 score: %.2f\" %(modelo,r2_score(y_test, y_pred)))"
   ]
  },
  {
   "cell_type": "markdown",
   "metadata": {},
   "source": [
    "### Regressão Linear\n",
    "\n",
    "Utilize para a variável preditora a função ```.ravel()``` para converter os dados no formato que o ```sklearn``` espera."
   ]
  },
  {
   "cell_type": "code",
   "execution_count": 18,
   "metadata": {
    "collapsed": true
   },
   "outputs": [],
   "source": [
    "from sklearn import linear_model\n",
    "\n",
    "lr_model = linear_model.LinearRegression()\n",
    "\n",
    "#IMPLEMENTAÇÃO\n",
    "\n"
   ]
  },
  {
   "cell_type": "markdown",
   "metadata": {},
   "source": [
    "Obténha a pontuação R2, utilizando a função ```pontuacao``` para os conjuntos de treino e de teste."
   ]
  },
  {
   "cell_type": "code",
   "execution_count": 10,
   "metadata": {
    "collapsed": true
   },
   "outputs": [],
   "source": [
    "#IMPLEMENTAÇÃO\n",
    "\n"
   ]
  },
  {
   "cell_type": "markdown",
   "metadata": {},
   "source": [
    "### Regressão de árvore de Decisão"
   ]
  },
  {
   "cell_type": "code",
   "execution_count": 17,
   "metadata": {
    "collapsed": true
   },
   "outputs": [],
   "source": [
    "from sklearn import tree\n",
    "\n",
    "dtr_model = tree.DecisionTreeRegressor()\n",
    "\n",
    "#IMPLEMENTAÇÃO\n",
    "\n"
   ]
  },
  {
   "cell_type": "markdown",
   "metadata": {},
   "source": [
    "Obténha a pontuação R2, utilizando a função ```pontuacao``` para os conjuntos de treino e de teste."
   ]
  },
  {
   "cell_type": "code",
   "execution_count": 13,
   "metadata": {
    "collapsed": true
   },
   "outputs": [],
   "source": [
    "#IMPLEMENTAÇÃO\n",
    "\n"
   ]
  },
  {
   "cell_type": "markdown",
   "metadata": {},
   "source": [
    "### Regressão Ridge"
   ]
  },
  {
   "cell_type": "code",
   "execution_count": 16,
   "metadata": {
    "collapsed": true
   },
   "outputs": [],
   "source": [
    "lrr_model = linear_model.Ridge()\n",
    "\n",
    "#IMPLEMENTAÇÃO\n",
    "\n"
   ]
  },
  {
   "cell_type": "markdown",
   "metadata": {},
   "source": [
    "Obténha a pontuação R2, utilizando a função ```pontuacao``` para os conjuntos de treino e de teste."
   ]
  },
  {
   "cell_type": "code",
   "execution_count": 19,
   "metadata": {
    "collapsed": true
   },
   "outputs": [],
   "source": [
    "#IMPLEMENTAÇÃO\n",
    "\n"
   ]
  },
  {
   "cell_type": "markdown",
   "metadata": {},
   "source": [
    "**Pergunta:** Nesta análise preliminar, como foi a performance de cada algoritmo? Explique os resultados e detalhe como a característica de cada algoritmo influenciou no resultado.\n",
    "\n",
    "**Resposta:**"
   ]
  },
  {
   "cell_type": "markdown",
   "metadata": {},
   "source": [
    "## Validação e Otimização do Modelo\n",
    "\n",
    "Cada algoritmo de modelo pode oferecer a possibilidade de ajustes de seus parâmetros. Tais ajustes podem contribuir para melhorar ou piorar o modelo, portanto esta fase de otimização e validação é importante entender o patamar de partida, com os valores padrões obtidos nos passos anteriores versus as otimizações.\n",
    "\n",
    "É comum que as otimizações não sejam capazes de alterar os patamares padrão.\n",
    "\n",
    "O Scikit Learn oferece uma forma simplificada de testar diversas condições de parâmetros diferentes por meio do ```GridSearchCV```. Após diversos testes é apresentado os parâmetros que obtiveram os melhores resultados."
   ]
  },
  {
   "cell_type": "markdown",
   "metadata": {},
   "source": [
    "### Regulação dos parâmetros dos modelos\n",
    "\n",
    "Analise os parâmetros possíveis de cada algortimo de regressão e crie um dicionário para ser utilizado no ```GridSearchCV```.\n",
    "O dicionário é composto pelo nome do parâmetro como chave. Seu valor será uma lista de valores que se deseja otimizar. Não deixe de revisar a [documentação](http://scikit-learn.org/stable/modules/generated/sklearn.model_selection.GridSearchCV.html)\n",
    "\n",
    "Verfique a pontuação R2 para os conjuntos de dados de treino e de teste, pois nem sempre preditores que se saem bem durante o treinamento terão a mesma performance com os dados de teste."
   ]
  },
  {
   "cell_type": "markdown",
   "metadata": {},
   "source": [
    "### Regulação do Modelo de Regressão Linear\n",
    "\n",
    "Escolha quais atributos incluir na variável ```parameters```para serem otimizados. Essa variável é um dicionário onde cada chave representa uma configuração do modelo, o valor pode ser único ou uma lista, neste caso utilize ```[]``` para incluir múltiplos valores. Como nosso problema é relacionado a regressão, utilize a pontuação R2 em ```scoring``` na configuração do ```GridSearchCV```. "
   ]
  },
  {
   "cell_type": "code",
   "execution_count": null,
   "metadata": {
    "collapsed": true
   },
   "outputs": [],
   "source": [
    "from sklearn.model_selection import GridSearchCV\n",
    "        \n",
    "parameters = {}\n",
    "opt_model_lr = GridSearchCV(lr_model, parameters, scoring='r2')\n",
    "opt_model_lr.fit(X_train, y_train.ravel())"
   ]
  },
  {
   "cell_type": "markdown",
   "metadata": {},
   "source": [
    "Calcule as pontuações para o melhor estimador com dados de treino."
   ]
  },
  {
   "cell_type": "code",
   "execution_count": null,
   "metadata": {
    "collapsed": true
   },
   "outputs": [],
   "source": [
    "opt_model_lr.score(X_train, y_train.ravel()), opt_model_lr.best_estimator_"
   ]
  },
  {
   "cell_type": "markdown",
   "metadata": {},
   "source": [
    "E também para os dados de testes."
   ]
  },
  {
   "cell_type": "code",
   "execution_count": null,
   "metadata": {
    "collapsed": true
   },
   "outputs": [],
   "source": [
    "opt_model_lr.score(X_test, y_test.ravel()), opt_model_lr.best_estimator_"
   ]
  },
  {
   "cell_type": "markdown",
   "metadata": {},
   "source": [
    "### Regulação do Modelo de Regressão de Árvore de Decisão"
   ]
  },
  {
   "cell_type": "code",
   "execution_count": null,
   "metadata": {
    "collapsed": true
   },
   "outputs": [],
   "source": [
    "parameters = {}\n",
    "opt_model_dtr = GridSearchCV(dtr_model, parameters, scoring='r2')\n",
    "opt_model_dtr.fit(X_train, y_train.ravel())"
   ]
  },
  {
   "cell_type": "markdown",
   "metadata": {},
   "source": [
    "Pontuação dos dados de treino."
   ]
  },
  {
   "cell_type": "code",
   "execution_count": 21,
   "metadata": {
    "collapsed": true
   },
   "outputs": [],
   "source": [
    "#IMPLEMENTAÇÃO\n",
    "\n"
   ]
  },
  {
   "cell_type": "markdown",
   "metadata": {},
   "source": [
    "Pontuação dos dados de teste."
   ]
  },
  {
   "cell_type": "code",
   "execution_count": 22,
   "metadata": {
    "collapsed": true
   },
   "outputs": [],
   "source": [
    "# IMPLEMENTAÇÃO\n",
    "\n"
   ]
  },
  {
   "cell_type": "markdown",
   "metadata": {},
   "source": [
    "### Regulação do Modelo de Regressão Ridge"
   ]
  },
  {
   "cell_type": "code",
   "execution_count": null,
   "metadata": {
    "collapsed": true
   },
   "outputs": [],
   "source": [
    "parameters = {}\n",
    "\n",
    "opt_model_lrr = GridSearchCV(lrr_model, parameters, scoring='r2')\n",
    "opt_model_lrr.fit(X_train, y_train.ravel())"
   ]
  },
  {
   "cell_type": "markdown",
   "metadata": {},
   "source": [
    "Pontuação dos dados de treino."
   ]
  },
  {
   "cell_type": "code",
   "execution_count": null,
   "metadata": {
    "collapsed": true
   },
   "outputs": [],
   "source": [
    "#IMPLEMENTAÇÃO\n",
    "\n"
   ]
  },
  {
   "cell_type": "markdown",
   "metadata": {},
   "source": [
    "Pontuação dos dados de teste."
   ]
  },
  {
   "cell_type": "code",
   "execution_count": 24,
   "metadata": {
    "collapsed": true
   },
   "outputs": [],
   "source": [
    "#IMPLEMENTAÇÃO\n",
    "\n"
   ]
  },
  {
   "cell_type": "markdown",
   "metadata": {},
   "source": [
    "Sumarize na tabela abaixo os indicadores para cada um dos preditores e suas respectivas pontuações para os conjuntos de dados de treino e de testes"
   ]
  },
  {
   "cell_type": "markdown",
   "metadata": {},
   "source": [
    "|                     | Regressão linear | Regressão árvore de decisão | Regressão ridge |\n",
    "|:---------------------|:------------------:|:-----------------------------:|:-----------------:|\n",
    "| R2 treino |      X           |      X                       |   X              |\n",
    "| R2 teste  |      X            |      X                       |   X              |\n"
   ]
  },
  {
   "cell_type": "markdown",
   "metadata": {},
   "source": [
    "**Pergunta:** Qual dos algoritmos de regressão obteve os melhores resultados? Quais caracaterísticas deste algoritmo podem ajudar a justificar tal resultado?\n",
    "\n",
    "**Resposta:**"
   ]
  },
  {
   "cell_type": "markdown",
   "metadata": {},
   "source": [
    "### Implementação do algoritmo otimizado\n",
    "\n",
    "Configure o classificador selecionado com os parâmetros otimizados obtidos anteriormente."
   ]
  },
  {
   "cell_type": "code",
   "execution_count": 26,
   "metadata": {
    "collapsed": true
   },
   "outputs": [],
   "source": [
    "#IMPLEMENTAÇÃO\n",
    "\n"
   ]
  },
  {
   "cell_type": "markdown",
   "metadata": {},
   "source": [
    "### Teste com exemplos\n",
    "\n",
    "Utilize 3 exemplos criados por você mesmo para obter um valor de venda de veículo. Escolha caracaterísticas que demonstrem como o regressor deveria se comportar. Para tanto, imagine exemplos dos quais você espera um valor baixo, mediano e alto do preço do veículo baseado nos atributos escolhidos"
   ]
  },
  {
   "cell_type": "code",
   "execution_count": null,
   "metadata": {
    "collapsed": true
   },
   "outputs": [],
   "source": [
    "#Lembre-se que os atributos são os armazenados na lista feature_col_names\n",
    "\n",
    "feature_col_names"
   ]
  },
  {
   "cell_type": "code",
   "execution_count": 29,
   "metadata": {
    "collapsed": true
   },
   "outputs": [],
   "source": [
    "#IMPLEMENTAÇÃO\n",
    "#A entrada de dados deve ser uma matriz do seguinte formato, note que há dois colchetes pois é uma \n",
    "#matriz dentro de outra matriz [[a,b,c,d,e]]\n",
    "\n",
    "test_example_1 = [[]]\n",
    "test_example_2 = [[]]\n",
    "test_example_3 = [[]]\n"
   ]
  },
  {
   "cell_type": "markdown",
   "metadata": {},
   "source": [
    "## Conclusões finais\n",
    "\n",
    "Este projeto apresentou de forma simplifcada o __Worflow de Machine Learning__ que pode servir como base para estudos relacionados a classificação ou predição de séries numéricas.\n",
    "\n",
    "A fase de preparação, evidenciada no projeto, é uma das mais importantes da qual se precisa investir um bom tempo para dar os dados organizados e confiáveis, pois é a forma como os classificadores irão aprender com os exemplos e tentarão desvencilhar de efeitos indesejáveis como os vieses.\n",
    "\n",
    "Regressores são um tipo de algoritmo de machine learning que pode ser aplicado em diversas áreas das quais é necessário predizer um número baseado em um conjunto de dados numéricos ou série numérica, logo sua aplicação é bem ampla."
   ]
  },
  {
   "cell_type": "markdown",
   "metadata": {},
   "source": [
    "**Pergunta:** Seu modelo conseguiu prever adequadamente novos dados a partir do treinamento dos dados de teste? O que você faria diferente?\n",
    "\n",
    "**Resposta:**"
   ]
  },
  {
   "cell_type": "markdown",
   "metadata": {},
   "source": [
    "**Pergunta:**: Em que outras áreas você poderia aplicar estes tipos de algoritmos de regressão de aprendizado de máquina?\n",
    "\n",
    "**Resposta**:"
   ]
  },
  {
   "cell_type": "code",
   "execution_count": null,
   "metadata": {
    "collapsed": true
   },
   "outputs": [],
   "source": []
  }
 ],
 "metadata": {
  "kernelspec": {
   "display_name": "Python 3",
   "language": "python",
   "name": "python3"
  },
  "language_info": {
   "codemirror_mode": {
    "name": "ipython",
    "version": 3
   },
   "file_extension": ".py",
   "mimetype": "text/x-python",
   "name": "python",
   "nbconvert_exporter": "python",
   "pygments_lexer": "ipython3",
<<<<<<< HEAD
   "version": "3.6.4"
=======
   "version": "3.6.5"
>>>>>>> upstream/master
  }
 },
 "nbformat": 4,
 "nbformat_minor": 2
}
