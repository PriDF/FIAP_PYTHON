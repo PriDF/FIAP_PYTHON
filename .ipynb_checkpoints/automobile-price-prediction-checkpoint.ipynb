{
 "cells": [
  {
   "cell_type": "markdown",
   "metadata": {},
   "source": [
    "# MBA FIAP Inteligência Artificial & Machine Learning\n",
    "\n",
    "![Image of Dementia](img/ml.png)\n",
    "\n",
    "## Programando IA com Python\n",
    "## Projeto Final: Estimando Preços de Automóveis Utilizando Modelos de Regressão\n",
    "\n",
    "Este projeto final tem como objetivo explorar os conhecimentos adquiridos nas aulas práticas. Por meio uma trilha guiada para construir um classificador que permitirá predizer o valor de um automóvel baseado em algumas características que cada grupo deverá escolher.\n",
    "\n",
    "Este projeto poderá ser feita por grupos de até 4 pessoas.\n",
    "\n",
    "| Nome dos Integrantes               | RM            | Turma |\n",
    "| :--------------------------------- | :------------- | :-----: |\n",
    "| Cauê Engelmann                     | RM 331199      | `2IA` |\n",
    "| Marcelo Gulfier                    | RM 330738      | `2IA` |\n",
    "| Marcos Massaharu Muto              | RM 330930      | `2IA` |\n",
    "| Priscila Daniele Fritsch Gonçalves | RM 331893      | `2IA` |\n",
    "\n",
    "Por ser um projeto guiado, fique atento quando houver as marcações **Implementação** indica que é necessário realizar alguma implementação em Python no bloco a seguir onde há a inscrição ```##IMPLEMENTAR``` e **Resposta** indica que é esperado uma resposta objetiva relacionado a algum questionamento. Cada grupo pode utilizar nas respostas objetivas quaisquer itens necessários que enriqueçam seu ponto vista, como gráficos e, até mesmo, trechos de código-fonte.\n",
    "\n",
    "Pode-se utilizar quantos blocos forem necessários para realizar determinadas implementações ou utilizá-las para justificar as respostas. Não é obrigatório utilizar somente o bloco indicado.\n",
    "\n",
    "Ao final não se esqueça de subir os arquivos do projeto nas contas do GitHub de cada membro, ou subir na do representante do grupo e os membros realizarem o fork do projeto.\n",
    "\n",
    "A avaliação terá mais ênfase nos seguintes tópicos de desenvolvimento do projeto:\n",
    " \n",
    "1. __Exploração de Dados__\n",
    "2. __Preparação de Dados__\n",
    "3. __Desenvolvimento do Modelo__\n",
    "4. __Treinamento e Teste do Modelo__\n",
    "5. __Validação e Otimização do Modelo__\n",
    "6. __Conclusões Finais__\n",
    "\n",
    "## Exploração de Dados"
   ]
  },
  {
   "cell_type": "markdown",
   "metadata": {},
   "source": [
    "Os dados que serão utilizados foram modificados para propocionar uma experiência que explore melhor as técnicas de processamento e preparação de dados aprendidas.\n",
    "\n",
    "Originalmente os dados foram extraídos do Kaggle deste [dataset](https://www.kaggle.com/nisargpatel/automobiles/data)."
   ]
  },
  {
   "cell_type": "markdown",
   "metadata": {},
   "source": [
    "**Implementação** \n",
    "\n",
    "Carregue o dataset \"automobile-mod.csv\" que se encontra na pasta \"data\" e faça uma inspeção nas 10 primeiras linhas para identificação básica dos atributos.\n",
    "\n",
    "O dataset original \"automobile.csv\" se encontra na mesma pasta apenas como referência. Não deverá ser utilizado.\n",
    "\n",
    "__Atualizado em 16/07/2017__"
   ]
  },
  {
   "cell_type": "code",
<<<<<<< HEAD
<<<<<<< HEAD
   "execution_count": 99,
=======
   "execution_count": 3,
>>>>>>> upstream/master
=======
   "execution_count": 1,
>>>>>>> upstream/dev
   "metadata": {},
   "outputs": [],
   "source": [
    "import seaborn as sns\n",
    "import matplotlib.pyplot as plt\n",
    "import pandas as pd\n",
    "import numpy as np\n",
<<<<<<< HEAD
<<<<<<< HEAD
    "import re\n",
    "\n",
    "%matplotlib inline\n",
    "plt.style.use('seaborn')"
=======
    "\n",
    "%matplotlib inline"
>>>>>>> upstream/master
=======
    "\n",
    "%matplotlib inline"
>>>>>>> upstream/dev
   ]
  },
  {
   "cell_type": "code",
<<<<<<< HEAD
<<<<<<< HEAD
   "execution_count": 9,
=======
   "execution_count": 4,
>>>>>>> upstream/master
=======
   "execution_count": 2,
>>>>>>> upstream/dev
   "metadata": {},
   "outputs": [
    {
     "data": {
      "text/html": [
       "<div>\n",
       "<style scoped>\n",
       "    .dataframe tbody tr th:only-of-type {\n",
       "        vertical-align: middle;\n",
       "    }\n",
       "\n",
       "    .dataframe tbody tr th {\n",
       "        vertical-align: top;\n",
       "    }\n",
       "\n",
       "    .dataframe thead th {\n",
       "        text-align: right;\n",
       "    }\n",
       "</style>\n",
       "<table border=\"1\" class=\"dataframe\">\n",
       "  <thead>\n",
       "    <tr style=\"text-align: right;\">\n",
       "      <th></th>\n",
       "      <th>make</th>\n",
       "      <th>fuel_type</th>\n",
       "      <th>aspiration</th>\n",
       "      <th>number_of_doors</th>\n",
       "      <th>body_style</th>\n",
       "      <th>drive_wheels</th>\n",
       "      <th>engine_location</th>\n",
       "      <th>wheel_base</th>\n",
       "      <th>length</th>\n",
       "      <th>width</th>\n",
       "      <th>...</th>\n",
       "      <th>engine_size</th>\n",
       "      <th>fuel_system</th>\n",
       "      <th>bore</th>\n",
       "      <th>stroke</th>\n",
       "      <th>compression_ratio</th>\n",
       "      <th>horsepower</th>\n",
       "      <th>peak_rpm</th>\n",
       "      <th>city_mpg</th>\n",
       "      <th>highway_mpg</th>\n",
       "      <th>price</th>\n",
       "    </tr>\n",
       "  </thead>\n",
       "  <tbody>\n",
       "    <tr>\n",
       "      <th>0</th>\n",
       "      <td>alfa-romero</td>\n",
       "      <td>gas</td>\n",
       "      <td>std</td>\n",
       "      <td>two</td>\n",
       "      <td>convertible</td>\n",
       "      <td>rwd</td>\n",
       "      <td>front</td>\n",
       "      <td>88.6</td>\n",
       "      <td>168.8</td>\n",
       "      <td>64.1</td>\n",
       "      <td>...</td>\n",
       "      <td>130</td>\n",
       "      <td>mpfi</td>\n",
       "      <td>3.47</td>\n",
       "      <td>2.68</td>\n",
       "      <td>9.0</td>\n",
       "      <td>111</td>\n",
       "      <td>5000.0</td>\n",
       "      <td>21.0</td>\n",
       "      <td>27.0</td>\n",
       "      <td>13495</td>\n",
       "    </tr>\n",
       "    <tr>\n",
       "      <th>1</th>\n",
       "      <td>alfa-romero</td>\n",
       "      <td>gas</td>\n",
       "      <td>std</td>\n",
       "      <td>two</td>\n",
       "      <td>convertible</td>\n",
       "      <td>rwd</td>\n",
       "      <td>front</td>\n",
       "      <td>88.6</td>\n",
       "      <td>168.8</td>\n",
       "      <td>64.1</td>\n",
       "      <td>...</td>\n",
       "      <td>130</td>\n",
       "      <td>mpfi</td>\n",
       "      <td>3.47</td>\n",
       "      <td>2.68</td>\n",
       "      <td>9.0</td>\n",
       "      <td>111</td>\n",
       "      <td>5000.0</td>\n",
       "      <td>21.0</td>\n",
       "      <td>27.0</td>\n",
       "      <td>16500</td>\n",
       "    </tr>\n",
       "    <tr>\n",
       "      <th>2</th>\n",
       "      <td>alfa-romero</td>\n",
       "      <td>gas</td>\n",
       "      <td>std</td>\n",
       "      <td>two</td>\n",
       "      <td>hatchback</td>\n",
       "      <td>rwd</td>\n",
       "      <td>front</td>\n",
       "      <td>94.5</td>\n",
       "      <td>171.2</td>\n",
       "      <td>65.5</td>\n",
       "      <td>...</td>\n",
       "      <td>152</td>\n",
       "      <td>mpfi</td>\n",
       "      <td>2.68</td>\n",
       "      <td>3.47</td>\n",
       "      <td>9.0</td>\n",
       "      <td>154</td>\n",
       "      <td>5000.0</td>\n",
       "      <td>19.0</td>\n",
       "      <td>26.0</td>\n",
       "      <td>16500</td>\n",
       "    </tr>\n",
       "    <tr>\n",
       "      <th>3</th>\n",
       "      <td>audi</td>\n",
       "      <td>gas</td>\n",
       "      <td>std</td>\n",
       "      <td>four</td>\n",
       "      <td>sedan</td>\n",
       "      <td>fwd</td>\n",
       "      <td>front</td>\n",
       "      <td>99.8</td>\n",
       "      <td>176.6</td>\n",
       "      <td>66.2</td>\n",
       "      <td>...</td>\n",
       "      <td>109</td>\n",
       "      <td>mpfi</td>\n",
       "      <td>3.19</td>\n",
       "      <td>3.40</td>\n",
       "      <td>10.0</td>\n",
       "      <td>102</td>\n",
       "      <td>5500.0</td>\n",
       "      <td>24.0</td>\n",
       "      <td>30.0</td>\n",
       "      <td>13950</td>\n",
       "    </tr>\n",
       "    <tr>\n",
       "      <th>4</th>\n",
       "      <td>audi</td>\n",
       "      <td>gas</td>\n",
       "      <td>std</td>\n",
       "      <td>four</td>\n",
       "      <td>sedan</td>\n",
       "      <td>4wd</td>\n",
       "      <td>front</td>\n",
       "      <td>99.4</td>\n",
       "      <td>176.6</td>\n",
       "      <td>66.4</td>\n",
       "      <td>...</td>\n",
       "      <td>136</td>\n",
       "      <td>mpfi</td>\n",
       "      <td>3.19</td>\n",
       "      <td>3.40</td>\n",
       "      <td>8.0</td>\n",
       "      <td>115</td>\n",
       "      <td>5500.0</td>\n",
       "      <td>18.0</td>\n",
       "      <td>22.0</td>\n",
       "      <td>17450</td>\n",
       "    </tr>\n",
       "    <tr>\n",
       "      <th>5</th>\n",
       "      <td>audi</td>\n",
       "      <td>gas</td>\n",
       "      <td>std</td>\n",
       "      <td>two</td>\n",
       "      <td>sedan</td>\n",
       "      <td>fwd</td>\n",
       "      <td>front</td>\n",
       "      <td>99.8</td>\n",
       "      <td>177.3</td>\n",
       "      <td>66.3</td>\n",
       "      <td>...</td>\n",
       "      <td>136</td>\n",
       "      <td>mpfi</td>\n",
       "      <td>3.19</td>\n",
       "      <td>3.40</td>\n",
       "      <td>8.5</td>\n",
       "      <td>110</td>\n",
       "      <td>5500.0</td>\n",
       "      <td>19.0</td>\n",
       "      <td>25.0</td>\n",
       "      <td>15250</td>\n",
       "    </tr>\n",
       "    <tr>\n",
       "      <th>6</th>\n",
       "      <td>audi</td>\n",
       "      <td>gas</td>\n",
       "      <td>std</td>\n",
       "      <td>four</td>\n",
       "      <td>sedan</td>\n",
       "      <td>fwd</td>\n",
       "      <td>front</td>\n",
       "      <td>105.8</td>\n",
       "      <td>192.7</td>\n",
       "      <td>71.4</td>\n",
       "      <td>...</td>\n",
       "      <td>136</td>\n",
       "      <td>mpfi</td>\n",
       "      <td>3.19</td>\n",
       "      <td>3.40</td>\n",
       "      <td>8.5</td>\n",
       "      <td>110</td>\n",
       "      <td>5500.0</td>\n",
       "      <td>19.0</td>\n",
       "      <td>25.0</td>\n",
       "      <td>17710</td>\n",
       "    </tr>\n",
       "    <tr>\n",
       "      <th>7</th>\n",
       "      <td>audi</td>\n",
       "      <td>gas</td>\n",
       "      <td>std</td>\n",
       "      <td>four</td>\n",
       "      <td>wagon</td>\n",
       "      <td>fwd</td>\n",
       "      <td>front</td>\n",
       "      <td>105.8</td>\n",
       "      <td>192.7</td>\n",
       "      <td>71.4</td>\n",
       "      <td>...</td>\n",
       "      <td>136</td>\n",
       "      <td>mpfi</td>\n",
       "      <td>3.19</td>\n",
       "      <td>3.40</td>\n",
       "      <td>8.5</td>\n",
       "      <td>110</td>\n",
       "      <td>5500.0</td>\n",
       "      <td>19.0</td>\n",
       "      <td>25.0</td>\n",
       "      <td>18920</td>\n",
       "    </tr>\n",
       "    <tr>\n",
       "      <th>8</th>\n",
       "      <td>audi</td>\n",
       "      <td>gas</td>\n",
       "      <td>turbo</td>\n",
       "      <td>four</td>\n",
       "      <td>sedan</td>\n",
       "      <td>fwd</td>\n",
       "      <td>front</td>\n",
       "      <td>105.8</td>\n",
       "      <td>192.7</td>\n",
       "      <td>71.4</td>\n",
       "      <td>...</td>\n",
       "      <td>131</td>\n",
       "      <td>mpfi</td>\n",
       "      <td>3.13</td>\n",
       "      <td>3.40</td>\n",
       "      <td>8.3</td>\n",
       "      <td>140</td>\n",
       "      <td>5500.0</td>\n",
       "      <td>17.0</td>\n",
       "      <td>20.0</td>\n",
       "      <td>23875</td>\n",
       "    </tr>\n",
       "    <tr>\n",
       "      <th>9</th>\n",
       "      <td>bmw</td>\n",
       "      <td>gas</td>\n",
       "      <td>std</td>\n",
       "      <td>two</td>\n",
       "      <td>sedan</td>\n",
       "      <td>rwd</td>\n",
       "      <td>front</td>\n",
       "      <td>101.2</td>\n",
       "      <td>176.8</td>\n",
       "      <td>64.8</td>\n",
       "      <td>...</td>\n",
       "      <td>108</td>\n",
       "      <td>mpfi</td>\n",
       "      <td>3.50</td>\n",
       "      <td>2.80</td>\n",
       "      <td>8.8</td>\n",
       "      <td>101</td>\n",
       "      <td>5800.0</td>\n",
       "      <td>23.0</td>\n",
       "      <td>29.0</td>\n",
       "      <td>16430</td>\n",
       "    </tr>\n",
       "  </tbody>\n",
       "</table>\n",
       "<p>10 rows × 24 columns</p>\n",
       "</div>"
      ],
      "text/plain": [
       "          make fuel_type aspiration number_of_doors   body_style drive_wheels  \\\n",
       "0  alfa-romero       gas        std             two  convertible          rwd   \n",
       "1  alfa-romero       gas        std             two  convertible          rwd   \n",
       "2  alfa-romero       gas        std             two    hatchback          rwd   \n",
       "3         audi       gas        std            four        sedan          fwd   \n",
       "4         audi       gas        std            four        sedan          4wd   \n",
       "5         audi       gas        std             two        sedan          fwd   \n",
       "6         audi       gas        std            four        sedan          fwd   \n",
       "7         audi       gas        std            four        wagon          fwd   \n",
       "8         audi       gas      turbo            four        sedan          fwd   \n",
       "9          bmw       gas        std             two        sedan          rwd   \n",
       "\n",
       "  engine_location  wheel_base  length  width  ...    engine_size  fuel_system  \\\n",
       "0           front        88.6   168.8   64.1  ...            130         mpfi   \n",
       "1           front        88.6   168.8   64.1  ...            130         mpfi   \n",
       "2           front        94.5   171.2   65.5  ...            152         mpfi   \n",
       "3           front        99.8   176.6   66.2  ...            109         mpfi   \n",
       "4           front        99.4   176.6   66.4  ...            136         mpfi   \n",
       "5           front        99.8   177.3   66.3  ...            136         mpfi   \n",
       "6           front       105.8   192.7   71.4  ...            136         mpfi   \n",
       "7           front       105.8   192.7   71.4  ...            136         mpfi   \n",
       "8           front       105.8   192.7   71.4  ...            131         mpfi   \n",
       "9           front       101.2   176.8   64.8  ...            108         mpfi   \n",
       "\n",
       "   bore stroke  compression_ratio horsepower  peak_rpm  city_mpg  highway_mpg  \\\n",
       "0  3.47   2.68                9.0        111    5000.0      21.0         27.0   \n",
       "1  3.47   2.68                9.0        111    5000.0      21.0         27.0   \n",
       "2  2.68   3.47                9.0        154    5000.0      19.0         26.0   \n",
       "3  3.19   3.40               10.0        102    5500.0      24.0         30.0   \n",
       "4  3.19   3.40                8.0        115    5500.0      18.0         22.0   \n",
       "5  3.19   3.40                8.5        110    5500.0      19.0         25.0   \n",
       "6  3.19   3.40                8.5        110    5500.0      19.0         25.0   \n",
       "7  3.19   3.40                8.5        110    5500.0      19.0         25.0   \n",
       "8  3.13   3.40                8.3        140    5500.0      17.0         20.0   \n",
       "9  3.50   2.80                8.8        101    5800.0      23.0         29.0   \n",
       "\n",
       "   price  \n",
       "0  13495  \n",
       "1  16500  \n",
       "2  16500  \n",
       "3  13950  \n",
       "4  17450  \n",
       "5  15250  \n",
       "6  17710  \n",
       "7  18920  \n",
       "8  23875  \n",
       "9  16430  \n",
       "\n",
       "[10 rows x 24 columns]"
      ]
     },
<<<<<<< HEAD
<<<<<<< HEAD
     "execution_count": 9,
=======
     "execution_count": 4,
>>>>>>> upstream/master
=======
     "execution_count": 2,
>>>>>>> upstream/dev
     "metadata": {},
     "output_type": "execute_result"
    }
   ],
   "source": [
    "automobile = pd.read_csv(\"data/automobile-mod.csv\", sep=\";\")\n",
    "automobile.head(10)\n"
   ]
  },
  {
   "cell_type": "markdown",
   "metadata": {},
   "source": [
    "Relação das coluna e seu significado:\n",
    "\n",
    "1. make: fabricante\n",
    "2. fuel_type: tipo de combustível\n",
    "3. aspiration: tipo de aspiração do motor, ex. turbo ou padrão (std)\n",
    "4. body_style: estilo do carro, ex. sedan ou hatchback\n",
    "5. drive_wheels: tração do carro, ex. rwd (tração traseira) ou frw (tração dianteira)\n",
    "6. wheel_base: entre-eixos, distância entre o eixo dianteiro e o eixo traseiro\n",
    "7. length: comprimento\n",
    "8. width: largura\n",
    "9. height: altura\n",
    "10. curb_wheight: peso\n",
    "11. engine_type: tipo do motor\n",
    "12. number_of_cylinders: cilindrada, quantidade de cilindros\n",
    "13. engine_size: tamanho do motor\n",
    "14. fuel_system: sistema de injeção\n",
    "15. bore: diâmetro do cilindro\n",
    "16. stroke: diâmetro do pistão\n",
    "17. compression_ratio: razão de compressão\n",
    "18. horsepower: cavalo de força ou HP\n",
    "19. peak_rpm: pico de RPM (rotações por minuto)\n",
    "20. city_mpg: consumo em mpg (milhas por galão) na cidade\n",
    "21. highway_mpg: consumo em mpg (milhas por galão) na estrada\n",
    "22. price: preço (**Variável Alvo**)"
   ]
  },
  {
   "cell_type": "markdown",
   "metadata": {},
   "source": [
    "### Correlacionamento dos atributos"
   ]
  },
  {
   "cell_type": "markdown",
   "metadata": {},
   "source": [
    "Vamos utilizar algumas suposições e validar se elas são verdadeiras, por exemplo, o preço do carro pode variar com seu consumo, tamanho ou força? Vamos explorar estas hipósteses ou outras que o grupo julgue relevante."
   ]
  },
  {
   "cell_type": "code",
<<<<<<< HEAD
<<<<<<< HEAD
   "execution_count": 14,
=======
   "execution_count": 5,
>>>>>>> upstream/master
=======
   "execution_count": 3,
>>>>>>> upstream/dev
   "metadata": {},
   "outputs": [
    {
     "data": {
      "text/html": [
       "<div>\n",
       "<style scoped>\n",
       "    .dataframe tbody tr th:only-of-type {\n",
       "        vertical-align: middle;\n",
       "    }\n",
       "\n",
       "    .dataframe tbody tr th {\n",
       "        vertical-align: top;\n",
       "    }\n",
       "\n",
       "    .dataframe thead th {\n",
       "        text-align: right;\n",
       "    }\n",
       "</style>\n",
       "<table border=\"1\" class=\"dataframe\">\n",
       "  <thead>\n",
       "    <tr style=\"text-align: right;\">\n",
       "      <th></th>\n",
       "      <th>city_mpg</th>\n",
       "      <th>highway_mpg</th>\n",
       "      <th>length</th>\n",
       "      <th>width</th>\n",
       "      <th>height</th>\n",
       "      <th>horsepower</th>\n",
       "      <th>price</th>\n",
       "    </tr>\n",
       "  </thead>\n",
       "  <tbody>\n",
       "    <tr>\n",
       "      <th>city_mpg</th>\n",
       "      <td>1.000000</td>\n",
       "      <td>0.875933</td>\n",
       "      <td>-0.633185</td>\n",
       "      <td>-0.620316</td>\n",
       "      <td>-0.069029</td>\n",
       "      <td>-0.763573</td>\n",
       "      <td>-0.657661</td>\n",
       "    </tr>\n",
       "    <tr>\n",
       "      <th>highway_mpg</th>\n",
       "      <td>0.875933</td>\n",
       "      <td>1.000000</td>\n",
       "      <td>-0.709308</td>\n",
       "      <td>-0.697742</td>\n",
       "      <td>-0.117146</td>\n",
       "      <td>-0.776634</td>\n",
       "      <td>-0.712812</td>\n",
       "    </tr>\n",
       "    <tr>\n",
       "      <th>length</th>\n",
       "      <td>-0.633185</td>\n",
       "      <td>-0.709308</td>\n",
       "      <td>1.000000</td>\n",
       "      <td>0.857170</td>\n",
       "      <td>0.492063</td>\n",
       "      <td>0.577923</td>\n",
       "      <td>0.690628</td>\n",
       "    </tr>\n",
       "    <tr>\n",
       "      <th>width</th>\n",
       "      <td>-0.620316</td>\n",
       "      <td>-0.697742</td>\n",
       "      <td>0.857170</td>\n",
       "      <td>1.000000</td>\n",
       "      <td>0.306002</td>\n",
       "      <td>0.613488</td>\n",
       "      <td>0.751265</td>\n",
       "    </tr>\n",
       "    <tr>\n",
       "      <th>height</th>\n",
       "      <td>-0.069029</td>\n",
       "      <td>-0.117146</td>\n",
       "      <td>0.492063</td>\n",
       "      <td>0.306002</td>\n",
       "      <td>1.000000</td>\n",
       "      <td>-0.085544</td>\n",
       "      <td>0.135486</td>\n",
       "    </tr>\n",
       "    <tr>\n",
       "      <th>horsepower</th>\n",
       "      <td>-0.763573</td>\n",
       "      <td>-0.776634</td>\n",
       "      <td>0.577923</td>\n",
       "      <td>0.613488</td>\n",
       "      <td>-0.085544</td>\n",
       "      <td>1.000000</td>\n",
       "      <td>0.810795</td>\n",
       "    </tr>\n",
       "    <tr>\n",
       "      <th>price</th>\n",
       "      <td>-0.657661</td>\n",
       "      <td>-0.712812</td>\n",
       "      <td>0.690628</td>\n",
       "      <td>0.751265</td>\n",
       "      <td>0.135486</td>\n",
       "      <td>0.810795</td>\n",
       "      <td>1.000000</td>\n",
       "    </tr>\n",
       "  </tbody>\n",
       "</table>\n",
       "</div>"
      ],
      "text/plain": [
       "             city_mpg  highway_mpg    length     width    height  horsepower  \\\n",
       "city_mpg     1.000000     0.875933 -0.633185 -0.620316 -0.069029   -0.763573   \n",
       "highway_mpg  0.875933     1.000000 -0.709308 -0.697742 -0.117146   -0.776634   \n",
       "length      -0.633185    -0.709308  1.000000  0.857170  0.492063    0.577923   \n",
       "width       -0.620316    -0.697742  0.857170  1.000000  0.306002    0.613488   \n",
       "height      -0.069029    -0.117146  0.492063  0.306002  1.000000   -0.085544   \n",
       "horsepower  -0.763573    -0.776634  0.577923  0.613488 -0.085544    1.000000   \n",
       "price       -0.657661    -0.712812  0.690628  0.751265  0.135486    0.810795   \n",
       "\n",
       "                price  \n",
       "city_mpg    -0.657661  \n",
       "highway_mpg -0.712812  \n",
       "length       0.690628  \n",
       "width        0.751265  \n",
       "height       0.135486  \n",
       "horsepower   0.810795  \n",
       "price        1.000000  "
      ]
     },
<<<<<<< HEAD
<<<<<<< HEAD
     "execution_count": 14,
=======
     "execution_count": 5,
>>>>>>> upstream/master
=======
     "execution_count": 3,
>>>>>>> upstream/dev
     "metadata": {},
     "output_type": "execute_result"
    }
   ],
   "source": [
    "auto_correlacao = automobile[[\"city_mpg\", \"highway_mpg\", \"length\", \"width\", \"height\", \"horsepower\", \"price\"]].corr()\n",
    "auto_correlacao"
   ]
  },
  {
   "cell_type": "code",
<<<<<<< HEAD
<<<<<<< HEAD
   "execution_count": 48,
=======
   "execution_count": 6,
=======
   "execution_count": 4,
>>>>>>> upstream/dev
   "metadata": {
    "scrolled": true
   },
   "outputs": [
    {
     "name": "stdout",
     "output_type": "stream",
     "text": [
      "10 com maiores preços\n",
      "              make  price\n",
      "71   mercedes-benz  45400\n",
      "15             bmw  41315\n",
      "70   mercedes-benz  40960\n",
      "125        porsche  37028\n",
      "16             bmw  36880\n",
      "46          jaguar  36000\n",
      "45          jaguar  35550\n",
      "69   mercedes-benz  35056\n",
      "68   mercedes-benz  34184\n",
      "124        porsche  34028\n",
      "\n",
      "\n",
      "10 com maiores dimensões\n",
      "     length  width  height\n",
      "70    208.1   71.7    56.7\n",
      "68    202.6   71.7    56.5\n",
      "67    202.6   71.7    56.3\n",
      "44    199.6   69.6    52.8\n",
      "45    199.6   69.6    52.8\n",
      "71    199.2   72.0    55.4\n",
      "106   198.9   68.4    58.7\n",
      "107   198.9   68.4    58.7\n",
      "111   198.9   68.4    58.7\n",
      "110   198.9   68.4    56.7\n",
      "\n",
      "\n",
      "10 com maiores potências\n",
      "     horsepower\n",
      "46          262\n",
      "125         207\n",
      "124         207\n",
      "123         207\n",
      "102         200\n",
      "70          184\n",
      "71          184\n",
      "16          182\n",
      "15          182\n",
      "14          182\n",
      "\n",
      "\n",
      "10 mais econômicos\n",
      "     city_mpg  highway_mpg\n",
      "66        0.0         25.0\n",
      "181       0.0         34.0\n",
      "46       13.0         17.0\n",
      "70       14.0         16.0\n",
      "71       14.0         16.0\n",
      "44       15.0         19.0\n",
      "45       15.0         19.0\n",
      "16       15.0         20.0\n",
      "68       16.0         18.0\n",
      "69       16.0         18.0\n"
     ]
    }
   ],
   "source": [
    "auto_pricey=automobile.sort_values([\"price\"], ascending=False).head(10)[[\"make\", \"price\"]]\n",
    "auto_biggest=automobile.sort_values([\"length\", \"width\", \"height\"], ascending=False).head(10)[[\"length\", \"width\", \"height\"]]\n",
    "auto_powerful=automobile.sort_values([\"horsepower\"], ascending=False).head(10)[[\"horsepower\"]]\n",
    "auto_economic=automobile.sort_values([\"city_mpg\", \"highway_mpg\"]).head(10)[[\"city_mpg\", \"highway_mpg\"]]\n",
    "print(\"10 com maiores preços\")\n",
    "print(auto_pricey)\n",
    "print(\"\\n\\n10 com maiores dimensões\")\n",
    "print(auto_biggest)\n",
    "print(\"\\n\\n10 com maiores potências\")\n",
    "print(auto_powerful)\n",
    "print(\"\\n\\n10 mais econômicos\")\n",
    "print(auto_economic)\n"
   ]
  },
  {
   "cell_type": "code",
<<<<<<< HEAD
   "execution_count": 7,
>>>>>>> upstream/master
=======
   "execution_count": 5,
>>>>>>> upstream/dev
   "metadata": {},
   "outputs": [
    {
     "name": "stdout",
     "output_type": "stream",
     "text": [
      "Preço X Tamanho\n",
      "             make  price  length  width  height\n",
      "71  mercedes-benz  45400   199.2   72.0    55.4\n",
      "70  mercedes-benz  40960   208.1   71.7    56.7\n",
      "45         jaguar  35550   199.6   69.6    52.8\n",
      "68  mercedes-benz  34184   202.6   71.7    56.5\n",
      "\n",
      "Preço X Força\n",
      "              make  price  horsepower\n",
      "71   mercedes-benz  45400         184\n",
      "15             bmw  41315         182\n",
      "70   mercedes-benz  40960         184\n",
      "125        porsche  37028         207\n",
      "16             bmw  36880         182\n",
      "46          jaguar  36000         262\n",
      "124        porsche  34028         207\n",
      "\n",
      "Preço X Consumo\n",
      "             make  price  city_mpg  highway_mpg\n",
      "71  mercedes-benz  45400      14.0         16.0\n",
      "70  mercedes-benz  40960      14.0         16.0\n",
      "16            bmw  36880      15.0         20.0\n",
      "46         jaguar  36000      13.0         17.0\n",
      "45         jaguar  35550      15.0         19.0\n",
      "69  mercedes-benz  35056      16.0         18.0\n",
      "68  mercedes-benz  34184      16.0         18.0\n"
     ]
    }
   ],
   "source": [
<<<<<<< HEAD
<<<<<<< HEAD
    "auto_pricey=automobile.sort_values([\"price\"], ascending=False).head(10)[[\"make\", \"price\"]]\n",
    "auto_biggest=automobile.sort_values([\"length\", \"width\", \"height\"], ascending=False).head(10)[[\"length\", \"width\", \"height\"]]\n",
    "auto_powerful=automobile.sort_values([\"horsepower\"], ascending=False).head(10)[[\"horsepower\"]]\n",
    "auto_economic=automobile.sort_values([\"city_mpg\", \"highway_mpg\"]).head(10)[[\"city_mpg\", \"highway_mpg\"]]\n",
    "\n",
=======
>>>>>>> upstream/master
=======
>>>>>>> upstream/dev
    "auto_pricey_biggest = pd.merge(auto_pricey, auto_biggest, left_index=True, right_index=True)\n",
    "auto_pricey_powerful = pd.merge(auto_pricey, auto_powerful, left_index=True, right_index=True)\n",
    "auto_pricey_economic = pd.merge(auto_pricey, auto_economic, left_index=True, right_index=True)\n",
    "print(\"Preço X Tamanho\")\n",
    "print(auto_pricey_biggest)\n",
    "print(\"\")\n",
    "print(\"Preço X Força\")\n",
    "print(auto_pricey_powerful)\n",
    "print(\"\")\n",
    "print(\"Preço X Consumo\")\n",
    "print(auto_pricey_economic)"
   ]
  },
  {
   "cell_type": "markdown",
   "metadata": {},
   "source": [
    "**Pergunta:** Cite um exemplo de pelo menos os 3 cenários propostos que corroboram a leitura dos dados apresentados, justique sua resposta."
   ]
  },
  {
   "cell_type": "markdown",
   "metadata": {},
   "source": [
    "**Resposta:** No procedimento acima foram listadas as classificações dos 10 carros com maior preço, maior tamanho, maior força e menor consumo. A seguir a tabela de preços foi relacionada com as outras três tabelas resultando nas tabelas ilustradas acima.\n",
    "\n",
    "Baseado nesse cruzamento, nota-se que há quatro carros em comum entre os 10 maiores preços e os 10 maiores tamanhos. Entre maiores preços e maiores forças há 7 carros em comum, bem como maiores preços e menor consumo. \n",
    "\n",
<<<<<<< HEAD
<<<<<<< HEAD
    "Também nota-se que os carros com índice 70 e 71 aparecem nos três comparativos. Portanto, pode-se afirmar que o preço dos automóveis é correlacionado ao tamanho, força e consumo."
   ]
  },
  {
   "cell_type": "code",
   "execution_count": 17,
   "metadata": {},
   "outputs": [
    {
     "data": {
      "text/plain": [
       "(array([0.00148511, 0.00297022, 0.00445534, 0.        , 0.02673201,\n",
       "        0.01336601, 0.00297022, 0.03118735, 0.03564268, 0.04455335,\n",
       "        0.04752358, 0.00742556, 0.01039578, 0.02376179, 0.02227668,\n",
       "        0.00742556, 0.00148511, 0.01039578, 0.00297022, 0.00148511]),\n",
       " array([141.1 , 144.45, 147.8 , 151.15, 154.5 , 157.85, 161.2 , 164.55,\n",
       "        167.9 , 171.25, 174.6 , 177.95, 181.3 , 184.65, 188.  , 191.35,\n",
       "        194.7 , 198.05, 201.4 , 204.75, 208.1 ]),\n",
       " <a list of 20 Patch objects>)"
      ]
     },
     "execution_count": 17,
     "metadata": {},
     "output_type": "execute_result"
    },
    {
     "data": {
      "image/png": "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\n",
      "text/plain": [
       "<matplotlib.figure.Figure at 0x140df90c240>"
      ]
     },
     "metadata": {},
     "output_type": "display_data"
    }
   ],
   "source": [
    "plt.hist(automobile[[\"price\"]], color=\"blue\", alpha=0.5, bins=20, density=True)\n",
    "plt.hist(automobile[[\"length\"]], color=\"red\", alpha=0.5, bins=20, density=True)"
=======
    "Para corroborar a observação feita acima, nota-se, pela matriz de correlação, que a relação entre preço e força (horsepower) é de 0.81, indicando uma alta correlação positiva, ou seja, quanto maior a força maior o preço. A correlação entre largura e comprimento e preço varia entre 0.69 e 0.75, sendo razoavelmente alto o índice de correlação. Já a correlação entre consumo e preço varia entre -0.65 e -0.71, indicando um índice de correlação negativo razoavelmente alto, ou seja, quanto menor o consumo do carro, maior o preço. \n",
    "\n",
    "Também nota-se que os carros com índice 70 e 71 aparecem nos três comparativos. \n",
    "\n",
    "Portanto, pode-se afirmar que o preço dos automóveis é correlacionado positivamente ao tamanho e força e negativamente em relação ao consumo."
>>>>>>> upstream/dev
   ]
  },
  {
   "cell_type": "markdown",
   "metadata": {},
   "source": [
    "## Preparação dos Dados"
   ]
  },
  {
   "cell_type": "markdown",
   "metadata": {},
   "source": [
    "### Identificação de Outliers Visualmente"
   ]
  },
  {
   "cell_type": "markdown",
   "metadata": {},
   "source": [
    "Utilize visualizações gráficas para encontrar outliers em todos os atributos deste dataset.\n",
    "Ainda não vamos remover ou atualizar os valores, por enquanto é uma análise exploratória.\n",
    "\n",
    "Lembre-se que cada atributo possui um valor e dimensão diferente, portanto comparações devem estar em uma mesma base, por exemplo, __price__ não pode ser comparado com __width__ pois os eixos __y__ estarão sem proporção."
   ]
  },
  {
   "cell_type": "code",
   "execution_count": 6,
   "metadata": {},
   "outputs": [
    {
     "data": {
      "text/html": [
       "<div>\n",
       "<style scoped>\n",
       "    .dataframe tbody tr th:only-of-type {\n",
       "        vertical-align: middle;\n",
       "    }\n",
       "\n",
       "    .dataframe tbody tr th {\n",
       "        vertical-align: top;\n",
       "    }\n",
       "\n",
       "    .dataframe thead th {\n",
       "        text-align: right;\n",
       "    }\n",
       "</style>\n",
       "<table border=\"1\" class=\"dataframe\">\n",
       "  <thead>\n",
       "    <tr style=\"text-align: right;\">\n",
       "      <th></th>\n",
       "      <th>number_of_cylinders</th>\n",
       "      <th>number_of_doors</th>\n",
       "    </tr>\n",
       "  </thead>\n",
       "  <tbody>\n",
       "    <tr>\n",
       "      <th>0</th>\n",
       "      <td>4</td>\n",
       "      <td>2</td>\n",
       "    </tr>\n",
       "    <tr>\n",
       "      <th>1</th>\n",
       "      <td>4</td>\n",
       "      <td>2</td>\n",
       "    </tr>\n",
       "    <tr>\n",
       "      <th>2</th>\n",
       "      <td>6</td>\n",
       "      <td>2</td>\n",
       "    </tr>\n",
       "    <tr>\n",
       "      <th>3</th>\n",
       "      <td>4</td>\n",
       "      <td>4</td>\n",
       "    </tr>\n",
       "    <tr>\n",
       "      <th>4</th>\n",
       "      <td>5</td>\n",
       "      <td>4</td>\n",
       "    </tr>\n",
       "    <tr>\n",
       "      <th>5</th>\n",
       "      <td>5</td>\n",
       "      <td>2</td>\n",
       "    </tr>\n",
       "    <tr>\n",
       "      <th>6</th>\n",
       "      <td>5</td>\n",
       "      <td>4</td>\n",
       "    </tr>\n",
       "    <tr>\n",
       "      <th>7</th>\n",
       "      <td>5</td>\n",
       "      <td>4</td>\n",
       "    </tr>\n",
       "    <tr>\n",
       "      <th>8</th>\n",
       "      <td>5</td>\n",
       "      <td>4</td>\n",
       "    </tr>\n",
       "    <tr>\n",
       "      <th>9</th>\n",
       "      <td>4</td>\n",
       "      <td>2</td>\n",
       "    </tr>\n",
       "  </tbody>\n",
       "</table>\n",
       "</div>"
      ],
      "text/plain": [
       "   number_of_cylinders  number_of_doors\n",
       "0                    4                2\n",
       "1                    4                2\n",
       "2                    6                2\n",
       "3                    4                4\n",
       "4                    5                4\n",
       "5                    5                2\n",
       "6                    5                4\n",
       "7                    5                4\n",
       "8                    5                4\n",
       "9                    4                2"
      ]
     },
     "execution_count": 6,
     "metadata": {},
     "output_type": "execute_result"
    }
   ],
   "source": [
<<<<<<< HEAD
    "sns.distplot(automobile[[\"price\"]])"
=======
    "Para corroborar a observação feita acima, nota-se, pela matriz de correlação, que a relação entre preço e força (horsepower) é de 0.81, indicando uma alta correlação positiva, ou seja, quanto maior a força maior o preço. A correlação entre largura e comprimento e preço varia entre 0.69 e 0.75, sendo razoavelmente alto o índice de correlação. Já a correlação entre consumo e preço varia entre -0.65 e -0.71, indicando um índice de correlação negativo razoavelmente alto, ou seja, quanto menor o consumo do carro, maior o preço. \n",
=======
    "#Converte a informação sobre número de portas para um valor numérico \n",
    "mapa_str_num = {\"one\":int(1),\"two\":int(2),\"three\":int(3),\"four\":int(4),\"five\":int(5),\"six\":int(6),\n",
    "                 \"seven\":int(7),\"eight\":int(8),\"nine\":int(9),\"ten\":int(10),\"eleven\":int(11),\"twelve\":int(12)}\n",
>>>>>>> upstream/dev
    "\n",
    "\n",
<<<<<<< HEAD
    "Portanto, pode-se afirmar que o preço dos automóveis é correlacionado positivamente ao tamanho e força e negativamente em relação ao consumo."
>>>>>>> upstream/master
   ]
  },
  {
   "cell_type": "markdown",
   "metadata": {},
   "source": [
    "## Preparação dos Dados"
   ]
  },
  {
   "cell_type": "markdown",
   "metadata": {},
   "source": [
    "### Identificação de Outliers Visualmente"
   ]
  },
  {
   "cell_type": "markdown",
   "metadata": {},
   "source": [
    "Utilize visualizações gráficas para encontrar outliers em todos os atributos deste dataset.\n",
    "Ainda não vamos remover ou atualizar os valores, por enquanto é uma análise exploratória.\n",
=======
    "automobile[\"number_of_doors\"] = automobile[\"number_of_doors\"].map(mapa_str_num) \n",
    "automobile[\"number_of_cylinders\"] = automobile[\"number_of_cylinders\"].map(mapa_str_num)\n",
>>>>>>> upstream/dev
    "\n",
    "automobile[[\"number_of_cylinders\",\"number_of_doors\"]].head(10)"
   ]
  },
  {
   "cell_type": "code",
<<<<<<< HEAD
<<<<<<< HEAD
   "execution_count": 37,
=======
   "execution_count": 8,
>>>>>>> upstream/master
=======
   "execution_count": 7,
>>>>>>> upstream/dev
   "metadata": {},
   "outputs": [
    {
     "data": {
      "text/html": [
       "<div>\n",
       "<style scoped>\n",
       "    .dataframe tbody tr th:only-of-type {\n",
       "        vertical-align: middle;\n",
       "    }\n",
       "\n",
       "    .dataframe tbody tr th {\n",
       "        vertical-align: top;\n",
       "    }\n",
       "\n",
       "    .dataframe thead th {\n",
       "        text-align: right;\n",
       "    }\n",
       "</style>\n",
       "<table border=\"1\" class=\"dataframe\">\n",
       "  <thead>\n",
       "    <tr style=\"text-align: right;\">\n",
       "      <th></th>\n",
<<<<<<< HEAD
<<<<<<< HEAD
=======
       "      <th>number_of_doors</th>\n",
>>>>>>> upstream/dev
       "      <th>wheel_base</th>\n",
       "      <th>length</th>\n",
       "      <th>width</th>\n",
       "      <th>height</th>\n",
       "      <th>curb_weight</th>\n",
       "      <th>number_of_cylinders</th>\n",
       "      <th>engine_size</th>\n",
<<<<<<< HEAD
=======
       "      <th>make</th>\n",
       "      <th>fuel_type</th>\n",
       "      <th>aspiration</th>\n",
       "      <th>number_of_doors</th>\n",
       "      <th>body_style</th>\n",
       "      <th>drive_wheels</th>\n",
       "      <th>engine_location</th>\n",
       "      <th>wheel_base</th>\n",
       "      <th>length</th>\n",
       "      <th>width</th>\n",
       "      <th>...</th>\n",
       "      <th>engine_size</th>\n",
       "      <th>fuel_system</th>\n",
>>>>>>> upstream/master
=======
>>>>>>> upstream/dev
       "      <th>bore</th>\n",
       "      <th>stroke</th>\n",
       "      <th>compression_ratio</th>\n",
       "      <th>horsepower</th>\n",
       "      <th>peak_rpm</th>\n",
       "      <th>city_mpg</th>\n",
       "      <th>highway_mpg</th>\n",
       "      <th>price</th>\n",
       "    </tr>\n",
       "  </thead>\n",
       "  <tbody>\n",
       "    <tr>\n",
<<<<<<< HEAD
<<<<<<< HEAD
       "      <th>count</th>\n",
       "      <td>201.000000</td>\n",
       "      <td>201.000000</td>\n",
       "      <td>201.000000</td>\n",
       "      <td>201.000000</td>\n",
       "      <td>201.000000</td>\n",
       "      <td>201.000000</td>\n",
       "      <td>201.000000</td>\n",
       "      <td>201.000000</td>\n",
       "      <td>201.000000</td>\n",
       "      <td>201.000000</td>\n",
       "      <td>199.000000</td>\n",
       "      <td>200.000000</td>\n",
       "      <td>200.00000</td>\n",
       "      <td>201.000000</td>\n",
       "    </tr>\n",
       "    <tr>\n",
       "      <th>mean</th>\n",
       "      <td>98.797015</td>\n",
       "      <td>174.200995</td>\n",
       "      <td>65.889055</td>\n",
       "      <td>53.766667</td>\n",
       "      <td>2555.666667</td>\n",
       "      <td>126.875622</td>\n",
       "      <td>3.329701</td>\n",
       "      <td>3.261741</td>\n",
       "      <td>10.164279</td>\n",
       "      <td>103.263682</td>\n",
       "      <td>5062.814070</td>\n",
       "      <td>24.925000</td>\n",
       "      <td>30.54500</td>\n",
       "      <td>13207.129353</td>\n",
       "    </tr>\n",
       "    <tr>\n",
       "      <th>std</th>\n",
       "      <td>6.066366</td>\n",
       "      <td>12.322175</td>\n",
       "      <td>2.101471</td>\n",
       "      <td>2.447822</td>\n",
       "      <td>517.296727</td>\n",
       "      <td>41.546834</td>\n",
       "      <td>0.268166</td>\n",
       "      <td>0.317875</td>\n",
       "      <td>4.004965</td>\n",
       "      <td>37.389372</td>\n",
       "      <td>694.766962</td>\n",
       "      <td>6.905636</td>\n",
       "      <td>7.15359</td>\n",
       "      <td>7947.066342</td>\n",
       "    </tr>\n",
       "    <tr>\n",
       "      <th>min</th>\n",
       "      <td>86.600000</td>\n",
       "      <td>141.100000</td>\n",
       "      <td>60.300000</td>\n",
       "      <td>47.800000</td>\n",
       "      <td>1488.000000</td>\n",
       "      <td>61.000000</td>\n",
       "      <td>2.540000</td>\n",
       "      <td>2.070000</td>\n",
       "      <td>7.000000</td>\n",
       "      <td>48.000000</td>\n",
       "      <td>0.000000</td>\n",
       "      <td>0.000000</td>\n",
       "      <td>0.00000</td>\n",
       "      <td>5118.000000</td>\n",
       "    </tr>\n",
       "    <tr>\n",
       "      <th>25%</th>\n",
       "      <td>94.500000</td>\n",
       "      <td>166.800000</td>\n",
       "      <td>64.100000</td>\n",
       "      <td>52.000000</td>\n",
       "      <td>2169.000000</td>\n",
       "      <td>98.000000</td>\n",
       "      <td>3.150000</td>\n",
       "      <td>3.110000</td>\n",
       "      <td>8.600000</td>\n",
       "      <td>70.000000</td>\n",
       "      <td>4800.000000</td>\n",
       "      <td>19.000000</td>\n",
       "      <td>25.00000</td>\n",
       "      <td>7775.000000</td>\n",
       "    </tr>\n",
       "    <tr>\n",
       "      <th>50%</th>\n",
       "      <td>97.000000</td>\n",
       "      <td>173.200000</td>\n",
       "      <td>65.500000</td>\n",
       "      <td>54.100000</td>\n",
       "      <td>2414.000000</td>\n",
       "      <td>120.000000</td>\n",
       "      <td>3.310000</td>\n",
       "      <td>3.290000</td>\n",
       "      <td>9.000000</td>\n",
       "      <td>95.000000</td>\n",
       "      <td>5100.000000</td>\n",
       "      <td>24.000000</td>\n",
       "      <td>30.00000</td>\n",
       "      <td>10295.000000</td>\n",
       "    </tr>\n",
       "    <tr>\n",
       "      <th>75%</th>\n",
       "      <td>102.400000</td>\n",
       "      <td>183.500000</td>\n",
       "      <td>66.600000</td>\n",
       "      <td>55.500000</td>\n",
       "      <td>2926.000000</td>\n",
       "      <td>141.000000</td>\n",
       "      <td>3.580000</td>\n",
       "      <td>3.460000</td>\n",
       "      <td>9.400000</td>\n",
       "      <td>116.000000</td>\n",
       "      <td>5500.000000</td>\n",
       "      <td>30.000000</td>\n",
       "      <td>34.00000</td>\n",
       "      <td>16500.000000</td>\n",
       "    </tr>\n",
       "    <tr>\n",
       "      <th>max</th>\n",
       "      <td>120.900000</td>\n",
       "      <td>208.100000</td>\n",
       "      <td>72.000000</td>\n",
       "      <td>59.800000</td>\n",
       "      <td>4066.000000</td>\n",
       "      <td>326.000000</td>\n",
       "      <td>3.940000</td>\n",
       "      <td>4.170000</td>\n",
       "      <td>23.000000</td>\n",
       "      <td>262.000000</td>\n",
       "      <td>6600.000000</td>\n",
       "      <td>49.000000</td>\n",
       "      <td>54.00000</td>\n",
       "      <td>45400.000000</td>\n",
       "    </tr>\n",
       "  </tbody>\n",
       "</table>\n",
       "</div>"
      ],
      "text/plain": [
       "       wheel_base      length       width      height  curb_weight  \\\n",
       "count  201.000000  201.000000  201.000000  201.000000   201.000000   \n",
       "mean    98.797015  174.200995   65.889055   53.766667  2555.666667   \n",
       "std      6.066366   12.322175    2.101471    2.447822   517.296727   \n",
       "min     86.600000  141.100000   60.300000   47.800000  1488.000000   \n",
       "25%     94.500000  166.800000   64.100000   52.000000  2169.000000   \n",
       "50%     97.000000  173.200000   65.500000   54.100000  2414.000000   \n",
       "75%    102.400000  183.500000   66.600000   55.500000  2926.000000   \n",
       "max    120.900000  208.100000   72.000000   59.800000  4066.000000   \n",
       "\n",
       "       engine_size        bore      stroke  compression_ratio  horsepower  \\\n",
       "count   201.000000  201.000000  201.000000         201.000000  201.000000   \n",
       "mean    126.875622    3.329701    3.261741          10.164279  103.263682   \n",
       "std      41.546834    0.268166    0.317875           4.004965   37.389372   \n",
       "min      61.000000    2.540000    2.070000           7.000000   48.000000   \n",
       "25%      98.000000    3.150000    3.110000           8.600000   70.000000   \n",
       "50%     120.000000    3.310000    3.290000           9.000000   95.000000   \n",
       "75%     141.000000    3.580000    3.460000           9.400000  116.000000   \n",
       "max     326.000000    3.940000    4.170000          23.000000  262.000000   \n",
       "\n",
       "          peak_rpm    city_mpg  highway_mpg         price  \n",
       "count   199.000000  200.000000    200.00000    201.000000  \n",
       "mean   5062.814070   24.925000     30.54500  13207.129353  \n",
       "std     694.766962    6.905636      7.15359   7947.066342  \n",
       "min       0.000000    0.000000      0.00000   5118.000000  \n",
       "25%    4800.000000   19.000000     25.00000   7775.000000  \n",
       "50%    5100.000000   24.000000     30.00000  10295.000000  \n",
       "75%    5500.000000   30.000000     34.00000  16500.000000  \n",
       "max    6600.000000   49.000000     54.00000  45400.000000  "
      ]
     },
     "execution_count": 37,
=======
=======
>>>>>>> upstream/dev
       "      <th>0</th>\n",
       "      <td>-0.567164</td>\n",
       "      <td>-0.297289</td>\n",
       "      <td>-0.080612</td>\n",
       "      <td>-0.152911</td>\n",
       "      <td>-0.413889</td>\n",
       "      <td>-0.002974</td>\n",
       "      <td>-0.036318</td>\n",
       "      <td>0.011790</td>\n",
       "      <td>0.100213</td>\n",
       "      <td>-0.277020</td>\n",
       "      <td>-0.072767</td>\n",
       "      <td>0.036151</td>\n",
       "      <td>-0.009517</td>\n",
       "      <td>-0.080102</td>\n",
       "      <td>-0.065648</td>\n",
       "      <td>0.007146</td>\n",
       "    </tr>\n",
       "    <tr>\n",
       "      <th>1</th>\n",
       "      <td>-0.567164</td>\n",
       "      <td>-0.297289</td>\n",
       "      <td>-0.080612</td>\n",
       "      <td>-0.152911</td>\n",
       "      <td>-0.413889</td>\n",
       "      <td>-0.002974</td>\n",
       "      <td>-0.036318</td>\n",
       "      <td>0.011790</td>\n",
       "      <td>0.100213</td>\n",
       "      <td>-0.277020</td>\n",
       "      <td>-0.072767</td>\n",
       "      <td>0.036151</td>\n",
       "      <td>-0.009517</td>\n",
       "      <td>-0.080102</td>\n",
       "      <td>-0.065648</td>\n",
       "      <td>0.081745</td>\n",
       "    </tr>\n",
       "    <tr>\n",
       "      <th>2</th>\n",
       "      <td>-0.567164</td>\n",
       "      <td>-0.125277</td>\n",
       "      <td>-0.044791</td>\n",
       "      <td>-0.033253</td>\n",
       "      <td>-0.113889</td>\n",
       "      <td>0.103698</td>\n",
       "      <td>0.163682</td>\n",
       "      <td>0.094809</td>\n",
       "      <td>-0.464072</td>\n",
       "      <td>0.099171</td>\n",
       "      <td>-0.072767</td>\n",
       "      <td>0.237086</td>\n",
       "      <td>-0.009517</td>\n",
       "      <td>-0.120918</td>\n",
       "      <td>-0.084167</td>\n",
       "      <td>0.081745</td>\n",
       "    </tr>\n",
       "    <tr>\n",
       "      <th>3</th>\n",
       "      <td>0.432836</td>\n",
       "      <td>0.029242</td>\n",
       "      <td>0.035806</td>\n",
       "      <td>0.026577</td>\n",
       "      <td>0.044444</td>\n",
       "      <td>-0.084820</td>\n",
       "      <td>-0.036318</td>\n",
       "      <td>-0.067455</td>\n",
       "      <td>-0.099787</td>\n",
       "      <td>0.065837</td>\n",
       "      <td>-0.010267</td>\n",
       "      <td>-0.005905</td>\n",
       "      <td>0.066240</td>\n",
       "      <td>-0.018878</td>\n",
       "      <td>-0.010093</td>\n",
       "      <td>0.018442</td>\n",
       "    </tr>\n",
       "    <tr>\n",
       "      <th>4</th>\n",
       "      <td>0.432836</td>\n",
       "      <td>0.017580</td>\n",
       "      <td>0.035806</td>\n",
       "      <td>0.043671</td>\n",
       "      <td>0.044444</td>\n",
       "      <td>0.104086</td>\n",
       "      <td>0.063682</td>\n",
       "      <td>0.034432</td>\n",
       "      <td>-0.099787</td>\n",
       "      <td>0.065837</td>\n",
       "      <td>-0.135267</td>\n",
       "      <td>0.054843</td>\n",
       "      <td>0.066240</td>\n",
       "      <td>-0.141327</td>\n",
       "      <td>-0.158241</td>\n",
       "      <td>0.105329</td>\n",
       "    </tr>\n",
       "    <tr>\n",
       "      <th>5</th>\n",
       "      <td>-0.567164</td>\n",
       "      <td>0.029242</td>\n",
       "      <td>0.046254</td>\n",
       "      <td>0.035124</td>\n",
       "      <td>-0.055556</td>\n",
       "      <td>-0.018878</td>\n",
       "      <td>0.063682</td>\n",
       "      <td>0.034432</td>\n",
       "      <td>-0.099787</td>\n",
       "      <td>0.065837</td>\n",
       "      <td>-0.104017</td>\n",
       "      <td>0.031478</td>\n",
       "      <td>0.066240</td>\n",
       "      <td>-0.120918</td>\n",
       "      <td>-0.102685</td>\n",
       "      <td>0.050714</td>\n",
       "    </tr>\n",
       "    <tr>\n",
       "      <th>6</th>\n",
       "      <td>0.432836</td>\n",
       "      <td>0.204169</td>\n",
       "      <td>0.276105</td>\n",
       "      <td>0.471021</td>\n",
       "      <td>0.161111</td>\n",
       "      <td>0.111844</td>\n",
       "      <td>0.063682</td>\n",
       "      <td>0.034432</td>\n",
       "      <td>-0.099787</td>\n",
       "      <td>0.065837</td>\n",
       "      <td>-0.104017</td>\n",
       "      <td>0.031478</td>\n",
       "      <td>0.066240</td>\n",
       "      <td>-0.120918</td>\n",
       "      <td>-0.102685</td>\n",
       "      <td>0.111784</td>\n",
       "    </tr>\n",
       "    <tr>\n",
       "      <th>7</th>\n",
       "      <td>0.432836</td>\n",
       "      <td>0.204169</td>\n",
       "      <td>0.276105</td>\n",
       "      <td>0.471021</td>\n",
       "      <td>0.161111</td>\n",
       "      <td>0.154513</td>\n",
       "      <td>0.063682</td>\n",
       "      <td>0.034432</td>\n",
       "      <td>-0.099787</td>\n",
       "      <td>0.065837</td>\n",
       "      <td>-0.104017</td>\n",
       "      <td>0.031478</td>\n",
       "      <td>0.066240</td>\n",
       "      <td>-0.120918</td>\n",
       "      <td>-0.102685</td>\n",
       "      <td>0.141822</td>\n",
       "    </tr>\n",
       "    <tr>\n",
       "      <th>8</th>\n",
       "      <td>0.432836</td>\n",
       "      <td>0.204169</td>\n",
       "      <td>0.276105</td>\n",
       "      <td>0.471021</td>\n",
       "      <td>0.177778</td>\n",
       "      <td>0.205715</td>\n",
       "      <td>0.063682</td>\n",
       "      <td>0.015564</td>\n",
       "      <td>-0.142644</td>\n",
       "      <td>0.065837</td>\n",
       "      <td>-0.116517</td>\n",
       "      <td>0.171665</td>\n",
       "      <td>0.066240</td>\n",
       "      <td>-0.161735</td>\n",
       "      <td>-0.195278</td>\n",
       "      <td>0.264830</td>\n",
       "    </tr>\n",
       "    <tr>\n",
       "      <th>9</th>\n",
       "      <td>-0.567164</td>\n",
       "      <td>0.070058</td>\n",
       "      <td>0.038791</td>\n",
       "      <td>-0.093082</td>\n",
       "      <td>0.044444</td>\n",
       "      <td>-0.062322</td>\n",
       "      <td>-0.036318</td>\n",
       "      <td>-0.071229</td>\n",
       "      <td>0.121642</td>\n",
       "      <td>-0.219877</td>\n",
       "      <td>-0.085267</td>\n",
       "      <td>-0.010578</td>\n",
       "      <td>0.111695</td>\n",
       "      <td>-0.039286</td>\n",
       "      <td>-0.028611</td>\n",
       "      <td>0.080008</td>\n",
       "    </tr>\n",
       "  </tbody>\n",
       "</table>\n",
       "</div>"
      ],
      "text/plain": [
       "   number_of_doors  wheel_base    length     width    height  curb_weight  \\\n",
       "0        -0.567164   -0.297289 -0.080612 -0.152911 -0.413889    -0.002974   \n",
       "1        -0.567164   -0.297289 -0.080612 -0.152911 -0.413889    -0.002974   \n",
       "2        -0.567164   -0.125277 -0.044791 -0.033253 -0.113889     0.103698   \n",
       "3         0.432836    0.029242  0.035806  0.026577  0.044444    -0.084820   \n",
       "4         0.432836    0.017580  0.035806  0.043671  0.044444     0.104086   \n",
       "5        -0.567164    0.029242  0.046254  0.035124 -0.055556    -0.018878   \n",
       "6         0.432836    0.204169  0.276105  0.471021  0.161111     0.111844   \n",
       "7         0.432836    0.204169  0.276105  0.471021  0.161111     0.154513   \n",
       "8         0.432836    0.204169  0.276105  0.471021  0.177778     0.205715   \n",
       "9        -0.567164    0.070058  0.038791 -0.093082  0.044444    -0.062322   \n",
       "\n",
       "   number_of_cylinders  engine_size      bore    stroke  compression_ratio  \\\n",
       "0            -0.036318     0.011790  0.100213 -0.277020          -0.072767   \n",
       "1            -0.036318     0.011790  0.100213 -0.277020          -0.072767   \n",
       "2             0.163682     0.094809 -0.464072  0.099171          -0.072767   \n",
       "3            -0.036318    -0.067455 -0.099787  0.065837          -0.010267   \n",
       "4             0.063682     0.034432 -0.099787  0.065837          -0.135267   \n",
       "5             0.063682     0.034432 -0.099787  0.065837          -0.104017   \n",
       "6             0.063682     0.034432 -0.099787  0.065837          -0.104017   \n",
       "7             0.063682     0.034432 -0.099787  0.065837          -0.104017   \n",
       "8             0.063682     0.015564 -0.142644  0.065837          -0.116517   \n",
       "9            -0.036318    -0.071229  0.121642 -0.219877          -0.085267   \n",
       "\n",
       "   horsepower  peak_rpm  city_mpg  highway_mpg     price  \n",
       "0    0.036151 -0.009517 -0.080102    -0.065648  0.007146  \n",
       "1    0.036151 -0.009517 -0.080102    -0.065648  0.081745  \n",
       "2    0.237086 -0.009517 -0.120918    -0.084167  0.081745  \n",
       "3   -0.005905  0.066240 -0.018878    -0.010093  0.018442  \n",
       "4    0.054843  0.066240 -0.141327    -0.158241  0.105329  \n",
       "5    0.031478  0.066240 -0.120918    -0.102685  0.050714  \n",
       "6    0.031478  0.066240 -0.120918    -0.102685  0.111784  \n",
       "7    0.031478  0.066240 -0.120918    -0.102685  0.141822  \n",
       "8    0.171665  0.066240 -0.161735    -0.195278  0.264830  \n",
       "9   -0.010578  0.111695 -0.039286    -0.028611  0.080008  "
      ]
     },
<<<<<<< HEAD
     "execution_count": 8,
>>>>>>> upstream/master
=======
     "execution_count": 7,
>>>>>>> upstream/dev
     "metadata": {},
     "output_type": "execute_result"
    }
   ],
   "source": [
<<<<<<< HEAD
<<<<<<< HEAD
    "auto_describe = automobile.describe()\n",
    "auto_describe"
=======
    "#Converte a informação sobre número de portas para um valor numérico \n",
    "mapa_num_doors = {\"one\":1,\"two\":2,\"three\":3,\"four\":4,\"five\":5,\"six\":6,\"seven\":7,\"eight\":8,\"nine\":9,\"ten\":10}\n",
=======
    "def normalize(df,colunas):\n",
    "    df_aux = df.copy()\n",
    "    for col in colunas:\n",
    "        df_aux[col] = (df_aux[col] - df_aux[col].mean()) / (df_aux[col].max() - df_aux[col].min())\n",
    "    return (df_aux) \n",
>>>>>>> upstream/dev
    "\n",
    "cols_numericas = [\"number_of_doors\",\"wheel_base\",\"length\",\"width\",\"height\",\n",
    "                      \"curb_weight\",\"number_of_cylinders\",\"engine_size\",\n",
    "                      \"bore\",\"stroke\",\"compression_ratio\",\"horsepower\",\"peak_rpm\",\n",
    "                      \"city_mpg\",\"highway_mpg\",\"price\"]\n",
    "\n",
    "#Normaliza as informações númericas do dataframe de automóveis \n",
    "automobile_norm = normalize(automobile,cols_numericas)\n",
    "\n",
<<<<<<< HEAD
    "automobile_conv.head(10)"
>>>>>>> upstream/master
   ]
  },
  {
   "cell_type": "code",
<<<<<<< HEAD
   "execution_count": 97,
=======
   "execution_count": 9,
>>>>>>> upstream/master
   "metadata": {},
   "outputs": [
    {
     "data": {
      "text/html": [
       "<div>\n",
       "<style scoped>\n",
       "    .dataframe tbody tr th:only-of-type {\n",
       "        vertical-align: middle;\n",
       "    }\n",
       "\n",
       "    .dataframe tbody tr th {\n",
       "        vertical-align: top;\n",
       "    }\n",
       "\n",
       "    .dataframe thead th {\n",
       "        text-align: right;\n",
       "    }\n",
       "</style>\n",
       "<table border=\"1\" class=\"dataframe\">\n",
       "  <thead>\n",
       "    <tr style=\"text-align: right;\">\n",
       "      <th></th>\n",
<<<<<<< HEAD
       "    </tr>\n",
       "    <tr>\n",
       "      <th>fuel_type</th>\n",
=======
       "      <th>make</th>\n",
       "      <th>fuel_type</th>\n",
       "      <th>aspiration</th>\n",
       "      <th>number_of_doors</th>\n",
       "      <th>body_style</th>\n",
       "      <th>drive_wheels</th>\n",
       "      <th>engine_location</th>\n",
       "      <th>wheel_base</th>\n",
       "      <th>length</th>\n",
       "      <th>width</th>\n",
       "      <th>...</th>\n",
       "      <th>engine_size</th>\n",
       "      <th>fuel_system</th>\n",
       "      <th>bore</th>\n",
       "      <th>stroke</th>\n",
       "      <th>compression_ratio</th>\n",
       "      <th>horsepower</th>\n",
       "      <th>peak_rpm</th>\n",
       "      <th>city_mpg</th>\n",
       "      <th>highway_mpg</th>\n",
       "      <th>price</th>\n",
>>>>>>> upstream/master
       "    </tr>\n",
       "  </thead>\n",
       "  <tbody>\n",
       "    <tr>\n",
<<<<<<< HEAD
       "      <th>diesel</th>\n",
       "    </tr>\n",
       "    <tr>\n",
       "      <th>gas</th>\n",
       "    </tr>\n",
       "  </tbody>\n",
       "</table>\n",
       "</div>"
      ],
      "text/plain": [
       "Empty DataFrame\n",
       "Columns: []\n",
       "Index: [diesel, gas]"
      ]
     },
     "execution_count": 97,
     "metadata": {},
     "output_type": "execute_result"
    }
   ],
   "source": [
    "auto_fuel = automobile[[\"fuel_type\"]].groupby(\"fuel_type\").sum()\n",
    "auto_fuel"
=======
    "automobile_norm[cols_numericas].head(10)"
>>>>>>> upstream/dev
   ]
  },
  {
   "cell_type": "code",
   "execution_count": 8,
   "metadata": {},
   "outputs": [
    {
     "data": {
      "image/png": "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\n",
      "text/plain": [
       "<Figure size 1296x6336 with 32 Axes>"
      ]
     },
     "metadata": {},
     "output_type": "display_data"
    }
   ],
   "source": [
    "import math \n",
    "\n",
    "n_linhas = len(cols_numericas)\n",
    "fig,ax = plt.subplots(nrows=n_linhas,ncols=2, sharey=True)\n",
    "\n",
    "\n",
    "fig.set_size_inches(18, 88)\n",
    "for i in range(n_linhas):    \n",
    "    sns.boxplot(ax=ax[i,0], data=[automobile_norm[cols_numericas[i]]]).set_title(cols_numericas[i])\n",
    "    sns.violinplot(ax=ax[i,1], data=[automobile_norm[cols_numericas[i]]]).set_title(cols_numericas[i])    "
   ]
  },
  {
   "cell_type": "markdown",
   "metadata": {},
   "source": [
    "Podemos verificar visualmente que há candidatos a serem outliers para as seguinte características dos veículos: wheel_base, length, width, curb_weight, number_of_cylinders, engine_size, bore, stroke, compression_ratio, horsepower, peak_rpm, city_mpg, highway_mpg e price. "
   ]
  },
  {
   "cell_type": "code",
   "execution_count": 9,
   "metadata": {},
   "outputs": [
    {
<<<<<<< HEAD
     "data": {
      "text/plain": [
       "<matplotlib.axes._subplots.AxesSubplot at 0x140eb27b518>"
      ]
     },
     "execution_count": 90,
     "metadata": {},
     "output_type": "execute_result"
    },
    {
     "data": {
      "image/png": "iVBORw0KGgoAAAANSUhEUgAABIQAAAFpCAYAAADtMPPNAAAABHNCSVQICAgIfAhkiAAAAAlwSFlzAAALEgAACxIB0t1+/AAAADl0RVh0U29mdHdhcmUAbWF0cGxvdGxpYiB2ZXJzaW9uIDIuMS4yLCBodHRwOi8vbWF0cGxvdGxpYi5vcmcvNQv5yAAAIABJREFUeJzt3W+wnmd9J/bvTzpaMHUSmmPhgLARG7mbBEogKCxMFtYLEhVuAjsNaeAFEjRbJSmRRYY00+QF/2baaWZn2Nqmg6MUBrmllG3CUpORHSTKHzu7EGTqPxh7pxrWGSR7QTnO2qh2wMf69cV5zMjykXRsnefc5+j+fGae0X0/96Xn+Voey5e+uu77qu4OAAAAAOOxbugAAAAAAKwshRAAAADAyCiEAAAAAEZGIQQAAAAwMgohAAAAgJFRCAEAAACMjEIIAAAAYGQUQgAAAAAjoxACAAAAGBmFEAAAAMDIzAz1xZdccklv3rx5qK8HAKbstttu+5vu3jh0Dp7MHAwALmxLnYMNVght3rw5hw8fHurrAYApq6q/HjoDT2UOBgAXtqXOwdwyBgAAADAyCiEAAACAkTlnIVRVz66qv6qqO6rq7qr64CJj3llVx6vq9snrn00nLgAAAADnaynPEPpBktd394mq2pDk1qq6qbu/etq4T3f37yx/RAAAAACW0zkLoe7uJCcmpxsmr55mKAAAAACmZ0nPEKqq9VV1e5LvJTnY3V9bZNivVtWdVfWnVXXZsqYEAAAAYNksqRDq7se7++VJXpjkVVX10tOGfC7J5u5+WZJDSfYv9jlVtbuqDlfV4ePHj59PbgAAAACeoae1y1h3/4ckX0qy47T357r7B5PTP0nyyjP8/H3dvbW7t27cuPEZxAUAAADgfC1ll7GNVfXcyfFFSbYlufe0Mc8/5fTNSe5ZzpDA2jc3N5err746c3NzQ0cBABgNczDgTJayQuj5Sb5YVXcm+XoWniH051X1oap682TM1ZMt6e9IcnWSd04nLrBW7d+/P3fddVduuOGGoaMAAIyGORhwJucshLr7zu5+RXe/rLtf2t0fmrz/vu6+cXL8B939ku7++e7+J91979k/FRiTubm53Hzzzenu3Hzzzf6GCgBgBZiDAWfztJ4hBPBM7N+/PydPnkySPP744/6GCgBgBZiDAWejEAKm7tChQ5mfn0+SzM/P5+DBgwMnAgC48JmDAWejEAKmbtu2bZmZmUmSzMzMZPv27QMnAgC48JmDAWejEAKmbteuXVm3buG3m/Xr12fnzp0DJwJY/arqsqr6YlXdM9m8Y+8iY66sqoeq6vbJ631DZAVWJ3Mw4GwUQsDUzc7OZseOHamq7NixI7Ozs0NHAlgL5pO8t7t/Nsmrk7y7qn5ukXG3dPfLJ68PrWxEYDUzBwPOZmboAMA47Nq1K/fdd5+/mQJYou5+IMkDk+PvV9U9STYl+dagwYA1xRwMOBOFELAiZmdnc+211w4dA2BNqqrNSV6R5GuLXH5NVd2R5P4kv9fdd69gNGCVMwcDzkQhBACwilXVxUn+LMl7uvvh0y5/I8mLuvtEVV2V5LNJrljkM3Yn2Z0kl19++ZQTAwBrgWcIAQCsUlW1IQtl0Ce7+zOnX+/uh7v7xOT4QJINVXXJIuP2dffW7t66cePGqecGAFY/hRAAwCpUVZXkY0nu6e4Pn2HMT03GpapelYW53dzKpQQA1iq3jAEArE6/lOQdSe6qqtsn7/1hksuTpLuvT/LWJL9dVfNJHk3ytu7uIcICAGuLQggAYBXq7luT1DnGfCTJR1YmEQBwIXHLGAAAAMDIKIQAAAAARkYhBAAAADAyCiEAAACAkVEIAQAAAIyMQggAAABgZBRCAAAAACOjEAIAAAAYGYUQAAAAwMgohAAAAABGRiEEAAAAMDIKIQAAAICRUQgBAAAAjIxCCAAAAGBkFEIAAAAAI6MQAgAAABgZhRCwIubm5nL11Vdnbm5u6CgAAACjpxACVsT+/ftz11135YYbbhg6CgAAwOgphICpm5uby0033ZTuzk033WSVEAAAwMAUQsDU7d+/P/Pz80mSxx57zCohAACAgSmEgKk7ePBgujtJ0t35/Oc/P3AiAACAcVMIAVN36aWXnvUcAACAlaUQAqbuu9/97lnPAQAAWFkKIWDqtm/fnqpKklRV3vjGNw6cCAAAYNwUQsDU7dq1Kxs2bEiSbNiwITt37hw4EQAAwLgphICpm52dzY4dO1JVedOb3pTZ2dmhIwEAAIzazNABgHHYtWtX7rvvPquDAAAAVgGFELAiZmdnc+211w4dAwAAgCzhlrGqenZV/VVV3VFVd1fVBxcZ86yq+nRVHamqr1XV5mmEBQAAAOD8LeUZQj9I8vru/vkkL0+yo6pefdqY30jyt929Jcm/SPJHyxsTAAAAgOVyzkKoF5yYnG6YvPq0YW9Jsn9y/KdJ3lBP7DENAAAAwKqypF3Gqmp9Vd2e5HtJDnb3104bsinJd5Kku+eTPJTENkIAAAAAq9CSCqHufry7X57khUleVVUvPW3IYquBTl9FlKraXVWHq+rw8ePHn35aAAAAAM7bkgqhJ3T3f0jypSQ7Trt0NMllSVJVM0l+IsmDi/z8fd29tbu3bty48RkFBgAAAOD8LGWXsY1V9dzJ8UVJtiW597RhNybZNTl+a5L/u7ufskIIAAAAgOHNLGHM85Psr6r1WSiQ/mV3/3lVfSjJ4e6+McnHkvyvVXUkCyuD3ja1xAAAAACcl3MWQt19Z5JXLPL++045/rskv7a80QAAAACYhqf1DCEAAAAA1j6FEAAAAMDIKIQAAAAARkYhBAAAADAyCiEAAACAkVEIAQAAAIyMQggAAABgZBRCAAAAACOjEAIAAAAYGYUQAAAAwMgohIAVMTc3l6uvvjpzc3NDRwEAABg9hRCwIvbt25c777wz+/btGzoKAADA6CmEgKmbm5vLwYMHkyQHDx60SggAAGBgCiFg6vbt25eTJ08mSU6ePGmVEAAAwMAUQsDUfeELXzjrOQAAACtLIQRMXXef9RwAAICVpRACpu4Nb3jDk863bds2UBIAAAAShRCwAn7zN38z69Yt/Hazbt267N69e+BEAAAA46YQAqZudnY2r33ta5Mkr3vd6zI7OztwIgAAgHFTCAEr4tnPfnaS5FnPetbASQAAAFAIAVM3NzeXL37xi0mSL33pS5mbmxs4EQAAwLgphICp279/f06ePJkkefzxx3PDDTcMnAgAAGDcFELA1B06dCjz8/NJkvn5+Rw8eHDgRAAAAOOmEAKm7okHSp/pHAAAgJWlEAKmrruHjgAAAMApFELA1N16661POr/lllsGSgKwdlTVZVX1xaq6p6rurqq9i4ypqrq2qo5U1Z1V9QtDZAVWr8OHD+f1r399brvttqGjAKuMQgiYum3btj3pfPv27QMlAVhT5pO8t7t/Nsmrk7y7qn7utDFvSnLF5LU7yUdXNiKw2n3gAx/IyZMn8/73v3/oKMAqoxACpu7Nb37zk85/5Vd+ZaAkAGtHdz/Q3d+YHH8/yT1JNp027C1JbugFX03y3Kp6/gpHBVapw4cP58SJE0mSEydOWCUEPIlCCJi6G2+8MVWVJKmqfO5znxs4EcDaUlWbk7wiyddOu7QpyXdOOT+ap5ZGwEh94AMfeNK5VULAqRRCwNQdOnToRw+W7m7bzgM8DVV1cZI/S/Ke7n749MuL/JSnPMm/qnZX1eGqOnz8+PFpxARWoSdWB53pHBg3hRAwddu2bcvMzEySZGZmxjOEAJaoqjZkoQz6ZHd/ZpEhR5Ncdsr5C5Pcf/qg7t7X3Vu7e+vGjRunExZYdS6++OKzngPjphACpm7Xrl1Zt27ht5t169Zl586dAycCWP1q4V7bjyW5p7s/fIZhNybZOdlt7NVJHuruB1YsJLCqnX7L2Ac/+MFhggCr0szQAYAL3+zsbJ73vOfl6NGjed7znpfZ2dmhIwGsBb+U5B1J7qqq2yfv/WGSy5Oku69PciDJVUmOJHkkybsGyAmsUlu3bs3FF1+cEydO5OKLL84rX/nKoSMBq4hCCJi6ubm5HDt2LEly//33Z25uTikEcA7dfWsWf0bQqWM6ybtXJhGwFn3gAx/I7//+71sdBDyFW8aAqfvjP/7jHz1U+uTJk9m3b9/AiQAAxuHFL35xXvrSl2bz5s1DRwFWGYUQMHVf+MIXnnR+6NChgZIAAIzL/v37c9ddd+WGG24YOgqwyiiEgKlbeC7qmc8BAFh+c3Nzufnmm9PdufnmmzM3Nzd0JGAVUQgBU/eGN7zhrOcAACy//fv35+TJk0mSxx9/3Coh4EkUQsDU7d69+0nbzu/evXvgRAAAF75Dhw5lfn4+STI/P5+DBw8OnAhYTRRCwNTNzs5m+/btSZLt27fbYQwAYAVs27YtMzMLG0vPzMz8aD4GkCyhEKqqy6rqi1V1T1XdXVV7FxlzZVU9VFW3T17vm05cYK3avXt3Xvayl1kdBACwQnbt2vWjVdrr16/Pzp07B04ErCZLWSE0n+S93f2zSV6d5N1V9XOLjLulu18+eX1oWVMCa97s7GyuvfZaq4MAAFbI7OxsduzYkarKjh07zMOAJ5k514DufiDJA5Pj71fVPUk2JfnWlLMBAABwHnbt2pX77rvP6iDgKZ7WM4SqanOSVyT52iKXX1NVd1TVTVX1kmXIBlxA5ubmcvXVV9vuFABgBVmlDZzJkguhqro4yZ8leU93P3za5W8keVF3/3yS65J89gyfsbuqDlfV4ePHjz/TzMAatH///tx11122OwUAAFgFllQIVdWGLJRBn+zuz5x+vbsf7u4Tk+MDSTZU1SWLjNvX3Vu7e+vGjRvPMzqwVszNzeXmm29Od+emm26ySggAAGBgS9llrJJ8LMk93f3hM4z5qcm4VNWrJp/rT3xAkoXVQY899liS5LHHHrNKCAAAYGBLWSH0S0nekeT1p2wrf1VV/VZV/dZkzFuTfLOq7khybZK3dXdPKTOwxhw8eDBP/JbQ3fn85z8/cCIAAIBxW8ouY7cmqXOM+UiSjyxXKODCcumll+a+++570jkAAADDeVq7jAE8E9/97nfPeg4AAMDKUggBU7d9+/Ynnb/xjW8cKAkAAACJQghYAbt27crkufOpquzcuXPgRAAAAOOmEAJWxKmFEAAAAMNSCAFTt3///qxbt/Dbzbp162w7DwAAMDCFEDB1hw4dyvz8fJJkfn4+Bw8eHDgRAADAuCmEgKnbtm1bZmZmkiQzMzNPecg0AAAAK0shBEzdrl27nnTLmIdKAwAADEshBEzd7OxsXvCCFyRJXvCCF2R2dnbgRAAAAOOmEAKmbm5uLseOHUuS3H///Zmbmxs4EQAAwLgphICp279/f7o7SXLy5Em7jAEAAAxsZugAwIVvsV3Gfvd3f3fgVADAcrruuuty5MiRoWNwmidWaW/atGngJJxqy5Yt2bNnz9AxGDkrhICps8sYAMAwHn300Tz66KNDxwBWISuEgKnbtWtXbr755iTJ+vXr7TIGABcgqx1Wp7179yZJrrnmmoGTAKuNFULA1M3OzmbHjh2pquzYscMuYwAAAAOzQghYEbt27cp9991ndRAAAMAqoBACVsTs7GyuvfbaoWMAAAAQt4wBAAAAjI5CCAAAAGBkFEIAAAAAI6MQAgAAABgZhRAAAADAyCiEAAAAAEZGIQQAAAAwMgohAAAAgJFRCAEAAACMjEIIAAAAYGQUQgAAAAAjoxACAAAAGJmZoQPAcrvuuuty5MiRoWNwmmPHjiVJNm3aNHASTrVly5bs2bNn6BgAAMAKUwgBK+LRRx8dOgIAAAATCiEuOFY7rE579+5NklxzzTUDJwEAAMAzhAAAAABGRiEEAAAAMDIKIQAAAICRUQgBAAAAjIxCCAAAAGBkFEIAAAAAI6MQAgAAABiZcxZCVXVZVX2xqu6pqrurau8iY6qqrq2qI1V1Z1X9wnTiAgAAAHC+ZpYwZj7Je7v7G1X1Y0luq6qD3f2tU8a8KckVk9c/TPLRyY8AAAAArDLnXCHU3Q909zcmx99Pck+STacNe0uSG3rBV5M8t6qev+xpAQAAADhvT+sZQlW1OckrknzttEubknznlPOjeWppBAAAAMAqsORCqKouTvJnSd7T3Q+ffnmRn9KLfMbuqjpcVYePHz/+9JICAAAAsCyWVAhV1YYslEGf7O7PLDLkaJLLTjl/YZL7Tx/U3fu6e2t3b924ceMzyQsAAADAeVrKLmOV5GNJ7unuD59h2I1Jdk52G3t1koe6+4FlzAkAAADAMlnKLmO/lOQdSe6qqtsn7/1hksuTpLuvT3IgyVVJjiR5JMm7lj8qAAAAAMvhnIVQd9+axZ8RdOqYTvLu5QoFAAAAwPQ8rV3GAABYGVX18ar6XlV98wzXr6yqh6rq9snrfSudEQBYu5ZyyxgAACvvE0k+kuSGs4y5pbt/eWXiAAAXEiuEAABWoe7+SpIHh84BAFyYFEIAAGvXa6rqjqq6qapeMnQYAGDtcMsYAMDa9I0kL+ruE1V1VZLPJrlisYFVtTvJ7iS5/PLLVy4hALBqWSEEALAGdffD3X1icnwgyYaquuQMY/d199bu3rpx48YVzQkArE4KIQCANaiqfqqqanL8qizM6+aGTQUArBVuGQMAWIWq6lNJrkxySVUdTfL+JBuSpLuvT/LWJL9dVfNJHk3ytu7ugeICAGuMQggAYBXq7ref4/pHsrAtPQDA0+aWMQAAAICRUQgBAAAAjIxCCAAAAGBkFEIAAAAAI6MQAgAAABgZhRAAAADAyCiEAAAAAEZGIQQAAAAwMgohAAAAgJFRCAEAAACMjEIIAAAAYGQUQgAAAAAjoxACAAAAGBmFEAAAAMDIKIQAAAAARkYhBAAAADAyCiEAAACAkVEIAQAAAIyMQggAAABgZBRCAAAAACOjEAIAAAAYGYUQAAAAwMgohAAAAABGRiEEAAAAMDIKIQAAAICRUQgBAAAAjIxCCAAAAGBkFEIAAAAAI6MQAgAAABgZhRAAAADAyCiEAAAAAEbmnIVQVX28qr5XVd88w/Urq+qhqrp98nrf8scEAAAAYLnMLGHMJ5J8JMkNZxlzS3f/8rIkAgAAAGCqzrlCqLu/kuTBFcgCAAAAwApYrmcIvaaq7qiqm6rqJcv0mQAAAABMwVJuGTuXbyR5UXefqKqrknw2yRWLDayq3Ul2J8nll1++DF8NAAAAwNN13iuEuvvh7j4xOT6QZENVXXKGsfu6e2t3b924ceP5fjUAAAAAz8B5F0JV9VNVVZPjV00+c+58PxcAAACA6TjnLWNV9akkVya5pKqOJnl/kg1J0t3XJ3lrkt+uqvkkjyZ5W3f31BIDAAAAcF7OWQh199vPcf0jWdiWHgAAAIA1YLl2GQMAAABgjVAIAQAAAIyMQggAAABgZBRCAAAAACOjEAIAAAAYGYUQAAAAwMgohAAAAABGRiEEAAAAMDIzQwcAAICn67rrrsuRI0eGjgGr3hP/nezdu3fgJLC6bdmyJXv27Bk6xopSCAEAsOYcOXIkt3/znjz+nJ8cOgqsaut+2EmS27793YGTwOq1/pEHh44wCIUQAABr0uPP+ck8+jNXDR0DgDXuonsPDB1hEJ4hBAAAADAyCiEAAACAkVEIAQAAAIyMQggAAABgZBRCAAAAACOjEAIAAAAYGYUQAAAAwMjMDB1grbvuuuty5MiRoWPAqvfEfyd79+4dOAmsflu2bMmePXuGjgEAwAVMIXSejhw5ktu/eU8ef85PDh0FVrV1P+wkyW3f/u7ASWB1W//Ig0NHAABgBBRCy+Dx5/xkHv2Zq4aOAcAF4KJ7DwwdAQCAEfAMIQAAAICRUQgBAKxCVfXxqvpeVX3zDNerqq6tqiNVdWdV/cJKZwQA1i6FEADA6vSJJDvOcv1NSa6YvHYn+egKZAIALhAKIQCAVai7v5LkbE8Zf0uSG3rBV5M8t6qevzLpAIC1TiEEALA2bUrynVPOj07eAwA4J4UQAMDaVIu814sOrNpdVYer6vDx48enHAsAWAsUQgAAa9PRJJedcv7CJPcvNrC793X31u7eunHjxhUJBwCsbgohAIC16cYkOye7jb06yUPd/cDQoQCAtWFm6AAAADxVVX0qyZVJLqmqo0nen2RDknT39UkOJLkqyZEkjyR51zBJAYC1SCEEALAKdffbz3G9k7x7heIAABcYt4wBAAAAjIxCCAAAAGBkFEIAAAAAI6MQAgAAABgZhRAAAADAyCiEAAAAAEbGtvMAAKw5x44dy/pHHspF9x4YOgoAa9z6R+Zy7Nj80DFWnBVCAAAAACNzzhVCVfXxJL+c5Hvd/dJFrleSa5JcleSRJO/s7m8sd1AAAHjCpk2b8u9/MJNHf+aqoaMAsMZddO+BbNp06dAxVtxSVgh9IsmOs1x/U5IrJq/dST56/rEAAAAAmJZzFkLd/ZUkD55lyFuS3NALvprkuVX1/OUKCAAAAMDyWo5nCG1K8p1Tzo9O3gMAAABgFVqOQqgWea8XHVi1u6oOV9Xh48ePL8NXAwAAAPB0LUchdDTJZaecvzDJ/YsN7O593b21u7du3LhxGb4aAAAAgKdrOQqhG5PsrAWvTvJQdz+wDJ8LAAAAwBQsZdv5TyW5MsklVXU0yfuTbEiS7r4+yYEsbDl/JAvbzr9rWmEBAAAAOH/nLIS6++3nuN5J3r1siQAAAACYquW4ZQwAAACANUQhBAAAADAyCiEAAACAkVEIAQAAAIyMQggAAABgZBRCAAAAACOjEAIAAAAYGYUQAAAAwMgohAAAAABGRiEEAAAAMDIKIQAAAICRUQgBAAAAjIxCCAAAAGBkFEIAAAAAI6MQAgAAABgZhRAAAADAyMwMHWCtO3bsWNY/8lAuuvfA0FEAuACsf2Qux47NDx0DAIALnBVCAAAAACNjhdB52rRpU/79D2by6M9cNXQUAC4AF917IJs2XTp0DAAALnBWCAEAAACMjEIIAAAAYGQUQgAAAAAjoxACAAAAGBkPlQYAYE1a/8iDuejeA0PHgFVt3d89nCQ5+ewfHzgJrF7rH3kwyfg29VAIAQCw5mzZsmXoCLAmHDny/STJlr8/vj/swtJdOsr/ryiEAABYc/bs2TN0BFgT9u7dmyS55pprBk4CrDaeIQQAAAAwMgohAAAAgJFRCAEAAACMjEIIAAAAYGQUQgAAAAAjoxACAAAAGBmFEAAAAMDIKIQAAAAARmZm6AAXgvWPPJiL7j0wdAxY1db93cNJkpPP/vGBk8Dqtv6RB5NcOnQMAAAucAqh87Rly5ahI8CacOTI95MkW/6+P+jC2V3q/y0AAEydQug87dmzZ+gIsCbs3bs3SXLNNdcMnAQAAADPEAIAAAAYGYUQAAAAwMgohAAAAABGZkmFUFXtqKp/W1VHquq/W+T6O6vqeFXdPnn9s+WPCgAAAMByOOdDpatqfZL/Ocn2JEeTfL2qbuzub5029NPd/TtTyAgAAADAMlrKCqFXJTnS3d/u7h8m+T+SvGW6sQAAAACYlqUUQpuSfOeU86OT9073q1V1Z1X9aVVdtizpAAAAAFh2SymEapH3+rTzzyXZ3N0vS3Ioyf5FP6hqd1UdrqrDx48ff3pJAQAAAFgWSymEjiY5dcXPC5Pcf+qA7p7r7h9MTv8kySsX+6Du3tfdW7t768aNG59JXgAAAADO01IKoa8nuaKqXlxVfy/J25LceOqAqnr+KadvTnLP8kUEABgnO70CANNyzl3Gunu+qn4nyV8kWZ/k4919d1V9KMnh7r4xydVV9eYk80keTPLOKWYGALjg2ekVAJimcxZCSdLdB5IcOO29951y/AdJ/mB5owEAjNqPdnpNkqp6YqfX0wshAICnbSm3jAEAsPLs9AoATI1CCABgdbLTKwAwNQohAIDVyU6vAMDUKIQAAFYnO70CAFOzpIdKAwCwsuz0CgBMU3Wffiv6yti6dWsfPnx4kO/mwnbdddflyJEjQ8fgNE/8O9myZcvASTjVli1bsmfPnqFjcIGqqtu6e+vQOXgyczCmxRxsdTIHW53MwZimpc7BrBACVsRFF100dAQAgNExBwPORCHEBUfTDgCw8szBANYWD5UGAAAAGBmFEAAAAMDIKIQAAAAARkYhBAAAADAyCiEAAACAkVEIAQAAAIyMQggAAABgZBRCAAAAACOjEAIAAAAYGYUQAAAAwMgohAAAAABGRiEEAAAAMDIKIQAAAICRqe4e5ourjif560G+HBjKJUn+ZugQwIp5UXdvHDoET2YOBqNkDgbjsqQ52GCFEDA+VXW4u7cOnQMAYEzMwYDFuGUMAAAAYGQUQgAAAAAjoxACVtK+oQMAAIyQORjwFJ4hBAAAADAyVggBAAAAjIxCCJi6qvpQVW0bOgcAwNCqanNVfXPoHAAzQwcALmxVtb673zd0DgCAta6qZrp7fugc57JWcsLYWSEEPGOTv+G6t6r2V9WdVfWnVfWcqrqvqt5XVbcm+bWq+kRVvXXyc36xqv51Vd1RVX9VVT9WVeur6p9X1dcnn/ObA/+jAQBM0/qq+pOquruqPl9VF1XVy6vqq5O50L+qqv84SarqS1X1P1TVl5Psrapfq6pvTuZSX5mMWXQuVVVXVtVXJp/3raq6vqrWTa69varumnzWH03e+y+r6sOT471V9e3J8U9P5nWpqldW1Zer6raq+ouqev5iOVf2lxN4JqwQAs7XP0jyG939l1X18ST/zeT9v+vuf5QkVbVj8uPfS/LpJL/e3V+vqh9P8miS30jyUHf/YlU9K8lfVtXnu/vfrfg/DQDA9F2R5O3d/V9X1b9M8qtJfj/Jnu7+clV9KMn7k7xnMv653f2Pk6Sq7kryn3X3sap67uT6onOpybVXJfm5JH+d5OYk/0VV/eskf5TklUn+Nsnnq+qfJvlKkv928vNem2SuqjYl+UdJbqmqDUmuS/KW7j5eVb+e5L9P8l+dnhNY/RRCwPn6Tnf/5eT4f0ty9eT404uM/QdJHujurydJdz+cJFX1xiQve2IVUZKfyMJESSEEAFyI/l133z45vi3JT2ehTPny5L39Sf7PU8afOq+cYbh2AAACQ0lEQVT6yySfmBRJn5m8d6a51A+T/FV3P7HS51NZKHceS/Kl7j4+ef+TSV7X3Z+tqour6seSXJbkf0/yuiyUQ5/JwlzupUkOVlWSrE/ywBlyAqucQgg4X32G8/9vkbG1yPgn3t/T3X+xnMEAAFapH5xy/HiS555p4MSP5lXd/VtV9Q+T/OdJbq+ql+cMc6mqujKLz9XqLN/1b5K8K8m/TXJLFlb/vCbJe5NcnuTu7n7NuXICq59nCAHn6/KqemJS8PYkt55l7L1JXlBVv5gkk+cHzST5iyS/PVmGnKr6T6rqP5pmaACAVeShJH9bVa+dnL8jyZcXG1hVP93dX5ts2vE3WVjJc7a51Kuq6sWTZwf9ehbmal9L8o+r6pKqWp+FOdwT3/eVJL83+fH/SfJPkvygux/KQkm08Ym5X1VtqKqXLN8vA7CSrBACztc9SXZV1R8n+X+TfDTJnsUGdvcPJ/eaX1dVF2Xh+UHbkvwvSTYn+UYtrD8+nuSfrkB2AIDVYleS66vqOUm+nYVVOov551V1RRZW+XwhyR1J7syZ51L/Jsn/mOQ/zULJ86+6+2RV/UGSL04+50B3/1+T8bdkoWT6Snc/XlXfycJf6j0xl3trkmur6iey8OfJ/ynJ3cv0awCsoOpe7O4NgHOrqs1J/ry7XzpwFAAATjO5Zez3uvuXh84CrD5uGQMAAAAYGSuEAAAAAEbGCiEAAACAkVEIAQAAAIyMQggAAABgZBRCAAAAACOjEAIAAAAYGYUQAAAAwMj8/4Hwj1rD14ZvAAAAAElFTkSuQmCC\n",
      "text/plain": [
       "<matplotlib.figure.Figure at 0x140ead11390>"
      ]
     },
     "metadata": {},
     "output_type": "display_data"
    }
   ],
   "source": [
    "fig, (nor1,nor2) = plt.subplots(ncols=2)\n",
    "fig.set_size_inches(20, 6)\n",
    "sns.boxplot(ax=nor1,data=auto_normalized[[\"price\"]])\n",
    "sns.boxplot(ax=nor2,data=auto_normalized[[\"horsepower\"]])"
=======
       "      <th>0</th>\n",
       "      <td>alfa-romero</td>\n",
       "      <td>gas</td>\n",
       "      <td>std</td>\n",
       "      <td>-0.567164</td>\n",
       "      <td>convertible</td>\n",
       "      <td>rwd</td>\n",
       "      <td>front</td>\n",
       "      <td>-0.297289</td>\n",
       "      <td>-0.080612</td>\n",
       "      <td>-0.152911</td>\n",
       "      <td>...</td>\n",
       "      <td>0.011790</td>\n",
       "      <td>mpfi</td>\n",
       "      <td>0.100213</td>\n",
       "      <td>-0.277020</td>\n",
       "      <td>-0.072767</td>\n",
       "      <td>0.036151</td>\n",
       "      <td>-0.009517</td>\n",
       "      <td>-0.080102</td>\n",
       "      <td>-0.065648</td>\n",
       "      <td>0.007146</td>\n",
=======
     "name": "stdout",
     "output_type": "stream",
     "text": [
      "Candidatos a outliers para wheel_base\n",
      "    wheel_base\n",
      "67    0.489883\n",
      "68    0.489883\n",
      "70    0.644402\n",
      "\n",
      "\n",
      "\n",
      "Candidatos a outliers para length\n",
      "      length\n",
      "17 -0.494045\n",
      "\n",
      "\n",
      "\n",
      "Candidatos a outliers para width\n",
      "       width\n",
      "6   0.471021\n",
      "7   0.471021\n",
      "8   0.471021\n",
      "16  0.428286\n",
      "17 -0.477697\n",
      "46  0.402645\n",
      "67  0.496662\n",
      "68  0.496662\n",
      "69  0.394098\n",
      "70  0.496662\n",
      "71  0.522303\n",
      "\n",
      "\n",
      "\n",
      "Candidatos a outliers para curb_weight\n",
      "    curb_weight\n",
      "44     0.585855\n",
      "45     0.585855\n",
      "\n",
      "\n",
      "\n",
      "Candidatos a outliers para number_of_cylinders\n",
      "     number_of_cylinders\n",
      "2               0.163682\n",
      "4               0.063682\n",
      "5               0.063682\n",
      "6               0.063682\n",
      "7               0.063682\n",
      "8               0.063682\n",
      "11              0.163682\n",
      "12              0.163682\n",
      "13              0.163682\n",
      "14              0.163682\n",
      "15              0.163682\n",
      "16              0.163682\n",
      "17             -0.136318\n",
      "44              0.163682\n",
      "45              0.163682\n",
      "46              0.763682\n",
      "52             -0.236318\n",
      "53             -0.236318\n",
      "54             -0.236318\n",
      "55             -0.236318\n",
      "64              0.063682\n",
      "65              0.063682\n",
      "66              0.063682\n",
      "67              0.063682\n",
      "68              0.363682\n",
      "69              0.363682\n",
      "70              0.363682\n",
      "71              0.363682\n",
      "98              0.163682\n",
      "99              0.163682\n",
      "100             0.163682\n",
      "101             0.163682\n",
      "102             0.163682\n",
      "103             0.163682\n",
      "123             0.163682\n",
      "124             0.163682\n",
      "125             0.163682\n",
      "174             0.163682\n",
      "175             0.163682\n",
      "176             0.163682\n",
      "177             0.163682\n",
      "187             0.063682\n",
      "198             0.163682\n",
      "199             0.163682\n",
      "\n",
      "\n",
      "\n",
      "Candidatos a outliers para engine_size\n",
      "    engine_size\n",
      "14     0.309903\n",
      "15     0.309903\n",
      "16     0.309903\n",
      "44     0.494809\n",
      "45     0.494809\n",
      "46     0.751413\n",
      "68     0.404243\n",
      "69     0.404243\n",
      "70     0.683488\n",
      "71     0.668394\n",
      "\n",
      "\n",
      "\n",
      "Candidatos a outliers para stroke\n",
      "       stroke\n",
      "44   0.432504\n",
      "45   0.432504\n",
      "108 -0.510353\n",
      "110 -0.510353\n",
      "130 -0.567496\n",
      "134 -0.429401\n",
      "\n",
      "\n",
      "\n",
      "Candidatos a outliers para compression_ratio\n",
      "     compression_ratio\n",
      "28           -0.197767\n",
      "46            0.083483\n",
      "60            0.783483\n",
      "63            0.739733\n",
      "64            0.708483\n",
      "65            0.708483\n",
      "66            0.708483\n",
      "67            0.708483\n",
      "79           -0.197767\n",
      "80           -0.197767\n",
      "81           -0.197767\n",
      "87            0.733483\n",
      "105           0.677233\n",
      "107           0.677233\n",
      "109           0.677233\n",
      "111           0.677233\n",
      "113           0.677233\n",
      "114          -0.197767\n",
      "121          -0.197767\n",
      "154           0.770983\n",
      "155           0.770983\n",
      "170           0.770983\n",
      "178           0.802233\n",
      "180           0.802233\n",
      "183           0.802233\n",
      "188           0.802233\n",
      "199           0.802233\n",
      "\n",
      "\n",
      "\n",
      "Candidatos a outliers para horsepower\n",
      "     horsepower\n",
      "46     0.741758\n",
      "102    0.452039\n",
      "123    0.484749\n",
      "124    0.484749\n",
      "125    0.484749\n",
      "\n",
      "\n",
      "\n",
      "Candidatos a outliers para peak_rpm\n",
      "     peak_rpm\n",
      "32  -0.767093\n",
      "35  -0.767093\n",
      "161  0.232907\n",
      "162  0.232907\n",
      "\n",
      "\n",
      "\n",
      "Candidatos a outliers para city_mpg\n",
      "     city_mpg\n",
      "17   0.450510\n",
      "29   0.491327\n",
      "66  -0.508673\n",
      "181 -0.508673\n",
      "\n",
      "\n",
      "\n",
      "Candidatos a outliers para highway_mpg\n",
      "    highway_mpg\n",
      "17     0.415833\n",
      "29     0.434352\n",
      "67    -0.565648\n",
      "87     0.360278\n",
      "\n",
      "\n",
      "\n",
      "Candidatos a outliers para price\n",
      "        price\n",
      "14   0.435750\n",
      "15   0.697777\n",
      "16   0.587679\n",
      "44   0.472739\n",
      "45   0.554661\n",
      "46   0.565833\n",
      "67   0.456603\n",
      "68   0.520750\n",
      "69   0.542398\n",
      "70   0.688965\n",
      "71   0.799187\n",
      "123  0.479640\n",
      "124  0.516878\n",
      "125  0.591353\n",
      "\n",
      "\n",
      "\n"
     ]
    }
   ],
   "source": [
    "estat = automobile_norm.describe()\n",
    "for col in cols_numericas:\n",
    "    #Intervalo inter-quartil\n",
    "    iq = (estat[col][\"75%\"] - estat[col][\"25%\"])\n",
    "    #Limite superior para outlier é 1,5 vezes o intervalo interquartial acima do 75% percentil\n",
    "    lim_sup = estat[col][\"75%\"] + 1.5 * iq \n",
    "    #Limite inferior para outlier é 1,5 vezes o intervalo interquartial abaixo do 25% percentil\n",
    "    lim_inf = estat[col][\"25%\"] - 1.5 * iq \n",
    "    #Seleciona os carros que seguem a regra calculada acima\n",
    "    vet_out = automobile_norm[(automobile_norm[col] > lim_sup) | (automobile_norm[col] < lim_inf)][[col]]\n",
    "    #Se algum elemento foi selecionado, imprima\n",
    "    if (len(vet_out) > 0 ):\n",
    "       print(\"Candidatos a outliers para \" + col) \n",
    "       print(vet_out)\n",
    "       print(\"\\n\\n\")"
   ]
  },
  {
   "cell_type": "code",
   "execution_count": 10,
   "metadata": {},
   "outputs": [
    {
     "data": {
      "image/png": "iVBORw0KGgoAAAANSUhEUgAABCYAAAhDCAYAAABzMkqiAAAABHNCSVQICAgIfAhkiAAAAAlwSFlzAAALEgAACxIB0t1+/AAAADl0RVh0U29mdHdhcmUAbWF0cGxvdGxpYiB2ZXJzaW9uIDIuMi4yLCBodHRwOi8vbWF0cGxvdGxpYi5vcmcvhp/UCwAAIABJREFUeJzs3Xu8XGV97/HPV0CtigImUkTSKAdt1dqoqbXeikoVLwXxCscqqG3E4q2tbdW2SrUXW2/HS8WiYsBSFEWUWqtSFPCGECCEcFERsUYoRPQIinIEf+eP9Wwy2ZnZ2dnJzNo7+bxfr3nNmmfW5bduz1rzm2etlapCkiRJkiSpD7frOwBJkiRJkrTjMjEhSZIkSZJ6Y2JCkiRJkiT1xsSEJEmSJEnqjYkJSZIkSZLUGxMTkiRJkiSpNyYmJEmSJElSb0xMSJIkSZKk3piYkCRJkiRJvdm57wC2xqJFi2rp0qV9hyFJkiRJkqY5//zzv19VizfX34JOTCxdupRVq1b1HYYkSZIkSZomyXdm05+XckiSJEmSpN6YmJAkSZIkSb0xMSFJkiRJknoztsREkn2SfCHJZUkuSfKKVr5HktOTfLO9797Kk+SdSa5IsibJQ8YVmyRJkiRJmh/G2WLiFuBPq+rXgIcDRyW5P/Bq4Iyq2g84o30GeBKwX3utAI4ZY2ySJEmSJGkeGFtioqquqaoLWveNwGXA3sDBwPGtt+OBp7Xug4ETqnMOsFuSvcYVnyRJkiRJ6t9E7jGRZCnwYOBrwJ5VdQ10yQvgHq23vYHvDgy2rpVJkiRJkqTt1NgTE0nuApwCvLKqbpip1yFlNWR8K5KsSrJq/fr12ypMSZIkSZLUg7EmJpLsQpeUOLGqPt6Kr526RKO9X9fK1wH7DAx+L+Dq6eOsqmOranlVLV+8ePH4gpckSZIkSWM3zqdyBPgAcFlVvW3gq9OAw1v34cAnB8qf357O8XDgR1OXfEiSJEmSpO3TzmMc9yOB5wEXJ1ndyl4LvAk4OcmLgP8GntW++zTwZOAK4CbgBWOMTZIkSZIkzQNjS0xU1ZcYft8IgMcP6b+Ao8YVjyRJkiRJmn8m8lQOSZIkSZKkYUxMSJIkSZKk3piYkCRJkiRJvTExIUmSJEmSemNiQpIkSZIk9cbEhCRJkiRJ6o2JCUmSJEmS1BsTE5IkSZIkqTcmJiRJkiRJUm9MTEiSJEmSpN6YmJAkSZIkSb0xMSFJkiRJknpjYkKSJEmSJPXGxIQkSZIkSeqNiQlJkiRJktQbExOSJEmSJKk3JiYkSZIkSVJvxpaYSHJckuuSrB0o+0iS1e11VZLVrXxpkp8OfPfeccUlSZIkSZLmj53HOO6VwLuBE6YKquo5U91J3gr8aKD/b1XVsjHGI0mSJEmS5pmxJSaq6uwkS4d9lyTAs4HHjWv6kiRJkiRp/uvrHhOPBq6tqm8OlN07yYVJzkry6J7ikiRJkiRJEzTOSzlmchhw0sDna4AlVXV9kocCn0jygKq6YfqASVYAKwCWLFkykWAlSZIkSdJ4TLzFRJKdgacDH5kqq6qbq+r61n0+8C3gvsOGr6pjq2p5VS1fvHjxJEKWJEmSJElj0selHAcAl1fVuqmCJIuT7NS67wPsB1zZQ2ySJEmSJGmCxvm40JOArwL3S7IuyYvaV4ey8WUcAI8B1iS5CPgYcGRV/WBcsUmSJEmSpPlhnE/lOGxE+RFDyk4BThlXLJIkSZIkaX7q66kckiRJkiRJJiYkSZIkSVJ/TExIkiRJkqTemJiQJEmSJEm9MTEhSZIkSZJ6Y2JCkiRJkiT1xsSEJEmSJEnqjYkJSZIkSZLUGxMTkiRJkiSpNyYmJEmSJElSb0xMSJIkSZKk3piYkCRJkiRJvTExIUmSJEmSemNiQpIkSZIk9cbEhCRJkiRJ6o2JCUmSJEmS1BsTE5IkSZIkqTcmJiRJkiRJUm/GlphIclyS65KsHSg7Osn3kqxurycPfPeaJFck+XqSJ44rLkmSJEmSNH+Ms8XESuDAIeVvr6pl7fVpgCT3Bw4FHtCGeU+SncYYmyRJkiRJmgfGlpioqrOBH8yy94OBD1fVzVX1beAK4GHjik2SJEmSJM0Pfdxj4qVJ1rRLPXZvZXsD3x3oZ10r20SSFUlWJVm1fv36cccqSZIkSZLGaNKJiWOAfYFlwDXAW1t5hvRbw0ZQVcdW1fKqWr548eLxRClJkiRJkiZioomJqrq2qm6tql8A72PD5RrrgH0Ger0XcPUkY5MkSZIkSZM30cREkr0GPh4CTD2x4zTg0CR3SHJvYD/g3EnGJkmSJEmSJm/ncY04yUnA/sCiJOuA1wP7J1lGd5nGVcCLAarqkiQnA5cCtwBHVdWt44pNkiRJkiTND6kaeiuHBWH58uW1atWqvsOQJEmSJEnTJDm/qpZvrr8+nsohSZIkSZIEmJiQJEmSJEk9MjEhSZIkSZJ6Y2JCkiRJkiT1xsSEJEmSJEnqjYkJSZIkSZLUGxMTkiRJkiSpNyYmJEmSJElSb0xMSJIkSZKk3piYkCRJkiRJvTExIUmSJEmSemNiQpIkSZIk9cbEhCRJkiRJ6o2JCUmSJEmS1BsTE5IkSZIkqTcmJiRJkiRJUm9MTEiSJEmSpN6MLTGR5Lgk1yVZO1D25iSXJ1mT5NQku7XypUl+mmR1e713XHFJkiRJkqT5Y5wtJlYCB04rOx14YFU9CPgG8JqB775VVcva68gxxiVJkiRJkuaJsSUmqups4AfTyj5XVbe0j+cA9xrX9CVJkiRJ0vzX5z0mXgj858Dneye5MMlZSR7dV1CSJEmSJGlydu5jokn+ErgFOLEVXQMsqarrkzwU+ESSB1TVDUOGXQGsAFiyZMmkQpYkSZIkSWMw8RYTSQ4Hngo8t6oKoKpurqrrW/f5wLeA+w4bvqqOrarlVbV88eLFkwpbkiRJkiSNwUQTE0kOBP4COKiqbhooX5xkp9Z9H2A/4MpJxiZJkiRJkiZvbJdyJDkJ2B9YlGQd8Hq6p3DcATg9CcA57QkcjwHekOQW4FbgyKr6wdARS5IkSZKk7cbYEhNVddiQ4g+M6PcU4JRxxSJJkiRJkuanPp/KIUmSJEmSdnAmJiRJkiRJUm9MTEiSJEmSpN6YmJAkSZIkSb0xMSFJkiRJknpjYkKSJEmSJPVmVomJJGfMpkySJEmSJGlL7DzTl0nuCNwJWJRkdyDtq7sC9xxzbJIkSZIkaTs3Y2ICeDHwSrokxPlsSEzcAPzzGOOSJEmSJEk7gBkTE1X1DuAdSV5WVe+aUEySJEmSJGkHsbkWEwBU1buSPAJYOjhMVZ0wprgkSZIkSdIOYFaJiSQfAvYFVgO3tuICTExIkiRJkqQ5m1ViAlgO3L+qapzBSJIkSZKkHcusHhcKrAV+eZyBSJIkSZKkHc9sW0wsAi5Nci5w81RhVR00lqgkSZIkSdIOYbaJiaPHGYQkSZIkSdoxzfapHGeNOxBJkiRJkrTjme1TOW6kewoHwO2BXYCfVNVdxxWYJEmSJEna/s3q5pdVtWtV3bW97gg8A3j35oZLclyS65KsHSjbI8npSb7Z3ndv5UnyziRXJFmT5CFznSlJkiRJkrQwzPapHBupqk8Aj5tFryuBA6eVvRo4o6r2A85onwGeBOzXXiuAY+YSmyRJkiRJWjhmeynH0wc+3g5YzoZLO0aqqrOTLJ1WfDCwf+s+HjgT+ItWfkJVFXBOkt2S7FVV18wmRkmSJEmStPDM9qkcvzfQfQtwFV0iYS72nEo2VNU1Se7RyvcGvjvQ37pWtlFiIskKuhYVLFmyZI4hSJIkSZKk+WC2T+V4wbgDATJs0kNiORY4FmD58uWbbbUhSZIkSZLmr1ndYyLJvZKc2m5keW2SU5Lca47TvDbJXm28ewHXtfJ1wD4D/d0LuHqO05AkSZIkSQvAbG9++UHgNOCedJdX/Hsrm4vTgMNb9+HAJwfKn9+ezvFw4EfeX0KSJEmSpO3bbBMTi6vqg1V1S3utBBZvbqAkJwFfBe6XZF2SFwFvAn43yTeB322fAT4NXAlcAbwP+KMtmxVJkiRJkrTQzPbml99P8vvASe3zYcD1mxuoqg4b8dXjh/RbwFGzjEeSJEmSJG0HZtti4oXAs4H/oXtKxjOBSdwQU5IkSZIkbcdm22LijcDhVfVDgCR7AG+hS1hIkiRJkiTNyWxbTDxoKikBUFU/AB48npAkSZIkSdKOYraJidsl2X3qQ2sxMdvWFpIkSZIkSUPNNrnwVuArST4GFN39Jv5ubFFJkiRJkqQdwqwSE1V1QpJVwOOAAE+vqkvHGpkkSZIkSdruzfpyjJaIMBkhSZIkSZK2mdneY0KSJEmSJGmbMzEhSZIkSZJ6Y2JCkiRJkiT1xsSEJEmSJEnqjYkJSZIkSZLUGxMTkiRJkiSpNyYmJEmSJElSb0xMSJIkSZKk3piYkCRJkiRJvTExIUmSJEmSerPzpCeY5H7ARwaK7gO8DtgN+ENgfSt/bVV9esLhSZIkSZKkCZp4YqKqvg4sA0iyE/A94FTgBcDbq+otk45JkiRJkiT1o+9LOR4PfKuqvtNzHJIkSZIkqQd9JyYOBU4a+PzSJGuSHJdk976CkiRJkiRJk9FbYiLJ7YGDgI+2omOAfeku87gGeOuI4VYkWZVk1fr164f1IkmSJEmSFog+W0w8Cbigqq4FqKprq+rWqvoF8D7gYcMGqqpjq2p5VS1fvHjxBMOVJEmSJEnbWp+JicMYuIwjyV4D3x0CrJ14RJIkSZIkaaIm/lQOgCR3An4XePFA8T8lWQYUcNW07yRJkiRJ0naol8REVd0E3H1a2fP6iEWSJEmSJPWn76dySJIkSZKkHZiJCUmSJEmS1BsTE5IkSZIkqTcmJiRJkiRJUm9MTEiSJEmSpN6YmJAkSZIkSb0xMSFJkiRJknpjYkKSJEmSJPXGxIQkSZIkSeqNiQlJkiRJktQbExOSJEmSJKk3JiYkSZIkSVJvTExIkiRJkqTemJiQJEmSJEm9MTEhSZIkSZJ6Y2JCkiRJkiT1xsSEJEmSJEnqjYkJSZIkSZLUm537mnCSq4AbgVuBW6pqeZI9gI8AS4GrgGdX1Q/7ilGSJEmSJI1X3y0mHltVy6pqefv8auCMqtoPOKN9liRJkiRJ26m+ExPTHQwc37qPB57WYyySJEmSJGnM+kxMFPC5JOcnWdHK9qyqawDa+z2mD5RkRZJVSVatX79+guFKkiRJkqRtrbd7TACPrKqrk9wDOD3J5bMZqKqOBY4FWL58eY0zQEmSJEmSNF69tZioqqvb+3XAqcDDgGuT7AXQ3q/rKz5JkiRJkjR+vSQmktw5ya5T3cATgLXAacDhrbfDgU/2EZ8kSZIkSZqMvi7l2BM4NclUDP9WVZ9Jch5wcpIXAf8NPKun+CRJkiRJ0gT0kpioqiuB3xhSfj3w+MlHJEmSJEmS+jDfHhcqSZIkSZJ2ICYmJEmSJElSb0xMSJIkSZKk3piYkCRJkiRJvTExIUmSJEmSemNiQpIkSZIk9cbEhCRJkiRJ6o2JCUmSJEmS1BsTE5IkSZIkqTcmJiRJkiRJUm9MTEiSJEmSpN6YmJAkSZIkSb0xMSFJkiRJknqzc98BSJIkSZIWvv95y5V9h7CJX37VffoOQbNgiwlJkiRJktQbExOSJEmSJKk3JiYkSZIkSVJvJp6YSLJPki8kuSzJJUle0cqPTvK9JKvb68mTjk2SJEmSJE1WHze/vAX406q6IMmuwPlJTm/fvb2q3tJDTJIkSZIkqQcTT0xU1TXANa37xiSXAXtPOg5JkiRJktS/Xu8xkWQp8GDga63opUnWJDkuye69BSZJkiRJkiait8REkrsApwCvrKobgGOAfYFldC0q3jpiuBVJViVZtX79+onFK0mSJEmStr1eEhNJdqFLSpxYVR8HqKprq+rWqvoF8D7gYcOGrapjq2p5VS1fvHjx5IKWJEmSJEnbXB9P5QjwAeCyqnrbQPleA70dAqyddGySJEmSJGmy+ngqxyOB5wEXJ1ndyl4LHJZkGVDAVcCLe4hNkiRJkiRNUB9P5fgSkCFffXrSsUiSJEmSpH71+lQOSZIkSZK0YzMxIUmSJEmSetPHPSYkSZK2awd97JN9h7CR0555cN8hSJI0kokJSVJvnvTJI/sOYRP/efB7+w5BkiRph+KlHJIkSZIkqTcmJiRJkiRJUm9MTEiSJEmSpN54jwlJY3P8yif0HcImDj/ic32HIGkLPPVjJ/YdwiY+9czn9h2CJEnbFRMTkiRJkjTPXP6ea/sOYSO/+kd79h3C2Fz7f87tO4RN7PnKh/UdwkSZmJAkSRKHnHJm3yFs4tRn7N93CJI0b1337s/0HcJG7vHSA+c8rPeYkCRJkiRJvbHFhLRAfOq4J/Udwkae+sL/7DsESZIkSdsBW0xIkiRJkqTe2GJCc/atdx3cdwib2Pdln+w7BEk7gCef+qa+Q9jIpw95dd8hSJIkzZmJCUmSJC1Yzzplbd8hbOKjz3hg3yFI0oJiYmKeuPaY+fXv254v8d83SZIkLXxnf2h93yFs4jHPW9x3CNK84j0mJEmSJElSb+Zdi4kkBwLvAHYC3l9V86spgSRJkrSV3njq1X2HsJG/PuSefYcgaQc2rxITSXYC/hn4XWAdcF6S06rq0tmOY/0x/zqu8OZk8Ut+v+8QNM1Xjn1q3yFs5BErPtV3CNoO/MkpB/Ydwibe9ozP9B2CJEmSFoB5lZgAHgZcUVVXAiT5MHAwMOvEhCRtrbf/2xP7DmEjf/y/P9t3CJIkcfIp3+87hE08+xmL+g5B0jYw3xITewPfHfi8DvitnmKRJGm78ZRT/qXvEDbxH894cd8hSJKkeSBV1XcMt0nyLOCJVfUH7fPzgIdV1csG+lkBrGgf7wd8fUzhLALmX1p48xZi3AsxZjDuSVqIMYNxT9JCjBmMe5IWYsxg3JO0EGMG456khRgzGPckLcSYYbxx/0pVbfYxNPOtxcQ6YJ+Bz/cCNrozUFUdCxw77kCSrKqq5eOezra2EONeiDGDcU/SQowZjHuSFmLMYNyTtBBjBuOepIUYMxj3JC3EmMG4J2khxgzzI+759rjQ84D9ktw7ye2BQ4HTeo5JkiRJkiSNybxqMVFVtyR5KfBZuseFHldVl/QcliRJkiRJGpN5lZgAqKpPA5/uOw4mcLnImCzEuBdizGDck7QQYwbjnqSFGDMY9yQtxJjBuCdpIcYMxj1JCzFmMO5JWogxwzyIe17d/FKSJEmSJO1Y5ts9JiRJkiRJ0g5kwScmklyVZFHrfnmSy5Kc2Hdc802SH7f3eyb52ASmtzTJ2nFPZy6SrEzyzAlP88eb+X63JH+0FeM/OsmrZtlvb+tmXNNOcmaSsd9JOMlXxj2NbWmhxTtufez7o2yuTpjlOPZP8qltEc9CkOSgJK9u3U9Lcv85jmdkPZTk/TONd1Rdk2R5knfOIZY3JDlgS4fbniV57VYMO5FjwZDpbnQMn2/75raob+aDqXP+rT1nGof5cnzZkvPBSRjHukqyLMmTt+U423hvOzYkOSLJu7f1NOaj+fSbbcEnJqb5I+DJVfXcuQycZCL33Eiy0ySmM0xVXV1VvVec25ttsE53o9t+NY9V1SP6jmFL9BFvn/XbpEzqWDEfbe28b83wVXVaVb2pfXwaMKfExGam8QdVdekchltVVS+fw3Cvq6r/2tLhtnNzTkz0aKLH8PlWz6Yzyd8UnjONwZjW4zjW1TJgmycm1L8FlZhI8okk5ye5JMmKad+9F7gPcFqSP07ysCRfSXJhe7/fiHGemeTvk5wFvCLJryQ5I8ma9r6k9bcyyTFJvpDkyiS/k+S41kJj5cD4npDkq0kuSPLRJHdp5VcleV2SLwHPatm+c9p0Tk2y+1zmfzALnuSZU7Gke+TqV5Ocl+SNA/1MMiu2c5Lj2zx+LMmd2nL4+xbbqiQPSfLZJN9KcmSL8T1JDmrdpyY5rnW/KMnfbmkQSZ7fYrgoyYda8WPadnHlYIY7yZ+1ZbYmyd+0sn+c9k/I0Un+tP0j8oUk/wZc3L77kyRr2+uVI+LZZBrAm4B9k6xO8uZZztdfJvl6kv8C7tfKhm5XSR7a5v+rwFED47hTkpNb/x9J8rW0f5tGbcvbwE5J3te2488l+aUZ4j6zLf9zk3wjyaNb+S8l+fBU3MAvDczTMW3bumRg+W4T2dDyaK8kZ7f1tXYgrlH74+qB10/T1R8b/avRxrN0W8eb5C7p6rILklyc5OCB7/86yeVJTk9y0lQ8GfjXMd2/U1e17qVJvtjGdUGSR7TyTfaFOca7tMXz/rY8TkxyQJIvJ/lmunp9aN3ehplaxuuTvD6ddye5NMl/AL8CvKP1e22S65N8O8n/DIz/zunq9vPaNA5u4z+i7Qf/Dnyulf15W6YXJXlTK9s3yWfS1dVfTPKrrfzeGVInt++G1Tt3TvIfbdxrkzxnxGK7a9tnLk3y3rSTymy6/96/Ldsbk1yX5Afp6r8L2rx/uU3/+iS3JPnOHOZ91Haz0fBJPjRtOzwxyR/MYt0f0dbnI4CDgDe39b1vuhaTl7Z5+HAb70z72CbHp8F5SLJTuuP+2jaffzywzJ+VTeukGf8hT7dtX5ZN677b/mVN8qaBeXhLK3tWi+GiJGcPjGvUfnhmm5/L2zLMqJhmkg374kbLKN2x5Kx02/dnk+y1mXU/0zHmsLZs1yb5x6llAPxSW68jW7+Oim/g+xclefvA5z9M8rbMoo5p/e+R7pxrTbpj04Na+ahtatgx/C4zrYsZlvHj09U9F6eri+7Q+p9+Hjlsm79Lkg+2YdckecbA9P6ubUfnJNmzlS1Ockq6+ue8JI/cwm3ksiTvAS4AnpfR579/kw3HoKk6cVRdfkQG/qlO8qkk+0+b/BafM21mXjapb9uyPq99PnZq/bVt6bzW7ymD2x1wQLp98xtJnrq1cW0mvquyocX48iRnDgzyG0k+37bpP2z9DD0XGLIe98mIc5k52mhdtddUvfqcNo1hx4SDktxxYHu+MMljk9weeAPwnDbO54zaltq4Rp3DbxLHKEme0rbtRRleJ386G+qIC5O8rnW/Md2xbS7nYaPOJVYmeWeG/IaZFvOc5jtdHf2Agc9npqv3h9aJ21xVLZgXsEd7/yVgLXB34CpgUSsf7L4rsHPrPgA4ZcQ4zwTeM/D534HDW/cLgU+07pXAh4EABwM3AL9Ol9w5ny57twg4G7hzG+YvgNcNxPbnA9NZA/xO634D8H/mOP8/Hvj+mcDK1n0a8PzWfdRUf8BSYO0E1tVSoIBHts/HAa9qy+ElreztbTnsCiwGrmvlhwJvbt3nAue07g8CT9zCOB4AfH1gu9ijrcuPtnV3f+CK9t0T6O5Im/bdp4DHAA8GzhoY56XAEmB/4CfAvVv5Q+l+lN0ZuAtwCfDg9t2PNzONLVovA9O6E922fkVbvkO3q2nlb56aVhvmX1r3A4FbgOXMsC1vg+3iFmBZ+3wy8PszxH0m8NbW/WTgv1r3n9A9ThjgQVNxT9tPdmrDP2gbbtdT6/FPgb8cmM6ug99P3x8Hyn4P+CKwC3A08KqB79YCS7fxfvhjuqcv3bV9XtS2lbT1vJquPtkV+OZUPG25LR8Y5qrWfSfgjq17P2BV696fgX1hG2wfg3XrcWyodz/BZup2uuTD5e396cDpbR3dk67evrWN/+4D4/8Q8Ldt/H8P/H4b127AN+j26SOAdQPb15OArwB3mrbdnQHs17p/C/h86x5VJ4+qE54BvG9gvu42ZHntD/yMLim/U5vXZzJ8/31bW7bfA17e5v0rwPsHlu3fA39Ftz8umcO8j9pupg//O2w4tt4N+Daw7yzW/RHAu9twK4FnDiyLq4E7TK239n40Q/YxRhyfBueBro49fWDY3Qa+H1Yn7Q98ag5138q2zvagO1Zl2vQuBvaeVjbTfvgj4F5tGX4VeNRW7IvTl9GftfW+uJU9hw318Kh1P+oYc0/gv+mO/TsDnweeNr0e3cL4XjWw/u4MfAvYpX3/Fbpta2o9jNzOWv/vAl7fuh8HrJ7FNrV2oHyz62LEPPwV8F3gvq3sBOCVrfsqNj6PHLbN/yMD55PA7u29gN9r3f8E/FXr/repuOj2+cu2cBv5BfBwNn/++7LW/UfA+1v30Lqcgf28ff4UsP/AuBZNX95b+2JIfUurr9rnDw0sv7sPlP/twLytBD7T1vd+dHXeHccY31VsOLddDpw5sI1eRHdsX9S2p3sy+lzgtvU4MP4Zz2XmUJesHZiPqWPynnR1wF4MPybsTHeu9cFW/qut/zsO2UZGnhcw/Bz+8BFxDMZ6BPBu4BC687apfWlYnfxquuP6XYHzgM+28i/Q/XE4l/OwUecSKxnyG2bIcp/rfP8x8Detey/gG617aJ24rV8LqsUE8PIkFwHnAPvQ7fij3A34aLrWAW+n+4E6ykcGun+brqKGriJ61MB3/17dGrkYuLaqLq6qX9D9AF1KVznfH/hyktV0G8CvTJ9OkrvRbcxntfLj6U5EN2dL5v+RwEkD89GH71bVl1v3v7JhWZ7W3i8GvlZVN1bVeuBnSXajqwAene4630uBa9P9K/PbdCcXW+JxwMeq6vsAVfWDVv6JqvpFdU1292xlT2ivC+myxr9KVylcCNwj3f05fgP4YVX9dxvm3Kr6dut+FHBqVf2kqn4MfBx49LR4hk5jC+eJNt5Tq+qmqrqBbpnemSHb1ZDtbXB7eBRdwo2qWkv3gwQ2vy1vjW9X1erWfT7dD5KZ9oePD/S7tHU/hm6boqrWDMQN8OwkF9At4wcwhubedAeeFyQ5Gvj1qrpxcwMk2Y8uKfScqvr5GGIaOWng75OsAf4L2Jtum38U8Mmq+mmL/99nMa5dgPcluZjuwDi4bAf3ha3x7Wl16xkD9e5SZqjbk9yxxfXSqvoO3XZyUlXdWlVX09Uf11XVxXQ/HJbQncQ8Drh9G/8TgFe37f5MupOgJW0Spw/UIQfQnTDdBF3dku4fwke0+FYD/0J3YIfRdfKoOuFiun/f/jHJo6vqRyOW17lVdWVV3drG/yiG7797053s/Rw4pS3bz7R5nlq2T6b7YXRgwN8RAAAgAElEQVR7ujpl1vM+IrZBtw3f9vX/leQewGEtnlvZ/LqfyRrgxCS/T/fDc3NGHZ+mXAncJ8m7khxIl9SaMqxOmo3pdd/gsDfQJZnen+TpwE2t/MvAyvav51Tz/c3th+vaMly9hfFNN30ZPZEuuXB6267+iu6H90xGHWN+k+6H1PqqugU4kdmdB80U323rsKp+QpfseGr7p3GXtt/D7LazR9H206r6PHD3dizdErNZF9Pn4fEtvm+0sunHw8Hz1WHb/AHAP0/1UFU/bJ3/j+4HPmy87R0AvLutz9PoWmDtugXz+J2qOofNnzMM22e25Dx93IbVt49t/x5fTHeMmIrvge0f7IuB57Jx3Ce3c8tv0tUhvzrG+GYydWz/Pt2P44cx+lwANqzHcXsUG47J1wJnAb857JjQ6oXB/fBy4DvAfYeMd+S2NOwcnu7P5E3iGDLex9Il2Z4ysC8Nq5O/SLefPgr4D7rWUnei+7Pp62zhedhmziVg+G+YjWzFfJ8MPKt1P5vuGAPbpk7crAVznWy6ZlwHAL9dVTela7J0xxkGeSPwhao6JF0zuzPbeD5Il0W6uqqmrk/6yQzjqYHum9v7Lwa6pz7vTHdidXpVHTZiXDNNZ0YzzP9gfNOXR9Gv6dOf+jzjcqyq76Vryn8gXQZ+D7qd48ez+QE4TYbEMRjDVD9T7/9QVf8ypP+P0WWNf5l2ktUMrtPZNJkdOo3MrQn/bNfvqGUw9d2o8pm25a0xuOxvpftXejb938rGddYm85Tk3nT/mv1mVf0wXfPDmeqJOamqs5M8BngK8KEkb66qExixPya5M11l/4ftBzJ0J5K3G9b/NvZcun8lH1pVP0/XxPqOzLy9DsY2GNcfA9cCv9G+/9nAd3Ou36aZXicM1hc7M6Jub94LfLw2vmZ/+nby85bAeA/dCdvJdD+2dmNDPf6MdjJxmyS/xab7+/Rx3w74v1W1bMS8DdsPR9Y7SR5Klyz4hySfAz5Ld4IC8Dq6H7PD6tlN9t+2rD5F96P2Zrrl+TO6eZ5atkuA11TV2wdHOMt5h9HbDWy6fXyIbts8lK51Imx+3c/kKXQnhgcBf92aos60j406PnUfuvrjN+h+jB9FdwyaHuf0Omlzptd9t12CVlW3pLuM4PF0y+SlwOOq6si2/J8CrE6yDHgZo/fD6dPYmvO86cvoRuCSqvrtIf2OWvczHWO21ozrkK410GvpWlB9cKB8NtvZsPiKLau3Z7MutvQ8bXA/GrbNj9o3f96SL9NjuR3deeVPtzCO6fFs7pxh2D4zqi6f1LHxNlX1jSH17VF0rYC+2/6EmIpjJV3rnouSHEGX5L5tVNNHPcb4Zqpvh8Ux6lwANq2fZ/ptsTVm2u+HHRNmW0/MdF4Am57D7zvL8V5J1yLxvsAqgBF18nl0rR+upGuRsAj4Q7pEHGz5edjmziWG/YYZZovnu/0Gu75dqvEc4MUzTGeb/85cSC0m7kb3T/VNLfv98Fn0/73WfcRUYVW9oKqWDSQlpvsK3U4B3Yb0pS2I8RzgkUn+F9x2beUmmb2W6fxh2rWpwPPoslYzGTX/1yb5tXTXFR8y0P+Xp81HH5YkmTqBOYwtW5ZfBV5Jl5j4It2PzS/OIYYz6P5Bvzt0143O0O9ngRdmw3WRe7fsLXQ79KF0O/iop5qcDTytrfc7s6H512ymcSNdM67ZOhs4JN01yrvSXSLwE4ZsV1X1f4EfJZn6N2lwe/gS3Qk3rYXKr7fyWW3L28hc9oezafOR5IF0l3NA14zuJ3Tzuyddk/NtLsmv0P3z/j7gA8BD2lej9scP0v3DPLg9XDU1XJKHAPceR6x0dcd17WD4WDb8i/Ul4PfSXcN5F7qD7GBsD23dg9cv3g24pv0D+Dw2/FswSUPr9iRH0V1S86aBfs8GDk13v4CpVlew4UTr5tY9OI+fBV6W3HY98YNHxPE5un156t4Ee1TXeunbSZ7VytJ+3MLoOnlonZDknsBNVfWvwFuAh1TV19rxa1lVTbU8e1i6+1fcju4k4ksM2X/Z/Pa1J3AZ3bXAWzzvrfwqhm83w6ykq+Opqks20+8wt9WZbd73qaovAH9Ol2S6CzPvYzMen9Jdu327qjoF+Gs27ONj0db/3arq03TLZVkr37et99cB36drLTmp/XD6MjoHWDxVlmSXbLgW+SqGr/tRx5ivAb+T7prtndr4p+r9nyfZZQ7xbbQOq+prdMvrf7OhtdJsDR5j9ge+3/bvqxi+TW3pMXzK9Hn4L2Dp1L7LiOPhDNv85+iSWlP9be7+ZdP7H/VDaHPmcs4wtC6nW8bLktwuyT50//ZPN9flPdSw+rZ99f22bw5u07sC17RtdPr59bNa3PvS/aD9OtvAiPiuYsM+94xpgxzcju13p0ucnMfoc4FhRp3LzMXgujqb7t4QOyVZTJdYO7d9t5JNjwmD++F96ZLnX2fT9T9qW5oy/Rx+pjgGfYfuktATpuq6YXVyVf0/uktmnk23L0z/3bJF52GbOZfYEnOd7w/T1St3G2hpNqpO3KYWUmLiM3Q3q1pDlxnbXJOjf6LLKn6ZLTtov5yuifYaugPCK2Y7YHWXIxwBnNSGP4fRzbgOp7tx1xq6E5A3bGb0o+b/1XT/gn0euGag/1cARyWZqoz6cBlweIt5D+CYLRj2i3StJ66ga968B3NITLTK7e+As9JdBvO2Gfr9HN1lPF9N10TvY7SKr41nV+B7VXXNiOEvoKtYz6U76Xp/a0q12WlU1fV0TSDXZhY3cmrT+ghd89BT2LBsRm1XLwD+Od3NLwf/GXkP3YnmGrrmamuAH23htrwtbOn+cAxdU7k1dJXnuQBVdRFdk/hL6K7X/fLIMWyd/eky5RfSnRC8o5Vvsj+2JMYz6X7ITd2ccTndetsjXTO9l9Bdz7+tFV0T6eVJVtEdVC4HqKrz6JruXkTXzHYVXZIIuhOfl6R73OiigfG9h26fPofuH4Rt1UpiS4yq218F/PrAMj4SOJXums2L6baZrwG0ZN376K4p/3O6k7Ypb6RrVbAmXbPQjW5UOaWqPkO3/Fa1dTh1Q7znAi9q9c0lbRowok6eod75deDcNu6/pLuWeZiv0t1cbC3dpRqnjth/N/dPySK6HzaHAjcl+c4c5n3UdjNsHNfSHSM+OFN/M/gw8GdtH9wP+Ne2/C4E3t7W8Uz72OaOT3sDZ7ZhVwKvmWOcs7Ur8KkWz1l0rZOgqxcvbtvi2XT766T2w+nL6F10ddk/tu17NV1zY5i5zhh2jLmGbpl+oc3TBVX1yTbMsXT73+Ye/T6bc4yTgS8PNMOeraPp6s01dPvX4a186Da1pcfwGebh7XTH64+27fkXdC3BptuJ4dv83wK7tzguomuKPpOXT81nkkuBI7cg9tvM8ZxhVF3+Zbq67GK67eqCIdOb6/IeZVh9+74WwyfY+Bjx13THktNpx9MBX6fbf/8TOLKqfsa2MSy+v6G7mfMX6VqiDDqX7pKCc4A3tpaaQ88FRhj122KLDa4ruj8H1tDt85+nu2fK/7T+hh0T3kN3w/SL6c55j6iqm+nqjfu3Y/1z2MxvviHn8KeOimPIsF+nW14fbQmnYXUydOfh11Z3ieMX6S5zmzo3n8t52KhziVnbivn+GN25wMkDZUczvE7cpqZusiRpB5Tun6pdqupnrcI9g+6mW/+v59C0ldo/JRdU1ch/RZLcpap+nO6f77OBFS3pJY1V2+YupmsJsrnrpTVhaZf+VNUDt3I8YznGzDa+dE9KeXtVnbE10xuHbbWMpe3BjnpM8DxsYwvmHhOSxuJOwBfSNUkM3RNTTEoscOmafZ5J92/TTI5N17z6jsDxO/LBUJOT5AC6Fk1v25FOQHdQvRxj0t1I+1zgovmYlJC0wQ5+TPA8bIAtJiRJkiRJUm8W0j0mJEmSJEnSdsbEhCRJkiRJ6o2JCUmSJEmS1BsTE5Ikad5JckSSd/cdhyRJGj8TE5IkSZIkqTcmJiRJ0lgkWZrk8iTvT7I2yYlJDkjy5STfTPKw9vpKkgvb+/2GjOcpSb6aZFGSxUlOSXJeez2yj3mTJEnbjo8LlSRJY5FkKXAF8GDgEuA84CLgRcBBwAuA5wM3VdUt7Xn2L6mqZyQ5AlgOnAH8CXBQVf0wyb8B76mqLyVZAny2qn5tsnMmSZK2pZ37DkCSJG3Xvl1VFwMkuQQ4o6oqycXAUuBuwPFJ9gMK2GVg2MfSJSeeUFU3tLIDgPsnmernrkl2raobxz8rkiRpHExMSJKkcbp5oPsXA59/QXce8kbgC1V1SGthceZA/1cC9wHuC6xqZbcDfruqfjq+kCVJ0iR5jwlJktSnuwHfa91HTPvuO8DTgROSPKCVfQ546VQPSZaNO0BJkjReJiYkSVKf/gn4hyRfBnaa/mVVfR14LvDRJPsCLweWJ1mT5FLgyIlGK0mStjlvfilJkiRJknpjiwlJkiRJktQbExOSJEmSJKk3JiYkSZIkSVJvTExIkiRJkqTemJiQJEmSJEm9MTEhSZIkSZJ6Y2JCkiRJkiT1xsSEJEmSJEnqjYkJSZIkSZLUGxMTkiRJkiSpNyYmJEmSJElSb0xMSJIkSZKk3piYkCRJkiRJvTExIUmSJEmSerNz3wFsjUWLFtXSpUv7DkOSJEmSJE1z/vnnf7+qFm+uvwWdmFi6dCmrVq3qOwxJkiRJkjRNku/Mpj8v5ZAkSZIkSb0xMSFJkiRJknpjYkKSJEmSJPVmbImJJPsk+UKSy5JckuQVrXyPJKcn+WZ7372VJ8k7k1yRZE2Sh4wrNkmSJEmSND+Ms8XELcCfVtWvAQ8Hjkpyf+DVwBlVtR9wRvsM8CRgv/ZaARwzxtgkSZIkSdI8MLbERFVdU1UXtO4bgcuAvYGDgeNbb8cDT2vdBwMnVOccYLcke40rPkmSJEmS1L+J3GMiyVLgwcDXgD2r6hrokhfAPVpvewPfHRhsXSubPq4VSVYlWbV+/fpxhi1JkiRJksZs7ImJJHcBTgFeWVU3zNTrkLLapKDq2KpaXlXLFy9evK3ClCRJkiRJPRhrYiLJLnRJiROr6uOt+NqpSzTa+3WtfB2wz8Dg9wKuHmd8kiRJkiSpX+N8KkeADwCXVdXbBr46DTi8dR8OfHKg/Pnt6RwPB340dcmHJEmSJEnaPu08xnE/EngecHGS1a3stcCbgJOTvAj4b+BZ7btPA08GrgBuAl4wxtgkSZIkSdI8MLbERFV9ieH3jQB4/JD+CzhqXPFIkiRJkqT5ZyJP5ZAkSZIkSRrGxIQkSZIkSeqNiQlJkiRJktQbExOSJEmSJKk3JiYkSZIkSVJvTExIkiRJkqTemJiQJEmSJEm9MTEhSZIkSZJ6Y2JCkiRJkiT1xsSEJEmSJEnqjYkJSZIkSZLUGxMTkiRJkiSpNyYmJEmSJElSb0xMSJIkSZKk3uzcdwDqPPTPTug7BEnSAnX+m5/fdwiSJElzZosJSZIkSZLUGxMTkiRJkiSpN2NLTCQ5Lsl1SdYOlH0kyer2uirJ6la+NMlPB75777jikiRJkiRJ88c47zGxEng3cNvNE6rqOVPdSd4K/Gig/29V1bIxxiNJkiRJkuaZsSUmqursJEuHfZckwLOBx41r+pIkSZIkaf7r6x4TjwaurapvDpTdO8mFSc5K8uie4pIkSZIkSRPU1+NCDwNOGvh8DbCkqq5P8lDgE0keUFU3TB8wyQpgBcCSJUsmEqwkSZIkSRqPibeYSLIz8HTgI1NlVXVzVV3fus8HvgXcd9jwVXVsVS2vquWLFy+eRMiSJEmSJGlM+riU4wDg8qpaN1WQZHGSnVr3fYD9gCt7iE2SJEmSJE3QOB8XehLwVeB+SdYleVH76lA2vowD4DHAmiQXAR8DjqyqH4wrNkmSJEmSND+M86kch40oP2JI2SnAKeOKRZIkSZIkzU99PZVDkiRJkiTJxIQkSZIkSeqPiQlJkiRJktQbExOSJEmSJKk3JiYkSZIkSVJvTExIkiRJkqTemJiQJEmSJEm9MTEhSZIkSZJ6Y2JCkiRJkiT1xsSEJEmSJEnqjYkJSZIkSZLUGxMTkiRJkiSpNyYmJEmSJElSb0xMSJIkSZKk3piYkCRJkiRJvTExIUmSJEmSemNiQpIkSZIk9cbEhCRJkiRJ6s3YEhNJjktyXZK1A2VHJ/lektXt9eSB716T5IokX0/yxHHFJUmSJEmS5o9xtphYCRw4pPztVbWsvT4NkOT+wKHAA9ow70my0xhjkyRJkiRJ88DYEhNVdTbwg1n2fjDw4aq6uaq+DVwBPGxcsUmSJEmSpPmhj3tMvDTJmnapx+6tbG/guwP9rGtlm0iyIsmqJKvWr18/7lglSZIkSdIYTToxcQywL7AMuAZ4ayvPkH5r2Aiq6tiqWl5VyxcvXjyeKCVJkiRJ0kRMNDFRVddW1a1V9QvgfWy4XGMdsM9Ar/cCrp5kbJIkSZIkafImmphIstfAx0OAqSd2nAYcmuQOSe4N7AecO8nYJEmSJEnS5O08rhEnOQnYH1iUZB3wemD/JMvoLtO4CngxQFVdkuRk4FLgFuCoqrp1XLFJkiRJkqT5YWyJiao6bEjxB2bo/++AvxtXPJIkSZIkaf7p46kckiRJkiRJgIkJSZIkSZLUIxMTkiRJkiSpNyYmJEmSJElSb0xMSJIkSZKk3piYkCRJkiRJvTExIUmSJEmSemNiQpIkSZIk9cbEhCRJkiRJ6o2JCUmSJEmS1BsTE5IkSZIkqTcmJiRJkiRJUm9MTEiSJEmSpN6YmJAkSZIkSb0xMSFJkiRJknpjYkKSJEmSJPXGxIQkSZIkSerN2BITSY5Lcl2StQNlb05yeZI1SU5NslsrX5rkp0lWt9d7xxWXJEmSJEmaP8bZYmIlcOC0stOBB1bVg4BvAK8Z+O5bVbWsvY4cY1ySJEmSJGmeGFtioqrOBn4wrexzVXVL+3gOcK9xTV+SJEmSJM1/fd5j4oXAfw58vneSC5OcleTRfQUlSZIkSZImZ+c+JprkL4FbgBNb0TXAkqq6PslDgU8keUBV3TBk2BXACoAlS5ZMKmRJkiRJkjQGE28xkeRw4KnAc6uqAKrq5qq6vnWfD3wLuO+w4avq2KpaXlXLFy9ePKmwJUmSJEnSGEw0MZHkQOAvgIOq6qaB8sVJdmrd9wH2A66cZGySJEmSJGnyxnYpR5KTgP2BRUnWAa+newrHHYDTkwCc057A8RjgDUluAW4FjqyqHwwdsSRJkiRJ2m6MLTFRVYcNKf7AiH5PAU4ZVyySJEmSJGl+6vOpHJIkSZIkaQdnYkKSJEmSJPXGxIQkSZIkSeqNiQlJkiRJktQbExOSJEmSJKk3s0pMJDljNmWSJEmSJElbYsbHhSa5I3AnYFGS3YG0r+4K3HPMsUmSJEmSpO3cjIkJ4MXAK+mSEOezITFxA/DPY4xLkiRJkiTtAGZMTFTVO4B3JHlZVb1rQjFJkiRJkqQdxOZaTABQVe9K8ghg6eAwVXXCmOKSJEmSJEk7gFklJpJ8CNgXWA3c2ooLMDEhSZIkSZLmbFaJCWA5cP+qqnEGI0mSJEmSdiyzelwosBb45XEGIkmSJEmSdjyzbTGxCLg0ybnAzVOFVXXQWKKSJEmSJEk7hNkmJo4eZxCSJEmSJGnHNNuncpw17kAkSZIkSdKOZ7ZP5biR7ikcALcHdgF+UlV3HVdgkiRJkiRp+zerm19W1a5Vddf2uiPwDODdmxsuyXFJrkuydqBsjySnJ/lme9+9lSfJO5NckWRNkofMdaYkSZIkSdLCMNuncmykqj4BPG4Wva4EDpxW9mrgjKraDzijfQZ4ErBfe60AjplLbJIkSf+fvXuNtuws60T/f0iByCUmmA0dc7GAEWkjagX3iCiXEQ0o0C0BFEiGYrgMC1poZXhpIx6B1kM3R0C8YOMJTUhiYwgaAvF0VNIRyEHkUglFEQiRgAGKVCfF5QQUDp4Kz/mwZzUr5Q7ZqdRa70rV7zfGGnvOZ75zrmfzgZ38877zBQDuOja6lOMpM6d3S7KabyztuE3dfUVVbd6nfFqSU6bj85K8M8mvTfXzu7uTvLeqjqiqo7t710Z6BAAAAO56Nrorx0/MHO9Jcn3WgoT98YC9YUN376qq+0/1Y5J8ZmbczqkmmAAAAICD1EZ35XjWvBtJUut99b8YVLU1a0s9cvzxx8+7JwAAAGCONvSOiao6tqounl5keWNVXVRVx+7nd95YVUdPzz06yU1TfWeS42bGHZvkhn1v7u6zu3u1u1dXVlb2swUAAABgGWz05ZdvSHJJku/I2vKKv5hq++OSJGdOx2cmedtM/Wen3TkenuRm75cAAACAg9tGg4mV7n5Dd++ZPucmud3pClV1QZK/S/KQqtpZVc9J8vIkj62qjyd57HSeJJcm+WSS65K8LsnP37FfBQAAALir2ejLLz9XVT+T5ILp/Iwkn7+9m7r7jNu4dOo6YzvJ8zfYDwAAAHAQ2OiMiWcneVqS/5m1XTJ+KskiXogJAAAAHMQ2OmPit5Oc2d1fTJKqul+SV2YtsAAAAADYLxudMfF9e0OJJOnuLyQ5aT4tAQAAAIeKjQYTd6uqI/eeTDMmNjrbAgAAAGBdGw0XXpXkPVX150k6a++beNncugIAAAAOCRsKJrr7/KraluRHk1SSp3T3R+faGQAAAHDQ2/ByjCmIEEYAAAAAB8xG3zEBAAAAcMAJJgAAAIBhBBMAAADAMIIJAAAAYBjBBAAAADCMYAIAAAAYRjABAAAADCOYAAAAAIYRTAAAAADDCCYAAACAYQQTAAAAwDCbFv2FVfWQJBfOlB6U5MVJjkjyc0l2T/UXdfelC24PAAAAWKCFBxPdfW2SLUlSVYcl+WySi5M8K8mru/uVi+4JAAAAGGP0Uo5Tk3yiuz81uA8AAABggNHBxOlJLpg5f0FV7aiqc6rqyPVuqKqtVbWtqrbt3r17vSEAAADAXcSwYKKq7pHkiUn+bCq9NsmDs7bMY1eSV613X3ef3d2r3b26srKykF4BAACA+Rg5Y+LxSa7q7huTpLtv7O5buvvrSV6X5OSBvQEAAAALMDKYOCMzyziq6uiZa09OcvXCOwIAAAAWauG7ciRJVd0ryWOTPHem/DtVtSVJJ7l+n2sAAADAQWhIMNHdX0ny7fvUnjGiFwAAAGCc0btyAAAAAIcwwQQAAAAwjGACAAAAGEYwAQAAAAwjmAAAAACGEUwAAAAAwwgmAAAAgGEEEwAAAMAwggkAAABgGMEEAAAAMIxgAgAAABhGMAEAAAAMI5gAAAAAhhFMAAAAAMMIJgAAAIBhBBMAAADAMIIJAAAAYJhNo764qq5P8uUktyTZ092rVXW/JBcm2Zzk+iRP6+4vjuoRAAAAmK/RMyZ+pLu3dPfqdH5Wksu7+4Qkl0/nAAAAwEFqdDCxr9OSnDcdn5fkSQN7AQAAAOZsZDDRSd5eVVdW1dap9oDu3pUk08/7D+sOAAAAmLth75hI8ojuvqGq7p/ksqr62EZumkKMrUly/PHHz7M/AAAAYM6GzZjo7humnzcluTjJyUlurKqjk2T6edM6953d3avdvbqysrLIlgEAAIADbEgwUVX3rqr77j1O8mNJrk5ySZIzp2FnJnnbiP4AAACAxRi1lOMBSS6uqr09/Gl3/1VVfSDJm6vqOUk+neSpg/oDAAAAFmBIMNHdn0zy/evUP5/k1MV3BAAAAIywbNuFAgAAAIcQwQQAAAAwjGACAAAAGEYwAQAAAAwjmAAAAACGEUwAAAAAwwgmAAAAgGEEEwAAAMAwggkAAABgGMEEAAAAMIxgAgAAABhGMAEAAAAMI5gAAAAAhhFMAAAAAMMIJgAAAIBhBBMAAADAMIIJAAAAYBjBBAAAADDMwoOJqjquqt5RVddU1Ueq6hen+kur6rNVtX36PGHRvQEAAACLtWnAd+5J8svdfVVV3TfJlVV12XTt1d39ygE9AQAAAAMsPJjo7l1Jdk3HX66qa5Ics+g+AAAAgPGGvmOiqjYnOSnJ+6bSC6pqR1WdU1VH3sY9W6tqW1Vt271794I6BQAAAOZhWDBRVfdJclGSF3b3l5K8NsmDk2zJ2oyKV613X3ef3d2r3b26srKysH4BAACAA29IMFFVd89aKPHG7n5LknT3jd19S3d/Pcnrkpw8ojcAAABgcUbsylFJXp/kmu7+3Zn60TPDnpzk6kX3BgAAACzWiF05HpHkGUk+XFXbp9qLkpxRVVuSdJLrkzx3QG8AAADAAo3YlePdSWqdS5cuuhcAAABgrBEzJgAADmqf/q3vHd0CAHdhx7/4w6NbWKih24UCAAAAhzbBBAAAADCMYAIAAAAYRjABAAAADCOYAAAAAIYRTAAAAADDCCYAAACAYQQTAAAAwDCCCQAAAGAYwQQAAAAwjGACAAAAGEYwAQAAAAwjmAAAAACGEUwAAAAAwwgmAAAAgGEEEwAAAMAwSxdMVNXjquraqrquqs4a3Q8AAAAwP0sVTFTVYUn+KMnjk5yY5IyqOnFsVwAAAMC8LFUwkeTkJNd19ye7+5+TvCnJaYN7AgAAAOZk2YKJY5J8ZuZ851QDAAAADkKbRjewj1qn1rcaULU1ydbp9B+r6tq5dwWMdlSSz41uApZVvfLM0S0A3FH+tsM385L1/tX4Luk7NzJo2YKJnUmOmzk/NskNswO6++wkZy+yKWCsqtrW3auj+wAADgx/24FZy7aU4wNJTqiqB1bVPZKcnuSSwT0BAAAAc7JUMya6e09VvSDJXyc5LMk53f2RwW0BAAAAc7JUwUSSdPelSS4d3QewVCzfAoCDi7/twP9S3X37owAAAADmYNneMQEAAAAcQpZuKQcAAHDXU1UvTfKPSQ5PckV3/48D9NxTkvxKd//bA/E8YPkIJgAAgAOmu188ugfgrsVSDmApVNVvVtXHquqyqrqgqn6lqn6uqj5QVWPuC5QAACAASURBVB+qqouq6l7T2KdW1dVT/YrRvQPAoaqqfqOqrq2q/5HkIVPt3Kr6qen4B6rqXVV1ZVX9dVUdPdV/oao+WlU7qupNU+3eVXXO9Lf/g1V12rBfDFgoMyaA4apqNclPJjkpa/+/dFWSK5O8pbtfN43535M8J8kfJnlxkh/v7s9W1RFjugaAQ1tV/UCS0/Mv/37vvX73rP3dPq27d1fV05O8LMmzk5yV5IHd/bWZv+W/keRvuvvZU+39U+ABHOQEE8AyeGSSt3X3V5Okqv5iqj90CiSOSHKfJH891f82yblV9eYkb1l0swBAkuRRSS7u7q8kSVVdss/1hyR5aJLLqipJDkuya7q2I8kbq+qtSd461X4syROr6lem83smOX5+7QPLQjABLIO6jfq5SZ7U3R+qqmcmOSVJuvt5VfWDSf5Nku1VtaW7P7+IRgGAW+lvcq2SfKS7f2ida/8myaOTPDHJb1bV90zjf7K7r73VQ6oecKCaBZaTd0wAy+DdSX6iqu5ZVffJ2j+sJMl9k+yapoL+9N7BVfXg7n7f9HKtzyU5buEdAwBXJHlyVX1rVd03yU/sc/3aJCtV9UPJ2tKOqvqeqrpbkuO6+x1J/kNuPTPy39c0vaKqTlrULwKMZcYEMFx3f2Ca/vmhJJ9Ksi3JzUl+M8n7ptqHsxZUJMkrquqErP2Xlcun+wCABeruq6rqwiTbs/a3+v/e5/o/Ty/B/IOq+ras/bvH7yX5+yT/bapVkld39/9TVb89Xd8xhRPXJ7FFKBwCqvubzb4CWIyquk93/+O088YVSbZ291Wj+wIAAObLjAlgWZxdVSdm7UVX5wklAADg0GDGBAAAADCMl18CAAAAwwgmAAAAgGEEEwAAAMAwggkAAABgGMEEAHCHVdUvVNU1VfXG/bj3+qo66jauHVFVP3/nOwQA7ioEEwDA/vj5JE/o7p8+wM89Yno2AHCIEEwAAHdIVf1xkgcluaSqbq6qX5m5dnVVbZ6Of6aq3l9V26vq/6yqwzbw+JcnefB0zyuq6k+q6rSZ57+xqp5YVc+sqrdV1V9V1bVV9ZKZMfvzvQDAIIIJAOAO6e7nJbkhyY8kefV6Y6rqu5M8PckjuntLkluSbGR2xVlJPtHdW7r7V5P81yTPmp75bUl+OMml09iTp2duSfLUqlq9E98LAAyyaXQDAMBB6dQkP5DkA1WVJN+a5KY7+pDufldV/VFV3T/JU5Jc1N17pmde1t2fT5KqekuSRybZcyC+FwBYHMEEAHBn7MmtZ2Dec/pZSc7r7l8/AN/xJ1mb9XB6kmfP1HufcX2AvxcAWABLOQCAO+P6JA9Lkqp6WJIHTvXLk/zUNNMhVXW/qvrODTzvy0nuu0/t3CQvTJLu/shM/bHTc781yZOS/O2d+F4AYBDBBABwZ1yU5H5VtT3Jv0vy90nS3R9N8r8leXtV7UhyWZKjb+9h09KMv51eovmKqXZjkmuSvGGf4e/O2myK7Vlb4rFtf78XABinuvedBQkAsDyq6l5JPpzkYd1981R7ZpLV7n7ByN4AgDvPjAkAYGlV1WOSfCzJH+4NJQCAg4sZEwDAwlXVt2ftfRD7OnXvThsAwKFBMAEAAAAMYykHAAAAMIxgAgAAABhGMAEAAAAMI5gAAAAAhhFMAAAAAMMIJgAAAIBhBBMAAADAMIIJAAAAYBjBBAAAADCMYAIAAAAYZtPoBu6Mo446qjdv3jy6DQAAAGAfV1555ee6e+X2xt2lg4nNmzdn27Zto9sAAAAA9lFVn9rIOEs5AAAAgGEEEwAAAMAwcwsmquq4qnpHVV1TVR+pql+c6verqsuq6uPTzyOnelXVH1TVdVW1o6oeNq/eAAAAgOUwzxkTe5L8cnd/d5KHJ3l+VZ2Y5Kwkl3f3CUkun86T5PFJTpg+W5O8do69AQAAAEtgbsFEd+/q7qum4y8nuSbJMUlOS3LeNOy8JE+ajk9Lcn6veW+SI6rq6Hn1BwAAAIy3kHdMVNXmJCcleV+SB3T3rmQtvEhy/2nYMUk+M3PbzqkGAAAAHKTmHkxU1X2SXJTkhd39pW82dJ1ar/O8rVW1raq27d69+0C1CQAAAAww12Ciqu6etVDijd39lql8494lGtPPm6b6ziTHzdx+bJIb9n1md5/d3avdvbqysjK/5gEAAIC5m+euHJXk9Umu6e7fnbl0SZIzp+Mzk7xtpv6z0+4cD09y894lHwAAAMDBadMcn/2IJM9I8uGq2j7VXpTk5UneXFXPSfLpJE+drl2a5AlJrkvylSTPmmNvAAAAwBKYWzDR3e/O+u+NSJJT1xnfSZ4/r34AAACA5bOQXTkAAAAA1iOYAAAAAIYRTAAAAADDCCYAAACAYQQTAAAAwDCCCQAAAGAYwQQAAAAwjGACAAAAGEYwAQAAAAwjmAAAAACGEUwAAAAAwwgmAAAAgGEEEwAAAMAwggkAAABgGMEEAAAAMIxgAgAAABhGMAEAAAAMI5gAAAAAhplbMFFV51TVTVV19UztwqraPn2ur6rtU31zVX115tofz6svAAAAYHlsmuOzz03ymiTn7y1099P3HlfVq5LcPDP+E929ZY79AAAAAEtmbsFEd19RVZvXu1ZVleRpSX50Xt8PAAAALL9R75h4VJIbu/vjM7UHVtUHq+pdVfWo27qxqrZW1baq2rZ79+75dwoAAADMzahg4owkF8yc70pyfHeflOSXkvxpVR2+3o3dfXZ3r3b36srKygJaBQAAAOZl4cFEVW1K8pQkF+6tdffXuvvz0/GVST6R5LsW3RsAAACwWCNmTDwmyce6e+feQlWtVNVh0/GDkpyQ5JMDegMAAAAWaJ7bhV6Q5O+SPKSqdlbVc6ZLp+fWyziS5NFJdlTVh5L8eZLndfcX5tUbAAAAsBzmuSvHGbdRf+Y6tYuSXDSvXgAAAIDlNOrllwAAAACCCQAAAGAcwQQAAAAwjGACAAAAGEYwAQAAAAwzt105uGN+4FfPH90CAHdRV77iZ0e3AACw38yYAAAAAIYRTAAAAADDCCYAAACAYQQTAAAAwDCCCQAAAGAYwQQAAAAwjGACAAAAGEYwAQAAAAwjmAAAAACGEUwAAAAAwwgmAAAAgGHmFkxU1TlVdVNVXT1Te2lVfbaqtk+fJ8xc+/Wquq6qrq2qH59XXwAAAMDymOeMiXOTPG6d+qu7e8v0uTRJqurEJKcn+Z7pnv9SVYfNsTcAAABgCcwtmOjuK5J8YYPDT0vypu7+Wnf/Q5Lrkpw8r94AAACA5TDiHRMvqKod01KPI6faMUk+MzNm51QDAAAADmKLDiZem+TBSbYk2ZXkVVO91hnb6z2gqrZW1baq2rZ79+75dAkAAAAsxEKDie6+sbtv6e6vJ3ldvrFcY2eS42aGHpvkhtt4xtndvdrdqysrK/NtGAAAAJirhQYTVXX0zOmTk+zdseOSJKdX1bdU1QOTnJDk/YvsDQAAAFi8TfN6cFVdkOSUJEdV1c4kL0lySlVtydoyjeuTPDdJuvsjVfXmJB9NsifJ87v7lnn1BgAAACyHuQUT3X3GOuXXf5PxL0vysnn1AwAAACyfEbtyAAAAACQRTAAAAAADCSYAAACAYQQTAAAAwDCCCQAAAGAYwQQAAAAwjGACAAAAGEYwAQAAAAwjmAAAAACGEUwAAAAAwwgmAAAAgGEEEwAAAMAwggkAAABgGMEEAAAAMIxgAgAAABhGMAEAAAAMI5gAAAAAhhFMAAAAAMPMLZioqnOq6qaqunqm9oqq+lhV7aiqi6vqiKm+uaq+WlXbp88fz6svAAAAYHnMc8bEuUket0/tsiQP7e7vS/L3SX595tonunvL9HneHPsCAAAAlsTcgonuviLJF/apvb2790yn701y7Ly+HwAAAFh+I98x8ewkfzlz/sCq+mBVvauqHnVbN1XV1qraVlXbdu/ePf8uAQAAgLkZEkxU1W8k2ZPkjVNpV5Lju/ukJL+U5E+r6vD17u3us7t7tbtXV1ZWFtMwAAAAMBcLDyaq6swk/zbJT3d3J0l3f627Pz8dX5nkE0m+a9G9AQAAAIu10GCiqh6X5NeSPLG7vzJTX6mqw6bjByU5IcknF9kbAAAAsHib5vXgqrogySlJjqqqnUlekrVdOL4lyWVVlSTvnXbgeHSS36qqPUluSfK87v7Cug8GAAAADhpzCya6+4x1yq+/jbEXJbloXr0AAAAAy2nkrhwAAADAIU4wAQAAAAwjmAAAAACGEUwAAAAAwwgmAAAAgGE2FExU1eUbqQEAAADcEd90u9CqumeSeyU5qqqOTFLTpcOTfMecewMAAAAOct80mEjy3CQvzFoIcWW+EUx8KckfzbEvAAAA4BDwTYOJ7v79JL9fVf++u/9wQT0BAAAAh4jbmzGRJOnuP6yqH06yefae7j5/Tn0BAAAAh4ANBRNV9SdJHpxke5JbpnInEUwAAAAA+21DwUSS1SQndnfPsxkAAADg0LKh7UKTXJ3kX82zEQAAAODQs9EZE0cl+WhVvT/J1/YWu/uJc+kKAAAAOCRsNJh46TybAAAAAA5NG92V413zbgQAAAA49Gx0V44vZ20XjiS5R5K7J/mn7j58Xo0BAAAAB78Nvfyyu+/b3YdPn3sm+ckkr7m9+6rqnKq6qaqunqndr6ouq6qPTz+PnOpVVX9QVddV1Y6qetj+/lIAAADAXcNGd+W4le5+a5If3cDQc5M8bp/aWUku7+4Tklw+nSfJ45OcMH22Jnnt/vQGAAAA3HVsdCnHU2ZO75ZkNd9Y2nGbuvuKqtq8T/m0JKdMx+cleWeSX5vq53d3J3lvVR1RVUd3966N9AgAAADc9Wx0V46fmDnek+T6rAUJ++MBe8OG7t5VVfef6sck+czMuJ1TTTABAAAAB6mN7srxrHk3kqTW++p/Mahqa9aWeuT444+fd08AAADAHG3oHRNVdWxVXTy9yPLGqrqoqo7dz++8saqOnp57dJKbpvrOJMfNjDs2yQ373tzdZ3f3anevrqys7GcLAAAAwDLY6Msv35DkkiTfkbXlFX8x1fbHJUnOnI7PTPK2mfrPTrtzPDzJzd4vAQAAAAe3jQYTK939hu7eM33OTXK70xWq6oIkf5fkIVW1s6qek+TlSR5bVR9P8tjpPEkuTfLJJNcleV2Sn79jvwoAAABwV7PRl19+rqp+JskF0/kZST5/ezd19xm3cenUdcZ2kudvsB8AAADgILDRGRPPTvK0JP8za7tk/FSSRbwQEwAAADiIbXTGxG8nObO7v5gkVXW/JK/MWmABAAAAsF82OmPi+/aGEknS3V9IctJ8WgIAAAAOFRsNJu5WVUfuPZlmTGx0tgUAAADAujYaLrwqyXuq6s+TdNbeN/GyuXUFAAAAHBI2FEx09/lVtS3JjyapJE/p7o/OtTMAAADgoLfh5RhTECGMAAAAAA6Yjb5jAgAAAOCAE0wAAAAAwwgmAAAAgGEEEwAAAMAwggkAAABgGMEEAAAAMIxgAgAAABhGMAEAAAAMI5gAAAAAhhFMAAAAAMMIJgAAAIBhNi36C6vqIUkunCk9KMmLkxyR5OeS7J7qL+ruSxfcHgAAALBACw8muvvaJFuSpKoOS/LZJBcneVaSV3f3KxfdEwAAADDG6KUcpyb5RHd/anAfAAAAwACjg4nTk1wwc/6CqtpRVedU1ZHr3VBVW6tqW1Vt271793pDAAAAgLuIYcFEVd0jyROT/NlUem2SB2dtmceuJK9a777uPru7V7t7dWVlZSG9AgAAAPMxcsbE45Nc1d03Jkl339jdt3T315O8LsnJA3sDAAAAFmBkMHFGZpZxVNXRM9eenOTqhXcEAAAALNTCd+VIkqq6V5LHJnnuTPl3qmpLkk5y/T7XAAAAgIPQkGCiu7+S5Nv3qT1jRC8AAADAOKN35QAAAAAOYYIJAAAAYBjBBAAAADCMYAIAAAAYRjABAAAADCOYAAAAAIYRTAAAAADDCCYAAACAYQQTAAAAwDCCCQAAAGAYwQQAAAAwjGACAAAAGEYwAQAAAAwjmAAAAACGEUwAAAAAwwgmAAAAgGEEEwAAAMAwm0Z9cVVdn+TLSW5Jsqe7V6vqfkkuTLI5yfVJntbdXxzVIwAAADBfo2dM/Eh3b+nu1en8rCSXd/cJSS6fzgEAAICD1OhgYl+nJTlvOj4vyZMG9gIAAADM2chgopO8vaqurKqtU+0B3b0rSaaf9x/WHQAAADB3w94xkeQR3X1DVd0/yWVV9bGN3DSFGFuT5Pjjj59nfwAAAMCcDZsx0d03TD9vSnJxkpOT3FhVRyfJ9POmde47u7tXu3t1ZWVlkS0DAAAAB9iQYKKq7l1V9917nOTHklyd5JIkZ07DzkzythH9AQAAAIsxainHA5JcXFV7e/jT7v6rqvpAkjdX1XOSfDrJUwf1BwAAACzAkGCiuz+Z5PvXqX8+yamL7wgAAAAYYdm2CwUAAAAOIYIJAAAAYBjBBAAAADCMYAIAAAAYRjABAAAADCOYAAAAAIYRTAAAAADDCCYAAACAYQQTAAAAwDCbRjcAAHCw+fRvfe/oFgC4Czv+xR8e3cJCmTEBAAAADCOYAAAAAIYRTAAAAADDCCYAAACAYQQTAAAAwDCCCQAAAGAYwQQAAAAwzMKDiao6rqreUVXXVNVHquoXp/pLq+qzVbV9+jxh0b0BAAAAi7VpwHfuSfLL3X1VVd03yZVVddl07dXd/coBPQEAAAADLDyY6O5dSXZNx1+uqmuSHLPoPgAAAIDxhr5joqo2Jzkpyfum0guqakdVnVNVRw5rDAAAAFiIYcFEVd0nyUVJXtjdX0ry2iQPTrIlazMqXnUb922tqm1VtW337t0L6xcAAAA48IYEE1V196yFEm/s7rckSXff2N23dPfXk7wuycnr3dvdZ3f3anevrqysLK5pAAAA4IAbsStHJXl9kmu6+3dn6kfPDHtykqsX3RsAAACwWCN25XhEkmck+XBVbZ9qL0pyRlVtSdJJrk/y3AG9AQAAAAs0YleOdyepdS5duuheAAAAgLGG7soBAAAAHNoEEwAAAMAwggkAAABgGMEEAAAAMIxgAgAAABhGMAEAAAAMI5gAAAAAhhFMAAAAAMMIJgAAAIBhBBMAAADAMIIJAAAAYBjBBAAAADCMYAIAAAAYRjABAAAADCOYAAAAAIYRTAAAAADDCCYAAACAYQQTAAAAwDBLF0xU1eOq6tqquq6qzhrdDwAAADA/SxVMVNVhSf4oyeOTnJjkjKo6cWxXAAAAwLwsVTCR5OQk13X3J7v7n5O8Kclpg3sCAAAA5mTT6Ab2cUySz8yc70zyg7MDqmprkq3T6T9W1bUL6g0Y56gknxvdBCyreuWZo1sAuKP8bYdv5iU1uoMD5Ts3MmjZgon1/tfvW510n53k7MW0AyyDqtrW3auj+wAADgx/24FZy7aUY2eS42bOj01yw6BeAAAAgDlbtmDiA0lOqKoHVtU9kpye5JLBPQEAAABzslRLObp7T1W9IMlfJzksyTnd/ZHBbQHjWb4FAAcXf9uB/6W6+/ZHAQAAAMzBsi3lAAAAAA4hggkAAABgGMEEsLSq6oVVda/buPbMqnrNonsCAG6tqo6oqp/fj/veWVW2DAUEE8BSe2GSdYMJAGBpHJHkDgUTVXXYnHoB7oIEE8BSqKp7V9V/r6oPVdXVVfWSJN+R5B1V9Y5pzLOq6u+r6l1JHjG0YQBgr5cneXBVba+qD1TV/7X3QlW9pqqeOR1fX1Uvrqp3J3nqNORnquo909/+k6dx96uqt1bVjqp6b1V936J/IWCxBBPAsnhckhu6+/u7+6FJfi/JDUl+pLt/pKqOTvIfsxZIPDbJieNaBQBmnJXkE929Jcmv3s7Y/7e7H9ndb5rO793dP5y1GRfnTLX/mOSD3f19SV6U5Px5NA0sD8EEsCw+nOQxVfV/VNWjuvvmfa7/YJJ3dvfu7v7nJBcuvkUA4E7a9+/3BUnS3VckObyqjkjyyCR/MtX/Jsm3V9W3LbRLYKE2jW4AIEm6+++r6geSPCHJf66qt683bMFtAQB3zJ7c+j9+3nOf6/+0z/m+f9s7Sa3zXP8MAAcxMyaApVBV35HkK93935K8MsnDknw5yX2nIe9LckpVfXtV3T3fWJsKAIw1+/f6U0lOrKpvmWY5nHo79z49SarqkUlunmZMXpHkp6f6KUk+191fmkfjwHIwYwJYFt+b5BVV9fUk/1+Sf5fkh5L8ZVXtmt4z8dIkf5dkV5KrknijNwAM1t2fr6q/raqrk/xlkjcn2ZHk40k+eDu3f7Gq3pPk8CTPnmovTfKGqtqR5CtJzpxL48DSqG6zogAAAIAxLOUAAAAAhhFMAAAAAMMIJgAAAIBhBBMAAADAMIIJAAAAYBjBBACwMFX1xKo66w7es6WqnnBnngEALC/bhQIAw1XVpu7ecxvXnplktbtfsNiuAIBFEEwAABtWVW9NclySeyb5/SSvnz6rSTrJOd396qp6Z5LtSU5OcniSZ3f3+2dDhqo6N8kXkpyU5KokFyb5vSTfmuSrSZ6V5B+SXDfVPpvkP0/He5/xnUnOSbKSZHeSZ3X3p6dnf2nq618l+Q/d/efz+18GANhfm0Y3AADcpTy7u79QVd+a5ANJrkxyTHc/NEmq6oiZsffu7h+uqkdnLTx46DrP+64kj+nuW6rq8CSP7u49VfWYJP+pu3+yql6cmRkTU7ix12uSnN/d51XVs5P8QZInTdeOTvLIJP86ySVJBBMAsIQEEwDAHfELVfXk6fi4JPdI8qCq+sMk/z3J22fGXpAk3X1FVR2+T2ix15919y3T8bclOa+qTsja7Iu7b6CfH0rylOn4T5L8zsy1t3b315N8tKoesIFnAQADePklALAhVXVKksck+aHu/v4kH0zyLUm+P8k7kzw/yX+duWXf9aLrrR/9p5nj307yjmn2xU9kbbnIHTX7HV+bbX8/ngUALIBgAgDYqG9L8sXu/kpV/eskD09yVJK7dfdFSX4zycNmxj89SarqkUlu7u6bN/D8z07Hz5ypfznJfW/jnvckOX06/ukk797YrwIALAtLOQCAjfqrJM+rqh1Jrk3y3iTHJHlnVe39jx2/PjP+i1X1nkwvv9zA838na0s5finJ38zU35HkrKranrWXX876hSTnVNWvZnr55R38nQCAwezKAQAccNOuHL/S3dtG9wIALDdLOQAAAIBhzJgAAAAAhjFjAgAAABhGMAEAAAAMI5gAAAAAhhFMAAAAAMMIJgAAAIBhBBMAAADAMIIJAAAAYBjBBAAAADCMYAIAAAAYRjABAAAADCOYAAAAAIbZNLqBO+Ooo47qzZs3j24DAAAA2MeVV175ue5eub1xd+lgYvPmzdm2bdvoNgAAAIB9VNWnNjLOUg4AAABgGMEEAAAAMIxgAgAAABhmbsFEVR1XVe+oqmuq6iNV9YtT/X5VdVlVfXz6eeRUr6r6g6q6rqp2VNXD5tUbAAAAsBzmOWNiT5Jf7u7vTvLwJM+vqhOTnJXk8u4+Icnl03mSPD7JCdNna5LXzrE3AAAAYAnMLZjo7l3dfdV0/OUk1yQ5JslpSc6bhp2X5EnT8WlJzu81701yRFUdPa/+AAAAgPEW8o6Jqtqc5KQk70vygO7elayFF0nuPw07JslnZm7bOdUAAACAg9Tcg4mquk+Si5K8sLu/9M2GrlPrdZ63taq2VdW23bt3H6g2AQAAgAHmGkxU1d2zFkq8sbvfMpVv3LtEY/p501TfmeS4mduPTXLDvs/s7rO7e7W7V1dWVubXPAAAADB389yVo5K8Psk13f27M5cuSXLmdHxmkrfN1H922p3j4Ulu3rvkAwAAADg4bZrjsx+R5BlJPlxV26fai5K8PMmbq+o5ST6d5KnTtUuTPCHJdUm+kuRZc+wNAAAAWAJzCya6+91Z/70RSXLqOuM7yfPn1Q8AAACwfBayKwcAAADAegQTAAAAwDCCCQAAAGAYwQQAAAAwjGACAAAAGEYwAQAAAAwjmAAAAACGEUwAAAAAwwgmAAAAgGEEEwAAAMAwggkAAABgGMEEAAAAMIxgAgAAABhGMAEAAAAMI5gAAAAAhhFMAAAAAMMIJgAAAIBhBBMAAADAMHMLJqrqnKq6qaqunqldWFXbp8/1VbV9qm+uqq/OXPvjefUFAAAALI9Nc3z2uUlek+T8vYXufvre46p6VZKbZ8Z/oru3zLEfAAAAYMnMLZjo7iuqavN616qqkjwtyY/O6/sBAACA5TfqHROPSnJjd398pvbAqvpgVb2rqh51WzdW1daq2lZV23bv3j3/TgEAAIC5GRVMnJHkgpnzXUmO7+6TkvxSkj+tqsPXu7G7z+7u1e5eXVlZWUCrAAAAwLwsPJioqk1JnpLkwr217v5ad39+Or4yySeSfNeiewMAAAAWa8SMicck+Vh379xbqKqVqjpsOn5QkhOSfHJAbwAAAMACzXO70AuS/F2Sh1TVzqp6znTp9Nx6GUeSPDrJjqr6UJI/T/K87v7CvHoDAAAAlsM8d+U44zbqz1yndlGSi+bVCwAAALCcRr38EgAAAEAwAQAAAIwjmAAAAACGEUwAAAAAwwgmAAAAgGEEEwAAAMAwggkAAABgGMEEAAAAMIxgAgAAABhGMAEAAAAMI5gAAAAAhhFMAAAAAMMIJgAAAIBhBBMAAADAMIIJAAAAYBjBBAAAADCMYAIAAAAYZm7BRFWdU1U3VdXVM7WXVtVnq2r79HnCzLVfr6rrquraqvrxefUFAAAALI95zpg4N8nj1qm/uru3TJ9Lk6SqTkxyepLvme75L1V12Bx7AwAAAJbA3IKJ7r4iyRc2OPy0JG/q7q919z8kuS7JyfPqDQAAAFgOI94x8YKq2jEt9Thyqh2T5DMzY3ZONQAAAOAgtuhg4rVJHpxkS5JdSV411Wudsb3eA6pqa1VtKHbEuwAAIABJREFUq6ptu3fvnk+XAAAAwEIsNJjo7hu7+5bu/nqS1+UbyzV2JjluZuixSW64jWec3d2r3b26srIy34YBAACAuVpoMFFVR8+cPjnJ3h07LklyelV9S1U9MMkJSd6/yN4AAACAxds0rwdX1QVJTklyVFXtTPKSJKdU1ZasLdO4Pslzk6S7P1JVb07y0SR7kjy/u2+ZV28AAADAcqjudV/lcJewurra27ZtG90GAAAAsI+qurK7V29v3IhdOQAAAACSCCYAAACAgQQTAAAAwDCCCQAAAGAYwQQAAAAwjGACAAAAGEYwAQAAAAwjmAAAAACGEUwAAAAAwwgmAAAAgGEEEwAAAMAwggkAAABgGMEEAAAAMIxgAgAAABhGMAEAAAAMI5gAAAAAhhFMAAAAAMPMLZioqnOq6qaqunqm9oqq+lhV7aiqi6vqiKm+uaq+WlXbp88fz6svAAAA+P/Zu/ewy+q6bvzvTwyeQgNlJASmUSLNI8ZEGkKkaWApaipyeSD1abQ8/n5paT4/Jfv5ZI+n0kyFRMADoiJKaiqRAiqKg+IAoomIihAgmnjuAT7PH3uNbsZ7hnvG2XvdM/N6Xde+9lrfdfrc93WvfXjf3+9aLB2z7DFxXJJD1ms7Lcndu/ueSf4jyfOnln25u/cdHk+dYV0AAADAEjGzYKK7z0zyrfXaPtzd1w2zn0yy56yODwAAACx9Y15j4klJ/nVq/o5V9dmqOqOqDhyrKAAAAGB+lo1x0Kp6QZLrkrx1aLoiyYruvqaq9kvynqq6W3dfu8C2q5OsTpIVK1bMq2QAAABgBubeY6Kqjkzyh0ke292dJN394+6+Zpg+N8mXk/zaQtt399Hdvaq7Vy1fvnxeZQMAAAAzMNdgoqoOSfKXSR7a3T+Yal9eVTsM03dKsk+SS+ZZGwAAADB/MxvKUVUnJjk4ya5VdVmSF2VyF46bJzmtqpLkk8MdOA5K8uKqui7J9Ume2t3fWnDHAAAAwDZjZsFEdx+xQPMbN7DuyUlOnlUtAAAAwNI05l05AAAAgO2cYAIAAAAYjWACAAAAGI1gAgAAABiNYAIAAAAYjWACAAAAGM2igomqOn0xbQAAAACbYtnGFlbVLZLcKsmuVbVLkhoW3SbJHWZcGwAAALCN22gwkeQpSZ6dSQhxbn4aTFyb5LUzrAsAAADYDmw0mOjuf0jyD1X1jO5+zZxqAgAAALYTN9VjIknS3a+pqt9OsnJ6m+4+YUZ1AQAAANuBRQUTVfXmJHsnOS/J9UNzJxFMAAAAAJttUcFEklVJ7trdPctiAAAAgO3Lom4XmuSCJL88y0IAAACA7c9ie0zsmuTzVXVOkh+va+zuh86kKgAAAGC7sNhg4qhZFgEAAABsnxZ7V44zZl0IAAAAsP1Z7F05vpvJXTiS5GZJdkzy/e6+zawKAwAAALZ9i7r4ZXffurtvMzxukeSPkvzjTW1XVcdW1VVVdcFU222r6rSq+tLwvMvQXlX16qq6uKrWVtVvbO4PBQAAAGwdFntXjhvp7vckuf8iVj0uySHrtT0vyendvU+S04f5JDk0yT7DY3WS121ObQAAAMDWY7FDOR4xNfsLSVblp0M7Nqi7z6yqles1H5bk4GH6+CQfTfKXQ/sJ3d1JPllVO1fV7t19xWJqBAAAALY+i70rx0Ompq9LcmkmQcLm2G1d2NDdV1TV7Yf2PZJ8fWq9y4a2GwUTVbU6kx4VWbFixWaWAAAAACwFi70rxxNnXUiSWujQC9RydJKjk2TVqlU32WsDAAAAWLoWdY2Jqtqzqk4ZLmR5ZVWdXFV7buYxr6yq3Yf97p7kqqH9siR7Ta23Z5LLN/MYAAAAwFZgsRe/fFOSU5PcIZPhFf8ytG2OU5McOUwfmeS9U+1PGO7OcZ8k33F9CQAAANi2LTaYWN7db+ru64bHcUmW39RGVXVikrOT3LmqLquqJyd5aZIHVtWXkjxwmE+SDyS5JMnFSY5J8meb9qMAAAAAW5vFXvzym1X1uCQnDvNHJLnmpjbq7iM2sOgBC6zbSZ62yHoAAACAbcBie0w8Kcmjk/xnJnfJeGSSeVwQEwAAANiGLbbHxN8kObK7v50kVXXbJC/PJLAAAJIc8JoDxi6B7dzHn/HxsUsAgE222B4T91wXSiRJd38ryb1nUxIAAACwvVhsMPELVbXLupmhx8Rie1sAAAAALGix4cIrknyiqt6VpDO53sRLZlYVAAAAsF1YVDDR3SdU1Zok909SSR7R3Z+faWUAAADANm/RwzGGIEIYAQAAAGwxi73GBAAAAMAWJ5gAAAAARiOYAAAAAEYjmAAAAABGI5gAAAAARiOYAAAAAEYjmAAAAABGI5gAAAAARiOYAAAAAEYjmAAAAABGs2zeB6yqOyc5aarpTklemGTnJH+S5Oqh/a+6+wNzLg8AAACYo7kHE939xST7JklV7ZDkG0lOSfLEJK/q7pfPuyYAAABgHGMP5XhAki9391dHrgMAAAAYwdjBxGOSnDg1//SqWltVx1bVLmMVBQAAAMzHaMFEVd0syUOTvHNoel2SvTMZ5nFFkldsYLvVVbWmqtZcffXVC60CAAAAbCXG7DFxaJLPdPeVSdLdV3b39d19Q5Jjkuy/0EbdfXR3r+ruVcuXL59juQAAAMCWNmYwcUSmhnFU1e5Tyx6e5IK5VwQAAADM1dzvypEkVXWrJA9M8pSp5v9dVfsm6SSXrrcMAAAA2AaNEkx09w+S3G69tsePUQsAAAAwnrHvygEAAABsxwQTAAAAwGhGGcoBbJ2+9uJ7jF0C27kVLzx/7BIAANjC9JgAAAAARiOYAAAAAEYjmAAAAABGI5gAAAAARiOYAAAAAEYjmAAAAABGI5gAAAAARiOYAAAAAEYjmAAAAABGI5gAAAAARiOYAAAAAEYjmAAAAABGI5gAAAAARiOYAAAAAEYjmAAAAABGs2ysA1fVpUm+m+T6JNd196qqum2Sk5KsTHJpkkd397fHqhEAAACYrbF7TPxud+/b3auG+eclOb2790ly+jAPAAAAbKPGDibWd1iS44fp45M8bMRaAAAAgBkbM5joJB+uqnOravXQtlt3X5Ekw/Pt19+oqlZX1ZqqWnP11VfPsVwAAABgSxvtGhNJDujuy6vq9klOq6ovLGaj7j46ydFJsmrVqp5lgQAAAMBsjdZjorsvH56vSnJKkv2TXFlVuyfJ8HzVWPUBAAAAszdKMFFVv1hVt143neRBSS5IcmqSI4fVjkzy3jHqAwAAAOZjrKEcuyU5parW1fC27v5gVX06yTuq6slJvpbkUSPVBwAAAMzBKMFEd1+S5F4LtF+T5AHzrwgAAAAYw1K7XSgAAACwHRFMAAAAAKMRTAAAAACjEUwAAAAAoxFMAAAAAKMRTAAAAACjEUwAAAAAoxFMAAAAAKMRTAAAAACjEUwAAAAAoxFMAAAAAKMRTAAAAACjEUwAAAAAoxFMAAAAAKMRTAAAAACjEUwAAAAAoxFMAAAAAKOZezBRVXtV1Ueq6qKqurCqnjW0H1VV36iq84bHg+ddGwAAADBfy0Y45nVJ/ry7P1NVt05yblWdNix7VXe/fISaAAAAgBHMPZjo7iuSXDFMf7eqLkqyx7zrAAAAAMY36jUmqmplknsn+dTQ9PSqWltVx1bVLqMVBgAAAMzFGEM5kiRVtVOSk5M8u7uvrarXJfmbJD08vyLJkxbYbnWS1UmyYsWK+RUMAMDP5YyDfmfsEtjO/c6ZZ4xdArCAUXpMVNWOmYQSb+3udydJd1/Z3dd39w1Jjkmy/0LbdvfR3b2qu1ctX758fkUDAAAAW9wYd+WoJG9MclF3v3Kqffep1R6e5IJ51wYAAADM1xhDOQ5I8vgk51fVeUPbXyU5oqr2zWQox6VJnjJCbQAAAMAcjXFXjo8lqQUWfWDetQAAAADjGvWuHAAAAMD2TTABAAAAjEYwAQAAAIxGMAEAAACMRjABAAAAjEYwAQAAAIxGMAEAAACMRjABAAAAjEYwAQAAAIxGMAEAAACMRjABAAAAjEYwAQAAAIxGMAEAAACMZtnYBQAAAJD845//y9glsJ17+iseMspx9ZgAAAAARqPHxJT9nnvC2CWwnTv3ZU8YuwQAAIC50mMCAAAAGI1gAgAAABjNkgsmquqQqvpiVV1cVc8bux4AAABgdpZUMFFVOyR5bZJDk9w1yRFVdddxqwIAAABmZUkFE0n2T3Jxd1/S3f+d5O1JDhu5JgAAAGBGqrvHruEnquqRSQ7p7v8xzD8+yW9199On1lmdZPUwe+ckX5x7oWzMrkm+OXYRsIQ5R2DjnCOwYc4P2DjnyNLzK929/KZWWmq3C60F2m6UnHT30UmOnk85bKqqWtPdq8auA5Yq5whsnHMENsz5ARvnHNl6LbWhHJcl2Wtqfs8kl49UCwAAADBjSy2Y+HSSfarqjlV1sySPSXLqyDUBAAAAM7KkhnJ093VV9fQkH0qyQ5Jju/vCkcti0xhmAxvnHIGNc47Ahjk/YOOcI1upJXXxSwAAAGD7stSGcgAAAADbEcEEAAAAMBrBBDNXVTtX1Z9Nzd+hqt41TP9xVf3jBrb73rxqhCSpqpVVdcEmrP+wqrrrTaxzcFW9bwPLLq2qXTe1zgX241xhm7Cp5yAA24Yt/fq/7jPW+t9DWLoEE8xUVe2QZOckP3lB6O7Lu/uR41UFW8zDkmw0mAAAYHaqamM3dLjR9xCWLsHEdqCqnlBVa6vqc1X15qr6lao6fWg7vapWDOsdV1WvrqpPVNUlVfXIof2kqnrw1P6Oq6o/qqodquplVfXpYV9PGZYfXFUfqaq3JTk/yUuT7F1V5w3rr5+I7lVVH6yqL1bVizbwMzx36jh/PavfFSTZoaqOqaoLq+rDVXXLqvqT4e/vc1V1clXdqqp+O8lDk7xs+Nveu6p+tar+bVjvM1W197DPnarqXVX1hap6a1XV1PGeW1XnDI9fTZKqekhVfaqqPjvsb7ehfaeqelNVnT+cC380Xfjwn4Gzq+oP5vGLgg2pql+sqvcP58IFVXV4Ve1XVWdU1blV9aGq2n1Yd79hvbOTPG1qHyur6qzhXPrMcM6te4/56EbOKViyquovquqZw/Srqurfh+kHVNVbqup1VbVmeA/666ntHjz8vX9s+Kz2vqH9tlX1nuE94ZNVdc+h/aiqOnY4Vy5Zd0xY4hb1GSz5yfeRV1bVR5L8XVXdbtjms1X1hiTr3hfW/x5Sw/MFw+epw4f9HVxVZ1bVKVX1+ap6fVX5rjxP3e2xDT+S3C3JF5PsOszfNsm/JDlymH9SkvcM08cleWcmgdVdk1w8tD88yfHD9M2SfD3JLZOsTvI/h/abJ1mT5I5JDk7y/SR3HJatTHLBVE0/mU/yx0muSHK7YZ8XJFk1LPve8PygTG79U0Nt70ty0Ni/W49t7zH8bV6XZN9h/h1JHpfkdlPr/P9JnjFMH5fkkVPLPpXk4cP0LZLcajgfvpNkz+Hv9+wk9xvWuTTJC4bpJyR53zC9S35616T/keQVw/TfJfn7qePtMjx/L8luw/EfOPbv0cMjyR8lOWZq/peSfCLJ8mH+8ExuCZ4ka5P8zjD9sqn3h1slucUwvU+SNcP0Bs8pD4+l/khynyTvHKbPSnJOkh2TvCjJU5Lcdli2Q5KPJrnn8H7y9anPVSdOvV+8JsmLhun7JzlvmD5qOOdunmTXJNck2XHsn9/DY0OPzfwM9r4kOwzzr07ywmH6D5L08Le/Mjf+HvJHSU4bzrHdknwtye7De8uPktxpWHZapj7jecz+IQXa9t0/ybu6+5tJ0t3fSnLfJG8blr85yf2m1n9Pd9/Q3Z/P5GRNkn9Ncv+qunmSQ5Oc2d0/zCQweEJVnZfJF6LbZfLhMUnO6e6vLLLG07r7mmGf716vngzHeVCSzyb5TJK7TB0HtrSvdPd5w/S5mbyh3X34z+35SR6bSeB3I1V16yR7dPcpSdLdP+ruHwyLz+nuy7r7hiTnDftc58Sp5/sO03sm+dBwvOdOHe/3krx23Ybd/e1hcsckpyf5i+4+bbN+atiyzk/ye1X1d1V1YJK9ktw9yWnDe8b/TLJnVf1Skp27+4xhuzdP7WPHJMcM58E7c+NhUxs7p2ApOzfJfsN7xo8zCdZWJTkwk6Di0VX1mUw+89wtk7/7uyS5ZOpz1YlT+7tfhvOmu/89ye2G8ypJ3t/dPx4+A16Vn36ug6VqUz+DvbO7rx+mD0ryliTp7vcn+XYWdr8kJ3b39d19ZZIzkvzmsOyc7r5k2OeJ+dnvJMzQxsbjsG2oTBLDjZle/uP1tk13/6iqPprk9zP5L9eJU8uf0d0futEBqw7OpMfEYq1f3/rzleRvu/sNm7BP2FzT58D1mfTkOS7Jw7r7c1X1x5mk6uvbWFfy9fc5/drbC0y/Jskru/vU4Xw6auoYC53P12XyBv77mbzBwqi6+z+qar8kD07yt5n85+nC7r7v9HpVtXM2/B71/yS5Msm9MukZ8aOpZRs7p2DJ6u7/U1WXJnliJj0a1ib53SR7J/lhkuck+c3u/nZVHZdJb4mNvb8stGzdOeU8YWuzqZ/B1v++cVPfeZKNn0839Z2EGdJjYtt3eibp++2SyVjETN4IHzMsf2ySjy1iP2/P5E30wCTrgogPJfnTqtpx2PevVdUvLrDtd5PceiP7fuAwRvKWmVxM8OPrLf9QkidV1U7DcfaoqtsvombYUm6d5Irhb/2xU+0/+dvu7muTXFZVD0uSqrr5unGQN+Hwqeezh+lfSvKNYfrIqXU/nOTp62aqapdhsjMZlnWXqnreYn8omJWqukOSH3T3W5K8PMlvJVleVfcdlu9YVXfr7v9K8p2qWvdfqenz65eSXDH0inh8Jl1rYVtwZiYBxJmZ9JJ4aiY9f26TyRet79Tk2kKHDut/IcmdqmrlMH/4evt6bPKTfwx9c3g/gm3Fhj6DrW/6XDg0k2Gxyc9+DzkzyeE1uVbe8kx6WpwzLNu/qu44XFvi8CzuOxJbiOR0G9fdF1bVS5KcUVXXZ9I18JlJjq2q5ya5OpPA4aZ8OMkJSU7t7v8e2v45ky5WnxkuPHZ1JsHC+jVcU1Ufr8kFL/81U13RBx/LpBviryZ5W3evWW/7D1fVryc5e7i+2fcyGXN21SLqhi3h/8tkuNJXM+mivu4N7u2ZdDV/ZpJHZvLl6Q1V9eIk/yfJoxax75tX1acyCYqPGNqOSvLOqvpGkk9mcu2WZDK28rXDuXR9kr/OZPhTuvv6qnpMkn+pqmu7+59+jp8Xfl73yOTCsDdkci78aSY9e149dDNfluTvk1yYyXvQsVX1g/w0+E6Sf0pyclU9KslHsmk98WApOyvJC5Kc3d3fr6ofJTlr+I/wZzM5Ly7J8I+a7v5hTW53+MGq+mZ++iUqmbxfvKmq1ib5QW4cZsO2YEOfwdb310lOHIZCnZHJtSMW+h7yF5kMnf1cJv/Y+Yvu/s+quksm/yB6aSbvYWcmOWVmPxU/Y93F1QAAgCWoqnbq7u8N/wh6bZIvdferxq4LthVDj6PndPcfjl3L9spQDgAAWNr+ZLhw7IWZDHNy3S1gm6LHBAAAADAaPSYAAACA0QgmAAAAgNEIJgAAAIDRCCYAgJtUVSuH261tzrYHV9X7tlAd+1bVgxex3lFV9ZwtcUwAYLYEEwDA1mTfJDcZTAAAWw/BBACwWMuq6viqWltV76qqW1XVA6rqs1V1flUdW1U3T5KqOqSqvlBVH0vyiKHtF6rqS1W1fGr+4qradaGDVdWjquqCqvpcVZ1ZVTdL8uIkh1fVeVV1+GL2V1V7V9UHq+rcqjqrqu4yw98RALCJBBMAwGLdOcnR3X3PJNcm+X+THJfk8O6+R5JlSf60qm6R5JgkD0lyYJJfTpLuviHJW5I8dtjf7yX5XHd/cwPHe2GS3+/ueyV5aHf/99B2Unfv290nLXJ/Ryd5Rnfvl+Q5Sf7p5/gdAABbmGACAFisr3f3x4fptyR5QJKvdPd/DG3HJzkoyV2G9i91dw/rrnNskicM009K8qaNHO/jSY6rqj9JssMG1tno/qpqpyS/neSdVXVekjck2X2jPyUAMFfLxi4AANhq9M+7bnd/vaqurKr7J/mt/LS3w0LrPrWqfivJHyQ5r6r23Yz9/UKS/+run9kWAFga9JgAABZrRVXdd5g+Ism/JVlZVb86tD0+yRlJvpDkjlW199S60/45k14U7+ju6zd0sKrau7s/1d0vTPLNJHsl+W6SWy92f919bZKvVNWjhn1WVd1r0T8xADBzggkAYLEuSnJkVa1Nctskr0ryxEyGSZyf5IYkr+/uHyVZneT9w8Uvv7refk5NslM2PowjSV42XFTzgiRnJvlcko8kueu6i18ucn+PTfLkqvpckguTHLbonxgAmLmaDP0EAJiPqlqV5FXdfeBS3B8AMF+uMQEAzE1VPS/Jn2Yj15YYc38AwPzpMQEAjKqqXpDkUes1v7O7XzJGPQDAfAkmAAAAgNG4+CUAAAAwGsEEAAAAMBrBBAAAADAawQQAAAAwGsEEAAAAMBrBBAAAADAawQQAAAAwGsEEAAAAMBrBBAAAADAawQQAAAAwmmVjF/Dz2HXXXXvlypVjlwEAAACs59xzz/1mdy+/qfW26mBi5cqVWbNmzdhlAAAAAOupqq8uZj1DOQAAAIDRCCYAAACA0QgmAAAAgNHMLJioqr2q6iNVdVFVXVhVzxrab1tVp1XVl4bnXYb2qqpXV9XFVbW2qn5jVrUBAAAAS8Mse0xcl+TPu/vXk9wnydOq6q5Jnpfk9O7eJ8npw3ySHJpkn+GxOsnrZlgbAAAAsATMLJjo7iu6+zPD9HeTXJRkjySHJTl+WO34JA8bpg9LckJPfDLJzlW1+6zqAwAAAMY3l2tMVNXKJPdO8qkku3X3FckkvEhy+2G1PZJ8fWqzy4a29fe1uqrWVNWaq6++epZlAwAAADM282CiqnZKcnKSZ3f3tRtbdYG2/pmG7qO7e1V3r1q+fPmWKhMAAAAYwUyDiaraMZNQ4q3d/e6h+cp1QzSG56uG9suS7DW1+Z5JLp9lfQAAAMC4ZnlXjkryxiQXdfcrpxadmuTIYfrIJO+dan/CcHeO+yT5zrohHwAAAMC2adkM931AkscnOb+qzhva/irJS5O8o6qenORrSR41LPtAkgcnuTjJD5I8cYa1AQAAAEvAzIKJ7v5YFr5uRJI8YIH1O8nTZlUPAAAAsPTM5a4cAAAAAAsRTAAAAACjEUwAAAAAoxFMAAAAAKMRTAAAAACjEUwAAAAAoxFMAAAAAKMRTAAAAACjEUwAAAAAoxFMAAAAAKMRTAAAAACjEUwAAAAAoxFMAAAAAKMRTAAAAACjEUwAAAAAoxFMAAAAAKMRTAAAAACjmVkwUVXHVtVVVXXBVNtJVXXe8Li0qs4b2ldW1Q+nlr1+VnUBAAAAS8eyGe77uCT/mOSEdQ3dffi66ap6RZLvTK3/5e7ed4b1AAAAAEvMzIKJ7j6zqlYutKyqKsmjk9x/VscHAAAAlr6xrjFxYJIru/tLU213rKrPVtUZVXXgSHUBAAAAczTLoRwbc0SSE6fmr0iyoruvqar9krynqu7W3deuv2FVrU6yOklWrFgxl2IBAACA2Zh7j4mqWpbkEUlOWtfW3T/u7muG6XOTfDnJry20fXcf3d2runvV8uXL51EyAAAAMCNjDOX4vSRf6O7L1jVU1fKq2mGYvlOSfZJcMkJtAAAAwBzN8nahJyY5O8mdq+qyqnrysOgxufEwjiQ5KMnaqvpckncleWp3f2tWtQEAAABLwyzvynHEBtr/eIG2k5OcPKtaAAAAgKVprLtyAAAAAAgmAAAAgPEIJgAAAIDRCCYAAACA0QgmAAAAgNEIJgAAAIDRCCYAAACA0QgmAAAAgNEIJgAAAIDRCCYAAACA0QgmAAAAgNEIJgAAAIDRCCYAAACA0QgmAAAAgNEIJgAAAIDRCCYAAACA0QgmAAAAgNEIJgAAAIDRzCyYqKpjq+qqqrpgqu2oqvpGVZ03PB48tez5VXVxVX2xqn5/VnUBAAAAS8cse0wcl+SQBdpf1d37Do8PJElV3TXJY5Lcbdjmn6pqhxnWBgAAACwBMwsmuvvMJN9a5OqHJXl7d/+4u7+S5OIk+8+qNgAAAGBpGOMaE0+vqrXDUI9dhrY9knx9ap3LhrafUVWrq2pNVa25+uqrZ10rAAAAMEPzDiZel2TvJPsmuSLJK4b2WmDdXmgH3X10d6/q7lXLly+fTZUAAADAXMw1mOjuK7v7+u6+Ickx+elwjcuS7DW16p5JLp9nbQAAAMD8zTWYqKrdp2YfnmTdHTtOTfKYqrp5Vd0xyT5JzplnbQAAAMD8LZvVjqvqxCQHJ9m1qi5L8qIkB1fVvpkM07g0yVOSpLsvrKp3JPl8kuuSPK27r59VbQAAAMDSUN0LXsphq7Bq1apes2bN2GUAAAAA66mqc7t71U2tN8ZdOQAAAACSCCYAAACAEQkmAAAAgNEIJgAAAIDRCCYAAACA0QgmAAAAgNEIJgAAAIDRCCYAAACA0QgmAAAAgNEIJgAAAIDRCCYAAACA0QgmAAAAgNEIJgAAAIDRCCYAAACA0QgmAAAAgNEIJgAAAIDRCCYAAACA0cwsmKiqY6vqqqq6YKrtZVX1hapaW1WnVNXOQ/vKqvphVZ03PF4/q7oAAACApWOWPSaOS3LIem2nJbl7d98zyX8kef7Usi93977D46kzrAsAAABYImYWTHT3mUm+tV7bh7v7umH2k0n2nNXxAQAAgKVvzGtMPCnJv07N37GqPltVZ1TVgWMVBQAAAMzPsjEOWlUvSHJdkrcOTVckWdHd11TVfkneU1V36+5rF9h2dZLVSbJixYp5lQwAAADMwNx7TFTVkUn+MMlju7uTpLt/3N3XDNPnJvlykl8IvxA/AAAgAElEQVRbaPvuPrq7V3X3quXLl8+rbAAAAGAG5hpMVNUhSf4yyUO7+wdT7curaodh+k5J9klyyTxrAwAAAOZvZkM5qurEJAcn2bWqLkvyokzuwnHzJKdVVZJ8crgDx0FJXlxV1yW5PslTu/tbC+4YAAAA2GbMLJjo7iMWaH7jBtY9OcnJs6oFAAAAWJrGvCsHAAAAsJ0TTAAAAACjGeV2oQDwtRffY+wSgK3AiheeP3YJAMyYHhMAAADAaAQTAAAAwGgWFUxU1emLaQMAAADYFBu9xkRV3SLJrZLsWlW7JKlh0W2S3GHGtQEAAADbuJu6+OVTkjw7kxDi3Pw0mLg2yWtnWBcAAACwHdhoMNHd/5DkH6rqGd39mjnVBAAAAGwnFnW70O5+TVX9dpKV09t09wkzqgsAAADYDiwqmKiqNyfZO8l5Sa4fmjuJYAIAAADYbIsKJpKsSnLX7u5ZFgMAAABsXxZ1u9AkFyT55VkWAgAAAGx/FttjYtckn6+qc5L8eF1jdz90JlUBAAAA24XFBhNHzbIIAAAAYPu02LtynDHrQgAAAIDtz2LvyvHdTO7CkSQ3S7Jjku93921mVRgAAACw7Vtsj4lbT89X1cOS7D+TigAAAIDtxmLvynEj3f2eJPe/qfWq6tiquqqqLphqu21VnVZVXxqedxnaq6peXVUXV9XaqvqNzakNAAAA2HosKpioqkdMPR5ZVS/NT4d2bMxxSQ5Zr+15SU7v7n2SnD7MJ8mhSfYZHquTvG4xtQEAAABbr8XeleMhU9PXJbk0yWE3tVF3n1lVK9drPizJwcP08Uk+muQvh/YTuruTfLKqdq6q3bv7ikXWCAAAAGxlFnuNiSduwWPuti5s6O4rqur2Q/seSb4+td5lQ9uNgomqWp1Jj4qsWLFiC5YFAAAAzNtih3LsWVWnDNeLuLKqTq6qPbdwLbVA288MF+nuo7t7VXevWr58+RYuAQAAAJinxV788k1JTk1yh0x6MfzL0LY5rqyq3ZNkeL5qaL8syV5T6+2Z5PLNPAYAAACwFVhsMLG8u9/U3dcNj+OSbG53hVOTHDlMH5nkvVPtTxjuznGfJN9xfQkAAADYti02mPhmVT2uqnYYHo9Lcs1NbVRVJyY5O8mdq+qyqnpykpcmeWBVfSnJA4f5JPlAkkuSXJzkmCR/tok/CwAAALCVWexdOZ6U5B+TvCqT6z58IslNXhCzu4/YwKIHLLBuJ3naIusBAAAAtgGLDSb+JsmR3f3tJKmq2yZ5eSaBBQAAAMBmWexQjnuuCyWSpLu/leTesykJAAAA2F4sNpj4haraZd3M0GNisb0tAAAAABa02HDhFUk+UVXvyuQaE49O8pKZVQUAAABsFxYVTHT3CVW1Jsn9k1SSR3T352daGQAAALDNW/RwjCGIEEYAAAAAW8xirzEBAAAAsMUJJgAAAIDRCCYAAACA0QgmAAAAgNEIJgAAAIDRCCYAAACA0QgmAAAAgNEIJgAAAIDRCCYAAACA0QgmAAAAgNEIJgAAAIDRLJv3AavqzklOmmq6U5IXJtk5yZ8kuXpo/6vu/sCcywMAAADmaO7BRHd/Mcm+SVJVOyT5RpJTkjwxyau6++XzrgkAAAAYx9hDOR6Q5Mvd/dWR6wAAAABGMHYw8ZgkJ07NP72q1lbVsVW1y1hFAQAAAPMx96Ec61TVzZI8NMnzh6bXJfmbJD08vyLJkxbYbnWS1UmyYsWKudR6U/Z77gljlwBsJc592RPGLgEAAJaUMXtMHJrkM919ZZJ095XdfX1335DkmCT7L7RRdx/d3au6e9Xy5cvnWC4AAACwpY0ZTByRqWEcVbX71LKHJ7lg7hUBAAAAczXKUI6qulWSByZ5ylTz/66qfTMZynHpessAAACAbdAowUR3/yDJ7dZre/wYtQAAAADjGfuuHAAAAMB2TDABAAAAjEYwAQAAAIxGMAEAAACMRjABAAAAjEYwAQAAAIxGMAEAAACMRjABAAAAjEYwAQAAAIxGMAEAAACMRjABAAAAjEYwAQAAAIxGMAEAAACMRjABAAAAjEYwAQAAAIxGMAEAAACMRjABAAAAjGbZWAeuqkuTfDfJ9Umu6+5VVXXbJCclWZnk0iSP7u5vj1UjAAAAMFtj95j43e7et7tXDfPPS3J6d++T5PRhHgAAANhGjR1MrO+wJMcP08cnediItQAAAAAzNmYw0Uk+XFXnVtXqoW237r4iSYbn249WHQAAADBzo11jIskB3X15Vd0+yWlV9YXFbDSEGKuTZMWKFbOsDwAAAJix0XpMdPflw/NVSU5Jsn+SK6tq9yQZnq9aYLuju3tVd69avnz5PEsGAAAAtrBRgomq+sWquvW66SQPSnJBklOTHDmsdmSS945RHwAAADAfYw3l2C3JKVW1roa3dfcHq+rTSd5RVU9O8rUkjxqpPgAAAGAORgkmuvuSJPdaoP2aJA+Yf0UAAADAGJba7UIBAACA7YhgAgAAABiNYAIAAAAYjWACAAAAGI1gAgAAABiNYAIAAAAYjWACAAAAGI1gAgAAABiNYAIAAAAYjWACAAAAGI1gAgAAABiNYAIAAAAYjWACAAAAGI1gAgAAABiNYAIAAAAYjWACAAAAGI1gAgAAABiNYAIAAAAYzdyDiaraq6o+UlUXVdWFVfWsof2oqvpGVZ03PB4879oAAACA+Vo2wjGvS/Ln3f2Zqrp1knOr6rRh2au6++Uj1AQAAACMYO7BRHdfkeSKYfq7VXVRkj3mXQcAAAAwvlGvMVFVK5PcO8mnhqanV9Xaqjq2qnbZwDarq2pNVa25+uqr51QpAAAAMAujBRNVtVOSk5M8u7uvTfK6JHsn2TeTHhWvWGi77j66u1d196rly5fPrV4AAABgyxslmKiqHTMJJd7a3e9Oku6+sruv7+4bkhyTZP8xagMAAADmZ4y7clSSNya5qLtfOdW++9RqD09ywbxrAwAAAOZrjLtyHJDk8UnOr6rzhra/SnJEVe2bpJNcmuQpI9QGAAAAzNEYd+X4WJJaYNEH5l0LAAAAMK5R78oBAAAAbN8EEwAAAMBoBBMAAADAaAQTAAAAwGgEEwAAAMBoBBMAAADAaAQTAAAAwGgEEwAAAMBoBBMAAADAaAQTAAAAwGgEEwAAAMBoBBMAAADAaJaNXQAAAHDTDnjNAWOXAGwlPv6Mj49dwibRYwIAAAAYjWACAAAAGI1gAgAAABiNYAIAAAAYzZILJqrqkKr6YlVdXFXPG7seAAAAYHaWVDBRVTskeW2SQ5PcNckRVXXXcasCAAAAZmVJBRNJ9k9ycXdf0t3/neTtSQ4buSYAAABgRpZaMLFHkq9PzV82tAEAAADboGVjF7CeWqCtb7RC1eokq4fZ71XVF2deFWyeXZN8c+wiWFrq5UeOXQIsdV47ubEXLfTxEJjidZOfUc9cMq+dv7KYlZZaMHFZkr2m5vdMcvn0Ct19dJKj51kUbI6qWtPdq8auA2Br4rUTYNN43WRbsNSGcnw6yT5VdcequlmSxyQ5deSaAAAAgBlZUj0muvu6qnp6kg8l2SHJsd194chlAQAAADOypIKJJOnuDyT5wNh1wBZgyBHApvPaCbBpvG6y1avuvum1AAAAAGZgqV1jAgAAANiOCCZgzqrq4Kp639h1AIyhqp5ZVRdV1Vs3cbuPVpWrzgPbnaraoao+uzmfH6tqZVVdMIu6YEtacteYgK1NVVUmw6JuGLsWgK3AnyU5tLu/MnYhAFuJZyW5KMltxi4EZkWPCdgMQ/p8UVX9U5JLkrxxaH9WVV0yTO9dVR8bpg+pqi8M848YrXCAEVXV65PcKcmpVfXdqtq5Jq6pqicM67y5qn6vqm5ZVW+vqrVVdVKSW45aPMAIqmrPJH+Q5J+H+f2r6t3D9GFV9cOqullV3WLqM+h+VfW5qjo7ydNGKx42gWACNt+dk5yQ5L5J7j60HZjkmqraI8n9kpxVVbdIckyShwzLf3mEWgFG191PTXJ5kt9N8tYkByS5WyYB74HDavdJ8skkf5rkB919zyQvSbLf3AsGGN/fJ/mLJOt65n4myb2H6QOTXJDkN5P8VpJPDe1vSvLM7r7vHOuEn4tgAjbfV7v7k939n0l2qqpbJ9kryduSHJTJm8VZSe6S5Cvd/aWe3AbnLaNVDLB0nJXJa+VBSV6X5B5DqPut7v7e0P6WJOnutUnWjlUowBiq6g+TXNXd565r6+7rklxcVb+eZP8kr8zU586q+qUkO3f3GcMmb55z2bBZBBOw+b4/NX12kicm+WImH7YPzKQnxceH5e7LC3BjZ2byWnlgko8muTrJIzN5DV3HayewPTsgyUOr6tIkb09y/6p6Syavk4cm+T9J/i2TXrr3y+R1teK1k62QYAK2jDOTPGd4/mwm3ZR/3N3fSfKFJHesqr2HdY8Yp0SApaO7v55k1yT7dPclST6WyevoumDizCSPTZKqunuSe45RJ8BYuvv53b1nd69M8pgk/97dj8vk9fHZSc7u7quT3C6THroXdvd/JflOVd1v2M1jRygdNplgAraMszIZxnFmd1+f5OuZfMhOd/8oyeok7x8ufvnV0aoEWFo+leQ/humzkuyR4bUzk+EdO1XV2kzGV58z//IAlqRPJdktk4AimQx1WzsMGU4mvXhfO1z88ocj1AebrH769wsAAAAwX3pMAAAAAKMRTAAAAACjEUwAAAAAoxFMAAAAAKMRTAAAAACjEUwAAAAAoxFMAAALqqqjquo5C7Q/taqeMMc6jquqR26hfV1aVbtuiX0BAFvGsrELAAC2HlW1rLtfP3YdAMC2Q48JAOAnquoFVfXFqvq3JHce2j5aVf+rqs5I8qx1PSmq6ter6pypbVdW1dpher+qOqOqzq2qD1XV7hs43u2r6txh+l5V1VW1Ypj/clXdalj1oKr6RFVdMt17oqqeW1Wfrqq1VfXXU+2Pq6pzquq8qnpDVe2w3nF/sareX1Wfq6oLqurwLfILBAA2mWACAEgyCROSPCbJvZM8IslvTi3eubt/p7tfsa6huy9KcrOqutPQdHiSd1TVjklek+SR3b1fkmOTvGShY3b3VUluUVW3SXJgkjVJDqyqX0lyVXf/YFh19yT3S/KHSV461PugJPsk2T/Jvkn2q6qDqurXh1oO6O59k1yf5LHrHfqQJJd39726++5JPrgpvysAYMsxlAMAWOfAJKesCwOq6tSpZSdtYJt3JHl0JmHB4cPjzknunuS0qkqSHZJcsZHjfiLJAUkOSvK/MgkNKslZU+u8p7tvSPL5qtptaHvQ8PjsML9TJkHFPZPsl+TTw/FvmeSq9Y55fpKXV9XfJXlfd58VAGAUggkAYFpvoP37G2g/Kck7q+rdSbq7v1RV90hyYXffd5HHPCuTUORXkrw3yV8Odbxvap0fT03X1PPfdvcbpndWVc9Icnx3P39DB/y/7N17tGZ1eSf47xMKjUYdoDka5JJSG51oLqWeNiaOxnhJ0JWIGi/QUYk6Ke1oEpd2Ly/pSVz2sseOEsdLglNGBDqKGJFIskyEMAqjEbWKlIiiEQxqSTWU4nhvbfCZP86u5lA5VRwq9b6/Q53PZ613vXs/+7f3fo5re+r4de/96+5/nO4QeXyS/7OqLujuV62yXwDgAPIoBwCw2yVJnlRVd6qquyb5tVvbobuvztKjEv9Hbr6r4nNJFqrq55Okqg6tqgfcynmfkeTz010RN2QpMPjIrZz+A0meU1V3mc5zdFXdPclFSZ4yLaeqjpgeDfmfquqeSb7b3X+e5HVJHnRrPysAMBvumAAAkiTdfVlVnZNke5Iv5paPUuzLOUlem+Re03F+ML2g8o1V9b9k6e+N/yvJp/dy3mumRy4umUofTnJMd3/9Vvq9YHqfxEen/b+d5Bnd/Zmq+o9JLqiqH0nyP5K8YPqZdvvpJK+tqh9O2//dKn9WAOAAq+693bEJAAAAMFse5QAAAACG8SgHADAXVfUnWZp9Y7k3dPfbR/QDAKwNHuUAAAAAhvEoBwAAADCMYAIAAAAYRjABAAAADCOYAAAAAIYRTAAAAADDCCYAAACAYQQTAAAAwDCCCQAAAGAYwQQAAAAwjGACAAAAGGbD6Ab+JY488sjeuHHj6DYAAACAPWzbtu2r3b1wa+Nu18HExo0bs3Xr1tFtAAAAAHuoqi+uZpxHOQAAAIBhBBMAAADAMIIJAAAAYJiZBRNVdWxVfbCqrqyqT1fV7031I6rqwqr6/PR9+FSvqnpjVV1VVZdX1YNm1RsAAACwNszyjokbk7yku38yyUOTvKCq7p/kZUku6u7jk1w0rSfJ45IcP302Jzlthr0BAAAAa8DMgonu3tndl03L30pyZZKjk5yY5Mxp2JlJnjgtn5jkrF5yaZLDquqoWfUHAAAAjDeXd0xU1cYkD0zysST36O6dyVJ4keTu07Cjk3x52W47ptqex9pcVVurauuuXbtm2TYAAAAwYzMPJqrqLknOTfKi7v7mvoauUOt/Vuje0t2L3b24sLBwoNoEAAAABphpMFFVh2YplHhHd793Kl+3+xGN6fv6qb4jybHLdj8mybWz7A8AAAAYa5azclSStyW5srv/eNmm85OcMi2fkuR9y+rPmmbneGiSb+x+5AMAAAA4OG2Y4bEfluSZST5VVdun2iuSvCbJu6vquUm+lOSp07b3J3l8kquSfDfJs2fYGwAAALAGzCyY6O4PZ+X3RiTJo1cY30leMKt+AAAAgLVnLrNyAAAAAKxEMAEAAAAMI5gAAAAAhhFMAAAAAMMIJgAAAIBhBBMAAADAMIIJAAAAYBjBBAAAADCMYAIAAAAYRjABAAAADCOYAAAAAIYRTAAAAADDCCYAAACAYQQTAAAAwDCCCQAAAGAYwQQAAAAwjGACAAAAGGZmwURVnV5V11fVFctq51TV9ulzTVVtn+obq+p7y7a9ZVZ9AQAAAGvHhhke+4wkb05y1u5Cdz9993JVnZrkG8vGX93dm2bYDwAAALDGzCyY6O5LqmrjStuqqpI8LcmjZnV+AAAAYO0b9Y6Jhye5rrs/v6x2r6r6h6q6uKoePqgvAAAAYI5m+SjHvpyc5Oxl6zuTHNfdX6uqByf5y6p6QHd/c88dq2pzks1Jctxxx82lWQAAAGA25n7HRFVtSPLkJOfsrnX397v7a9PytiRXJ7nvSvt395buXuzuxYWFhXm0DAAAAMzIiEc5HpPks929Y3ehqhaq6pBp+d5Jjk/yhQG9AQAAAHM0y+lCz07y0ST3q6odVfXcadNJueVjHEnyiCSXV9Unk7wnyfO7+4ZZ9QYAAACsDbOclePkvdR/c4XauUnOnVUvAAAAwNo0alYOAAAAAMEEAAAAMI5gAgAAABhGMAEAAAAMI5gAAAAAhhFMAAAAAMMIJgAAAIBhBBMAAADAMIIJAAAAYBjBBAAAADCMYAIAAAAYRjABAAAADCOYAAAAAIYRTAAAAADDCCYAAACAYQQTAAAAwDCCCQAAAGCYmQUTVXV6VV1fVVcsq72yqr5SVdunz+OXbXt5VV1VVZ+rql+ZVV8AAADA2jHLOybOSHLCCvXXd/em6fP+JKmq+yc5KckDpn3+tKoOmWFvAAAAwBows2Ciuy9JcsMqh5+Y5F3d/f3u/qckVyV5yKx6AwAAANaGEe+YeGFVXT496nH4VDs6yZeXjdkx1QAAAICD2LyDidOS3CfJpiQ7k5w61WuFsb3SAapqc1Vtraqtu3btmk2XAAAAwFzMNZjo7uu6+6bu/mGSt+bmxzV2JDl22dBjkly7l2Ns6e7F7l5cWFiYbcMAAADATM01mKiqo5atPinJ7hk7zk9yUlXdsaruleT4JB+fZ28AAADA/G2Y1YGr6uwkj0xyZFXtSPKHSR5ZVZuy9JjGNUmelyTd/emqeneSzyS5MckLuvumWfUGAAAArA3VveKrHG4XFhcXe+vWraPbAAAAAPZQVdu6e/HWxs3sjgkADl4Pe9PDRrfAGvSR3/nI6BYAgNuhEdOFAgAAACQRTAAAAAADCSYAAACAYQQTAAAAwDCCCQAAAGAYwQQAAAAwjGACAAAAGEYwAQAAAAwjmAAAAACGEUwAAAAAwwgmAAAAgGEEEwAAAMAwggkAAABgGMEEAAAAMIxgAgAAABhGMAEAAAAMI5gAAAAAhplZMFFVp1fV9VV1xbLaa6vqs1V1eVWdV1WHTfWNVfW9qto+fd4yq74AAACAtWOWd0yckeSEPWoXJvmp7v6ZJP+Y5OXLtl3d3Zumz/Nn2BcAAACwRswsmOjuS5LcsEftgu6+cVq9NMkxszo/AAAAsPaNfMfEc5L8zbL1e1XVP1TVxVX18L3tVFWbq2prVW3dtWvX7LsEAAAAZmZIMFFVv5/kxiTvmEo7kxzX3Q9M8uIk76yqu620b3dv6e7F7l5cWFiYT8MAAADATMw9mKiqU5L8apLf6O5Oku7+fnd/bVreluTqJPedd28AAADAfM01mKiqE5K8NMkTuvu7y+oLVXXItHzvJMcn+cI8ewMAAADmb8OsDlxVZyd5ZJIjq2pHkj/M0iwcd0xyYVUlyaXTDByPSPKqqroxyU1Jnt/dN6x4YAAAAOCgMbNgortPXqH8tr2MPTfJubPqBQAAAFibRs7KAQAAAKxzggkAAABgGMEEAAAAMIxgAgAAABhGMAEAAAAMs6pgoqouWk0NAAAA4LbY53ShVfWjSe6c5MiqOjxJTZvuluSeM+4NAAAAOMjtM5hI8rwkL8pSCLEtNwcT30zyJzPsCwAAAFgH9hlMdPcbkryhqn6nu980p54AAACAdeLW7phIknT3m6rqF5JsXL5Pd581o74AAACAdWBVwURV/dck90myPclNU7mTCCYAAACA/baqYCLJYpL7d3fPshkAAABgfVnVdKFJrkjy47NsBAAAAFh/VnvHxJFJPlNVH0/y/d3F7n7CTLoCAAAA1oXVBhOvnGUTAAAAwPq02lk5Lp51IwAAAMD6s9pZOb6VpVk4kuQOSQ5N8p3uvtusGgMAAAAOfqt6+WV337W77zZ9fjTJryd5863tV1WnV9X1VXXFstoRVXVhVX1++j58qldVvbGqrqqqy6vqQfv7QwEAAAC3D6udleMWuvsvkzxqFUPPSHLCHrWXJbmou49PctG0niSPS3L89Nmc5LT96Q0AAAC4/VjtoxxPXrb6I0kWc/OjHXvV3ZdU1cY9yicmeeS0fGaSDyV56VQ/q7s7yaVVdVhVHdXdO1fTIwAAAHD7s9pZOX5t2fKNSa7JUpCwP+6xO2zo7p1VdfepfnSSLy8bt2OqCSYAAADgILXaWTmePetGktRKp/5ng6o2Z+lRjxx33HGz7gkAAACYoVW9Y6Kqjqmq86YXWV5XVedW1TH7ec7rquqo6bhHJbl+qu9IcuyyccckuXbPnbt7S3cvdvfiwsLCfrYAAAAArAWrffnl25Ocn+SeWXq84q+m2v44P8kp0/IpSd63rP6saXaOhyb5hvdLAAAAwMFttcHEQne/vbtvnD5nJLnV2xWq6uwkH01yv6raUVXPTfKaJI+tqs8neey0niTvT/KFJFcleWuS375tPwoAAABwe7Pal19+taqekeTsaf3kJF+7tZ26++S9bHr0CmM7yQtW2Q8AAABwEFjtHRPPSfK0JP8tS7NkPCXJPF6ICQAAABzEVnvHxH9Kckp3fz1JquqIJK/LUmABAAAAsF9We8fEz+wOJZKku29I8sDZtAQAAACsF6sNJn6kqg7fvTLdMbHauy0AAAAAVrTacOHUJH9fVe9J0ll638SrZ9YVAAAAsC6sKpjo7rOqamuSRyWpJE/u7s/MtDMAAADgoLfqxzGmIEIYAQAAABwwq33HBAAAAMABJ5gAAAAAhhFMAAAAAMMIJgAAAIBhBBMAAADAMIIJAAAAYBjBBAAAADCMYAIAAAAYRjABAAAADCOYAAAAAIYRTAAAAADDbJj3CavqfknOWVa6d5I/SHJYkt9Ksmuqv6K73z/n9gAAAIA5mnsw0d2fS7IpSarqkCRfSXJekmcneX13v27ePQEAAABjjH6U49FJru7uLw7uAwAAABhgdDBxUpKzl62/sKour6rTq+rwlXaoqs1VtbWqtu7atWulIQAAAMDtxLBgoqrukOQJSf5iKp2W5D5ZesxjZ5JTV9qvu7d092J3Ly4sLMylVwAAAGA2Rt4x8bgkl3X3dUnS3dd1903d/cMkb03ykIG9AQAAAHMwMpg4Ocse46iqo5Zte1KSK+beEQAAADBXc5+VI0mq6s5JHpvkecvKf1RVm5J0kmv22AYAAAAchIYEE9393ST/ao/aM0f0AgAAAIwzelYOAAAAYB0TTAAAAADDCCYAAACAYQQTAAAAwDCCCQAAAGAYwQQAAAAwjGACAAAAGEYwAQAAAAwjmAAAAACGEUwAAAAAwwgmAAAAgGEEEwAAAMAwggkAAABgGMEEAAAAMIxgAgAAABhGMAEAAAAMI5gAAAAAhtkw6sRVdU2SbyW5KcmN3b1YVUckOSfJxiTXJHlad399VI8AAADAbI2+Y+KXuntTdy9O6y9LclF3H5/komkdAAAAOEiNDib2dGKSM6flM5M8cWAvAAAAwIyNDCY6yQVVta2qNk+1e3T3ziSZvu8+rDsAAABg5oa9YyLJw7r72qq6e5ILq+qzq9lpCjE2J8lxxx03y/4AAACAGRt2x0R3Xzt9X5/kvCQPSXJdVR2VJNP39Svst6W7F7t7cWFhYZ4tAwAAAAfYkGCiqn6squ66eznJLye5Isn5SU6Zhp2S5H0j+gMAAADmY9SjHPdIcl5V7e7hnd39t1X1iSTvrqrnJvlSkqcO6g8AAACYgyHBRHd/IcnPrlD/WpJHz78jAAAAYIS1Nl0oAAAAsI4IJgAAAIBhBBMAAADAMIIJAAAAYBjBBAAAADCMYAIAAAAYRjABAAAADCOYAAAAAF8K+NsAACAASURBVIYRTAAAAADDCCYAAACAYQQTAAAAwDCCCQAAAGAYwQQAAAAwjGACAAAAGEYwAQAAAAwjmAAAAACGEUwAAAAAwwgmAAAAgGHmHkxU1bFV9cGqurKqPl1VvzfVX1lVX6mq7dPn8fPuDQAAAJivDQPOeWOSl3T3ZVV11yTbqurCadvru/t1A3oCAAAABph7MNHdO5PsnJa/VVVXJjl63n0AAAAA4w19x0RVbUzywCQfm0ovrKrLq+r0qjp8L/tsrqqtVbV1165dc+oUAAAAmIVhwURV3SXJuUle1N3fTHJakvsk2ZSlOypOXWm/7t7S3YvdvbiwsDC3fgEAAIADb0gwUVWHZimUeEd3vzdJuvu67r6pu3+Y5K1JHjKiNwAAAGB+RszKUUneluTK7v7jZfWjlg17UpIr5t0bAAAAMF8jZuV4WJJnJvlUVW2faq9IcnJVbUrSSa5J8rwBvQEAAABzNGJWjg8nqRU2vX/evQAAAABjDZ2VAwAAAFjfBBMAAADAMIIJAAAAYBjBBAAAADCMYAIAAAAYZsR0oQAAAKwRr37GU0a3wBr0+3/+nrmdyx0TAAAAwDDumIA16kuv+unRLbAGHfcHnxrdAgAAHFDrPph48H84a3QLrEHbXvus0S0AsB8ufsQvjm6BNegXL7l4dAsA7INHOQAAAIBhBBMAAADAMIIJAAAAYBjBBAAAADCMYAIAAAAYRjABAAAADCOYAAAAAIbZMLoBAABYD978kr8a3QJr0AtP/bXRLcBwa+6Oiao6oao+V1VXVdXLRvcDAAAAzM6aCiaq6pAkf5LkcUnun+Tkqrr/2K4AAACAWVlTwUSShyS5qru/0N0/SPKuJCcO7gkAAACYkeru0T38T1X1lCQndPf/Pq0/M8nPdfcLl43ZnGTztHq/JJ+be6MHryOTfHV0E7AC1yZrmeuTtcq1yVrm+mStcm0eWD/R3Qu3NmitvfyyVqjdIjnp7i1JtsynnfWlqrZ29+LoPmBPrk3WMtcna5Vrk7XM9cla5docY609yrEjybHL1o9Jcu2gXgAAAIAZW2vBxCeSHF9V96qqOyQ5Kcn5g3sCAAAAZmRNPcrR3TdW1QuTfCDJIUlO7+5PD25rPfGIDGuVa5O1zPXJWuXaZC1zfbJWuTYHWFMvvwQAAADWl7X2KAcAAACwjggmAAAAgGEEE+tIVb2yqv79PrZ/qKpMjcMwVbWxqq4Y3Qfsi+uU24uq+vboHmBPVfWK0T3Abvvzb3pVvbaqPl1Vr51VX+vRmnr5JQAAcPtWVZWld9n9cIXNr0jynw/QsWCE5yVZ6O7vj27kYOKOiYNcVf1+VX2uqv4uyf2m2qaqurSqLq+q86rq8GW7PLWqPl5V/1hVD5/GH1JVr6uqT037/M6In4WDT1W9uKqumD4vmsqHVNVbpyT6gqq60zT2X1fV31XVJ6vqsqq6T1WdU1WPX3a8M6rq14f8MBy0/qXX6cDWAeZm+n+er6yqP01yWZJnTn87XlFV/2Ua85okd6qq7VX1jqn2z37HrnCsYwf9WBxkDsDfnucn+bEkH6uqpw/7QQ5CZuU4iFXVg5OckeTnsnR3zGVJ3pLkWUl+p7svrqpXJblbd7+oqj6UZFt3v2T6H3sv7u7HVNW/S/KYJE+fpnQ9ortvGPEzcfBYdn0+NEkl+ViSZyT5RJLF7t5eVe9Ocn53/3lVfSzJa7r7vKr60SwFq7+S5IndfUpV3SHJ1Unu293fG/AjcRA6ENdpd393UPusc1X17e6+y+g+WB+qamOSLyT5hSRfSnJpkgcn+XqSC5K8sbv/cvl1uY/fsV/ffazuvnSuPwgHrQP1b7rfrbPhjomD28OTnNfd3+3ubybZnfAd1t0XT2POTPKIZfu8d/relmTjtPyYJG/p7huTRCjBAfK/Zen6/E53fztL197Dk/xTd2+fxmxLsrGq7prk6O4+L0m6+79P/2Pvb5I8qqrumORxSS4RSnCAHYjrFGC9+OIUJPybJB/q7l3T34/vyC3/3txtb79jlx8LDhT/pq9hgomD3229JWb3s1I35eZ3kNR+HAduTe2lvvx5vd3X4Ypju/u/J/lQlu6ceHqSdx3A/iA5ANcpwDrynel7tb8P9zXuO/vYBvvDv+lrmGDi4HZJkidV1Z2m1O/XsvRL/uu73x+R5JlJLt7bASYXJHl+VW1Ikqo6YlYNs65ckuSJVXXnqvqxJE9K8v+uNHC642dHVT0xSarqjlV152nzu5I8O0uJ9wdm3zbrzIG6TgHWk48l+cWqOrKqDklycm7+e/N/VNWh0/Kqf8fCAeDf9DVMMHEQ6+7LkpyTZHuSc3Pzf/FOSfLaqro8yaYkr7qVQ/1Zlp4VvLyqPpnk386mY9aT6fo8I8nHs/QHzJ9l6ZnSvXlmkt+drtu/T/LjU/2CLN0e+nfd/YOZNcy6dACvU4B1o7t3Jnl5kg8m+WSSy7r7fdPmLVn6m/IdK/2O7e5/GNAy64B/09c2L78EAAAAhnHHBAAAADCMYAIAAAAYRjABAAAADCOYAAAAAIYRTAAAAADDCCYAAACAYQQTAMBMVNU9q+o9B/iYL6qqOx/IYwIAY1V3j+4BAGBVquqaJIvd/dXRvQAAB4Y7JgCAf6aqnlFVH6+q7VX1f1fVIVX17ap6dVV9sqourap7TGPvM61/oqpeVVXfnuobq+qKafk3q+q9VfW3VfX5qvqjZef65ar6aFVdVlV/UVV32UtPv5vknkk+WFUfrKrnVtXrl23/rar64+m8n62qM6vq8qp6z+67LKrqwVV1cVVtq6oPVNVRs/tPEQBYDcEEAHALVfWTSZ6e5GHdvSnJTUl+I8mPJbm0u382ySVJfmva5Q1J3tDd/ybJtfs49KbpuD+d5OlVdWxVHZnkPyZ5THc/KMnWJC9eaefufuN0/F/q7l9K8q4kT6iqQ6chz07y9mn5fkm2dPfPJPlmkt+exr0pyVO6+8FJTk/y6tvwHw0AMAMbRjcAAKw5j07y4CSfqKokuVOS65P8IMlfT2O2JXnstPzzSZ44Lb8zyev2ctyLuvsbSVJVn0nyE0kOS3L/JB+ZznWHJB9dTZPd/Z2q+n+S/GpVXZnk0O7+VFVtTPLl7v7INPTPk/xukr9N8lNJLpzOdUiSnas5FwAwO4IJAGBPleTM7n75LYpV/75vfjnVTbntf0d8f9ny7v0ryYXdffJ+9vpnSV6R5LO5+W6JJNnzJVo9nevT3f3z+3kuAGAGPMoBAOzpoiRPqaq7J0lVHVFVP7GP8Zcm+fVp+aTbeK5Lkzysqv71dK47V9V99zH+W0nuunuluz+W5Ngk/zbJ2cvGHVdVuwOIk5N8OMnnkizsrlfVoVX1gNvYLwBwgAkmAIBb6O7PZOm9DxdU1eVJLkyyr5dEvijJi6vq49O4b9yGc+1K8ptJzp7OdWmS/3Ufu2xJ8jdV9cFltXcn+Uh3f31Z7cokp0zHPCLJad39gyRPSfJfquqTSbYn+YXV9goAzIbpQgGAf5FpxovvdXdX1UlJTu7uE+d4/r9O8vruvmha35jkr7v7p+bVAwCw/7xjAgD4l3pwkjfX0hsl/78kz5nHSavqsCQfT/LJ3aEEAHD7444JAGDNqarzktxrj/JLu/sDI/oBAGZHMAEAAAAM4+WXAAAAwDCCCQAAAGAYwQQAAAAwjGACAAAAGEYwAQAAAAwjmAAAAACGEUwAAAAAwwgmAAAAgGEEEwAAAMAwG0Y38C9x5JFH9saNG0e3AQAAAOxh27ZtX+3uhVsbd7sOJjZu3JitW7eObgMAAADYQ1V9cTXjPMoBAAAADCOYAAAAAIYRTAAAAADDzCyYqKpjq+qDVXVlVX26qn5vqh9RVRdW1een78OnelXVG6vqqqq6vKoeNKveAAAAgLVhlndM3JjkJd39k0kemuQFVXX/JC9LclF3H5/komk9SR6X5PjpsznJaTPsDQAAAFgDZhZMdPfO7r5sWv5WkiuTHJ3kxCRnTsPOTPLEafnEJGf1kkuTHFZVR82qPwAAAGC8ubxjoqo2Jnlgko8luUd370yWwoskd5+GHZ3ky8t22zHVAAAAgIPUzIOJqrpLknOTvKi7v7mvoSvUeoXjba6qrVW1ddeuXQeqTQAAAGCAmQYTVXVolkKJd3T3e6fydbsf0Zi+r5/qO5Icu2z3Y5Jcu+cxu3tLdy929+LCwsLsmgcAAABmbsOsDlxVleRtSa7s7j9etun8JKckec30/b5l9RdW1buS/FySb+x+5GM9ePB/OGt0CwDcTm177bNGtwAAsN9mFkwkeViSZyb5VFVtn2qvyFIg8e6qem6SLyV56rTt/Uken+SqJN9N8uwZ9gYAAACsATMLJrr7w1n5vRFJ8ugVxneSF8yqHwAAAGDtmcusHAAAAAArEUwAAAAAwwgmAAAAgGEEEwAAAMAwggkAAABgGMEEAAAAMIxgAgAAABhGMAEAAAAMI5gAAAAAhhFMAAAAAMMIJgAAAIBhBBMAAADAMIIJAAAAYBjBBAAAADCMYAIAAAAYRjABAAAADCOYAAAAAIYRTAAAAADDzCyYqKrTq+r6qrpiWe2cqto+fa6pqu1TfWNVfW/ZtrfMqi8AAABg7dgww2OfkeTNSc7aXejup+9erqpTk3xj2firu3vTDPsBAAAA1piZBRPdfUlVbVxpW1VVkqcledSszg8AAACsfaPeMfHwJNd19+eX1e5VVf9QVRdX1cP3tmNVba6qrVW1ddeuXbPvFAAAAJiZUcHEyUnOXra+M8lx3f3AJC9O8s6quttKO3b3lu5e7O7FhYWFObQKAAAAzMrcg4mq2pDkyUnO2V3r7u9399em5W1Jrk5y33n3BgAAAMzXiDsmHpPks929Y3ehqhaq6pBp+d5Jjk/yhQG9AQAAAHM0y+lCz07y0ST3q6odVfXcadNJueVjHEnyiCSXV9Unk7wnyfO7+4ZZ9QYAAACsDbOclePkvdR/c4XauUnOnVUvAAAAwNo06uWXAAAAAIIJAAAAYBzBBAAAADCMYAIAAAAYRjABAAAADCOYAAAAAIYRTAAAAADDCCYAAACAYQQTAAAAwDCCCQAAAGAYwQQAAAAwjGACAAAAGEYwAQAAAAwjmAAAAACGEUwAAAAAwwgmAAAAgGEEEwAAAMAwMwsmqur0qrq+qq5YVntlVX2lqrZPn8cv2/byqrqqqj5XVb8yq74AAACAtWOWd0yckeSEFeqv7+5N0+f9SVJV909yUpIHTPv8aVUdMsPeAAAAgDVgZsFEd1+S5IZVDj8xybu6+/vd/U9JrkrykFn1BgAAAKwNI94x8cKqunx61OPwqXZ0ki8vG7NjqgEAAAAHsXkHE6cluU+STUl2Jjl1qtcKY3ulA1TV5qraWlVbd+3aNZsuAQAAgLmYazDR3dd1903d/cMkb83Nj2vsSHLssqHHJLl2L8fY0t2L3b24sLAw24YBAACAmZprMFFVRy1bfVKS3TN2nJ/kpKq6Y1XdK8nxST4+z94AAACA+dswqwNX1dlJHpnkyKrakeQPkzyyqjZl6TGNa5I8L0m6+9NV9e4kn0lyY5IXdPdNs+oNAAAAWBtmFkx098krlN+2j/GvTvLqWfUDAAAArD0jZuUAAAAASCKYAAAAAAYSTAAAAADDCCYAAACAYQQTAAAAwDCCCQAAAGAYwQQAAAAwjGACAAAAGEYwAQAAAAwjmAAAAACGEUwAAAAAwwgmAAAAgGEEEwAAAMAwggkAAABgGMEEAAAAMIxgAgAAABhGMAEAAAAMI5gAAAAAhplZMFFVp1fV9VV1xbLaa6vqs1V1eVWdV1WHTfWNVfW9qto+fd4yq74AAACAtWOWd0yckeSEPWoXJvmp7v6ZJP+Y5OXLtl3d3Zumz/Nn2BcAAACwRswsmOjuS5LcsEftgu6+cVq9NMkxszo/AAAAsPaNfMfEc5L8zbL1e1XVP1TVxVX18L3tVFWbq2prVW3dtWvX7LsEAAAAZmZIMFFVv5/kxiTvmEo7kxzX3Q9M8uIk76yqu620b3dv6e7F7l5cWFiYT8MAAADATMw9mKiqU5L8apLf6O5Oku7+fnd/bVreluTqJPedd28AAADAfM01mKiqE5K8NMkTuvu7y+oLVXXItHzvJMcn+cI8ewMAAADmb8OsDlxVZyd5ZJIjq2pHkj/M0iwcd0xyYVUlyaXTDByPSPKqqroxyU1Jnt/dN6x4YAAAAOCgMbNgortPXqH8tr2MPTfJubPqBQAAAFibRs7KAQAAAKxzggkAAABgGMEEAAAAMIxgAgAAABhGMAEAAAAMs6pgoqouWk0NAAAA4LbY53ShVfWjSe6c5MiqOjxJTZvuluSeM+4NAAAAOMjtM5hI8rwkL8pSCLEtNwcT30zyJzPsCwAAAFgH9hlMdPcbkryhqn6nu980p54AAACAdeLW7phIknT3m6rqF5JsXL5Pd581o74AAACAdWBVwURV/dck90myPclNU7mTCCYAAACA/baqYCLJYpL7d3fPshkAAABgfVnVdKFJrkjy47NsBAAAAFh/VnvHxJFJPlNVH0/y/d3F7n7CTLoCAAAA1oXVBhOvnGUTAAAAwPq02lk5Lp51IwAAAMD6s9pZOb6VpVk4kuQOSQ5N8p3uvtusGgMAAAAOfqt6+WV337W77zZ9fjTJryd5863tV1WnV9X1VXXFstoRVXVhVX1++j58qldVvbGqrqqqy6vqQfv7QwEAAAC3D6udleMWuvsvkzxqFUPPSHLCHrWXJbmou49PctG0niSPS3L89Nmc5LT96Q0AAAC4/VjtoxxPXrb6I0kWc/OjHXvV3ZdU1cY9yicmeeS0fGaSDyV56VQ/q7s7yaVVdVhVHdXdO1fTIwAAAHD7s9pZOX5t2fKNSa7JUpCwP+6xO2zo7p1VdfepfnSSLy8bt2Oq3SKYqKrNWbqjIscdd9x+tgAAAACsBaudlePZs24kSa106hV62ZJkS5IsLi7e6l0bAAAAwNq1qndMVNUxVXXe9CLL66rq3Ko6Zj/PeV1VHTUd96gk10/1HUmOXTbumCTX7uc5AAAAgNuB1b788u1Jzk9yzyw9XvFXU21/nJ/klGn5lCTvW1Z/1jQ7x0OTfMP7JQAAAODgttpgYqG7397dN06fM5Is3NpOVXV2ko8muV9V7aiq5yZ5TZLHVtXnkzx2Wk+S9yf5QpKrkrw1yW/fth8FAAAAuL1Z7csvv1pVz0hy9rR+cpKv3dpO3X3yXjY9eoWxneQFq+wHAAAAOAis9o6J5yR5WpL/lqVZMp6SZB4vxAQAAAAOYqu9Y+I/JTmlu7+eJFV1RJLXZSmwAAAAANgvq71j4md2hxJJ0t03JHngbFoCAAAA1ovVBhM/UlWH716Z7phY7d0WAAAAACtabbhwapK/r6r3JOksvW/i1TPrCgAAAFgXVhVMdPdZVbU1yaOSVJInd/dnZtoZAAAAcNBb9eMYUxAhjAAAAAAOmNW+YwIAAADggBNMAAAAAMMIJgAAAIBhBBMAAADAMIIJAAAAYBjBBAAAADCMYAIAAAAYRjABAAAADCOYAAAAAIYRTAAAAADDbJj3CavqfknOWVa6d5I/SHJYkt9Ksmuqv6K73z/n9gAAAIA5mnsw0d2fS7IpSarqkCRfSXJekmcneX13v27ePQEAAABjjH6U49FJru7uLw7uAwAAABhgdDBxUpKzl62/sKour6rTq+rwUU0BAAAA8zEsmKiqOyR5QpK/mEqnJblPlh7z2Jnk1L3st7mqtlbV1l27dq00BAAAALidGHnHxOOSXNbd1yVJd1/X3Td19w+TvDXJQ1baqbu3dPdidy8uLCzMsV0AAADgQBsZTJycZY9xVNVRy7Y9KckVc+8IAAAAmKu5z8qRJFV15ySPTfK8ZeU/qqpNSTrJNXtsAwAAAA5CQ4KJ7v5ukn+1R+2ZI3oBAAAAxhk9KwcAAACwjgkmAAAAgGEEEwAAAMAwggkAAABgGMEEAAAAMIxgAgAAABhGMAEAAAAMI5gAAAAAhhFMAAAAAMMIJgAAAIBhBBMAAADAMIIJAAAAYBjBBAAAADCMYAIAAAAYRjABAAAADCOYAAAAAIYRTAAAAADDCCYAAACAYTaMOnFVXZPkW0luSnJjdy9W1RFJzkmyMck1SZ7W3V8f1SMAAAAwW6PvmPil7t7U3YvT+suSXNTdxye5aFoHAAAADlKjg4k9nZjkzGn5zCRPHNgLAAAAMGMjg4lOckFVbauqzVPtHt29M0mm77vvuVNVba6qrVW1ddeuXXNsFwAAADjQhr1jIsnDuvvaqrp7kgur6rOr2am7tyTZkiSLi4s9ywYBAACA2Rp2x0R3Xzt9X5/kvCQPSXJdVR2VJNP39aP6AwAAAGZvSDBRVT9WVXfdvZzkl5NckeT8JKdMw05J8r4R/QEAAADzMepRjnskOa+qdvfwzu7+26r6RJJ3V9Vzk3wpyVMH9QcAAADMwZBgoru/kORnV6h/Lcmj598RAAAAMMJamy4UAAAAWEcEEwAAAMAwggkAAABgGMEEAAAAMIxgAgAAABhGMAEAAAAMI5gAAAAAhhFMAAAAAMMIJgAAAIBhBBMAAADAMIIJAAAAYBjBBAAAADCMYAIAAAAYRjABAAAADCOYAAAAAIYRTAAAAADDCCYAAACAYeYeTFTVsVX1waq6sqo+XVW/N9VfWVVfqart0+fx8+4NAAAAmK8NA855Y5KXdPdlVXXXJNuq6sJp2+u7+3UDegIAAAAGmHsw0d07k+yclr9VVVcmOXrefQAAAADjDX3HRFVtTPLAJB+bSi+sqsur6vSqOnxYYwAAAMBcDAsmquouSc5N8qLu/maS05LcJ8mmLN1Rcepe9ttcVVurauuuXbvm1i8AAABw4A0JJqrq0CyFEu/o7vcmSXdf1903dfcPk7w1yUNW2re7t3T3YncvLiwszK9pAAAA4IAbMStHJXlbkiu7+4+X1Y9aNuxJSa6Yd28AAADAfI2YleNhSZ6Z5FNVtX2qvSLJyVW1KUknuSbJ8wb0BgAAAMzRiFk5PpykVtj0/nn3AgAAAIw1dFYOAAAAYH0TTAAAAADDCCYAAACAYQQTAAAAwDCCCQAAAGAYwQQAAAAwjGACAAAAGEYwAQAAAAwjmAAAAACGEUwAAAAAwwgmAAAAgGEEEwAAAMAwggkAAABgGMEEAAAAMIxgAgAAABhGMAEAAAAMI5gAAAAAhhFMAAAAAMNsGN3AnqrqhCRvSHJIkj/r7tcMbgkA4Db50qt+enQLANyOHfcHnxrdwlytqTsmquqQJP9/e3cebslZ14v++zUBUQYB03CZQgARRZAAbY6IIoIcgavggEIus0PkKIr36LmKnos8eD0qgoqicMKRUYwog0TlKtzIoMiQBAIJYcYoMTkkgIdBEU3yu3/satk0HbLT9N61u/vzeZ71rKq33qr6ra699tr9XW9V/XaS+yW5fZKT295+3aoAAACA7bKrgokkJyV538x8YGb+NckfJHngyjUBAAAA22S3ncpxsyQf3DR/YZL/sLlD21OSnLLMfrLtu3eoNmA9xyX58NpFwG7Vpzxy7RIAri6f7fD5/HzXruBQueVWOu22YOJA//rzWTMzpyY5dWfKAXaDtmfNzN616wAADg2f7cBmu+1UjguT3GLT/M2TXLRSLQAAAMA2223BxJlJbtv2Vm2vmeQhSU5fuSYAAABgm+yqUzlm5rK2j03yF9m4XeizZ+YdK5cFrM/pWwBwZPHZDvy7zsxV9wIAAADYBrvtVA4AAADgKCKYAAAAAFYjmABW0/bH276z7QsPwbZ+9lDUBAAA7CzXmABW0/ZdSe43M3+7qe3YmbnsILb1yZm5ziEtEAA4aG2bjf9vXHGQ6x/U3wTA4ceICWAVbZ+Z5NZJTm/7sbantn1lkue3vVbb57Q9t+1b237Lss6j2r607Z+3fW/bJy/tv5zkS9qecyhGXwAAB6ftCctoyN9J8pYkD2/7hrZvaftHba+z9HtC2zPbnrf8DdCl/TVt/1vb1yZ53IovBdhBRkwAq2l7QZK9SR6b5DuSfOPMfKrtTya5w8w8uu1XJXllkq9M8pAkT0hy5ySfTvLuZZ0PGjEBAOtre0KSDyT5hiTvS/LSbIyO/Ke2P53ki2fmSW1vODMfXdZ5QZI/nJk/afuaJOfPzI+s8gKAVRgxAewWp8/Mp5bpb0zygiSZmXcl+btsBBNJcsbMfGxm/iXJ+UluueOVAgCfz9/NzBuTfH2S2yd5fdtzkjwyn/nc/pa2b2p7bpJ7JfmaTeu/aEerBVZ37NoFACz+adN0P0+/T2+avjx+jwHAbrPvM71JXjUzJ29e2PZaSX4nyd5l1OMTk1zrAOsDRwkjJoDd6HVJHpokbb8yyfHZOG3j8/m3ttfY7sIAgC17Y5K7t/2KJGn7pcvn+r4Q4sPLNScetFaBwO4gmAB2o99JcswyvPNFSR41M5++inVOTfJ2F78EgN1hZi5N8qgkp7V9ezaCiq+amf+V5FlJzk3yx0nOXK1IYFdw8UsAAABgNUZMAAAAAKsRTAAAAACrEUwAAAAAqxFMAAAAAKsRTAAAAACrEUwAAAAAqxFMAAAHpe1N2774EG/zNW33HsLtndj2/pvmH9D2Zw7V9gGAL5xgAgA4KDNz0cw8aO06rsKJSf49mJiZ02fml1esBwDYj2ACAI5CbR/W9s1tz2n739se0/aTbX+x7dvavrHtjZe+t1nmz2z7pLafXNpPaHveMv2oti9t++dt39v2yZv29R/bvqHtW9r+UdvrbLHGk9ue2/a8tr+yqf2+y7be1vaMpe2ktn/T9q3L8+3aXjPJk5I8eHmdD17qfPqyzi3bntH27cvz8Uv7c9v+5rKdD7Td7eELABzWBBMAcJRp+9VJHpzk7jNzYpLLkzw0ybWTvHFm7pTkdUl+aFnlaUmeNjNfl+Siz7PpE5ftxDt6ggAAHRBJREFU3jEbYcAt2h6X5L8m+daZuUuSs5L85y3UeNMkv5LkXst2v67td7bdk+RZSb5nqfN7l1XeleQeM3PnJE9I8t9m5l+X6RfNzIkz86L9dvP0JM+fma9N8sIkv7lp2U2SfGOSb09ihAUAbKNj1y4AANhx905y1yRntk2SL0lySZJ/TfKnS5+zk9xnmb5bku9cpn8/yVOuZLtnzMzHkqTt+UlumeT6SW6f5PXLvq6Z5A1bqPHrkrxmZi5dtvfCJPfIRojyupn52ySZmY8u/b8syfPa3jbJJLnGFvZxtyTfvUy/IMmTNy3745m5Isn5+0aOAADbQzABAEefJnnezDz+sxrbn5qZWWYvz9X/O+HTm6b3rd8kr5qZkw+ixitrnwO0/0KSV8/Md7U9Iclrrub+st92N7+WK6sFADgEnMoBAEefM5I8qO2NkqTtDdve8vP0f2OS71mmH3I19/XGJHdv+xXLvr607VduYb03Jfnmtse1PSbJyUlem43RFt/c9lb7al/6f1mSf1imH7VpO59Ict0r2cff5DOv56FJ/npLrwgAOKQEEwBwlJmZ87Nx3YdXtn17kldl45oKV+Ynkvzntm9e+n3sauzr0mwEBact+3pjkq/awnoXJ3l8klcneVuSt8zMy5ftnZLkpW3flmTfdSOenOSX2r4+yTGbNvXqJLffd/HL/Xbz40kevdT18CSP2+rrAgAOnX5mxCYAwOdq+6VJPjUz0/YhSU6emQeuXRcAcGRwjQkA4KrcNcnTu3H1yv+V5PtXrgcAOIIYMQEA7Li2L0tyq/2af3pm/mKNegCA9QgmAAAAgNW4+CUAAACwGsEEAAAAsBrBBAAAALAawQQAAACwGsEEAAAAsBrBBAAAALAawQQAAACwGsEEAAAAsBrBBAAAALCaY9cu4Atx3HHHzQknnLB2GQAAAMB+zj777A/PzJ6r6ndYBxMnnHBCzjrrrLXLAAAAAPbT9u+20s+pHAAAAMBqBBMAAADAagQTAAAAwGq2LZhoe4u2r277zrbvaPu4pf2GbV/V9r3L8w2W9rb9zbbva/v2tnfZrtoAAACA3WE7R0xcluQnZ+ark3x9kh9te/skP5PkjJm5bZIzlvkkuV+S2y6PU5I8YxtrAwAAAHaBbQsmZubimXnLMv2JJO9McrMkD0zyvKXb85J85zL9wCTPnw1vTHL9tjfZrvoAAACA9e3INSbanpDkzknelOTGM3NxshFeJLnR0u1mST64abULl7b9t3VK27PannXppZduZ9kAAADANtv2YKLtdZK8JMlPzMzHP1/XA7TN5zTMnDoze2dm7549ew5VmQAAAMAKtjWYaHuNbIQSL5yZly7NH9p3isbyfMnSfmGSW2xa/eZJLtrO+gAAAIB1beddOZrkd5O8c2Z+bdOi05M8cpl+ZJKXb2p/xHJ3jq9P8rF9p3wAAAAAR6Zjt3Hbd0/y8CTntj1nafvZJL+c5A/b/kCSv0/yvcuyVyS5f5L3JfnnJI/extoAAACAXWDbgomZ+esc+LoRSXLvA/SfJD+6XfUAAAAAu8+O3JUDAAAA4EAEEwAAAMBqBBMAAADAagQTAAAAwGoEEwAAAMBqBBMAAADAagQTAAAAwGoEEwAAAMBqBBMAAADAagQTAAAAwGoEEwAAAMBqBBMAAADAagQTAAAAwGoEEwAAAMBqBBMAAADAagQTAAAAwGoEEwAAAMBqti2YaPvstpe0PW9T24vanrM8Lmh7ztJ+QttPbVr2zO2qCwAAANg9jt3GbT83ydOTPH9fw8w8eN9026cm+dim/u+fmRO3sR4AAABgl9m2YGJmXtf2hAMta9sk35fkXtu1fwAAAGD3W+saE9+U5EMz895Nbbdq+9a2r237TSvVBQAAAOyg7TyV4/M5Oclpm+YvTnL8zHyk7V2T/HHbr5mZj++/YttTkpySJMcff/yOFAsAAABsjx0fMdH22CTfneRF+9pm5tMz85Fl+uwk70/ylQdaf2ZOnZm9M7N3z549O1EyAAAAsE3WOJXjW5O8a2Yu3NfQdk/bY5bpWye5bZIPrFAbAAAAsIO283ahpyV5Q5Lbtb2w7Q8six6Szz6NI0nukeTtbd+W5MVJHjMzH92u2gAAAIDdYTvvynHylbQ/6gBtL0nyku2qBQAAANid1rorBwAAAIBgAgAAAFiPYAIAAABYjWACAAAAWI1gAgAAAFiNYAIAAABYjWACAAAAWI1gAgAAAFiNYAIAAABYjWACAAAAWI1gAgAAAFiNYAIAAABYjWACAAAAWI1gAgAAAFiNYAIAAABYjWACAAAAWI1gAgAAAFiNYAIAAABYzbYFE22f3faStudtanti239oe87yuP+mZY9v+7627277bdtVFwAAALB7bOeIiecmue8B2n99Zk5cHq9Ikra3T/KQJF+zrPM7bY/ZxtoAAACAXWDbgomZeV2Sj26x+wOT/MHMfHpm/jbJ+5KctF21AQAAALvDGteYeGzbty+netxgabtZkg9u6nPh0vY52p7S9qy2Z1166aXbXSsAAACwjXY6mHhGktskOTHJxUmeurT3AH3nQBuYmVNnZu/M7N2zZ8/2VAkAAADsiB0NJmbmQzNz+cxckeRZ+czpGhcmucWmrjdPctFO1gYAAADsvB0NJtreZNPsdyXZd8eO05M8pO0Xt71VktsmefNO1gYAAADsvGO3a8NtT0tyzyTHtb0wyc8nuWfbE7NxmsYFSX44SWbmHW3/MMn5SS5L8qMzc/l21QYAAADsDp054KUcDgt79+6ds846a+0yAAAAgP20PXtm9l5VvzXuygEAAACQRDABAAAArEgwAQAAAKxGMAEAAACsRjABAAAArEYwAQAAAKxGMAEAAACsRjABAAAArEYwAQAAAKxGMAEAAACsRjABAAAArEYwAQAAAKxGMAEAAACsRjABAAAArEYwAQAAAKxGMAEAAACsRjABAAAArGbbgom2z257SdvzNrX9att3tX1725e1vf7SfkLbT7U9Z3k8c7vqAgAAAHaP7Rwx8dwk992v7VVJ7jAzX5vkPUkev2nZ+2fmxOXxmG2sCwAAANglti2YmJnXJfnofm2vnJnLltk3Jrn5du0fAAAA2P3WvMbE9yf5fzfN36rtW9u+tu03rVUUAAAAsHOOXWOnbX8uyWVJXrg0XZzk+Jn5SNu7Jvnjtl8zMx8/wLqnJDklSY4//vidKhkAAADYBjs+YqLtI5N8e5KHzswkycx8emY+skyfneT9Sb7yQOvPzKkzs3dm9u7Zs2enygYAAAC2wY4GE23vm+SnkzxgZv55U/uetscs07dOctskH9jJ2gAAAICdt22ncrQ9Lck9kxzX9sIkP5+Nu3B8cZJXtU2SNy534LhHkie1vSzJ5UkeMzMfPeCGAQAAgCPGtgUTM3PyAZp/90r6viTJS7arFgAAAGB3WvOuHAAAAMBRTjABAAAArEYwAQAAAKxGMAEAAACsRjABAAAArEYwAQAAAKxmS8FE2zO20gYAAABwdRz7+Ra2vVaSL01yXNsbJOmy6HpJbrrNtQEAAABHuM8bTCT54SQ/kY0Q4ux8Jpj4eJLf3sa6AAAAgKPA5w0mZuZpSZ7W9sdm5rd2qCYAAADgKHFVIyaSJDPzW22/IckJm9eZmedvU10AAADAUWBLwUTbFyS5TZJzkly+NE8SwQQAAABw0LYUTCTZm+T2MzPbWQwAAABwdNnS7UKTnJfkf9vOQgAAAICjz1ZHTByX5Py2b07y6X2NM/OAbakKAAAAOCpsNZh44nYWAQAAABydtnpXjtdudyEAAADA0Werd+X4RDbuwpEk10xyjST/NDPX267CAAAAgCPfli5+OTPXnZnrLY9rJfmeJE+/qvXaPrvtJW3P29R2w7avavve5fkGS3vb/mbb97V9e9u7HOyLAgAAAA4PW70rx2eZmT9Ocq8tdH1ukvvu1/YzSc6YmdsmOWOZT5L7Jbnt8jglyTMOpjYAAADg8LHVUzm+e9PsFyXZm8+c2nGlZuZ1bU/Yr/mBSe65TD8vyWuS/PTS/vyZmSRvbHv9tjeZmYu3UiMAAABw+NnqXTm+Y9P0ZUkuyEaQcDBuvC9smJmL295oab9Zkg9u6nfh0vZZwUTbU7IxoiLHH3/8QZYAAAAA7AZbvSvHo7e7kCQ90K4PUMupSU5Nkr17917lqA0AAABg99rSNSba3rzty5YLWX6o7Uva3vwg9/mhtjdZtnuTJJcs7RcmucWmfjdPctFB7gMAAAA4DGz14pfPSXJ6kptm4/SKP1naDsbpSR65TD8yycs3tT9iuTvH1yf5mOtLAAAAwJFtq8HEnpl5zsxctjyem2TPVa3U9rQkb0hyu7YXtv2BJL+c5D5t35vkPst8krwiyQeSvC/Js5L8yNV7KQAAAMDhZqsXv/xw24clOW2ZPznJR65qpZk5+UoW3fsAfSfJj26xHgAAAOAIsNURE9+f5PuS/M9s3CXjQUl24oKYAAAAwBFsqyMmfiHJI2fmH5Ok7Q2TPCUbgQUAAADAQdnqiImv3RdKJMnMfDTJnbenJAAAAOBosdURE1/U9gb7jZjY6rq7yl3/y/PXLoFNzv7VR6xdAgAAACvaarjw1CR/0/bFSSYb15v4xW2rCgAAADgqbCmYmJnntz0ryb2SNMl3z8z521oZAAAAcMTb8ukYSxAhjAAAAAAOma1e/BIAAADgkBNMAAAAAKsRTAAAAACrEUwAAAAAqxFMAAAAAKsRTAAAAACrEUwAAAAAqxFMAAAAAKsRTAAAAACrEUwAAAAAqzl2p3fY9nZJXrSp6dZJnpDk+kl+KMmlS/vPzswrdrg8AAAAYAfteDAxM+9OcmKStD0myT8keVmSRyf59Zl5yk7XBAAAAKxj7VM57p3k/TPzdyvXAQAAAKxg7WDiIUlO2zT/2LZvb/vstjdYqygAAABgZ6wWTLS9ZpIHJPmjpekZSW6TjdM8Lk7y1CtZ75S2Z7U969JLLz1QFwAAAOAwseaIifslecvMfChJZuZDM3P5zFyR5FlJTjrQSjNz6szsnZm9e/bs2cFyAQAAgENtzWDi5Gw6jaPtTTYt+64k5+14RQAAAMCO2vG7ciRJ2y9Ncp8kP7yp+cltT0wySS7YbxkAAABwBFolmJiZf07y5fu1PXyNWgAAAID1rH1XDgAAAOAoJpgAAAAAViOYAAAAAFYjmAAAAABWI5gAAAAAViOYAAAAAFazyu1CYSf9/ZPuuHYJ7Of4J5y7dgkAAMAuYcQEAAAAsBrBBAAAALAawQQAAACwGsEEAAAAsBrBBAAAALAawQQAAACwGsEEAAAAsBrBBAAAALAawQQAAACwGsEEAAAAsBrBBAAAALCaY9facdsLknwiyeVJLpuZvW1vmORFSU5IckGS75uZf1yrRgAAAGB7rT1i4ltm5sSZ2bvM/0ySM2bmtknOWOYBAACAI9TawcT+Hpjkecv085J854q1AAAAANtszWBikryy7dltT1nabjwzFyfJ8nyj/Vdqe0rbs9qedemll+5guQAAAMChtto1JpLcfWYuanujJK9q+66trDQzpyY5NUn27t0721kgAAAAsL1WGzExMxctz5ckeVmSk5J8qO1NkmR5vmSt+gAAAIDtt0ow0fbaba+7bzrJf0xyXpLTkzxy6fbIJC9foz4AAABgZ6x1KseNk7ys7b4afn9m/rztmUn+sO0PJPn7JN+7Un0AAADADlglmJiZDyS50wHaP5Lk3jtfEQAAALCG3Xa7UAAAAOAoIpgAAAAAViOYAAAAAFYjmAAAAABWI5gAAAAAViOYAAAAAFYjmAAAAABWI5gAAAAAViOYAAAAAFYjmAAAAABWI5gAAAAAViOYAAAAAFYjmAAAAABWI5gAAAAAViOYAAAAAFYjmAAAAABWI5gAAAAAVrPjwUTbW7R9ddt3tn1H28ct7U9s+w9tz1ke99/p2gAAAICddewK+7wsyU/OzFvaXjfJ2W1ftSz79Zl5ygo1AQAAACvY8WBiZi5OcvEy/Ym270xys52uAwAAAFjfqteYaHtCkjsnedPS9Ni2b2/77LY3uJJ1Tml7VtuzLr300h2qFAAAANgOqwUTba+T5CVJfmJmPp7kGUluk+TEbIyoeOqB1puZU2dm78zs3bNnz47VCwAAABx6qwQTba+RjVDihTPz0iSZmQ/NzOUzc0WSZyU5aY3aAAAAgJ2zxl05muR3k7xzZn5tU/tNNnX7riTn7XRtAAAAwM5a464cd0/y8CTntj1nafvZJCe3PTHJJLkgyQ+vUBsAAACwg9a4K8dfJ+kBFr1ip2sBAAAA1rXGiAkAAIAte+cv/uXaJbCfr/65e61dAkeQVW8XCgAAABzdBBMAAADAagQTAAAAwGoEEwAAAMBqBBMAAADAagQTAAAAwGoEEwAAAMBqBBMAAADAao5duwAAOFRee49vXrsENvnm17127RIAgMOAERMAAADAaoyYAAAAYNd54hOfuHYJbLKdx8OICQAAAGA1ggkAAABgNYIJAAAAYDWCCQAAAGA1ggkAAABgNbsumGh737bvbvu+tj+zdj0AAADA9tlVtwtte0yS305ynyQXJjmz7ekzc/66lQEAsFv84sMetHYJbPJzv/fitUsADnO7bcTESUneNzMfmJl/TfIHSR64ck0AAADANtlVIyaS3CzJBzfNX5jkP6xUC3AYu/tv3X3tEtjk9T/2+rVL4Aj19J/8k7VLYD+Pfep3rF0CAIeZzszaNfy7tt+b5Ntm5geX+YcnOWlmfmxTn1OSnLLM3i7Ju3e80N3huCQfXrsIdpzjfvRxzI9OjvvRxzE/OjnuRx/H/Oh0NB/3W87MnqvqtNtGTFyY5Bab5m+e5KLNHWbm1CSn7mRRu1Hbs2Zm79p1sLMc96OPY350ctyPPo750clxP/o45kcnx/2q7bZrTJyZ5LZtb9X2mkkekuT0lWsCAAAAtsmuGjExM5e1fWySv0hyTJJnz8w7Vi4LAAAA2Ca7KphIkpl5RZJXrF3HYeCoP53lKOW4H30c86OT4370ccyPTo770ccxPzo57ldhV138EgAAADi67LZrTAAAAABHEcHEEabtr7Z9x/L8mLaPWLsmrlrbW7R9ddt3LsfvcUv7a9p+zhV82z6x7U8doP2EtuftRM3srLZf3Pb/a3tO2we3/R9tb792XVw9bZ/d9pLN71Pvc/bXdk/bN7V9a9tvavuKttdfuy6unrbHLMfwT5f5C9oed4B+z237oAO033Pfuhye2v7NlbT/+zH3eX70avvJ5fmmbV+8dj1r23XXmOAL9sNJ9szMp9cuhKvlsiQ/OTNvaXvdJGe3fdXaRbGr3DnJNWbmxGX+RWsWw0F7bpKnJ3n+ynWwu907ybtm5pHL/F+tWQwH7XFJ3pnkemsXwjpm5hu20OcHd6IWdq+ZuSjJ54STRxsjJnaZ5Zuwdy3p6XltX9j2W9u+vu172560fIv2grZ/ubT90LLu6UmuneRNyzeqB/y2jd1nZi6embcs05/Ixh8yN1sWP6zt3yw/DydtWu1O+/8McHjayvs+ye8lOXEZMXGbK/uWnd1tZl6X5KMHWOR9foRre+22f9b2bctxfvDyDfqvtH3z8viKticmeXKS+y/v9y+5sm/a2b3a3jzJ/57kf+y36L9sPt6b2r+17V+1fU/bb9+5StlOm74Rb9untz2/7Z8ludGmPj7PD2Nb/d2+9L1V2ze0PbPtL2zahpGQEUzsVl+R5GlJvjbJVyX5P5J8Y5KfSvKzS5+vzcYH3t2SPKHtTWfmAUk+NTMnzoxvUw9TbU/Ixrfjb1qarr0k7j+S5Nmbun7Oz8AOlsmhd1Xv+x9M8lfL+/v9q1XJdvE+P/LdN8lFM3OnmblDkj9f2j8+MydlYyTNb8zMOUmekORFy/v9UyvVyxfmN5L8X0mu2K/9s473pvYTknxzNt7vz2x7rZ0okh3zXUlul+SOSX4oyVWOpOCwsaXf7Uvb05I8Y2a+Lsn/3PlSdzfBxO70tzNz7sxckeQdSc6YjdunnJuND64kefnMfGpmPpzk1UlOOvCmOJy0vU6SlyT5iZn5+NJ8WvLv37Reb9N5xn4Gjixbed9z5PI+P/Kdm41vxX+l7TfNzMeW9tM2Pd9tndI4lJYRD5fMzNkHWHxlx/sPZ+aKmXlvkg9kI6DmyHGPJKfNzOXLsP2/XLsgDpmr87v97pvaX7CDNR4WXGNid9p8fYgrNs1fkc8cs/3v8+q+r4e5ttfIRijxwpl56aZFV3as/QwcWbbyvufI5X1+hJuZ97S9a5L7J/mltq/ct2hzt52vjG1w9yQPaHv/JNfKRtj4e8uyKzve3utHPsf0CHQQv9v9HFwJIyYOXw9se622X57knknOXLkevgBtm+R3k7xzZn5tv8UPXvp8Y5KPbUpi/QzAkcP7/Ai3nIbzzzPze0mekuQuy6IHb3p+wxq1cWjNzONn5uYzc0KShyT5y5l52LL4yo7397b9ora3SXLrJO/esYLZCa9L8pBu3KnlJkm+Ze2CODSu5u/212fjd0KSPHTHijxM+Bbu8PXmJH+W5Pgkv7AMC+PwdfckD09ybttzlrZ91xP5x27cbup6Sb5/0zqf8zOwXJ8C2KXanpaNgOG4thcm+fllkff5ke+OSX617RVJ/i3Jf0ry4iRf3PZN2fiy6OQV62NnXNnxfneS1ya5cZLHzMy/bHxnwRHiZUnulY1h/+/JxrHmyHB1frc/Lsnvt31cNkZJs0k3TmHmcNL2iUk+OTNPWbsWAODgtL0gyd7lGiIAHAH8bj84TuUAAAAAVmPEBAAAALAaIyYAAACA1QgmAAAAgNUIJgAAAIDVCCYAAACA1QgmAIADavvjbd/Z9oUHse4FbY/bjrqW7T+q7U23a/sAwM45du0CAIBd60eS3G9m/nbtQg7gUUnOS3LRynUAAF8gIyYAgM/R9plJbp3k9LYfa/tTm5ad1/aEZfphbd/c9py2/73tMVvY9rXb/lnbty3benDbe7d92aY+92n70rbHtH3u0u/ctv9n2wcl2Zvkhct+v6TtXdu+tu3Zbf+i7U2W7bym7a+3fd0y+uPrlu2+t+3/c2j/1QCAgyGYAAA+x8w8JhujEb4lya8fqE/br07y4CR3n5kTk1ye5KFb2Px9k1w0M3eamTsk+fMkf5nkq9vuWfo8OslzkpyY5GYzc4eZuWOS58zMi5OcleShy34vS/JbSR40M3dN8uwkv7hpf/86M/dI8swkL0/yo0nukORRbb98a/8iAMB2cSoHAHCw7p3krknObJskX5Lkki2sd26Sp7T9lSR/OjN/lSRtX5DkYW2fk+RuSR6R5LpJbt32t5L8WZJXHmB7t8tG0PCqpY5jkly8afnpm/b7jpm5eNnfB5LcIslHtvqCAYBDTzABAFyVy/LZoyyvtTw3yfNm5vFXZ2Mz8562d01y/yS/1PaVM/OkbIyQ+JMk/5Lkj2bmsiT/2PZOSb4tGyMdvi/J9++3yWYjcLjblezy08vzFZum9837WwgAVuZUDgDgqlyQ5C5J0vYuSW61tJ+R5EFtb7Qsu2HbW17Vxpa7afzzzPxekqfs2/bMXJSN00f+a5LnLn2PS/JFM/OSJP/3vr5JPpGN0RRJ8u4ke9rebVnnGm2/5gt4vQDADvItAQBwVV6S5BFtz0lyZpL3JMnMnN/2vyZ5ZdsvSvJv2RjV8HdXsb07JvnVtlcs6/ynTctemGTPzJy/zN8syXOW7SfJvtEZz03yzLafysZpHw9K8pttvywbf9/8RpJ3HOTrBQB2UGdm7RoAAJIkbZ+e5K0z87tr1wIA7AzBBACwK7Q9O8k/JbnPzHz6qvoDAEcGwQQAsC2WW3GecYBF954Zd8IAAJIIJgAAAIAVuSsHAAAAsBrBBAAAALAawQQAAACwGsEEAAAAsBrBBAAAALCa/x+JzB5g3k+yDgAAAABJRU5ErkJggg==\n",
      "text/plain": [
       "<Figure size 1296x2736 with 8 Axes>"
      ]
     },
     "metadata": {},
     "output_type": "display_data"
    }
   ],
   "source": [
    "#Análise dos atributos categóricos nominais\n",
    "cols_alfa = [\"make\",\"fuel_type\",\"aspiration\",\"body_style\",\"drive_wheels\",\"engine_type\",\"engine_location\",\"fuel_system\"]\n",
    "n_linhas = len(cols_alfa)\n",
    "fig,ax = plt.subplots(nrows=n_linhas, sharey=True)\n",
    "fig.set_size_inches(18, 38)\n",
    "#Exibe o histograma de quantidades de elementos por categoria para verificar se há alguma informação discrepante\n",
    "for i in range(n_linhas):\n",
    "    sns.countplot(ax=ax[i],x=cols_alfa[i],data=automobile_norm)\n",
    "    "
   ]
  },
  {
   "cell_type": "markdown",
   "metadata": {},
   "source": [
    "Observando os atributos categóricos sobre veículos, não há valor discrepante que não represente a informação correspondente. Deste modo, os fabricantes de veículos são realmente nomes de fabricantes, o tipo de combustível é coerente com o esperado, e assim sucessivamente. "
   ]
  },
  {
   "cell_type": "markdown",
   "metadata": {},
   "source": [
    "Antes de explorar melhor as correlações, vamos analisar se há dados discrepante no conjunto de dados. Analisar os dados sem esta análise antes pode nos levar a algum viés indesejado."
   ]
  },
  {
   "cell_type": "markdown",
   "metadata": {},
   "source": [
    "### Análise de valores inválidos"
   ]
  },
  {
   "cell_type": "markdown",
   "metadata": {},
   "source": [
    "Analise e busque por valores considerados nulos."
   ]
  },
  {
   "cell_type": "code",
   "execution_count": 11,
   "metadata": {},
   "outputs": [
    {
     "data": {
      "text/plain": [
       "make                   False\n",
       "fuel_type              False\n",
       "aspiration             False\n",
       "number_of_doors        False\n",
       "body_style             False\n",
       "drive_wheels           False\n",
       "engine_location        False\n",
       "wheel_base             False\n",
       "length                 False\n",
       "width                  False\n",
       "height                 False\n",
       "curb_weight            False\n",
       "engine_type            False\n",
       "number_of_cylinders    False\n",
       "engine_size            False\n",
       "fuel_system            False\n",
       "bore                   False\n",
       "stroke                 False\n",
       "compression_ratio      False\n",
       "horsepower             False\n",
       "peak_rpm                True\n",
       "city_mpg                True\n",
       "highway_mpg             True\n",
       "price                  False\n",
       "dtype: bool"
      ]
     },
     "execution_count": 11,
     "metadata": {},
     "output_type": "execute_result"
    }
   ],
   "source": [
    "#Verifica se há valores nulos\n",
    "automobile.isnull().any()"
   ]
  },
  {
   "cell_type": "code",
   "execution_count": 12,
   "metadata": {},
   "outputs": [
    {
     "data": {
      "text/html": [
       "<div>\n",
       "<style scoped>\n",
       "    .dataframe tbody tr th:only-of-type {\n",
       "        vertical-align: middle;\n",
       "    }\n",
       "\n",
       "    .dataframe tbody tr th {\n",
       "        vertical-align: top;\n",
       "    }\n",
       "\n",
       "    .dataframe thead th {\n",
       "        text-align: right;\n",
       "    }\n",
       "</style>\n",
       "<table border=\"1\" class=\"dataframe\">\n",
       "  <thead>\n",
       "    <tr style=\"text-align: right;\">\n",
       "      <th></th>\n",
       "      <th>make</th>\n",
       "      <th>fuel_type</th>\n",
       "      <th>aspiration</th>\n",
       "      <th>number_of_doors</th>\n",
       "      <th>body_style</th>\n",
       "      <th>drive_wheels</th>\n",
       "      <th>engine_location</th>\n",
       "      <th>wheel_base</th>\n",
       "      <th>length</th>\n",
       "      <th>width</th>\n",
       "      <th>...</th>\n",
       "      <th>engine_size</th>\n",
       "      <th>fuel_system</th>\n",
       "      <th>bore</th>\n",
       "      <th>stroke</th>\n",
       "      <th>compression_ratio</th>\n",
       "      <th>horsepower</th>\n",
       "      <th>peak_rpm</th>\n",
       "      <th>city_mpg</th>\n",
       "      <th>highway_mpg</th>\n",
       "      <th>price</th>\n",
       "    </tr>\n",
       "  </thead>\n",
       "  <tbody>\n",
       "    <tr>\n",
       "      <th>136</th>\n",
       "      <td>subaru</td>\n",
       "      <td>gas</td>\n",
       "      <td>std</td>\n",
       "      <td>2</td>\n",
       "      <td>hatchback</td>\n",
       "      <td>4wd</td>\n",
       "      <td>front</td>\n",
       "      <td>93.3</td>\n",
       "      <td>157.3</td>\n",
       "      <td>63.8</td>\n",
       "      <td>...</td>\n",
       "      <td>108</td>\n",
       "      <td>2bbl</td>\n",
       "      <td>3.62</td>\n",
       "      <td>2.64</td>\n",
       "      <td>8.7</td>\n",
       "      <td>73</td>\n",
       "      <td>NaN</td>\n",
       "      <td>26.0</td>\n",
       "      <td>31.0</td>\n",
       "      <td>7603</td>\n",
       "    </tr>\n",
       "    <tr>\n",
       "      <th>184</th>\n",
       "      <td>volkswagen</td>\n",
       "      <td>gas</td>\n",
       "      <td>std</td>\n",
       "      <td>4</td>\n",
       "      <td>sedan</td>\n",
       "      <td>fwd</td>\n",
       "      <td>front</td>\n",
       "      <td>97.3</td>\n",
       "      <td>171.7</td>\n",
       "      <td>65.5</td>\n",
       "      <td>...</td>\n",
       "      <td>109</td>\n",
       "      <td>mpfi</td>\n",
       "      <td>3.19</td>\n",
       "      <td>3.40</td>\n",
       "      <td>10.0</td>\n",
       "      <td>100</td>\n",
       "      <td>NaN</td>\n",
       "      <td>26.0</td>\n",
       "      <td>32.0</td>\n",
       "      <td>9995</td>\n",
       "    </tr>\n",
       "  </tbody>\n",
       "</table>\n",
       "<p>2 rows × 24 columns</p>\n",
       "</div>"
      ],
      "text/plain": [
       "           make fuel_type aspiration  number_of_doors body_style drive_wheels  \\\n",
       "136      subaru       gas        std                2  hatchback          4wd   \n",
       "184  volkswagen       gas        std                4      sedan          fwd   \n",
       "\n",
       "    engine_location  wheel_base  length  width  ...    engine_size  \\\n",
       "136           front        93.3   157.3   63.8  ...            108   \n",
       "184           front        97.3   171.7   65.5  ...            109   \n",
       "\n",
       "     fuel_system  bore  stroke  compression_ratio horsepower  peak_rpm  \\\n",
       "136         2bbl  3.62    2.64                8.7         73       NaN   \n",
       "184         mpfi  3.19    3.40               10.0        100       NaN   \n",
       "\n",
       "     city_mpg  highway_mpg  price  \n",
       "136      26.0         31.0   7603  \n",
       "184      26.0         32.0   9995  \n",
       "\n",
       "[2 rows x 24 columns]"
      ]
     },
     "execution_count": 12,
     "metadata": {},
     "output_type": "execute_result"
    }
   ],
   "source": [
    "#Automóveis com peak_rpm nulo\n",
    "automobile[automobile[\"peak_rpm\"].isnull()]"
   ]
  },
  {
   "cell_type": "code",
   "execution_count": 13,
   "metadata": {},
   "outputs": [
    {
     "data": {
      "text/html": [
       "<div>\n",
       "<style scoped>\n",
       "    .dataframe tbody tr th:only-of-type {\n",
       "        vertical-align: middle;\n",
       "    }\n",
       "\n",
       "    .dataframe tbody tr th {\n",
       "        vertical-align: top;\n",
       "    }\n",
       "\n",
       "    .dataframe thead th {\n",
       "        text-align: right;\n",
       "    }\n",
       "</style>\n",
       "<table border=\"1\" class=\"dataframe\">\n",
       "  <thead>\n",
       "    <tr style=\"text-align: right;\">\n",
       "      <th></th>\n",
       "      <th>make</th>\n",
       "      <th>fuel_type</th>\n",
       "      <th>aspiration</th>\n",
       "      <th>number_of_doors</th>\n",
       "      <th>body_style</th>\n",
       "      <th>drive_wheels</th>\n",
       "      <th>engine_location</th>\n",
       "      <th>wheel_base</th>\n",
       "      <th>length</th>\n",
       "      <th>width</th>\n",
       "      <th>...</th>\n",
       "      <th>engine_size</th>\n",
       "      <th>fuel_system</th>\n",
       "      <th>bore</th>\n",
       "      <th>stroke</th>\n",
       "      <th>compression_ratio</th>\n",
       "      <th>horsepower</th>\n",
       "      <th>peak_rpm</th>\n",
       "      <th>city_mpg</th>\n",
       "      <th>highway_mpg</th>\n",
       "      <th>price</th>\n",
       "    </tr>\n",
       "  </thead>\n",
       "  <tbody>\n",
       "    <tr>\n",
       "      <th>36</th>\n",
       "      <td>honda</td>\n",
       "      <td>gas</td>\n",
       "      <td>std</td>\n",
       "      <td>2</td>\n",
       "      <td>hatchback</td>\n",
       "      <td>fwd</td>\n",
       "      <td>front</td>\n",
       "      <td>96.5</td>\n",
       "      <td>167.5</td>\n",
       "      <td>65.2</td>\n",
       "      <td>...</td>\n",
       "      <td>110</td>\n",
       "      <td>1bbl</td>\n",
       "      <td>3.15</td>\n",
       "      <td>3.58</td>\n",
       "      <td>9.0</td>\n",
       "      <td>86</td>\n",
       "      <td>5800.0</td>\n",
       "      <td>NaN</td>\n",
       "      <td>33.0</td>\n",
       "      <td>7895</td>\n",
       "    </tr>\n",
       "  </tbody>\n",
       "</table>\n",
       "<p>1 rows × 24 columns</p>\n",
       "</div>"
      ],
      "text/plain": [
       "     make fuel_type aspiration  number_of_doors body_style drive_wheels  \\\n",
       "36  honda       gas        std                2  hatchback          fwd   \n",
       "\n",
       "   engine_location  wheel_base  length  width  ...    engine_size  \\\n",
       "36           front        96.5   167.5   65.2  ...            110   \n",
       "\n",
       "    fuel_system  bore  stroke  compression_ratio horsepower  peak_rpm  \\\n",
       "36         1bbl  3.15    3.58                9.0         86    5800.0   \n",
       "\n",
       "    city_mpg  highway_mpg  price  \n",
       "36       NaN         33.0   7895  \n",
       "\n",
       "[1 rows x 24 columns]"
      ]
     },
     "execution_count": 13,
     "metadata": {},
     "output_type": "execute_result"
    }
   ],
   "source": [
    "#Automóveis com city_mpg nulo\n",
    "automobile[automobile[\"city_mpg\"].isnull()]"
   ]
  },
  {
   "cell_type": "code",
   "execution_count": 14,
   "metadata": {},
   "outputs": [
    {
     "data": {
      "text/html": [
       "<div>\n",
       "<style scoped>\n",
       "    .dataframe tbody tr th:only-of-type {\n",
       "        vertical-align: middle;\n",
       "    }\n",
       "\n",
       "    .dataframe tbody tr th {\n",
       "        vertical-align: top;\n",
       "    }\n",
       "\n",
       "    .dataframe thead th {\n",
       "        text-align: right;\n",
       "    }\n",
       "</style>\n",
       "<table border=\"1\" class=\"dataframe\">\n",
       "  <thead>\n",
       "    <tr style=\"text-align: right;\">\n",
       "      <th></th>\n",
       "      <th>make</th>\n",
       "      <th>fuel_type</th>\n",
       "      <th>aspiration</th>\n",
       "      <th>number_of_doors</th>\n",
       "      <th>body_style</th>\n",
       "      <th>drive_wheels</th>\n",
       "      <th>engine_location</th>\n",
       "      <th>wheel_base</th>\n",
       "      <th>length</th>\n",
       "      <th>width</th>\n",
       "      <th>...</th>\n",
       "      <th>engine_size</th>\n",
       "      <th>fuel_system</th>\n",
       "      <th>bore</th>\n",
       "      <th>stroke</th>\n",
       "      <th>compression_ratio</th>\n",
       "      <th>horsepower</th>\n",
       "      <th>peak_rpm</th>\n",
       "      <th>city_mpg</th>\n",
       "      <th>highway_mpg</th>\n",
       "      <th>price</th>\n",
       "    </tr>\n",
       "  </thead>\n",
       "  <tbody>\n",
       "    <tr>\n",
       "      <th>32</th>\n",
       "      <td>honda</td>\n",
       "      <td>gas</td>\n",
       "      <td>std</td>\n",
       "      <td>2</td>\n",
       "      <td>hatchback</td>\n",
       "      <td>fwd</td>\n",
       "      <td>front</td>\n",
       "      <td>93.7</td>\n",
       "      <td>150.0</td>\n",
       "      <td>64.0</td>\n",
       "      <td>...</td>\n",
       "      <td>92</td>\n",
       "      <td>1bbl</td>\n",
       "      <td>2.91</td>\n",
       "      <td>3.41</td>\n",
       "      <td>9.2</td>\n",
       "      <td>76</td>\n",
       "      <td>0.0</td>\n",
       "      <td>30.0</td>\n",
       "      <td>NaN</td>\n",
       "      <td>6529</td>\n",
       "    </tr>\n",
       "  </tbody>\n",
       "</table>\n",
       "<p>1 rows × 24 columns</p>\n",
       "</div>"
      ],
      "text/plain": [
       "     make fuel_type aspiration  number_of_doors body_style drive_wheels  \\\n",
       "32  honda       gas        std                2  hatchback          fwd   \n",
       "\n",
       "   engine_location  wheel_base  length  width  ...    engine_size  \\\n",
       "32           front        93.7   150.0   64.0  ...             92   \n",
       "\n",
       "    fuel_system  bore  stroke  compression_ratio horsepower  peak_rpm  \\\n",
       "32         1bbl  2.91    3.41                9.2         76       0.0   \n",
       "\n",
       "    city_mpg  highway_mpg  price  \n",
       "32      30.0          NaN   6529  \n",
       "\n",
       "[1 rows x 24 columns]"
      ]
     },
     "execution_count": 14,
     "metadata": {},
     "output_type": "execute_result"
    }
   ],
   "source": [
    "#Automóveis com highway_mpg nulo\n",
    "automobile[automobile[\"highway_mpg\"].isnull()]"
   ]
  },
  {
   "cell_type": "code",
   "execution_count": 15,
   "metadata": {},
   "outputs": [
    {
     "name": "stdout",
     "output_type": "stream",
     "text": [
      "             highway_mpg  city_mpg\n",
      "highway_mpg     1.000000  0.875933\n",
      "city_mpg        0.875933  1.000000\n"
     ]
    },
    {
     "data": {
      "image/png": "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\n",
      "text/plain": [
       "<Figure size 432x288 with 1 Axes>"
      ]
     },
     "metadata": {},
     "output_type": "display_data"
    }
   ],
   "source": [
    "#Verifico a correlação entre o consumo na estrada e o consumo na cidade\n",
    "#e percebo que há uma alta correlação entre os atributos \n",
    "print(automobile[[\"highway_mpg\", \"city_mpg\"]].corr())\n",
    "\n",
    "\n",
    "#Calcula a relação entre o consumo da estrada e o consumo da cidade para quando há os valores ou quando \n",
    "#os valores não são zerados \n",
    "automobile[\"relacao_estrada_cidade\"] = np.where((automobile[\"city_mpg\"].isnull())  | (automobile[\"city_mpg\"]==0) |\n",
    "                                                (automobile[\"highway_mpg\"].isnull()) | (automobile[\"highway_mpg\"]==0),\n",
    "                                                 np.nan,\n",
    "                                                automobile[\"highway_mpg\"] / automobile[\"city_mpg\"])\n",
    "\n",
    "\n",
    "#Percebe-se pelo gráfico que a distribuição entre a relacao_estrada_cidade é muito concentrada ao redor da média\n",
    "#semelhante a uma distribuição normal \n",
    "ax = plt.hist(automobile[automobile[\"relacao_estrada_cidade\"].notnull()][\"relacao_estrada_cidade\"])\n",
    "\n"
   ]
  },
  {
   "cell_type": "code",
   "execution_count": 16,
   "metadata": {},
   "outputs": [
    {
     "data": {
      "text/plain": [
       "number_of_doors          -0.163910\n",
       "wheel_base               -0.202727\n",
       "length                   -0.056354\n",
       "width                    -0.092631\n",
       "height                   -0.275686\n",
       "curb_weight              -0.098857\n",
       "number_of_cylinders      -0.077775\n",
       "engine_size              -0.104959\n",
       "bore                     -0.046081\n",
       "stroke                   -0.065078\n",
       "compression_ratio        -0.284202\n",
       "horsepower                0.132510\n",
       "peak_rpm                  1.000000\n",
       "city_mpg                 -0.127533\n",
       "highway_mpg              -0.050670\n",
       "price                    -0.006104\n",
       "relacao_estrada_cidade    0.317387\n",
       "Name: peak_rpm, dtype: float64"
      ]
     },
     "execution_count": 16,
     "metadata": {},
     "output_type": "execute_result"
    }
   ],
   "source": [
    "#Verifica-se agora que o peak_rpm não possui uma alta correlação com nenhum outro atributo sobre automóveis\n",
    "#conforme percebe-se abaixo \n",
    "automobile.corr()[\"peak_rpm\"]"
   ]
  },
  {
   "cell_type": "markdown",
   "metadata": {},
   "source": [
    "Há valores nulos para <b>peak_rpm</b>, <b>city_mpg</b> e <b>highway_mpg</b>. \n",
    "\n",
    "Para os valores de city_mpg e highway_mpg, por haver forte correlação entre essas variáveis é possível realizar uma estimativa\n",
    "de um valor a partir do outro. \n",
    "\n",
    "No caso de peak_rpm, não há essa característica percebida."
   ]
  },
  {
   "cell_type": "markdown",
   "metadata": {},
   "source": [
    "Para os dados considerados nulos, realize a imputação de dados utilizando um valor apropriado (note que pode haver dados paramétricos e dados numéricos). Justique sua resposta."
   ]
  },
  {
   "cell_type": "markdown",
   "metadata": {},
   "source": [
    "Para o caso das varíaveis <b>city_mpg</b> e <b>highway_mpg</b> a estimativa será numérica estimada em função um do outro atributo, será assumido que há uma proporção média entre essas duas variáveis. \n",
    "\n",
    "Para o caso da variável <b>peak_rpm</b> será considerada a substituição simples pela média do valor."
   ]
  },
  {
   "cell_type": "code",
   "execution_count": 17,
   "metadata": {},
   "outputs": [
    {
     "data": {
      "text/plain": [
       "1.2318479649443899"
      ]
     },
     "execution_count": 17,
     "metadata": {},
     "output_type": "execute_result"
    }
   ],
   "source": [
    "#calcula a média da relação entre o consumo da estrada / consumo da cidade \n",
    "media_estrada_cidade = automobile[\"relacao_estrada_cidade\"].mean(skipna=True)\n",
    "media_estrada_cidade\n"
   ]
  },
  {
   "cell_type": "code",
   "execution_count": 18,
   "metadata": {},
   "outputs": [],
   "source": [
    "#Converte o consumo na cidade quando null em função do consumo da estrada \n",
    "for i,row in automobile.loc[automobile[\"city_mpg\"].isnull(),:].iterrows():\n",
    "    automobile.loc[i,\"city_mpg\"] = automobile.loc[i,\"highway_mpg\"] * media_estrada_cidade\n",
    "    \n",
    "\n",
    "#Converte o consumo na estrada quando null em função do consumo da cidade \n",
    "for i,row in automobile.loc[automobile[\"highway_mpg\"].isnull(),:].iterrows():\n",
    "    automobile.loc[i,\"highway_mpg\"] = automobile.loc[i,\"city_mpg\"] / media_estrada_cidade\n",
    "\n",
    "\n"
   ]
  },
  {
   "cell_type": "code",
   "execution_count": 19,
   "metadata": {},
   "outputs": [],
   "source": [
    "#Tratamento para os carros com peak_rpm nulo\n",
    "\n",
    "#Seleciona os carros com peak_rpm que não são nulos e nem tem valor de peak_rpm com valores iguais a zero \n",
    "peak_rpm_tratado = automobile[(automobile[\"peak_rpm\"].notnull()) & (automobile[\"peak_rpm\"] > 0)]\n",
    "\n",
    "\n",
    "#Obtem a media do peak_rpm\n",
    "peak_rpm_medio = peak_rpm_tratado[\"peak_rpm\"].mean()\n",
    "\n",
    "for i,row in automobile.loc[automobile[\"peak_rpm\"].isnull(),:].iterrows():\n",
    "    automobile.loc[i,\"peak_rpm\"] = peak_rpm_medio\n",
    "\n"
   ]
  },
  {
   "cell_type": "markdown",
   "metadata": {},
   "source": [
    "### Análise de valores com valores iguais a 0"
   ]
  },
  {
   "cell_type": "markdown",
   "metadata": {},
   "source": [
    "Analise se no conjunto de dados há valores iguais a 0 e verifique se faz parte do contexto. Caso não faça parte do contexto, utilize alguma técnica de imputação de dados apropriada.\n",
    "\n",
    "Inspecione o dataset por dados iguais a 0."
   ]
  },
  {
   "cell_type": "code",
   "execution_count": 20,
   "metadata": {},
   "outputs": [
    {
     "name": "stdout",
     "output_type": "stream",
     "text": [
      "Coluna = peak_rpm com valores zerados\n",
      "\n",
      "32    0.0\n",
      "35    0.0\n",
      "Name: peak_rpm, dtype: float64\n",
      "\n",
      "\n",
      "\n",
      "Coluna = city_mpg com valores zerados\n",
      "\n",
      "66     0.0\n",
      "181    0.0\n",
      "Name: city_mpg, dtype: float64\n",
      "\n",
      "\n",
      "\n",
      "Coluna = highway_mpg com valores zerados\n",
      "\n",
      "67    0.0\n",
      "Name: highway_mpg, dtype: float64\n",
      "\n",
      "\n",
      "\n"
     ]
    }
   ],
   "source": [
    "#Lista as colunas que possuem valores zerados \n",
    "for col in cols_numericas: \n",
    "    vet_0 = automobile[automobile[col] == 0]\n",
    "    if (len(vet_0) > 0):\n",
    "       print(\"Coluna = \" + col + \" com valores zerados\\n\")\n",
    "       print(automobile[automobile[col] ==0][col])\n",
    "       print(\"\\n\\n\")\n",
    "\n"
   ]
  },
  {
   "cell_type": "markdown",
   "metadata": {},
   "source": [
    "A imputação de dados pode seguir algum padrão dos demais exemplos ou pode ser simplesmente atribuído um valor. Avalie tais condições de acordo com as inspeções de dados."
   ]
  },
  {
   "cell_type": "markdown",
   "metadata": {},
   "source": [
    "\n",
    "Os mesmos atributos que apresentaram valores nulos também apresentam valores zerados. \n",
    "\n",
    "Os atributos citados não deveriam ter valores zerados, pois um veículo com motor não pode ter o número máximo de rotações por minuto (peak_rpm) sendo 0 e nem ter o consumo de combustível nem na estrada e nem na cidade (highway_mpg, city_mpg) como sendo iguais a zero. \n",
    "\n",
    "O tratamento sugerido será o mesmo aplicado no caso de valores nulos. \n",
    "\n",
    "Para os atributos city_mpg e highway_mpg teremos um calculo em função do outro e o valor do peak_rpm será substituído pelo valor médio. \n"
   ]
  },
  {
   "cell_type": "code",
   "execution_count": 21,
   "metadata": {},
   "outputs": [],
   "source": [
    "#Converte o consumo na cidade quando zero em função do consumo da estrada \n",
    "for i,row in automobile.loc[automobile[\"city_mpg\"]==0,:].iterrows():\n",
    "    automobile.loc[i,\"city_mpg\"] = automobile.loc[i,\"highway_mpg\"] * media_estrada_cidade\n",
    "    \n",
    "\n",
    "#Converte o consumo na estrada quando zero em função do consumo da cidade \n",
    "for i,row in automobile.loc[automobile[\"highway_mpg\"]==0,:].iterrows():\n",
    "    automobile.loc[i,\"highway_mpg\"] = automobile.loc[i,\"city_mpg\"] / media_estrada_cidade\n",
    "\n",
    "\n"
   ]
  },
  {
   "cell_type": "code",
   "execution_count": 22,
   "metadata": {},
   "outputs": [],
   "source": [
    "#Converte o peak_rpm para o valor médio quando o valor está zero\n",
    "for i,row in automobile.loc[automobile[\"peak_rpm\"]==0,:].iterrows():\n",
    "    automobile.loc[i,\"peak_rpm\"] = peak_rpm_medio"
   ]
  },
  {
   "cell_type": "markdown",
   "metadata": {},
   "source": [
    "### Análise Numérica de Outliers"
   ]
  },
  {
   "cell_type": "markdown",
   "metadata": {},
   "source": [
    "Da análise visual de outliers realizada acima vamos utilizar uma métrica de verificação mais apropriada e objetiva afim de criar um patamar aceitável de dados não discrepantes.\n",
    "\n",
    "Neste projeto vamos considerar [o Método Turco para identificar discrepantes](http://datapigtechnologies.com/blog/index.php/highlighting-outliers-in-your-data-with-the-tukey-method/), que utiliza um __passo de limite__ que é 5 vezes (em nosso projeto) a diferença entre o terceiro (Q3) e o primeiro quartil (Q1). Deste modo, valores que sejam maiores que o Q3 + passo de limite ou menor Q2 - passo de limite sejam sinalizados como outliers.\n",
    "\n",
    "Construa uma função que receba como parâmetro de entrada um série de dados e exiba os valores discrepantes. Utilize o boilerplate abaixo para completar as instruções faltantes.\n",
    "\n",
    "*Dica: utilize a função do Numpy de percentil, np.percentile(serie, 25) para quartil 1 e np.percentile(serie, 75) para quartil 3.*"
   ]
  },
  {
   "cell_type": "code",
   "execution_count": 23,
   "metadata": {},
   "outputs": [],
   "source": [
    "def identificacao_outlier(df, col): \n",
    "    print(col)\n",
    " \n",
    "    estat = df.describe()\n",
    "    #Intervalo inter-quartil\n",
    "    iq = (estat[col][\"75%\"] - estat[col][\"25%\"])\n",
    "    #Limite superior para outlier é 5 vezes o intervalo interquartial acima do 75% percentil\n",
    "    lim_sup = estat[col][\"75%\"] + 5 * iq \n",
    "    #Limite inferior para outlier é 5 vezes o intervalo interquartial abaixo do 25% percentil\n",
    "    lim_inf = estat[col][\"25%\"] - 5 * iq \n",
    "    #Seleciona os elementos que seguem a regra calculada acima\n",
    "    vet_out_sup = df[(df[col] > lim_sup)][[col]]\n",
    "    vet_out_inf = df[(df[col] < lim_inf)][[col]]\n",
    "    #Se algum elemento foi selecionado, imprima\n",
    "    if (len(vet_out_sup) > 0 ):\n",
    "       print(\"Candidatos a outliers superiores para \" + col) \n",
    "       print(vet_out_sup)\n",
    "       print(\"\\n\\n\")\n",
    "    \n",
    "    if (len(vet_out_inf) > 0 ):\n",
    "       print(\"Candidatos a outliers inferiores para \" + col) \n",
    "       print(vet_out_inf)\n",
    "       print(\"\\n\\n\")\n",
    "\n",
    "    "
   ]
  },
  {
   "cell_type": "code",
   "execution_count": 24,
   "metadata": {
    "scrolled": true
   },
   "outputs": [
    {
     "name": "stdout",
     "output_type": "stream",
     "text": [
      "number_of_doors\n",
      "wheel_base\n",
      "length\n",
      "width\n",
      "height\n",
      "curb_weight\n",
      "number_of_cylinders\n",
      "Candidatos a outliers superiores para number_of_cylinders\n",
      "     number_of_cylinders\n",
      "2                      6\n",
      "4                      5\n",
      "5                      5\n",
      "6                      5\n",
      "7                      5\n",
      "8                      5\n",
      "11                     6\n",
      "12                     6\n",
      "13                     6\n",
      "14                     6\n",
      "15                     6\n",
      "16                     6\n",
      "44                     6\n",
      "45                     6\n",
      "46                    12\n",
      "64                     5\n",
      "65                     5\n",
      "66                     5\n",
      "67                     5\n",
      "68                     8\n",
      "69                     8\n",
      "70                     8\n",
      "71                     8\n",
      "98                     6\n",
      "99                     6\n",
      "100                    6\n",
      "101                    6\n",
      "102                    6\n",
      "103                    6\n",
      "123                    6\n",
      "124                    6\n",
      "125                    6\n",
      "174                    6\n",
      "175                    6\n",
      "176                    6\n",
      "177                    6\n",
      "187                    5\n",
      "198                    6\n",
      "199                    6\n",
      "\n",
      "\n",
      "\n",
      "Candidatos a outliers inferiores para number_of_cylinders\n",
      "    number_of_cylinders\n",
      "17                    3\n",
      "52                    2\n",
      "53                    2\n",
      "54                    2\n",
      "55                    2\n",
      "\n",
      "\n",
      "\n",
      "engine_size\n",
      "bore\n",
      "stroke\n",
      "compression_ratio\n",
      "Candidatos a outliers superiores para compression_ratio\n",
      "     compression_ratio\n",
      "60                22.7\n",
      "63                22.0\n",
      "64                21.5\n",
      "65                21.5\n",
      "66                21.5\n",
      "67                21.5\n",
      "87                21.9\n",
      "105               21.0\n",
      "107               21.0\n",
      "109               21.0\n",
      "111               21.0\n",
      "113               21.0\n",
      "154               22.5\n",
      "155               22.5\n",
      "170               22.5\n",
      "178               23.0\n",
      "180               23.0\n",
      "183               23.0\n",
      "188               23.0\n",
      "199               23.0\n",
      "\n",
      "\n",
      "\n",
      "horsepower\n",
      "peak_rpm\n",
      "city_mpg\n",
      "highway_mpg\n",
      "price\n"
     ]
    }
   ],
   "source": [
    "for col in cols_numericas: \n",
    "    identificacao_outlier(automobile,col)"
   ]
  },
  {
   "cell_type": "markdown",
   "metadata": {},
   "source": [
    "Pelo método utilizado, há potenciais outliers para dois atributos: número de cilindros (<b>number_of_cylinders</b>) e taxa de compressão (<b>compression_ratio</b>). \n",
    "\n",
    "Pesquisando na Internet, encontram-se referências em vários sites (revista 4 rodas, jornal do veículo) para motores de veículos cujo número de cilindros variam de 2 a 12, sendo que a maioria dos veículos possuem 4 (vide estatísticas abaixo). Deste modo, não faz sentido excluir este veículos pois os números parecem passíveis de serem reais \n",
    "\n"
   ]
  },
  {
   "cell_type": "code",
   "execution_count": 25,
   "metadata": {},
   "outputs": [
    {
     "data": {
      "text/plain": [
       "number_of_cylinders\n",
       "2       4\n",
       "3       1\n",
       "4     157\n",
       "5      10\n",
       "6      24\n",
       "8       4\n",
       "12      1\n",
       "Name: number_of_cylinders, dtype: int64"
      ]
     },
     "execution_count": 25,
     "metadata": {},
     "output_type": "execute_result"
    }
   ],
   "source": [
    "automobile.groupby([\"number_of_cylinders\"])[\"number_of_cylinders\"].count()"
   ]
  },
  {
   "cell_type": "markdown",
   "metadata": {},
   "source": [
    "No caso do atributo de taxa de compressão, percebemos que todos os elementos selecionados possuem motores a diesel, e segundo a wikipedia (https://pt.wikipedia.org/wiki/Motor_a_diesel), motores a diesel tem a taxa de compressão variando de 15 a 25, ou seja, os dados parecem verossímeis. \n",
    "\n"
   ]
  },
  {
   "cell_type": "code",
   "execution_count": 26,
   "metadata": {},
   "outputs": [
    {
     "data": {
      "text/html": [
       "<div>\n",
       "<style scoped>\n",
       "    .dataframe tbody tr th:only-of-type {\n",
       "        vertical-align: middle;\n",
       "    }\n",
       "\n",
       "    .dataframe tbody tr th {\n",
       "        vertical-align: top;\n",
       "    }\n",
       "\n",
       "    .dataframe thead th {\n",
       "        text-align: right;\n",
       "    }\n",
       "</style>\n",
       "<table border=\"1\" class=\"dataframe\">\n",
       "  <thead>\n",
       "    <tr style=\"text-align: right;\">\n",
       "      <th></th>\n",
       "      <th>fuel_type</th>\n",
       "      <th>compression_ratio</th>\n",
       "    </tr>\n",
       "  </thead>\n",
       "  <tbody>\n",
       "    <tr>\n",
       "      <th>60</th>\n",
       "      <td>diesel</td>\n",
       "      <td>22.7</td>\n",
       "    </tr>\n",
       "    <tr>\n",
       "      <th>63</th>\n",
       "      <td>diesel</td>\n",
       "      <td>22.0</td>\n",
       "    </tr>\n",
       "    <tr>\n",
       "      <th>64</th>\n",
       "      <td>diesel</td>\n",
       "      <td>21.5</td>\n",
       "    </tr>\n",
       "    <tr>\n",
       "      <th>65</th>\n",
       "      <td>diesel</td>\n",
       "      <td>21.5</td>\n",
       "    </tr>\n",
       "    <tr>\n",
       "      <th>66</th>\n",
       "      <td>diesel</td>\n",
       "      <td>21.5</td>\n",
       "    </tr>\n",
       "    <tr>\n",
       "      <th>67</th>\n",
       "      <td>diesel</td>\n",
       "      <td>21.5</td>\n",
       "    </tr>\n",
       "    <tr>\n",
       "      <th>87</th>\n",
       "      <td>diesel</td>\n",
       "      <td>21.9</td>\n",
>>>>>>> upstream/dev
       "    </tr>\n",
       "    <tr>\n",
       "      <th>105</th>\n",
       "      <td>diesel</td>\n",
       "      <td>21.0</td>\n",
       "    </tr>\n",
       "    <tr>\n",
       "      <th>107</th>\n",
       "      <td>diesel</td>\n",
       "      <td>21.0</td>\n",
       "    </tr>\n",
       "    <tr>\n",
       "      <th>109</th>\n",
       "      <td>diesel</td>\n",
       "      <td>21.0</td>\n",
       "    </tr>\n",
       "    <tr>\n",
       "      <th>111</th>\n",
       "      <td>diesel</td>\n",
       "      <td>21.0</td>\n",
       "    </tr>\n",
       "    <tr>\n",
       "      <th>113</th>\n",
       "      <td>diesel</td>\n",
       "      <td>21.0</td>\n",
       "    </tr>\n",
       "    <tr>\n",
       "      <th>154</th>\n",
       "      <td>diesel</td>\n",
       "      <td>22.5</td>\n",
       "    </tr>\n",
       "    <tr>\n",
       "      <th>155</th>\n",
       "      <td>diesel</td>\n",
       "      <td>22.5</td>\n",
       "    </tr>\n",
       "    <tr>\n",
       "      <th>170</th>\n",
       "      <td>diesel</td>\n",
       "      <td>22.5</td>\n",
       "    </tr>\n",
       "    <tr>\n",
       "      <th>178</th>\n",
       "      <td>diesel</td>\n",
       "      <td>23.0</td>\n",
       "    </tr>\n",
<<<<<<< HEAD
       "  </tbody>\n",
       "</table>\n",
       "<p>10 rows × 24 columns</p>\n",
       "</div>"
      ],
      "text/plain": [
       "          make fuel_type aspiration  number_of_doors   body_style  \\\n",
       "0  alfa-romero       gas        std        -0.567164  convertible   \n",
       "1  alfa-romero       gas        std        -0.567164  convertible   \n",
       "2  alfa-romero       gas        std        -0.567164    hatchback   \n",
       "3         audi       gas        std         0.432836        sedan   \n",
       "4         audi       gas        std         0.432836        sedan   \n",
       "5         audi       gas        std        -0.567164        sedan   \n",
       "6         audi       gas        std         0.432836        sedan   \n",
       "7         audi       gas        std         0.432836        wagon   \n",
       "8         audi       gas      turbo         0.432836        sedan   \n",
       "9          bmw       gas        std        -0.567164        sedan   \n",
       "\n",
       "  drive_wheels engine_location  wheel_base    length     width    ...     \\\n",
       "0          rwd           front   -0.297289 -0.080612 -0.152911    ...      \n",
       "1          rwd           front   -0.297289 -0.080612 -0.152911    ...      \n",
       "2          rwd           front   -0.125277 -0.044791 -0.033253    ...      \n",
       "3          fwd           front    0.029242  0.035806  0.026577    ...      \n",
       "4          4wd           front    0.017580  0.035806  0.043671    ...      \n",
       "5          fwd           front    0.029242  0.046254  0.035124    ...      \n",
       "6          fwd           front    0.204169  0.276105  0.471021    ...      \n",
       "7          fwd           front    0.204169  0.276105  0.471021    ...      \n",
       "8          fwd           front    0.204169  0.276105  0.471021    ...      \n",
       "9          rwd           front    0.070058  0.038791 -0.093082    ...      \n",
       "\n",
       "   engine_size  fuel_system      bore    stroke  compression_ratio horsepower  \\\n",
       "0     0.011790         mpfi  0.100213 -0.277020          -0.072767   0.036151   \n",
       "1     0.011790         mpfi  0.100213 -0.277020          -0.072767   0.036151   \n",
       "2     0.094809         mpfi -0.464072  0.099171          -0.072767   0.237086   \n",
       "3    -0.067455         mpfi -0.099787  0.065837          -0.010267  -0.005905   \n",
       "4     0.034432         mpfi -0.099787  0.065837          -0.135267   0.054843   \n",
       "5     0.034432         mpfi -0.099787  0.065837          -0.104017   0.031478   \n",
       "6     0.034432         mpfi -0.099787  0.065837          -0.104017   0.031478   \n",
       "7     0.034432         mpfi -0.099787  0.065837          -0.104017   0.031478   \n",
       "8     0.015564         mpfi -0.142644  0.065837          -0.116517   0.171665   \n",
       "9    -0.071229         mpfi  0.121642 -0.219877          -0.085267  -0.010578   \n",
       "\n",
       "   peak_rpm  city_mpg  highway_mpg     price  \n",
       "0 -0.009517 -0.080102    -0.065648  0.007146  \n",
       "1 -0.009517 -0.080102    -0.065648  0.081745  \n",
       "2 -0.009517 -0.120918    -0.084167  0.081745  \n",
       "3  0.066240 -0.018878    -0.010093  0.018442  \n",
       "4  0.066240 -0.141327    -0.158241  0.105329  \n",
       "5  0.066240 -0.120918    -0.102685  0.050714  \n",
       "6  0.066240 -0.120918    -0.102685  0.111784  \n",
       "7  0.066240 -0.120918    -0.102685  0.141822  \n",
       "8  0.066240 -0.161735    -0.195278  0.264830  \n",
       "9  0.111695 -0.039286    -0.028611  0.080008  \n",
       "\n",
       "[10 rows x 24 columns]"
      ]
     },
     "execution_count": 9,
     "metadata": {},
     "output_type": "execute_result"
    }
   ],
   "source": [
    "def normalize(df,colunas):\n",
    "    df_aux = df.copy()\n",
    "    for col in colunas:\n",
    "        df_aux[col] = (df_aux[col] - df_aux[col].mean()) / (df_aux[col].max() - df_aux[col].min())\n",
    "    return (df_aux) \n",
    "\n",
    "cols_numericas = [\"number_of_doors\",\"wheel_base\",\"length\",\"width\",\"height\",\"engine_size\",\n",
    "                      \"bore\",\"stroke\",\"compression_ratio\",\"horsepower\",\"peak_rpm\",\n",
    "                      \"city_mpg\",\"highway_mpg\",\"price\"]\n",
    "\n",
    "#Normaliza as informações númericas do dataframe de automóveis \n",
    "automobile_norm = normalize(automobile_conv,cols_numericas)\n",
    "\n",
    "automobile_norm.head(10)"
>>>>>>> upstream/master
   ]
  },
  {
   "cell_type": "code",
<<<<<<< HEAD
   "execution_count": 63,
=======
   "execution_count": 10,
>>>>>>> upstream/master
   "metadata": {},
   "outputs": [
    {
     "data": {
<<<<<<< HEAD
      "image/png": "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\n",
      "text/plain": [
       "<matplotlib.figure.Figure at 0x140e5e7a6d8>"
=======
      "image/png": "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\n",
      "text/plain": [
       "<Figure size 1296x6336 with 28 Axes>"
>>>>>>> upstream/master
=======
       "    <tr>\n",
       "      <th>180</th>\n",
       "      <td>diesel</td>\n",
       "      <td>23.0</td>\n",
       "    </tr>\n",
       "    <tr>\n",
       "      <th>183</th>\n",
       "      <td>diesel</td>\n",
       "      <td>23.0</td>\n",
       "    </tr>\n",
       "    <tr>\n",
       "      <th>188</th>\n",
       "      <td>diesel</td>\n",
       "      <td>23.0</td>\n",
       "    </tr>\n",
       "    <tr>\n",
       "      <th>199</th>\n",
       "      <td>diesel</td>\n",
       "      <td>23.0</td>\n",
       "    </tr>\n",
       "  </tbody>\n",
       "</table>\n",
       "</div>"
      ],
      "text/plain": [
       "    fuel_type  compression_ratio\n",
       "60     diesel               22.7\n",
       "63     diesel               22.0\n",
       "64     diesel               21.5\n",
       "65     diesel               21.5\n",
       "66     diesel               21.5\n",
       "67     diesel               21.5\n",
       "87     diesel               21.9\n",
       "105    diesel               21.0\n",
       "107    diesel               21.0\n",
       "109    diesel               21.0\n",
       "111    diesel               21.0\n",
       "113    diesel               21.0\n",
       "154    diesel               22.5\n",
       "155    diesel               22.5\n",
       "170    diesel               22.5\n",
       "178    diesel               23.0\n",
       "180    diesel               23.0\n",
       "183    diesel               23.0\n",
       "188    diesel               23.0\n",
       "199    diesel               23.0"
>>>>>>> upstream/dev
      ]
     },
     "execution_count": 26,
     "metadata": {},
     "output_type": "execute_result"
    }
   ],
   "source": [
<<<<<<< HEAD
<<<<<<< HEAD
    "fig, ax = plt.subplots()\n",
    "fig.set_size_inches(8, 6)\n",
    "sns.boxplot(ax=ax, data=auto_normalized, y=\"price\", x=\"horsepower\")\n",
    "sns.despine()"
=======
    "automobile[automobile[\"compression_ratio\"]>=21.0][[\"fuel_type\",\"compression_ratio\"]]"
>>>>>>> upstream/dev
   ]
  },
  {
   "cell_type": "markdown",
   "metadata": {},
   "source": [
<<<<<<< HEAD
    "fig, (ax1, ax2) = plt.subplots(ncols=2, sharey=True)\n",
    "fig.set_size_inches(18, 8)\n",
    "sns.violinplot(ax=ax1, data=auto_normalized[[\"price\"]],bw=0.1,inner=\"quartile\")\n",
    "sns.violinplot(ax=ax2, data=auto_normalized[[\"horsepower\"]],bw=0.1,inner=\"stick\")"
=======
    "import math \n",
    "\n",
    "n_linhas = len(cols_numericas)\n",
    "fig,ax = plt.subplots(nrows=n_linhas,ncols=2, sharey=True)\n",
    "\n",
=======
    "**Pergunta:** Houve dados discrepantes localizados pela metodologia sugerida? Qual foi a sua conclusão, são realmente dados que devem ser removidos ou mantidos? Justifique.\n",
>>>>>>> upstream/dev
    "\n",
    "**Resposta:**\n",
    "Os dados não devem ser removidos pois há uma enorme variedade no número de cilindros dos veículos, compatível com aquilo observado na amostra e a taxa de compressão de veículos é muito mais alta naqueles com motores a diesel, também condizentes com o identificado na amostra"
   ]
  },
  {
   "cell_type": "markdown",
   "metadata": {},
   "source": [
    "### Mapeamento de Dados Paramétricos"
   ]
  },
  {
   "cell_type": "markdown",
   "metadata": {},
   "source": [
<<<<<<< HEAD
    "Podemos verificar visualmente que há candidatos a serem outliers para as seguinte características dos veículos: wheel_base, length, width, engine_size, bore, stroke, compression_ratio, horsepower, peak_rpm, city_mpg, highway_mpg e price. "
>>>>>>> upstream/master
=======
    "Os algoritmos de aprendizado de máquina precisam receber dados que sejam inteiramente numéricos. Dados que representam uma classificação como por exemplo um tipo de carro, como sedan ou hatchback, deve ser convertido em um valor numérico associado, como por exemplo 1 ou 2.\n",
    "\n",
    "Crie uma função que receba uma lista única e retorne um dicionário com a categoria e um código numérico crescente e incremental para posteriormente utilizarmos como mapeamento."
>>>>>>> upstream/dev
   ]
  },
  {
   "cell_type": "code",
<<<<<<< HEAD
<<<<<<< HEAD
   "execution_count": 87,
=======
   "execution_count": 27,
   "metadata": {},
   "outputs": [],
   "source": [
    "def mapear_serie(serie):\n",
    "    dict_gen = {}\n",
    "    valores = serie.unique()\n",
    "    ordinal = 0 \n",
    "    for valor in valores:\n",
    "        ordinal += 1\n",
    "        dict_gen[valor] = ordinal \n",
    "            \n",
    "    return (dict_gen)"
   ]
  },
  {
   "cell_type": "markdown",
>>>>>>> upstream/dev
   "metadata": {},
   "source": [
    "Com a funcão criada, crie dicionários para cada coluna paramétrica. Lembre-se que é necessário passar somente valores únicos.\n",
    "\n",
    "*Dica: utilize a função unique() do dataframe para obter valores únicos de uma determinada série (ou coluna).*"
   ]
  },
  {
   "cell_type": "code",
   "execution_count": 28,
   "metadata": {},
   "outputs": [],
   "source": [
<<<<<<< HEAD
    "#IMPLEMENTAÇÃO\n",
=======
   "execution_count": 12,
=======
    "#Converte todas as colunas alfanuméricas para os seus valores ordinais\n",
    "for col in cols_alfa:\n",
    "    mapa_ordinal = mapear_serie(automobile[col])\n",
    "    automobile[col] = automobile[col].map(mapa_ordinal)\n"
   ]
  },
  {
   "cell_type": "markdown",
>>>>>>> upstream/dev
   "metadata": {},
   "source": [
    "Até este momento seu conjunto de dados não deve conter nenhum dado paramétrico. Todos os dados armazenados com valores como texto, por exemplo, \"diesel\", \"gas\" deve estar preenchido com valores numéricos, como 1 ou 2.\n",
    "\n",
    "Inspecione seus dados e certifique de que tudo está certo.\n",
    "\n",
    "*Dica: utilize uma inspeção simples visual, com 20 amostras.*"
   ]
  },
  {
   "cell_type": "code",
   "execution_count": 29,
   "metadata": {
    "scrolled": true
   },
   "outputs": [
    {
     "data": {
      "text/html": [
       "<div>\n",
       "<style scoped>\n",
       "    .dataframe tbody tr th:only-of-type {\n",
       "        vertical-align: middle;\n",
       "    }\n",
       "\n",
       "    .dataframe tbody tr th {\n",
       "        vertical-align: top;\n",
       "    }\n",
       "\n",
       "    .dataframe thead th {\n",
       "        text-align: right;\n",
       "    }\n",
       "</style>\n",
       "<table border=\"1\" class=\"dataframe\">\n",
       "  <thead>\n",
       "    <tr style=\"text-align: right;\">\n",
       "      <th></th>\n",
       "      <th>make</th>\n",
       "      <th>fuel_type</th>\n",
       "      <th>aspiration</th>\n",
       "      <th>body_style</th>\n",
       "      <th>drive_wheels</th>\n",
       "      <th>engine_type</th>\n",
       "      <th>engine_location</th>\n",
       "      <th>fuel_system</th>\n",
       "    </tr>\n",
       "  </thead>\n",
       "  <tbody>\n",
       "    <tr>\n",
       "      <th>0</th>\n",
       "      <td>1</td>\n",
       "      <td>1</td>\n",
       "      <td>1</td>\n",
       "      <td>1</td>\n",
       "      <td>1</td>\n",
       "      <td>1</td>\n",
       "      <td>1</td>\n",
       "      <td>1</td>\n",
       "    </tr>\n",
       "    <tr>\n",
       "      <th>1</th>\n",
       "      <td>1</td>\n",
       "      <td>1</td>\n",
       "      <td>1</td>\n",
       "      <td>1</td>\n",
       "      <td>1</td>\n",
       "      <td>1</td>\n",
       "      <td>1</td>\n",
       "      <td>1</td>\n",
       "    </tr>\n",
       "    <tr>\n",
       "      <th>2</th>\n",
       "      <td>1</td>\n",
       "      <td>1</td>\n",
       "      <td>1</td>\n",
       "      <td>2</td>\n",
       "      <td>1</td>\n",
       "      <td>2</td>\n",
       "      <td>1</td>\n",
       "      <td>1</td>\n",
       "    </tr>\n",
       "    <tr>\n",
       "      <th>3</th>\n",
       "      <td>2</td>\n",
       "      <td>1</td>\n",
       "      <td>1</td>\n",
       "      <td>3</td>\n",
       "      <td>2</td>\n",
       "      <td>3</td>\n",
       "      <td>1</td>\n",
       "      <td>1</td>\n",
       "    </tr>\n",
       "    <tr>\n",
       "      <th>4</th>\n",
       "      <td>2</td>\n",
       "      <td>1</td>\n",
       "      <td>1</td>\n",
       "      <td>3</td>\n",
       "      <td>3</td>\n",
       "      <td>3</td>\n",
       "      <td>1</td>\n",
       "      <td>1</td>\n",
       "    </tr>\n",
       "    <tr>\n",
       "      <th>5</th>\n",
       "      <td>2</td>\n",
       "      <td>1</td>\n",
       "      <td>1</td>\n",
       "      <td>3</td>\n",
       "      <td>2</td>\n",
       "      <td>3</td>\n",
       "      <td>1</td>\n",
       "      <td>1</td>\n",
       "    </tr>\n",
       "    <tr>\n",
       "      <th>6</th>\n",
       "      <td>2</td>\n",
       "      <td>1</td>\n",
       "      <td>1</td>\n",
       "      <td>3</td>\n",
       "      <td>2</td>\n",
       "      <td>3</td>\n",
       "      <td>1</td>\n",
       "      <td>1</td>\n",
       "    </tr>\n",
       "    <tr>\n",
       "      <th>7</th>\n",
       "      <td>2</td>\n",
       "      <td>1</td>\n",
       "      <td>1</td>\n",
       "      <td>4</td>\n",
       "      <td>2</td>\n",
       "      <td>3</td>\n",
       "      <td>1</td>\n",
       "      <td>1</td>\n",
       "    </tr>\n",
       "    <tr>\n",
       "      <th>8</th>\n",
       "      <td>2</td>\n",
       "      <td>1</td>\n",
       "      <td>2</td>\n",
       "      <td>3</td>\n",
       "      <td>2</td>\n",
       "      <td>3</td>\n",
       "      <td>1</td>\n",
       "      <td>1</td>\n",
       "    </tr>\n",
       "    <tr>\n",
       "      <th>9</th>\n",
       "      <td>3</td>\n",
       "      <td>1</td>\n",
       "      <td>1</td>\n",
       "      <td>3</td>\n",
       "      <td>1</td>\n",
       "      <td>3</td>\n",
       "      <td>1</td>\n",
       "      <td>1</td>\n",
       "    </tr>\n",
       "    <tr>\n",
       "      <th>10</th>\n",
       "      <td>3</td>\n",
       "      <td>1</td>\n",
       "      <td>1</td>\n",
       "      <td>3</td>\n",
       "      <td>1</td>\n",
       "      <td>3</td>\n",
       "      <td>1</td>\n",
       "      <td>1</td>\n",
       "    </tr>\n",
       "    <tr>\n",
       "      <th>11</th>\n",
       "      <td>3</td>\n",
       "      <td>1</td>\n",
       "      <td>1</td>\n",
       "      <td>3</td>\n",
       "      <td>1</td>\n",
       "      <td>3</td>\n",
       "      <td>1</td>\n",
       "      <td>1</td>\n",
       "    </tr>\n",
       "    <tr>\n",
       "      <th>12</th>\n",
       "      <td>3</td>\n",
       "      <td>1</td>\n",
       "      <td>1</td>\n",
       "      <td>3</td>\n",
       "      <td>1</td>\n",
       "      <td>3</td>\n",
       "      <td>1</td>\n",
       "      <td>1</td>\n",
       "    </tr>\n",
       "    <tr>\n",
       "      <th>13</th>\n",
       "      <td>3</td>\n",
       "      <td>1</td>\n",
       "      <td>1</td>\n",
       "      <td>3</td>\n",
       "      <td>1</td>\n",
       "      <td>3</td>\n",
       "      <td>1</td>\n",
       "      <td>1</td>\n",
       "    </tr>\n",
       "    <tr>\n",
       "      <th>14</th>\n",
       "      <td>3</td>\n",
       "      <td>1</td>\n",
       "      <td>1</td>\n",
       "      <td>3</td>\n",
       "      <td>1</td>\n",
       "      <td>3</td>\n",
       "      <td>1</td>\n",
       "      <td>1</td>\n",
       "    </tr>\n",
       "    <tr>\n",
       "      <th>15</th>\n",
       "      <td>3</td>\n",
       "      <td>1</td>\n",
       "      <td>1</td>\n",
       "      <td>3</td>\n",
       "      <td>1</td>\n",
       "      <td>3</td>\n",
       "      <td>1</td>\n",
       "      <td>1</td>\n",
       "    </tr>\n",
       "    <tr>\n",
       "      <th>16</th>\n",
       "      <td>3</td>\n",
       "      <td>1</td>\n",
       "      <td>1</td>\n",
       "      <td>3</td>\n",
       "      <td>1</td>\n",
       "      <td>3</td>\n",
       "      <td>1</td>\n",
       "      <td>1</td>\n",
       "    </tr>\n",
       "    <tr>\n",
       "      <th>17</th>\n",
       "      <td>4</td>\n",
       "      <td>1</td>\n",
       "      <td>1</td>\n",
       "      <td>2</td>\n",
       "      <td>2</td>\n",
       "      <td>4</td>\n",
       "      <td>1</td>\n",
       "      <td>2</td>\n",
       "    </tr>\n",
       "    <tr>\n",
       "      <th>18</th>\n",
       "      <td>4</td>\n",
       "      <td>1</td>\n",
       "      <td>1</td>\n",
       "      <td>2</td>\n",
       "      <td>2</td>\n",
       "      <td>3</td>\n",
       "      <td>1</td>\n",
       "      <td>2</td>\n",
       "    </tr>\n",
       "    <tr>\n",
       "      <th>19</th>\n",
       "      <td>4</td>\n",
       "      <td>1</td>\n",
       "      <td>1</td>\n",
       "      <td>3</td>\n",
       "      <td>2</td>\n",
       "      <td>3</td>\n",
       "      <td>1</td>\n",
       "      <td>2</td>\n",
       "    </tr>\n",
       "    <tr>\n",
       "      <th>20</th>\n",
       "      <td>5</td>\n",
       "      <td>1</td>\n",
       "      <td>1</td>\n",
       "      <td>2</td>\n",
       "      <td>2</td>\n",
       "      <td>3</td>\n",
       "      <td>1</td>\n",
       "      <td>2</td>\n",
       "    </tr>\n",
       "    <tr>\n",
       "      <th>21</th>\n",
       "      <td>5</td>\n",
       "      <td>1</td>\n",
       "      <td>1</td>\n",
       "      <td>2</td>\n",
       "      <td>2</td>\n",
       "      <td>3</td>\n",
       "      <td>1</td>\n",
       "      <td>2</td>\n",
       "    </tr>\n",
       "    <tr>\n",
       "      <th>22</th>\n",
       "      <td>5</td>\n",
       "      <td>1</td>\n",
       "      <td>2</td>\n",
       "      <td>2</td>\n",
       "      <td>2</td>\n",
       "      <td>3</td>\n",
       "      <td>1</td>\n",
       "      <td>1</td>\n",
       "    </tr>\n",
       "    <tr>\n",
       "      <th>23</th>\n",
       "      <td>5</td>\n",
       "      <td>1</td>\n",
       "      <td>1</td>\n",
       "      <td>2</td>\n",
       "      <td>2</td>\n",
       "      <td>3</td>\n",
       "      <td>1</td>\n",
       "      <td>2</td>\n",
       "    </tr>\n",
       "    <tr>\n",
       "      <th>24</th>\n",
       "      <td>5</td>\n",
       "      <td>1</td>\n",
       "      <td>1</td>\n",
       "      <td>3</td>\n",
       "      <td>2</td>\n",
       "      <td>3</td>\n",
       "      <td>1</td>\n",
       "      <td>2</td>\n",
       "    </tr>\n",
       "    <tr>\n",
       "      <th>25</th>\n",
       "      <td>5</td>\n",
       "      <td>1</td>\n",
       "      <td>1</td>\n",
       "      <td>3</td>\n",
       "      <td>2</td>\n",
       "      <td>3</td>\n",
       "      <td>1</td>\n",
       "      <td>2</td>\n",
       "    </tr>\n",
       "    <tr>\n",
       "      <th>26</th>\n",
       "      <td>5</td>\n",
       "      <td>1</td>\n",
       "      <td>2</td>\n",
       "      <td>3</td>\n",
       "      <td>2</td>\n",
       "      <td>3</td>\n",
       "      <td>1</td>\n",
       "      <td>1</td>\n",
       "    </tr>\n",
       "    <tr>\n",
       "      <th>27</th>\n",
       "      <td>5</td>\n",
       "      <td>1</td>\n",
       "      <td>1</td>\n",
       "      <td>4</td>\n",
       "      <td>2</td>\n",
       "      <td>3</td>\n",
       "      <td>1</td>\n",
       "      <td>2</td>\n",
       "    </tr>\n",
       "    <tr>\n",
       "      <th>28</th>\n",
       "      <td>5</td>\n",
       "      <td>1</td>\n",
       "      <td>2</td>\n",
       "      <td>2</td>\n",
       "      <td>2</td>\n",
       "      <td>3</td>\n",
       "      <td>1</td>\n",
       "      <td>3</td>\n",
       "    </tr>\n",
       "    <tr>\n",
       "      <th>29</th>\n",
       "      <td>6</td>\n",
       "      <td>1</td>\n",
       "      <td>1</td>\n",
       "      <td>2</td>\n",
       "      <td>2</td>\n",
       "      <td>3</td>\n",
       "      <td>1</td>\n",
       "      <td>4</td>\n",
       "    </tr>\n",
       "    <tr>\n",
       "      <th>...</th>\n",
       "      <td>...</td>\n",
       "      <td>...</td>\n",
       "      <td>...</td>\n",
       "      <td>...</td>\n",
       "      <td>...</td>\n",
       "      <td>...</td>\n",
       "      <td>...</td>\n",
       "      <td>...</td>\n",
       "    </tr>\n",
       "    <tr>\n",
       "      <th>171</th>\n",
       "      <td>20</td>\n",
       "      <td>1</td>\n",
       "      <td>1</td>\n",
       "      <td>2</td>\n",
       "      <td>2</td>\n",
       "      <td>3</td>\n",
       "      <td>1</td>\n",
       "      <td>1</td>\n",
       "    </tr>\n",
       "    <tr>\n",
       "      <th>172</th>\n",
       "      <td>20</td>\n",
       "      <td>1</td>\n",
       "      <td>1</td>\n",
       "      <td>3</td>\n",
       "      <td>2</td>\n",
       "      <td>3</td>\n",
       "      <td>1</td>\n",
       "      <td>1</td>\n",
       "    </tr>\n",
       "    <tr>\n",
       "      <th>173</th>\n",
       "      <td>20</td>\n",
       "      <td>1</td>\n",
       "      <td>1</td>\n",
       "      <td>2</td>\n",
       "      <td>2</td>\n",
       "      <td>3</td>\n",
       "      <td>1</td>\n",
       "      <td>1</td>\n",
       "    </tr>\n",
       "    <tr>\n",
       "      <th>174</th>\n",
       "      <td>20</td>\n",
       "      <td>1</td>\n",
       "      <td>1</td>\n",
       "      <td>2</td>\n",
       "      <td>1</td>\n",
       "      <td>1</td>\n",
       "      <td>1</td>\n",
       "      <td>1</td>\n",
       "    </tr>\n",
       "    <tr>\n",
       "      <th>175</th>\n",
       "      <td>20</td>\n",
       "      <td>1</td>\n",
       "      <td>1</td>\n",
       "      <td>2</td>\n",
       "      <td>1</td>\n",
       "      <td>1</td>\n",
       "      <td>1</td>\n",
       "      <td>1</td>\n",
       "    </tr>\n",
       "    <tr>\n",
       "      <th>176</th>\n",
       "      <td>20</td>\n",
       "      <td>1</td>\n",
       "      <td>1</td>\n",
       "      <td>3</td>\n",
       "      <td>1</td>\n",
       "      <td>1</td>\n",
       "      <td>1</td>\n",
       "      <td>1</td>\n",
       "    </tr>\n",
       "    <tr>\n",
       "      <th>177</th>\n",
       "      <td>20</td>\n",
       "      <td>1</td>\n",
       "      <td>1</td>\n",
       "      <td>4</td>\n",
       "      <td>1</td>\n",
       "      <td>1</td>\n",
       "      <td>1</td>\n",
       "      <td>1</td>\n",
       "    </tr>\n",
       "    <tr>\n",
       "      <th>178</th>\n",
       "      <td>21</td>\n",
       "      <td>2</td>\n",
       "      <td>1</td>\n",
       "      <td>3</td>\n",
       "      <td>2</td>\n",
       "      <td>3</td>\n",
       "      <td>1</td>\n",
       "      <td>7</td>\n",
       "    </tr>\n",
       "    <tr>\n",
       "      <th>179</th>\n",
       "      <td>21</td>\n",
       "      <td>1</td>\n",
       "      <td>1</td>\n",
       "      <td>3</td>\n",
       "      <td>2</td>\n",
       "      <td>3</td>\n",
       "      <td>1</td>\n",
       "      <td>1</td>\n",
       "    </tr>\n",
       "    <tr>\n",
       "      <th>180</th>\n",
       "      <td>21</td>\n",
       "      <td>2</td>\n",
       "      <td>1</td>\n",
       "      <td>3</td>\n",
       "      <td>2</td>\n",
       "      <td>3</td>\n",
       "      <td>1</td>\n",
       "      <td>7</td>\n",
       "    </tr>\n",
       "    <tr>\n",
       "      <th>181</th>\n",
       "      <td>21</td>\n",
       "      <td>1</td>\n",
       "      <td>1</td>\n",
       "      <td>3</td>\n",
       "      <td>2</td>\n",
       "      <td>3</td>\n",
       "      <td>1</td>\n",
       "      <td>1</td>\n",
       "    </tr>\n",
       "    <tr>\n",
       "      <th>182</th>\n",
       "      <td>21</td>\n",
       "      <td>1</td>\n",
       "      <td>1</td>\n",
       "      <td>3</td>\n",
       "      <td>2</td>\n",
       "      <td>3</td>\n",
       "      <td>1</td>\n",
       "      <td>1</td>\n",
       "    </tr>\n",
       "    <tr>\n",
       "      <th>183</th>\n",
       "      <td>21</td>\n",
       "      <td>2</td>\n",
       "      <td>2</td>\n",
       "      <td>3</td>\n",
       "      <td>2</td>\n",
       "      <td>3</td>\n",
       "      <td>1</td>\n",
       "      <td>7</td>\n",
       "    </tr>\n",
       "    <tr>\n",
       "      <th>184</th>\n",
       "      <td>21</td>\n",
       "      <td>1</td>\n",
       "      <td>1</td>\n",
       "      <td>3</td>\n",
       "      <td>2</td>\n",
       "      <td>3</td>\n",
       "      <td>1</td>\n",
       "      <td>1</td>\n",
       "    </tr>\n",
       "    <tr>\n",
       "      <th>185</th>\n",
       "      <td>21</td>\n",
       "      <td>1</td>\n",
       "      <td>1</td>\n",
       "      <td>1</td>\n",
       "      <td>2</td>\n",
       "      <td>3</td>\n",
       "      <td>1</td>\n",
       "      <td>1</td>\n",
       "    </tr>\n",
       "    <tr>\n",
       "      <th>186</th>\n",
       "      <td>21</td>\n",
       "      <td>1</td>\n",
       "      <td>1</td>\n",
       "      <td>2</td>\n",
       "      <td>2</td>\n",
       "      <td>3</td>\n",
       "      <td>1</td>\n",
       "      <td>1</td>\n",
       "    </tr>\n",
       "    <tr>\n",
       "      <th>187</th>\n",
       "      <td>21</td>\n",
       "      <td>1</td>\n",
       "      <td>1</td>\n",
       "      <td>3</td>\n",
       "      <td>2</td>\n",
       "      <td>3</td>\n",
       "      <td>1</td>\n",
       "      <td>1</td>\n",
       "    </tr>\n",
       "    <tr>\n",
       "      <th>188</th>\n",
       "      <td>21</td>\n",
       "      <td>2</td>\n",
       "      <td>2</td>\n",
       "      <td>3</td>\n",
       "      <td>2</td>\n",
       "      <td>3</td>\n",
       "      <td>1</td>\n",
       "      <td>7</td>\n",
       "    </tr>\n",
       "    <tr>\n",
       "      <th>189</th>\n",
       "      <td>21</td>\n",
       "      <td>1</td>\n",
       "      <td>1</td>\n",
       "      <td>4</td>\n",
       "      <td>2</td>\n",
       "      <td>3</td>\n",
       "      <td>1</td>\n",
       "      <td>1</td>\n",
       "    </tr>\n",
       "    <tr>\n",
       "      <th>190</th>\n",
       "      <td>22</td>\n",
       "      <td>1</td>\n",
       "      <td>1</td>\n",
       "      <td>3</td>\n",
       "      <td>1</td>\n",
       "      <td>3</td>\n",
       "      <td>1</td>\n",
       "      <td>1</td>\n",
       "    </tr>\n",
       "    <tr>\n",
       "      <th>191</th>\n",
       "      <td>22</td>\n",
       "      <td>1</td>\n",
       "      <td>1</td>\n",
       "      <td>4</td>\n",
       "      <td>1</td>\n",
       "      <td>3</td>\n",
       "      <td>1</td>\n",
       "      <td>1</td>\n",
       "    </tr>\n",
       "    <tr>\n",
       "      <th>192</th>\n",
       "      <td>22</td>\n",
       "      <td>1</td>\n",
       "      <td>1</td>\n",
       "      <td>3</td>\n",
       "      <td>1</td>\n",
       "      <td>3</td>\n",
       "      <td>1</td>\n",
       "      <td>1</td>\n",
       "    </tr>\n",
       "    <tr>\n",
       "      <th>193</th>\n",
       "      <td>22</td>\n",
       "      <td>1</td>\n",
       "      <td>1</td>\n",
       "      <td>4</td>\n",
       "      <td>1</td>\n",
       "      <td>3</td>\n",
       "      <td>1</td>\n",
       "      <td>1</td>\n",
       "    </tr>\n",
       "    <tr>\n",
       "      <th>194</th>\n",
       "      <td>22</td>\n",
       "      <td>1</td>\n",
       "      <td>2</td>\n",
       "      <td>3</td>\n",
       "      <td>1</td>\n",
       "      <td>3</td>\n",
       "      <td>1</td>\n",
       "      <td>1</td>\n",
       "    </tr>\n",
       "    <tr>\n",
       "      <th>195</th>\n",
       "      <td>22</td>\n",
       "      <td>1</td>\n",
       "      <td>2</td>\n",
       "      <td>4</td>\n",
       "      <td>1</td>\n",
       "      <td>3</td>\n",
       "      <td>1</td>\n",
       "      <td>1</td>\n",
       "    </tr>\n",
       "    <tr>\n",
       "      <th>196</th>\n",
       "      <td>22</td>\n",
       "      <td>1</td>\n",
       "      <td>1</td>\n",
       "      <td>3</td>\n",
       "      <td>1</td>\n",
       "      <td>3</td>\n",
       "      <td>1</td>\n",
       "      <td>1</td>\n",
       "    </tr>\n",
       "    <tr>\n",
       "      <th>197</th>\n",
       "      <td>22</td>\n",
       "      <td>1</td>\n",
       "      <td>2</td>\n",
       "      <td>3</td>\n",
       "      <td>1</td>\n",
       "      <td>3</td>\n",
       "      <td>1</td>\n",
       "      <td>1</td>\n",
       "    </tr>\n",
       "    <tr>\n",
       "      <th>198</th>\n",
       "      <td>22</td>\n",
       "      <td>1</td>\n",
       "      <td>1</td>\n",
       "      <td>3</td>\n",
       "      <td>1</td>\n",
       "      <td>2</td>\n",
       "      <td>1</td>\n",
       "      <td>1</td>\n",
       "    </tr>\n",
       "    <tr>\n",
       "      <th>199</th>\n",
       "      <td>22</td>\n",
       "      <td>2</td>\n",
       "      <td>2</td>\n",
       "      <td>3</td>\n",
       "      <td>1</td>\n",
       "      <td>3</td>\n",
       "      <td>1</td>\n",
       "      <td>7</td>\n",
       "    </tr>\n",
       "    <tr>\n",
       "      <th>200</th>\n",
       "      <td>22</td>\n",
       "      <td>1</td>\n",
       "      <td>2</td>\n",
       "      <td>3</td>\n",
       "      <td>1</td>\n",
       "      <td>3</td>\n",
       "      <td>1</td>\n",
       "      <td>1</td>\n",
       "    </tr>\n",
       "  </tbody>\n",
       "</table>\n",
       "<p>201 rows × 8 columns</p>\n",
       "</div>"
      ],
      "text/plain": [
       "     make  fuel_type  aspiration  body_style  drive_wheels  engine_type  \\\n",
       "0       1          1           1           1             1            1   \n",
       "1       1          1           1           1             1            1   \n",
       "2       1          1           1           2             1            2   \n",
       "3       2          1           1           3             2            3   \n",
       "4       2          1           1           3             3            3   \n",
       "5       2          1           1           3             2            3   \n",
       "6       2          1           1           3             2            3   \n",
       "7       2          1           1           4             2            3   \n",
       "8       2          1           2           3             2            3   \n",
       "9       3          1           1           3             1            3   \n",
       "10      3          1           1           3             1            3   \n",
       "11      3          1           1           3             1            3   \n",
       "12      3          1           1           3             1            3   \n",
       "13      3          1           1           3             1            3   \n",
       "14      3          1           1           3             1            3   \n",
       "15      3          1           1           3             1            3   \n",
       "16      3          1           1           3             1            3   \n",
       "17      4          1           1           2             2            4   \n",
       "18      4          1           1           2             2            3   \n",
       "19      4          1           1           3             2            3   \n",
       "20      5          1           1           2             2            3   \n",
       "21      5          1           1           2             2            3   \n",
       "22      5          1           2           2             2            3   \n",
       "23      5          1           1           2             2            3   \n",
       "24      5          1           1           3             2            3   \n",
       "25      5          1           1           3             2            3   \n",
       "26      5          1           2           3             2            3   \n",
       "27      5          1           1           4             2            3   \n",
       "28      5          1           2           2             2            3   \n",
       "29      6          1           1           2             2            3   \n",
       "..    ...        ...         ...         ...           ...          ...   \n",
       "171    20          1           1           2             2            3   \n",
       "172    20          1           1           3             2            3   \n",
       "173    20          1           1           2             2            3   \n",
       "174    20          1           1           2             1            1   \n",
       "175    20          1           1           2             1            1   \n",
       "176    20          1           1           3             1            1   \n",
       "177    20          1           1           4             1            1   \n",
       "178    21          2           1           3             2            3   \n",
       "179    21          1           1           3             2            3   \n",
       "180    21          2           1           3             2            3   \n",
       "181    21          1           1           3             2            3   \n",
       "182    21          1           1           3             2            3   \n",
       "183    21          2           2           3             2            3   \n",
       "184    21          1           1           3             2            3   \n",
       "185    21          1           1           1             2            3   \n",
       "186    21          1           1           2             2            3   \n",
       "187    21          1           1           3             2            3   \n",
       "188    21          2           2           3             2            3   \n",
       "189    21          1           1           4             2            3   \n",
       "190    22          1           1           3             1            3   \n",
       "191    22          1           1           4             1            3   \n",
       "192    22          1           1           3             1            3   \n",
       "193    22          1           1           4             1            3   \n",
       "194    22          1           2           3             1            3   \n",
       "195    22          1           2           4             1            3   \n",
       "196    22          1           1           3             1            3   \n",
       "197    22          1           2           3             1            3   \n",
       "198    22          1           1           3             1            2   \n",
       "199    22          2           2           3             1            3   \n",
       "200    22          1           2           3             1            3   \n",
       "\n",
       "     engine_location  fuel_system  \n",
       "0                  1            1  \n",
       "1                  1            1  \n",
       "2                  1            1  \n",
       "3                  1            1  \n",
       "4                  1            1  \n",
       "5                  1            1  \n",
       "6                  1            1  \n",
       "7                  1            1  \n",
       "8                  1            1  \n",
       "9                  1            1  \n",
       "10                 1            1  \n",
       "11                 1            1  \n",
       "12                 1            1  \n",
       "13                 1            1  \n",
       "14                 1            1  \n",
       "15                 1            1  \n",
       "16                 1            1  \n",
       "17                 1            2  \n",
       "18                 1            2  \n",
       "19                 1            2  \n",
       "20                 1            2  \n",
       "21                 1            2  \n",
       "22                 1            1  \n",
       "23                 1            2  \n",
       "24                 1            2  \n",
       "25                 1            2  \n",
       "26                 1            1  \n",
       "27                 1            2  \n",
       "28                 1            3  \n",
       "29                 1            4  \n",
       "..               ...          ...  \n",
       "171                1            1  \n",
       "172                1            1  \n",
       "173                1            1  \n",
       "174                1            1  \n",
       "175                1            1  \n",
       "176                1            1  \n",
       "177                1            1  \n",
       "178                1            7  \n",
       "179                1            1  \n",
       "180                1            7  \n",
       "181                1            1  \n",
       "182                1            1  \n",
       "183                1            7  \n",
       "184                1            1  \n",
       "185                1            1  \n",
       "186                1            1  \n",
       "187                1            1  \n",
       "188                1            7  \n",
       "189                1            1  \n",
       "190                1            1  \n",
       "191                1            1  \n",
       "192                1            1  \n",
       "193                1            1  \n",
       "194                1            1  \n",
       "195                1            1  \n",
       "196                1            1  \n",
       "197                1            1  \n",
       "198                1            1  \n",
       "199                1            7  \n",
       "200                1            1  \n",
       "\n",
       "[201 rows x 8 columns]"
      ]
     },
     "execution_count": 29,
     "metadata": {},
     "output_type": "execute_result"
    }
   ],
   "source": [
<<<<<<< HEAD
    "estat = automobile_norm.describe()\n",
    "for col in cols_numericas:\n",
    "    #Intervalo inter-quartil\n",
    "    iq = (estat[col][\"75%\"] - estat[col][\"25%\"])\n",
    "    #Limite superior para outlier é 1,5 vezes o intervalo interquartial acima do 75% percentil\n",
    "    lim_sup = estat[col][\"75%\"] + 1.5 * iq \n",
    "    #Limite inferior para outlier é 1,5 vezes o intervalo interquartial abaixo do 25% percentil\n",
    "    lim_inf = estat[col][\"25%\"] - 1.5 * iq \n",
    "    #Seleciona os carros que seguem a regra calculada acima\n",
    "    vet_out = automobile_norm[(automobile_norm[col] > lim_sup) | (automobile_norm[col] < lim_inf)][[col]]\n",
    "    #Se algum elemento foi selecionado, imprima\n",
    "    if (len(vet_out) > 0 ):\n",
    "       print(\"Candidatos a outliers para \" + col) \n",
    "       print(vet_out)\n",
    "       print(\"\\n\\n\")\n",
>>>>>>> upstream/master
    "\n"
   ]
  },
  {
   "cell_type": "markdown",
   "metadata": {},
   "source": [
    "Antes de explorar melhor as correlações, vamos analisar se há dados discrepante no conjunto de dados. Analisar os dados sem esta análise antes pode nos levar a algum viés indesejado."
   ]
  },
  {
   "cell_type": "markdown",
   "metadata": {},
   "source": [
    "### Análise de valores inválidos"
   ]
  },
  {
   "cell_type": "markdown",
   "metadata": {},
   "source": [
    "Analise e busque por valores considerados nulos."
   ]
  },
  {
   "cell_type": "code",
   "execution_count": 5,
   "metadata": {
    "collapsed": true
   },
   "outputs": [],
   "source": [
    "#IMPLEMENTAÇÃO\n",
=======
    "#Colunas marcadas como alfanuméricas agora já estão convertidas\n",
    "automobile[cols_alfa]\n",
>>>>>>> upstream/dev
    "\n"
   ]
  },
  {
   "cell_type": "code",
   "execution_count": 30,
   "metadata": {},
   "outputs": [],
   "source": [
    "#Se existe a coluna auxiliar incluída para o tratamento de dados faltantes então exclui\n",
    "if \"relacao_estrada_cidade\" in list(automobile.columns.values):\n",
    "   automobile = automobile.drop(\"relacao_estrada_cidade\",1)\n"
   ]
  },
  {
   "cell_type": "code",
   "execution_count": 31,
   "metadata": {},
   "outputs": [],
   "source": [
    "def is_numeric_array(array):\n",
    "    numerical_dtype_kinds = {'b', # boolean\n",
    "                             'u', # unsigned integer\n",
    "                             'i', # signed integer\n",
    "                             'f', # floats\n",
    "                             'c'} # complex\n",
    "    try:\n",
    "        return array.dtype.kind in numerical_dtype_kinds\n",
    "    except AttributeError:\n",
    "        # in case it's not a numpy array it will probably have no dtype.\n",
    "        return np.asarray(array).dtype.kind in numerical_dtype_kinds"
   ]
  },
  {
   "cell_type": "code",
   "execution_count": 32,
   "metadata": {},
   "outputs": [
    {
     "name": "stdout",
     "output_type": "stream",
     "text": [
      "True\n"
     ]
    }
   ],
   "source": [
    "#Verifica se todos os atributos dos automóveis são numéricos\n",
    "print(is_numeric_array(automobile))"
   ]
  },
  {
   "cell_type": "markdown",
   "metadata": {},
   "source": [
    "Nesse ponto, temos a garantia que todas as colunas do dataframe <b>automobile</b> são numéricas. Pode-se prosseguir para a utilização de modelos de aprendizagem de máquina para realizar os treinamentos, testes e predições. \n"
   ]
  },
  {
   "cell_type": "markdown",
   "metadata": {},
   "source": [
    "## Desenvolvimento do Modelo"
   ]
  },
  {
   "cell_type": "markdown",
   "metadata": {},
   "source": [
    "O conjunto de dados que temos a nossa disposição indica a aplicação de um modelo voltado a regressão, ou seja, queremos prever um preço de um veículo dada certas condições. É um problema típico de predição de série numérica.\n",
    "\n",
    "Podemos aplicar quaisquer algoritmos de regressão existente que tenha aplicação de classificação, pois é de um domínio diferente.\n",
    "\n",
    "Iremos explorar 3 modelos de algoritmos de regressão para testar a performance de cada um deles. Ao final será eleito o que apresentar melhor performance de pontuação R2.\n",
    "\n",
    "Os algoritmos são:\n",
    "\n",
    "1. [Regressão Linear](http://scikit-learn.org/stable/auto_examples/linear_model/plot_ols.html)\n",
    "2. [Regressão de Árvore de Decisão](http://scikit-learn.org/stable/modules/generated/sklearn.tree.DecisionTreeRegressor.html)\n",
    "3. [Regressão Ridge](http://scikit-learn.org/stable/modules/linear_model.html#ridge-regression)"
   ]
  },
  {
   "cell_type": "markdown",
   "metadata": {},
   "source": [
    "**Pergunta:** Explique como cada modelo de regressão funciona, indicando pelo menos um caso de uso em cada um deles.\n",
    "\n",
    "**Resposta:** \n",
    "\n",
    "* **Regressão Linear** \n",
    "\n",
    "Modelo que estima o valor desejado, traçando a melhor linha reta baseada na distribuição das observações. Os coeficientes dessa linha são calculados pelos valores que minimizam a soma residual do médoto dos mínimos quadrados entre o valor estimado e as observações.\n",
    "\n",
    "Caso de uso: Estimar o tempo de percurso de bicicleta entre estações de locação da cidade de Los Angeles, utilizando o dataset [“Los Angeles Metro Bike Share Trip Data”](https://www.kaggle.com/cityofLA/los-angeles-metro-bike-share-trip-data) do Kaggle. A regressão pode ser realizada utilizando o ID das estações de início e fim do percurso e o horário de início da viagem.\n",
    "\n",
    "\n",
    "* **Regressão por Árvore de Decisão** \n",
    "\n",
    "Modelo que estima o valor desejado utilizando regras de decisão inferidas pelos atributos. As regras podem estar no formato “if-then-else”. Para cada decisão tomada, uma nova regra pode ser aplicada aumentando a profundidade da árvore de decisão. Quando mais profunda a árvore, maior a acurácia do modelo.\n",
    "\n",
    "Caso de uso: Utilizando o dataset [“Kickstarter Projects”](https://www.kaggle.com/kemical/kickstarter-projects) do Kaggle, estimar a chance de sucesso de um projeto. Utilizando os nós: categoria, categoria principal, período de arrecadação e valor pleiteado, a árvore de decisão pode combinar os nós de modo a apresentar o melhor resultado.\n",
    "\n",
    "\n",
    "* **Regressão Ridge** \n",
    "\n",
    "Dependendo da quantidade de atributos e da correlação entre eles, o método dos mínimos quadrados, utilizado na regressão linear, pode ocasionar overfitting ou até falhar em encontrar coeficientes únicos. A regressão Ridge corrige essas falhas, adionando um parâmetro à soma residual do método dos mínimos quadrados, isso regulariza o modelo, penalizando coeficientes grandes, e, por consequência, encolhendo os coeficientes da regressão.\n",
    "\n",
    "Caso de uso: Utilizando o dataset [“Breast Cancer Wisconsin Data”](https://www.kaggle.com/uciml/breast-cancer-wisconsin-data) do Kaggle, estimar o tipo de câncer de mama (maligno ou benigno) baseando-se em todos os atributos do dataset. Nesse caso, os atributos perímetro e área são calculados pelo atributo raio, ou seja, são correlacionados, dessa forma, utilizando a regressão de Ridge evitamos overfitting\n",
    "\n"
   ]
  },
  {
   "cell_type": "markdown",
<<<<<<< HEAD
<<<<<<< HEAD
   "metadata": {},
=======
   "metadata": {
    "collapsed": true
   },
>>>>>>> upstream/master
=======
   "metadata": {
    "collapsed": true
   },
>>>>>>> upstream/dev
   "source": [
    "Antes de partimos para o treinamento do modelo, precisaremos separar os dados em subconjuntos para permitir avaliar adequadamente o modelo.\n",
    "\n",
    "Uma boa razão de tamanho de conjunto de treinamento e testes é 80% e 20% ou ainda, 70% e 30%. O importante é não misturar dados de treinamento com os de teste para termos uma ideia melhor sobre a performance do modelo com dados previamente não treinados.\n",
    "\n",
    "Antes de separarmos os dados, a partir das análises realizadas anteriormente, quais seriam os atributos a serem utilizados e qual seria o atributo preditor?"
   ]
  },
  {
   "cell_type": "code",
   "execution_count": 33,
   "metadata": {},
   "outputs": [
    {
     "name": "stdout",
     "output_type": "stream",
     "text": [
      "make                  -0.163646\n",
      "fuel_type              0.110326\n",
      "aspiration             0.179578\n",
      "number_of_doors        0.048264\n",
      "body_style             0.179503\n",
      "drive_wheels          -0.588333\n",
      "engine_location        0.331062\n",
      "wheel_base             0.584642\n",
      "length                 0.690628\n",
      "width                  0.751265\n",
      "height                 0.135486\n",
      "curb_weight            0.834415\n",
      "engine_type           -0.139708\n",
      "number_of_cylinders    0.708645\n",
      "engine_size            0.872335\n",
      "fuel_system           -0.115813\n",
      "bore                   0.543052\n",
      "stroke                 0.081434\n",
      "compression_ratio      0.071107\n",
      "horsepower             0.810795\n",
      "peak_rpm              -0.096189\n",
      "city_mpg              -0.667138\n",
      "highway_mpg           -0.704829\n",
      "price                  1.000000\n",
      "Name: price, dtype: float64\n"
     ]
    }
   ],
   "source": [
    "# Para a predição do preço dos automóveis, vamos utilizar os atributos com maiores correlação com relação ao atributo procurado\n",
    "print(automobile.corr()[\"price\"])\n",
    "\n",
    "# Os atributos são: drive_wheels, wheel_base, length, width, curb_weight, number_of_cylinders, engine_size, bore, horsepower,\n",
    "# city_mpg e highway_mpg\n",
    "preditor_col_names = ['drive_wheels','wheel_base','length','width','curb_weight','number_of_cylinders','engine_size','bore','horsepower','city_mpg','highway_mpg']"
   ]
  },
  {
   "cell_type": "markdown",
   "metadata": {},
   "source": [
    "Crie subsets de treinamento e teste utilizado uma razão adequada de tamanho.\n",
    "Utilze o ```train_test_split``` passando como parâmetros"
   ]
  },
  {
   "cell_type": "code",
   "execution_count": 34,
   "metadata": {},
   "outputs": [],
   "source": [
    "from sklearn.model_selection import train_test_split\n",
    "\n",
    "# armazena os atributos preditores\n",
    "X = automobile[preditor_col_names].values\n",
    "# armazena os valores a estimar\n",
    "y = automobile['price'].values\n",
    "\n",
    "# define que 30% do data set será utilizado para teste e 70% treinamento\n",
    "split_test_size = 0.30\n",
    "\n",
    "# gera randomicamente os data sets de treinamento e teste, utilizando como seed o numero 42\n",
    "X_train, X_test, y_train, y_test = train_test_split(X, y, test_size=split_test_size, random_state=42)"
   ]
  },
  {
   "cell_type": "markdown",
   "metadata": {},
   "source": [
    "Inspecione cada subconjunto de dados obtidos do ```train_test_split```. Note que nos conjuntos X devemos ter atributos, logo é esperado uma matriz com mais de uma coluna. Nos conjuntos y, é a classe de predição, logo é esperado apenas um atributo."
   ]
  },
  {
   "cell_type": "code",
   "execution_count": 35,
   "metadata": {},
   "outputs": [
    {
     "name": "stdout",
     "output_type": "stream",
     "text": [
      "Atributos de treinamento: \n",
      "[[2.000e+00 9.720e+01 1.734e+02 6.520e+01 2.302e+03 4.000e+00 1.200e+02\n",
      "  3.330e+00 9.700e+01 2.700e+01 3.400e+01]\n",
      " [2.000e+00 9.370e+01 1.500e+02 6.400e+01 1.837e+03 4.000e+00 7.900e+01\n",
      "  2.910e+00 6.000e+01 3.800e+01 4.200e+01]\n",
      " [1.000e+00 1.012e+02 1.768e+02 6.480e+01 2.765e+03 6.000e+00 1.640e+02\n",
      "  3.310e+00 1.210e+02 2.100e+01 2.800e+01]\n",
      " [2.000e+00 9.650e+01 1.571e+02 6.390e+01 2.024e+03 4.000e+00 9.200e+01\n",
      "  2.920e+00 7.600e+01 3.000e+01 3.400e+01]\n",
      " [2.000e+00 9.370e+01 1.673e+02 6.380e+01 2.191e+03 4.000e+00 9.800e+01\n",
      "  2.970e+00 6.800e+01 3.100e+01 3.800e+01]\n",
      " [1.000e+00 9.430e+01 1.707e+02 6.180e+01 2.337e+03 4.000e+00 1.110e+02\n",
      "  3.310e+00 7.800e+01 2.400e+01 2.900e+01]]\n"
     ]
    }
   ],
   "source": [
    "#Inspeção de X_train\n",
    "print(\"Atributos de treinamento: \")\n",
    "print(X_train[0:6])\n",
    "\n",
    "# array com arrays de 11 valores, a mesma quantidade de atributos escolhida"
   ]
  },
  {
   "cell_type": "code",
   "execution_count": 36,
   "metadata": {},
   "outputs": [
    {
     "name": "stdout",
     "output_type": "stream",
     "text": [
      "Atributo procurado: \n",
      "[ 9549  5399 21105  7295  7609  6785]\n"
     ]
    }
   ],
   "source": [
    "#Inspeção de y_train\n",
    "print(\"Atributo procurado: \")\n",
    "print(y_train[0:6])"
   ]
  },
  {
   "cell_type": "markdown",
   "metadata": {},
   "source": [
    "Verifique também se a razão dos conjuntos está coerente com a divisão estabelecida. Para estes cálculos divida o número de itens do conjunto de treino pelo total e também o de testes pelo total."
   ]
  },
  {
   "cell_type": "code",
   "execution_count": 37,
   "metadata": {},
   "outputs": [
    {
     "name": "stdout",
     "output_type": "stream",
     "text": [
      "Relação dos dados de treinamento com o conjunto total: 0.70\n",
      "Relação dos dados de teste com o conjunto total: 0.30\n"
     ]
    }
   ],
   "source": [
    "#IMPLEMENTAÇÃO\n",
    "print(\"Relação dos dados de treinamento com o conjunto total: %.2f\" % (len(X_train) / automobile['price'].size) )\n",
    "print(\"Relação dos dados de teste com o conjunto total: %.2f\" % (len(X_test) / automobile['price'].size) )"
   ]
  },
  {
   "cell_type": "markdown",
   "metadata": {},
   "source": [
    "## Treinamento e teste do modelo\n",
    "\n",
    "Após separarmos os dados adequadamente, selecionar os atributos que irão compor como o modelo deve treinar e qual atributo deve perseguir, o próximo passo é treinar este modelo e verificar, pelos testes, sua performance.\n",
    "\n",
    "Este estudo também irá levar a escolhermos qual algoritmo devemos utilizar dentre os três selecionados neste ajuste.\n",
    "\n",
    "Para avaliarmos a performance dos modelos, vamos criar uma função que determinará a pontuação R2.\n",
    "\n",
    "Não esqueça de avaliar os conjuntos de dados de treino (```X_train```, ```y_train``` e de teste, ```X_test``` e ```y_test```)"
   ]
  },
  {
   "cell_type": "code",
   "execution_count": 38,
   "metadata": {},
   "outputs": [],
   "source": [
    "from sklearn.metrics import mean_squared_error, r2_score\n",
    "\n",
    "def pontuacao(modelo, X_test, y_test):\n",
    "    y_pred = modelo.predict(X_test)\n",
    "    print(\"%s R2 score: %.2f\" %(modelo,r2_score(y_test, y_pred)))"
   ]
  },
  {
   "cell_type": "markdown",
   "metadata": {},
   "source": [
    "### Regressão Linear\n",
    "\n",
    "Utilize para a variável preditora a função ```.ravel()``` para converter os dados no formato que o ```sklearn``` espera."
   ]
  },
  {
   "cell_type": "code",
   "execution_count": 39,
   "metadata": {},
   "outputs": [
    {
     "data": {
      "text/plain": [
       "LinearRegression(copy_X=True, fit_intercept=True, n_jobs=1, normalize=False)"
      ]
     },
     "execution_count": 39,
     "metadata": {},
     "output_type": "execute_result"
    }
   ],
   "source": [
    "from sklearn import linear_model\n",
    "\n",
    "lr_model = linear_model.LinearRegression()\n",
    "lr_model.fit(X_train, y_train.ravel())"
   ]
  },
  {
   "cell_type": "markdown",
   "metadata": {},
   "source": [
    "Obténha a pontuação R2, utilizando a função ```pontuacao``` para os conjuntos de treino e de teste."
   ]
  },
  {
   "cell_type": "code",
   "execution_count": 40,
   "metadata": {},
   "outputs": [
    {
     "name": "stdout",
     "output_type": "stream",
     "text": [
      "Pontuação R2 para os dados de treinamento:\n",
      "LinearRegression(copy_X=True, fit_intercept=True, n_jobs=1, normalize=False) R2 score: 0.84\n",
      "\n",
      "\n",
      "Pontuação R2 para os dados de test:\n",
      "LinearRegression(copy_X=True, fit_intercept=True, n_jobs=1, normalize=False) R2 score: 0.77\n"
     ]
    }
   ],
   "source": [
    "print(\"Pontuação R2 para os dados de treinamento:\")\n",
    "pontuacao(lr_model, X_train, y_train)\n",
    "print(\"\\n\")\n",
    "print(\"Pontuação R2 para os dados de test:\")\n",
    "pontuacao(lr_model, X_test, y_test)"
   ]
  },
  {
   "cell_type": "markdown",
   "metadata": {},
   "source": [
    "### Regressão de árvore de Decisão"
   ]
  },
  {
   "cell_type": "code",
   "execution_count": 41,
   "metadata": {},
   "outputs": [],
   "source": [
    "from sklearn import tree\n",
    "\n",
    "dtr_model = tree.DecisionTreeRegressor()\n"
   ]
  },
  {
   "cell_type": "markdown",
   "metadata": {},
   "source": [
    "Obténha a pontuação R2, utilizando a função ```pontuacao``` para os conjuntos de treino e de teste."
   ]
  },
  {
   "cell_type": "code",
   "execution_count": 42,
   "metadata": {},
   "outputs": [],
   "source": [
    "#IMPLEMENTAÇÃO\n",
    "\n"
   ]
  },
  {
   "cell_type": "markdown",
   "metadata": {},
   "source": [
    "### Regressão Ridge"
   ]
  },
  {
   "cell_type": "code",
   "execution_count": 43,
   "metadata": {},
   "outputs": [],
   "source": [
    "lrr_model = linear_model.Ridge()\n",
    "\n",
    "#IMPLEMENTAÇÃO\n",
    "\n"
   ]
  },
  {
   "cell_type": "markdown",
   "metadata": {},
   "source": [
    "Obténha a pontuação R2, utilizando a função ```pontuacao``` para os conjuntos de treino e de teste."
   ]
  },
  {
   "cell_type": "code",
   "execution_count": 44,
   "metadata": {},
   "outputs": [],
   "source": [
    "#IMPLEMENTAÇÃO\n",
    "\n"
   ]
  },
  {
   "cell_type": "markdown",
   "metadata": {},
   "source": [
    "**Pergunta:** Nesta análise preliminar, como foi a performance de cada algoritmo? Explique os resultados e detalhe como a característica de cada algoritmo influenciou no resultado.\n",
    "\n",
    "**Resposta:**"
   ]
  },
  {
   "cell_type": "markdown",
   "metadata": {},
   "source": [
    "## Validação e Otimização do Modelo\n",
    "\n",
    "Cada algoritmo de modelo pode oferecer a possibilidade de ajustes de seus parâmetros. Tais ajustes podem contribuir para melhorar ou piorar o modelo, portanto esta fase de otimização e validação é importante entender o patamar de partida, com os valores padrões obtidos nos passos anteriores versus as otimizações.\n",
    "\n",
    "É comum que as otimizações não sejam capazes de alterar os patamares padrão.\n",
    "\n",
    "O Scikit Learn oferece uma forma simplificada de testar diversas condições de parâmetros diferentes por meio do ```GridSearchCV```. Após diversos testes é apresentado os parâmetros que obtiveram os melhores resultados."
   ]
  },
  {
   "cell_type": "markdown",
   "metadata": {},
   "source": [
    "### Regulação dos parâmetros dos modelos\n",
    "\n",
    "Analise os parâmetros possíveis de cada algortimo de regressão e crie um dicionário para ser utilizado no ```GridSearchCV```.\n",
    "O dicionário é composto pelo nome do parâmetro como chave. Seu valor será uma lista de valores que se deseja otimizar. Não deixe de revisar a [documentação](http://scikit-learn.org/stable/modules/generated/sklearn.model_selection.GridSearchCV.html)\n",
    "\n",
    "Verfique a pontuação R2 para os conjuntos de dados de treino e de teste, pois nem sempre preditores que se saem bem durante o treinamento terão a mesma performance com os dados de teste."
   ]
  },
  {
   "cell_type": "markdown",
   "metadata": {},
   "source": [
    "### Regulação do Modelo de Regressão Linear\n",
    "\n",
    "Escolha quais atributos incluir na variável ```parameters```para serem otimizados. Essa variável é um dicionário onde cada chave representa uma configuração do modelo, o valor pode ser único ou uma lista, neste caso utilize ```[]``` para incluir múltiplos valores. Como nosso problema é relacionado a regressão, utilize a pontuação R2 em ```scoring``` na configuração do ```GridSearchCV```. "
   ]
  },
  {
   "cell_type": "code",
   "execution_count": 45,
   "metadata": {},
   "outputs": [
    {
     "data": {
      "text/plain": [
       "GridSearchCV(cv=None, error_score='raise',\n",
       "       estimator=LinearRegression(copy_X=True, fit_intercept=True, n_jobs=1, normalize=False),\n",
       "       fit_params=None, iid=True, n_jobs=1, param_grid={},\n",
       "       pre_dispatch='2*n_jobs', refit=True, return_train_score='warn',\n",
       "       scoring='r2', verbose=0)"
      ]
     },
     "execution_count": 45,
     "metadata": {},
     "output_type": "execute_result"
    }
   ],
   "source": [
    "from sklearn.model_selection import GridSearchCV\n",
    "        \n",
    "parameters = {}\n",
    "opt_model_lr = GridSearchCV(lr_model, parameters, scoring='r2')\n",
    "opt_model_lr.fit(X_train, y_train.ravel())"
   ]
  },
  {
   "cell_type": "markdown",
   "metadata": {},
   "source": [
    "Calcule as pontuações para o melhor estimador com dados de treino."
   ]
  },
  {
   "cell_type": "code",
   "execution_count": 46,
   "metadata": {},
   "outputs": [
    {
     "data": {
      "text/plain": [
       "(0.8423160673806165,\n",
       " LinearRegression(copy_X=True, fit_intercept=True, n_jobs=1, normalize=False))"
      ]
     },
     "execution_count": 46,
     "metadata": {},
     "output_type": "execute_result"
    }
   ],
   "source": [
    "opt_model_lr.score(X_train, y_train.ravel()), opt_model_lr.best_estimator_"
   ]
  },
  {
   "cell_type": "markdown",
   "metadata": {},
   "source": [
    "E também para os dados de testes."
   ]
  },
  {
   "cell_type": "code",
   "execution_count": 47,
   "metadata": {},
   "outputs": [
    {
     "data": {
      "text/plain": [
       "(0.7691521732518547,\n",
       " LinearRegression(copy_X=True, fit_intercept=True, n_jobs=1, normalize=False))"
      ]
     },
     "execution_count": 47,
     "metadata": {},
     "output_type": "execute_result"
    }
   ],
   "source": [
    "opt_model_lr.score(X_test, y_test.ravel()), opt_model_lr.best_estimator_"
   ]
  },
  {
   "cell_type": "markdown",
   "metadata": {},
   "source": [
    "### Regulação do Modelo de Regressão de Árvore de Decisão"
   ]
  },
  {
   "cell_type": "code",
   "execution_count": 48,
   "metadata": {},
   "outputs": [
    {
     "data": {
      "text/plain": [
       "GridSearchCV(cv=None, error_score='raise',\n",
       "       estimator=DecisionTreeRegressor(criterion='mse', max_depth=None, max_features=None,\n",
       "           max_leaf_nodes=None, min_impurity_decrease=0.0,\n",
       "           min_impurity_split=None, min_samples_leaf=1,\n",
       "           min_samples_split=2, min_weight_fraction_leaf=0.0,\n",
       "           presort=False, random_state=None, splitter='best'),\n",
       "       fit_params=None, iid=True, n_jobs=1, param_grid={},\n",
       "       pre_dispatch='2*n_jobs', refit=True, return_train_score='warn',\n",
       "       scoring='r2', verbose=0)"
      ]
     },
     "execution_count": 48,
     "metadata": {},
     "output_type": "execute_result"
    }
   ],
   "source": [
    "parameters = {}\n",
    "opt_model_dtr = GridSearchCV(dtr_model, parameters, scoring='r2')\n",
    "opt_model_dtr.fit(X_train, y_train.ravel())"
   ]
  },
  {
   "cell_type": "markdown",
   "metadata": {},
   "source": [
    "Pontuação dos dados de treino."
   ]
  },
  {
   "cell_type": "code",
   "execution_count": 49,
   "metadata": {},
   "outputs": [],
   "source": [
    "#IMPLEMENTAÇÃO\n",
    "\n"
   ]
  },
  {
   "cell_type": "markdown",
   "metadata": {},
   "source": [
    "Pontuação dos dados de teste."
   ]
  },
  {
   "cell_type": "code",
   "execution_count": 50,
   "metadata": {},
   "outputs": [],
   "source": [
    "# IMPLEMENTAÇÃO\n",
    "\n"
   ]
  },
  {
   "cell_type": "markdown",
   "metadata": {},
   "source": [
    "### Regulação do Modelo de Regressão Ridge"
   ]
  },
  {
   "cell_type": "code",
   "execution_count": 51,
   "metadata": {},
   "outputs": [
    {
     "data": {
      "text/plain": [
       "GridSearchCV(cv=None, error_score='raise',\n",
       "       estimator=Ridge(alpha=1.0, copy_X=True, fit_intercept=True, max_iter=None,\n",
       "   normalize=False, random_state=None, solver='auto', tol=0.001),\n",
       "       fit_params=None, iid=True, n_jobs=1, param_grid={},\n",
       "       pre_dispatch='2*n_jobs', refit=True, return_train_score='warn',\n",
       "       scoring='r2', verbose=0)"
      ]
     },
     "execution_count": 51,
     "metadata": {},
     "output_type": "execute_result"
    }
   ],
   "source": [
    "parameters = {}\n",
    "\n",
    "opt_model_lrr = GridSearchCV(lrr_model, parameters, scoring='r2')\n",
    "opt_model_lrr.fit(X_train, y_train.ravel())"
   ]
  },
  {
   "cell_type": "markdown",
   "metadata": {},
   "source": [
    "Pontuação dos dados de treino."
   ]
  },
  {
   "cell_type": "code",
   "execution_count": 52,
   "metadata": {},
   "outputs": [],
   "source": [
    "#IMPLEMENTAÇÃO\n",
    "\n"
   ]
  },
  {
   "cell_type": "markdown",
   "metadata": {},
   "source": [
    "Pontuação dos dados de teste."
   ]
  },
  {
   "cell_type": "code",
   "execution_count": 53,
   "metadata": {},
   "outputs": [],
   "source": [
    "#IMPLEMENTAÇÃO\n",
    "\n"
   ]
  },
  {
   "cell_type": "markdown",
   "metadata": {},
   "source": [
    "Sumarize na tabela abaixo os indicadores para cada um dos preditores e suas respectivas pontuações para os conjuntos de dados de treino e de testes"
   ]
  },
  {
   "cell_type": "markdown",
   "metadata": {},
   "source": [
    "|                     | Regressão linear | Regressão árvore de decisão | Regressão ridge |\n",
    "|:---------------------|:------------------:|:-----------------------------:|:-----------------:|\n",
    "| R2 treino |      X           |      X                       |   X              |\n",
    "| R2 teste  |      X            |      X                       |   X              |\n"
   ]
  },
  {
   "cell_type": "markdown",
   "metadata": {},
   "source": [
    "**Pergunta:** Qual dos algoritmos de regressão obteve os melhores resultados? Quais caracaterísticas deste algoritmo podem ajudar a justificar tal resultado?\n",
    "\n",
    "**Resposta:**"
   ]
  },
  {
   "cell_type": "markdown",
   "metadata": {},
   "source": [
    "### Implementação do algoritmo otimizado\n",
    "\n",
    "Configure o classificador selecionado com os parâmetros otimizados obtidos anteriormente."
   ]
  },
  {
   "cell_type": "code",
   "execution_count": 54,
   "metadata": {},
   "outputs": [],
   "source": [
    "#IMPLEMENTAÇÃO\n",
    "\n"
   ]
  },
  {
   "cell_type": "markdown",
   "metadata": {},
   "source": [
    "### Teste com exemplos\n",
    "\n",
    "Utilize 3 exemplos criados por você mesmo para obter um valor de venda de veículo. Escolha caracaterísticas que demonstrem como o regressor deveria se comportar. Para tanto, imagine exemplos dos quais você espera um valor baixo, mediano e alto do preço do veículo baseado nos atributos escolhidos"
   ]
  },
  {
   "cell_type": "code",
   "execution_count": 55,
   "metadata": {},
   "outputs": [
    {
     "ename": "NameError",
     "evalue": "name 'feature_col_names' is not defined",
     "output_type": "error",
     "traceback": [
      "\u001b[1;31m---------------------------------------------------------------------------\u001b[0m",
      "\u001b[1;31mNameError\u001b[0m                                 Traceback (most recent call last)",
      "\u001b[1;32m<ipython-input-55-2e32d04d01f9>\u001b[0m in \u001b[0;36m<module>\u001b[1;34m()\u001b[0m\n\u001b[0;32m      1\u001b[0m \u001b[1;31m#Lembre-se que os atributos são os armazenados na lista feature_col_names\u001b[0m\u001b[1;33m\u001b[0m\u001b[1;33m\u001b[0m\u001b[0m\n\u001b[0;32m      2\u001b[0m \u001b[1;33m\u001b[0m\u001b[0m\n\u001b[1;32m----> 3\u001b[1;33m \u001b[0mfeature_col_names\u001b[0m\u001b[1;33m\u001b[0m\u001b[0m\n\u001b[0m",
      "\u001b[1;31mNameError\u001b[0m: name 'feature_col_names' is not defined"
     ]
    }
   ],
   "source": [
    "#Lembre-se que os atributos são os armazenados na lista feature_col_names\n",
    "\n",
    "feature_col_names"
   ]
  },
  {
   "cell_type": "code",
   "execution_count": null,
   "metadata": {},
   "outputs": [],
   "source": [
    "#IMPLEMENTAÇÃO\n",
    "#A entrada de dados deve ser uma matriz do seguinte formato, note que há dois colchetes pois é uma \n",
    "#matriz dentro de outra matriz [[a,b,c,d,e]]\n",
    "\n",
    "test_example_1 = [[]]\n",
    "test_example_2 = [[]]\n",
    "test_example_3 = [[]]\n"
   ]
  },
  {
   "cell_type": "markdown",
   "metadata": {},
   "source": [
    "## Conclusões finais\n",
    "\n",
    "Este projeto apresentou de forma simplifcada o __Worflow de Machine Learning__ que pode servir como base para estudos relacionados a classificação ou predição de séries numéricas.\n",
    "\n",
    "A fase de preparação, evidenciada no projeto, é uma das mais importantes da qual se precisa investir um bom tempo para dar os dados organizados e confiáveis, pois é a forma como os classificadores irão aprender com os exemplos e tentarão desvencilhar de efeitos indesejáveis como os vieses.\n",
    "\n",
    "Regressores são um tipo de algoritmo de machine learning que pode ser aplicado em diversas áreas das quais é necessário predizer um número baseado em um conjunto de dados numéricos ou série numérica, logo sua aplicação é bem ampla."
   ]
  },
  {
   "cell_type": "markdown",
   "metadata": {},
   "source": [
    "**Pergunta:** Seu modelo conseguiu prever adequadamente novos dados a partir do treinamento dos dados de teste? O que você faria diferente?\n",
    "\n",
    "**Resposta:**"
   ]
  },
  {
   "cell_type": "markdown",
   "metadata": {},
   "source": [
    "**Pergunta:**: Em que outras áreas você poderia aplicar estes tipos de algoritmos de regressão de aprendizado de máquina?\n",
    "\n",
    "**Resposta**:"
   ]
  },
  {
   "cell_type": "code",
   "execution_count": null,
   "metadata": {},
   "outputs": [],
   "source": []
  },
  {
   "cell_type": "code",
   "execution_count": null,
   "metadata": {},
   "outputs": [],
   "source": []
  }
 ],
 "metadata": {
  "kernelspec": {
   "display_name": "Python 3",
   "language": "python",
   "name": "python3"
  },
  "language_info": {
   "codemirror_mode": {
    "name": "ipython",
    "version": 3
   },
   "file_extension": ".py",
   "mimetype": "text/x-python",
   "name": "python",
   "nbconvert_exporter": "python",
   "pygments_lexer": "ipython3",
<<<<<<< HEAD
<<<<<<< HEAD
   "version": "3.6.4"
=======
   "version": "3.6.5"
>>>>>>> upstream/master
=======
   "version": "3.6.5"
>>>>>>> upstream/dev
  }
 },
 "nbformat": 4,
 "nbformat_minor": 2
}
