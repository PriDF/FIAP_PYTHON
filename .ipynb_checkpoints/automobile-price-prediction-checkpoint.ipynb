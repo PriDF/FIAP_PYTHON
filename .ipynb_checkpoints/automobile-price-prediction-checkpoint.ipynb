{
 "cells": [
  {
   "cell_type": "markdown",
   "metadata": {},
   "source": [
    "# MBA FIAP Inteligência Artificial & Machine Learning\n",
    "\n",
    "![Image of Dementia](img/ml.png)\n",
    "\n",
    "## Programando IA com Python\n",
    "## Projeto Final: Estimando Preços de Automóveis Utilizando Modelos de Regressão\n",
    "\n",
    "Este projeto final tem como objetivo explorar os conhecimentos adquiridos nas aulas práticas. Por meio uma trilha guiada para construir um classificador que permitirá predizer o valor de um automóvel baseado em algumas características que cada grupo deverá escolher.\n",
    "\n",
    "Este projeto poderá ser feita por grupos de até 4 pessoas.\n",
    "\n",
    "| Nome dos Integrantes               | RM            | Turma |\n",
    "| :--------------------------------- | :------------- | :-----: |\n",
    "| Cauê Engelmann                     | RM 331199      | `2IA` |\n",
    "| Marcelo Gulfier                    | RM 330738      | `2IA` |\n",
    "| Marcos Massaharu Muto              | RM 330930      | `2IA` |\n",
    "| Priscila Daniele Fritsch Gonçalves | RM 331893      | `2IA` |\n",
    "\n",
    "Por ser um projeto guiado, fique atento quando houver as marcações **Implementação** indica que é necessário realizar alguma implementação em Python no bloco a seguir onde há a inscrição ```##IMPLEMENTAR``` e **Resposta** indica que é esperado uma resposta objetiva relacionado a algum questionamento. Cada grupo pode utilizar nas respostas objetivas quaisquer itens necessários que enriqueçam seu ponto vista, como gráficos e, até mesmo, trechos de código-fonte.\n",
    "\n",
    "Pode-se utilizar quantos blocos forem necessários para realizar determinadas implementações ou utilizá-las para justificar as respostas. Não é obrigatório utilizar somente o bloco indicado.\n",
    "\n",
    "Ao final não se esqueça de subir os arquivos do projeto nas contas do GitHub de cada membro, ou subir na do representante do grupo e os membros realizarem o fork do projeto.\n",
    "\n",
    "A avaliação terá mais ênfase nos seguintes tópicos de desenvolvimento do projeto:\n",
    " \n",
    "1. __Exploração de Dados__\n",
    "2. __Preparação de Dados__\n",
    "3. __Desenvolvimento do Modelo__\n",
    "4. __Treinamento e Teste do Modelo__\n",
    "5. __Validação e Otimização do Modelo__\n",
    "6. __Conclusões Finais__\n",
    "\n",
    "## Exploração de Dados"
   ]
  },
  {
   "cell_type": "markdown",
   "metadata": {},
   "source": [
    "Os dados que serão utilizados foram modificados para propocionar uma experiência que explore melhor as técnicas de processamento e preparação de dados aprendidas.\n",
    "\n",
    "Originalmente os dados foram extraídos do Kaggle deste [dataset](https://www.kaggle.com/nisargpatel/automobiles/data)."
   ]
  },
  {
   "cell_type": "markdown",
   "metadata": {},
   "source": [
    "**Implementação** \n",
    "\n",
    "Carregue o dataset \"automobile-mod.csv\" que se encontra na pasta \"data\" e faça uma inspeção nas 10 primeiras linhas para identificação básica dos atributos.\n",
    "\n",
    "O dataset original \"automobile.csv\" se encontra na mesma pasta apenas como referência. Não deverá ser utilizado.\n",
    "\n",
    "__Atualizado em 16/07/2017__"
   ]
  },
  {
   "cell_type": "code",
   "execution_count": 1,
   "metadata": {},
   "outputs": [],
   "source": [
    "import seaborn as sns\n",
    "import matplotlib.pyplot as plt\n",
    "import pandas as pd\n",
    "import numpy as np\n",
    "import warnings\n",
    "warnings.filterwarnings('ignore')\n",
    "\n",
    "%matplotlib inline"
   ]
  },
  {
   "cell_type": "code",
   "execution_count": 2,
   "metadata": {},
   "outputs": [
    {
     "data": {
      "text/html": [
       "<div>\n",
       "<style scoped>\n",
       "    .dataframe tbody tr th:only-of-type {\n",
       "        vertical-align: middle;\n",
       "    }\n",
       "\n",
       "    .dataframe tbody tr th {\n",
       "        vertical-align: top;\n",
       "    }\n",
       "\n",
       "    .dataframe thead th {\n",
       "        text-align: right;\n",
       "    }\n",
       "</style>\n",
       "<table border=\"1\" class=\"dataframe\">\n",
       "  <thead>\n",
       "    <tr style=\"text-align: right;\">\n",
       "      <th></th>\n",
       "      <th>make</th>\n",
       "      <th>fuel_type</th>\n",
       "      <th>aspiration</th>\n",
       "      <th>number_of_doors</th>\n",
       "      <th>body_style</th>\n",
       "      <th>drive_wheels</th>\n",
       "      <th>engine_location</th>\n",
       "      <th>wheel_base</th>\n",
       "      <th>length</th>\n",
       "      <th>width</th>\n",
       "      <th>...</th>\n",
       "      <th>engine_size</th>\n",
       "      <th>fuel_system</th>\n",
       "      <th>bore</th>\n",
       "      <th>stroke</th>\n",
       "      <th>compression_ratio</th>\n",
       "      <th>horsepower</th>\n",
       "      <th>peak_rpm</th>\n",
       "      <th>city_mpg</th>\n",
       "      <th>highway_mpg</th>\n",
       "      <th>price</th>\n",
       "    </tr>\n",
       "  </thead>\n",
       "  <tbody>\n",
       "    <tr>\n",
       "      <th>0</th>\n",
       "      <td>alfa-romero</td>\n",
       "      <td>gas</td>\n",
       "      <td>std</td>\n",
       "      <td>two</td>\n",
       "      <td>convertible</td>\n",
       "      <td>rwd</td>\n",
       "      <td>front</td>\n",
       "      <td>88.6</td>\n",
       "      <td>168.8</td>\n",
       "      <td>64.1</td>\n",
       "      <td>...</td>\n",
       "      <td>130</td>\n",
       "      <td>mpfi</td>\n",
       "      <td>3.47</td>\n",
       "      <td>2.68</td>\n",
       "      <td>9.0</td>\n",
       "      <td>111</td>\n",
       "      <td>5000.0</td>\n",
       "      <td>21.0</td>\n",
       "      <td>27.0</td>\n",
       "      <td>13495</td>\n",
       "    </tr>\n",
       "    <tr>\n",
       "      <th>1</th>\n",
       "      <td>alfa-romero</td>\n",
       "      <td>gas</td>\n",
       "      <td>std</td>\n",
       "      <td>two</td>\n",
       "      <td>convertible</td>\n",
       "      <td>rwd</td>\n",
       "      <td>front</td>\n",
       "      <td>88.6</td>\n",
       "      <td>168.8</td>\n",
       "      <td>64.1</td>\n",
       "      <td>...</td>\n",
       "      <td>130</td>\n",
       "      <td>mpfi</td>\n",
       "      <td>3.47</td>\n",
       "      <td>2.68</td>\n",
       "      <td>9.0</td>\n",
       "      <td>111</td>\n",
       "      <td>5000.0</td>\n",
       "      <td>21.0</td>\n",
       "      <td>27.0</td>\n",
       "      <td>16500</td>\n",
       "    </tr>\n",
       "    <tr>\n",
       "      <th>2</th>\n",
       "      <td>alfa-romero</td>\n",
       "      <td>gas</td>\n",
       "      <td>std</td>\n",
       "      <td>two</td>\n",
       "      <td>hatchback</td>\n",
       "      <td>rwd</td>\n",
       "      <td>front</td>\n",
       "      <td>94.5</td>\n",
       "      <td>171.2</td>\n",
       "      <td>65.5</td>\n",
       "      <td>...</td>\n",
       "      <td>152</td>\n",
       "      <td>mpfi</td>\n",
       "      <td>2.68</td>\n",
       "      <td>3.47</td>\n",
       "      <td>9.0</td>\n",
       "      <td>154</td>\n",
       "      <td>5000.0</td>\n",
       "      <td>19.0</td>\n",
       "      <td>26.0</td>\n",
       "      <td>16500</td>\n",
       "    </tr>\n",
       "    <tr>\n",
       "      <th>3</th>\n",
       "      <td>audi</td>\n",
       "      <td>gas</td>\n",
       "      <td>std</td>\n",
       "      <td>four</td>\n",
       "      <td>sedan</td>\n",
       "      <td>fwd</td>\n",
       "      <td>front</td>\n",
       "      <td>99.8</td>\n",
       "      <td>176.6</td>\n",
       "      <td>66.2</td>\n",
       "      <td>...</td>\n",
       "      <td>109</td>\n",
       "      <td>mpfi</td>\n",
       "      <td>3.19</td>\n",
       "      <td>3.40</td>\n",
       "      <td>10.0</td>\n",
       "      <td>102</td>\n",
       "      <td>5500.0</td>\n",
       "      <td>24.0</td>\n",
       "      <td>30.0</td>\n",
       "      <td>13950</td>\n",
       "    </tr>\n",
       "    <tr>\n",
       "      <th>4</th>\n",
       "      <td>audi</td>\n",
       "      <td>gas</td>\n",
       "      <td>std</td>\n",
       "      <td>four</td>\n",
       "      <td>sedan</td>\n",
       "      <td>4wd</td>\n",
       "      <td>front</td>\n",
       "      <td>99.4</td>\n",
       "      <td>176.6</td>\n",
       "      <td>66.4</td>\n",
       "      <td>...</td>\n",
       "      <td>136</td>\n",
       "      <td>mpfi</td>\n",
       "      <td>3.19</td>\n",
       "      <td>3.40</td>\n",
       "      <td>8.0</td>\n",
       "      <td>115</td>\n",
       "      <td>5500.0</td>\n",
       "      <td>18.0</td>\n",
       "      <td>22.0</td>\n",
       "      <td>17450</td>\n",
       "    </tr>\n",
       "    <tr>\n",
       "      <th>5</th>\n",
       "      <td>audi</td>\n",
       "      <td>gas</td>\n",
       "      <td>std</td>\n",
       "      <td>two</td>\n",
       "      <td>sedan</td>\n",
       "      <td>fwd</td>\n",
       "      <td>front</td>\n",
       "      <td>99.8</td>\n",
       "      <td>177.3</td>\n",
       "      <td>66.3</td>\n",
       "      <td>...</td>\n",
       "      <td>136</td>\n",
       "      <td>mpfi</td>\n",
       "      <td>3.19</td>\n",
       "      <td>3.40</td>\n",
       "      <td>8.5</td>\n",
       "      <td>110</td>\n",
       "      <td>5500.0</td>\n",
       "      <td>19.0</td>\n",
       "      <td>25.0</td>\n",
       "      <td>15250</td>\n",
       "    </tr>\n",
       "    <tr>\n",
       "      <th>6</th>\n",
       "      <td>audi</td>\n",
       "      <td>gas</td>\n",
       "      <td>std</td>\n",
       "      <td>four</td>\n",
       "      <td>sedan</td>\n",
       "      <td>fwd</td>\n",
       "      <td>front</td>\n",
       "      <td>105.8</td>\n",
       "      <td>192.7</td>\n",
       "      <td>71.4</td>\n",
       "      <td>...</td>\n",
       "      <td>136</td>\n",
       "      <td>mpfi</td>\n",
       "      <td>3.19</td>\n",
       "      <td>3.40</td>\n",
       "      <td>8.5</td>\n",
       "      <td>110</td>\n",
       "      <td>5500.0</td>\n",
       "      <td>19.0</td>\n",
       "      <td>25.0</td>\n",
       "      <td>17710</td>\n",
       "    </tr>\n",
       "    <tr>\n",
       "      <th>7</th>\n",
       "      <td>audi</td>\n",
       "      <td>gas</td>\n",
       "      <td>std</td>\n",
       "      <td>four</td>\n",
       "      <td>wagon</td>\n",
       "      <td>fwd</td>\n",
       "      <td>front</td>\n",
       "      <td>105.8</td>\n",
       "      <td>192.7</td>\n",
       "      <td>71.4</td>\n",
       "      <td>...</td>\n",
       "      <td>136</td>\n",
       "      <td>mpfi</td>\n",
       "      <td>3.19</td>\n",
       "      <td>3.40</td>\n",
       "      <td>8.5</td>\n",
       "      <td>110</td>\n",
       "      <td>5500.0</td>\n",
       "      <td>19.0</td>\n",
       "      <td>25.0</td>\n",
       "      <td>18920</td>\n",
       "    </tr>\n",
       "    <tr>\n",
       "      <th>8</th>\n",
       "      <td>audi</td>\n",
       "      <td>gas</td>\n",
       "      <td>turbo</td>\n",
       "      <td>four</td>\n",
       "      <td>sedan</td>\n",
       "      <td>fwd</td>\n",
       "      <td>front</td>\n",
       "      <td>105.8</td>\n",
       "      <td>192.7</td>\n",
       "      <td>71.4</td>\n",
       "      <td>...</td>\n",
       "      <td>131</td>\n",
       "      <td>mpfi</td>\n",
       "      <td>3.13</td>\n",
       "      <td>3.40</td>\n",
       "      <td>8.3</td>\n",
       "      <td>140</td>\n",
       "      <td>5500.0</td>\n",
       "      <td>17.0</td>\n",
       "      <td>20.0</td>\n",
       "      <td>23875</td>\n",
       "    </tr>\n",
       "    <tr>\n",
       "      <th>9</th>\n",
       "      <td>bmw</td>\n",
       "      <td>gas</td>\n",
       "      <td>std</td>\n",
       "      <td>two</td>\n",
       "      <td>sedan</td>\n",
       "      <td>rwd</td>\n",
       "      <td>front</td>\n",
       "      <td>101.2</td>\n",
       "      <td>176.8</td>\n",
       "      <td>64.8</td>\n",
       "      <td>...</td>\n",
       "      <td>108</td>\n",
       "      <td>mpfi</td>\n",
       "      <td>3.50</td>\n",
       "      <td>2.80</td>\n",
       "      <td>8.8</td>\n",
       "      <td>101</td>\n",
       "      <td>5800.0</td>\n",
       "      <td>23.0</td>\n",
       "      <td>29.0</td>\n",
       "      <td>16430</td>\n",
       "    </tr>\n",
       "  </tbody>\n",
       "</table>\n",
       "<p>10 rows × 24 columns</p>\n",
       "</div>"
      ],
      "text/plain": [
       "          make fuel_type aspiration number_of_doors   body_style drive_wheels  \\\n",
       "0  alfa-romero       gas        std             two  convertible          rwd   \n",
       "1  alfa-romero       gas        std             two  convertible          rwd   \n",
       "2  alfa-romero       gas        std             two    hatchback          rwd   \n",
       "3         audi       gas        std            four        sedan          fwd   \n",
       "4         audi       gas        std            four        sedan          4wd   \n",
       "5         audi       gas        std             two        sedan          fwd   \n",
       "6         audi       gas        std            four        sedan          fwd   \n",
       "7         audi       gas        std            four        wagon          fwd   \n",
       "8         audi       gas      turbo            four        sedan          fwd   \n",
       "9          bmw       gas        std             two        sedan          rwd   \n",
       "\n",
       "  engine_location  wheel_base  length  width  ...    engine_size  fuel_system  \\\n",
       "0           front        88.6   168.8   64.1  ...            130         mpfi   \n",
       "1           front        88.6   168.8   64.1  ...            130         mpfi   \n",
       "2           front        94.5   171.2   65.5  ...            152         mpfi   \n",
       "3           front        99.8   176.6   66.2  ...            109         mpfi   \n",
       "4           front        99.4   176.6   66.4  ...            136         mpfi   \n",
       "5           front        99.8   177.3   66.3  ...            136         mpfi   \n",
       "6           front       105.8   192.7   71.4  ...            136         mpfi   \n",
       "7           front       105.8   192.7   71.4  ...            136         mpfi   \n",
       "8           front       105.8   192.7   71.4  ...            131         mpfi   \n",
       "9           front       101.2   176.8   64.8  ...            108         mpfi   \n",
       "\n",
       "   bore stroke  compression_ratio horsepower  peak_rpm  city_mpg  highway_mpg  \\\n",
       "0  3.47   2.68                9.0        111    5000.0      21.0         27.0   \n",
       "1  3.47   2.68                9.0        111    5000.0      21.0         27.0   \n",
       "2  2.68   3.47                9.0        154    5000.0      19.0         26.0   \n",
       "3  3.19   3.40               10.0        102    5500.0      24.0         30.0   \n",
       "4  3.19   3.40                8.0        115    5500.0      18.0         22.0   \n",
       "5  3.19   3.40                8.5        110    5500.0      19.0         25.0   \n",
       "6  3.19   3.40                8.5        110    5500.0      19.0         25.0   \n",
       "7  3.19   3.40                8.5        110    5500.0      19.0         25.0   \n",
       "8  3.13   3.40                8.3        140    5500.0      17.0         20.0   \n",
       "9  3.50   2.80                8.8        101    5800.0      23.0         29.0   \n",
       "\n",
       "   price  \n",
       "0  13495  \n",
       "1  16500  \n",
       "2  16500  \n",
       "3  13950  \n",
       "4  17450  \n",
       "5  15250  \n",
       "6  17710  \n",
       "7  18920  \n",
       "8  23875  \n",
       "9  16430  \n",
       "\n",
       "[10 rows x 24 columns]"
      ]
     },
     "execution_count": 2,
     "metadata": {},
     "output_type": "execute_result"
    }
   ],
   "source": [
    "automobile = pd.read_csv(\"data/automobile-mod.csv\", sep=\";\")\n",
    "automobile.head(10)\n"
   ]
  },
  {
   "cell_type": "markdown",
   "metadata": {},
   "source": [
    "Relação das coluna e seu significado:\n",
    "\n",
    "1. make: fabricante\n",
    "2. fuel_type: tipo de combustível\n",
    "3. aspiration: tipo de aspiração do motor, ex. turbo ou padrão (std)\n",
    "4. body_style: estilo do carro, ex. sedan ou hatchback\n",
    "5. drive_wheels: tração do carro, ex. rwd (tração traseira) ou frw (tração dianteira)\n",
    "6. wheel_base: entre-eixos, distância entre o eixo dianteiro e o eixo traseiro\n",
    "7. length: comprimento\n",
    "8. width: largura\n",
    "9. height: altura\n",
    "10. curb_wheight: peso\n",
    "11. engine_type: tipo do motor\n",
    "12. number_of_cylinders: cilindrada, quantidade de cilindros\n",
    "13. engine_size: tamanho do motor\n",
    "14. fuel_system: sistema de injeção\n",
    "15. bore: diâmetro do cilindro\n",
    "16. stroke: diâmetro do pistão\n",
    "17. compression_ratio: razão de compressão\n",
    "18. horsepower: cavalo de força ou HP\n",
    "19. peak_rpm: pico de RPM (rotações por minuto)\n",
    "20. city_mpg: consumo em mpg (milhas por galão) na cidade\n",
    "21. highway_mpg: consumo em mpg (milhas por galão) na estrada\n",
    "22. price: preço (**Variável Alvo**)"
   ]
  },
  {
   "cell_type": "markdown",
   "metadata": {},
   "source": [
    "### Correlacionamento dos atributos"
   ]
  },
  {
   "cell_type": "markdown",
   "metadata": {},
   "source": [
    "Vamos utilizar algumas suposições e validar se elas são verdadeiras, por exemplo, o preço do carro pode variar com seu consumo, tamanho ou força? Vamos explorar estas hipósteses ou outras que o grupo julgue relevante."
   ]
  },
  {
   "cell_type": "code",
   "execution_count": 3,
   "metadata": {},
   "outputs": [
    {
     "data": {
      "text/html": [
       "<div>\n",
       "<style scoped>\n",
       "    .dataframe tbody tr th:only-of-type {\n",
       "        vertical-align: middle;\n",
       "    }\n",
       "\n",
       "    .dataframe tbody tr th {\n",
       "        vertical-align: top;\n",
       "    }\n",
       "\n",
       "    .dataframe thead th {\n",
       "        text-align: right;\n",
       "    }\n",
       "</style>\n",
       "<table border=\"1\" class=\"dataframe\">\n",
       "  <thead>\n",
       "    <tr style=\"text-align: right;\">\n",
       "      <th></th>\n",
       "      <th>city_mpg</th>\n",
       "      <th>highway_mpg</th>\n",
       "      <th>length</th>\n",
       "      <th>width</th>\n",
       "      <th>height</th>\n",
       "      <th>horsepower</th>\n",
       "      <th>price</th>\n",
       "    </tr>\n",
       "  </thead>\n",
       "  <tbody>\n",
       "    <tr>\n",
       "      <th>city_mpg</th>\n",
       "      <td>1.000000</td>\n",
       "      <td>0.875933</td>\n",
       "      <td>-0.633185</td>\n",
       "      <td>-0.620316</td>\n",
       "      <td>-0.069029</td>\n",
       "      <td>-0.763573</td>\n",
       "      <td>-0.657661</td>\n",
       "    </tr>\n",
       "    <tr>\n",
       "      <th>highway_mpg</th>\n",
       "      <td>0.875933</td>\n",
       "      <td>1.000000</td>\n",
       "      <td>-0.709308</td>\n",
       "      <td>-0.697742</td>\n",
       "      <td>-0.117146</td>\n",
       "      <td>-0.776634</td>\n",
       "      <td>-0.712812</td>\n",
       "    </tr>\n",
       "    <tr>\n",
       "      <th>length</th>\n",
       "      <td>-0.633185</td>\n",
       "      <td>-0.709308</td>\n",
       "      <td>1.000000</td>\n",
       "      <td>0.857170</td>\n",
       "      <td>0.492063</td>\n",
       "      <td>0.577923</td>\n",
       "      <td>0.690628</td>\n",
       "    </tr>\n",
       "    <tr>\n",
       "      <th>width</th>\n",
       "      <td>-0.620316</td>\n",
       "      <td>-0.697742</td>\n",
       "      <td>0.857170</td>\n",
       "      <td>1.000000</td>\n",
       "      <td>0.306002</td>\n",
       "      <td>0.613488</td>\n",
       "      <td>0.751265</td>\n",
       "    </tr>\n",
       "    <tr>\n",
       "      <th>height</th>\n",
       "      <td>-0.069029</td>\n",
       "      <td>-0.117146</td>\n",
       "      <td>0.492063</td>\n",
       "      <td>0.306002</td>\n",
       "      <td>1.000000</td>\n",
       "      <td>-0.085544</td>\n",
       "      <td>0.135486</td>\n",
       "    </tr>\n",
       "    <tr>\n",
       "      <th>horsepower</th>\n",
       "      <td>-0.763573</td>\n",
       "      <td>-0.776634</td>\n",
       "      <td>0.577923</td>\n",
       "      <td>0.613488</td>\n",
       "      <td>-0.085544</td>\n",
       "      <td>1.000000</td>\n",
       "      <td>0.810795</td>\n",
       "    </tr>\n",
       "    <tr>\n",
       "      <th>price</th>\n",
       "      <td>-0.657661</td>\n",
       "      <td>-0.712812</td>\n",
       "      <td>0.690628</td>\n",
       "      <td>0.751265</td>\n",
       "      <td>0.135486</td>\n",
       "      <td>0.810795</td>\n",
       "      <td>1.000000</td>\n",
       "    </tr>\n",
       "  </tbody>\n",
       "</table>\n",
       "</div>"
      ],
      "text/plain": [
       "             city_mpg  highway_mpg    length     width    height  horsepower  \\\n",
       "city_mpg     1.000000     0.875933 -0.633185 -0.620316 -0.069029   -0.763573   \n",
       "highway_mpg  0.875933     1.000000 -0.709308 -0.697742 -0.117146   -0.776634   \n",
       "length      -0.633185    -0.709308  1.000000  0.857170  0.492063    0.577923   \n",
       "width       -0.620316    -0.697742  0.857170  1.000000  0.306002    0.613488   \n",
       "height      -0.069029    -0.117146  0.492063  0.306002  1.000000   -0.085544   \n",
       "horsepower  -0.763573    -0.776634  0.577923  0.613488 -0.085544    1.000000   \n",
       "price       -0.657661    -0.712812  0.690628  0.751265  0.135486    0.810795   \n",
       "\n",
       "                price  \n",
       "city_mpg    -0.657661  \n",
       "highway_mpg -0.712812  \n",
       "length       0.690628  \n",
       "width        0.751265  \n",
       "height       0.135486  \n",
       "horsepower   0.810795  \n",
       "price        1.000000  "
      ]
     },
     "execution_count": 3,
     "metadata": {},
     "output_type": "execute_result"
    }
   ],
   "source": [
    "auto_correlacao = automobile[[\"city_mpg\", \"highway_mpg\", \"length\", \"width\", \"height\", \"horsepower\", \"price\"]].corr()\n",
    "auto_correlacao"
   ]
  },
  {
   "cell_type": "code",
   "execution_count": 4,
   "metadata": {
    "scrolled": true
   },
   "outputs": [
    {
     "name": "stdout",
     "output_type": "stream",
     "text": [
      "10 com maiores preços\n",
      "              make  price\n",
      "71   mercedes-benz  45400\n",
      "15             bmw  41315\n",
      "70   mercedes-benz  40960\n",
      "125        porsche  37028\n",
      "16             bmw  36880\n",
      "46          jaguar  36000\n",
      "45          jaguar  35550\n",
      "69   mercedes-benz  35056\n",
      "68   mercedes-benz  34184\n",
      "124        porsche  34028\n",
      "\n",
      "\n",
      "10 com maiores dimensões\n",
      "     length  width  height\n",
      "70    208.1   71.7    56.7\n",
      "68    202.6   71.7    56.5\n",
      "67    202.6   71.7    56.3\n",
      "44    199.6   69.6    52.8\n",
      "45    199.6   69.6    52.8\n",
      "71    199.2   72.0    55.4\n",
      "106   198.9   68.4    58.7\n",
      "107   198.9   68.4    58.7\n",
      "111   198.9   68.4    58.7\n",
      "110   198.9   68.4    56.7\n",
      "\n",
      "\n",
      "10 com maiores potências\n",
      "     horsepower\n",
      "46          262\n",
      "125         207\n",
      "124         207\n",
      "123         207\n",
      "102         200\n",
      "70          184\n",
      "71          184\n",
      "16          182\n",
      "15          182\n",
      "14          182\n",
      "\n",
      "\n",
      "10 mais econômicos\n",
      "     city_mpg  highway_mpg\n",
      "66        0.0         25.0\n",
      "181       0.0         34.0\n",
      "46       13.0         17.0\n",
      "70       14.0         16.0\n",
      "71       14.0         16.0\n",
      "44       15.0         19.0\n",
      "45       15.0         19.0\n",
      "16       15.0         20.0\n",
      "68       16.0         18.0\n",
      "69       16.0         18.0\n"
     ]
    }
   ],
   "source": [
    "auto_pricey=automobile.sort_values([\"price\"], ascending=False).head(10)[[\"make\", \"price\"]]\n",
    "auto_biggest=automobile.sort_values([\"length\", \"width\", \"height\"], ascending=False).head(10)[[\"length\", \"width\", \"height\"]]\n",
    "auto_powerful=automobile.sort_values([\"horsepower\"], ascending=False).head(10)[[\"horsepower\"]]\n",
    "auto_economic=automobile.sort_values([\"city_mpg\", \"highway_mpg\"]).head(10)[[\"city_mpg\", \"highway_mpg\"]]\n",
    "print(\"10 com maiores preços\")\n",
    "print(auto_pricey)\n",
    "print(\"\\n\\n10 com maiores dimensões\")\n",
    "print(auto_biggest)\n",
    "print(\"\\n\\n10 com maiores potências\")\n",
    "print(auto_powerful)\n",
    "print(\"\\n\\n10 mais econômicos\")\n",
    "print(auto_economic)\n"
   ]
  },
  {
   "cell_type": "code",
   "execution_count": 5,
   "metadata": {},
   "outputs": [
    {
     "name": "stdout",
     "output_type": "stream",
     "text": [
      "Preço X Tamanho\n",
      "             make  price  length  width  height\n",
      "71  mercedes-benz  45400   199.2   72.0    55.4\n",
      "70  mercedes-benz  40960   208.1   71.7    56.7\n",
      "45         jaguar  35550   199.6   69.6    52.8\n",
      "68  mercedes-benz  34184   202.6   71.7    56.5\n",
      "\n",
      "Preço X Força\n",
      "              make  price  horsepower\n",
      "71   mercedes-benz  45400         184\n",
      "15             bmw  41315         182\n",
      "70   mercedes-benz  40960         184\n",
      "125        porsche  37028         207\n",
      "16             bmw  36880         182\n",
      "46          jaguar  36000         262\n",
      "124        porsche  34028         207\n",
      "\n",
      "Preço X Consumo\n",
      "             make  price  city_mpg  highway_mpg\n",
      "71  mercedes-benz  45400      14.0         16.0\n",
      "70  mercedes-benz  40960      14.0         16.0\n",
      "16            bmw  36880      15.0         20.0\n",
      "46         jaguar  36000      13.0         17.0\n",
      "45         jaguar  35550      15.0         19.0\n",
      "69  mercedes-benz  35056      16.0         18.0\n",
      "68  mercedes-benz  34184      16.0         18.0\n"
     ]
    }
   ],
   "source": [
    "auto_pricey_biggest = pd.merge(auto_pricey, auto_biggest, left_index=True, right_index=True)\n",
    "auto_pricey_powerful = pd.merge(auto_pricey, auto_powerful, left_index=True, right_index=True)\n",
    "auto_pricey_economic = pd.merge(auto_pricey, auto_economic, left_index=True, right_index=True)\n",
    "print(\"Preço X Tamanho\")\n",
    "print(auto_pricey_biggest)\n",
    "print(\"\")\n",
    "print(\"Preço X Força\")\n",
    "print(auto_pricey_powerful)\n",
    "print(\"\")\n",
    "print(\"Preço X Consumo\")\n",
    "print(auto_pricey_economic)"
   ]
  },
  {
   "cell_type": "markdown",
   "metadata": {},
   "source": [
    "**Pergunta:** Cite um exemplo de pelo menos os 3 cenários propostos que corroboram a leitura dos dados apresentados, justique sua resposta."
   ]
  },
  {
   "cell_type": "markdown",
   "metadata": {},
   "source": [
    "**Resposta:** No procedimento acima foram listadas as classificações dos 10 carros com maior preço, maior tamanho, maior força e menor consumo. A seguir a tabela de preços foi relacionada com as outras três tabelas resultando nas tabelas ilustradas acima.\n",
    "\n",
    "Baseado nesse cruzamento, nota-se que há quatro carros em comum entre os 10 maiores preços e os 10 maiores tamanhos. Entre maiores preços e maiores forças há 7 carros em comum, bem como maiores preços e menor consumo. \n",
    "\n",
    "Para corroborar a observação feita acima, nota-se, pela matriz de correlação, que a relação entre preço e força (horsepower) é de 0.81, indicando uma alta correlação positiva, ou seja, quanto maior a força maior o preço. A correlação entre largura e comprimento e preço varia entre 0.69 e 0.75, sendo razoavelmente alto o índice de correlação. Já a correlação entre consumo e preço varia entre -0.65 e -0.71, indicando um índice de correlação negativo razoavelmente alto, ou seja, quanto menor o consumo do carro, maior o preço. \n",
    "\n",
    "Também nota-se que os carros com índice 70 e 71 aparecem nos três comparativos. \n",
    "\n",
    "Portanto, pode-se afirmar que o preço dos automóveis é correlacionado positivamente ao tamanho e força e negativamente em relação ao consumo."
   ]
  },
  {
   "cell_type": "markdown",
   "metadata": {},
   "source": [
    "## Preparação dos Dados"
   ]
  },
  {
   "cell_type": "markdown",
   "metadata": {},
   "source": [
    "### Identificação de Outliers Visualmente"
   ]
  },
  {
   "cell_type": "markdown",
   "metadata": {},
   "source": [
    "Utilize visualizações gráficas para encontrar outliers em todos os atributos deste dataset.\n",
    "Ainda não vamos remover ou atualizar os valores, por enquanto é uma análise exploratória.\n",
    "\n",
    "Lembre-se que cada atributo possui um valor e dimensão diferente, portanto comparações devem estar em uma mesma base, por exemplo, __price__ não pode ser comparado com __width__ pois os eixos __y__ estarão sem proporção."
   ]
  },
  {
   "cell_type": "code",
   "execution_count": 6,
   "metadata": {},
   "outputs": [
    {
     "data": {
      "text/html": [
       "<div>\n",
       "<style scoped>\n",
       "    .dataframe tbody tr th:only-of-type {\n",
       "        vertical-align: middle;\n",
       "    }\n",
       "\n",
       "    .dataframe tbody tr th {\n",
       "        vertical-align: top;\n",
       "    }\n",
       "\n",
       "    .dataframe thead th {\n",
       "        text-align: right;\n",
       "    }\n",
       "</style>\n",
       "<table border=\"1\" class=\"dataframe\">\n",
       "  <thead>\n",
       "    <tr style=\"text-align: right;\">\n",
       "      <th></th>\n",
       "      <th>number_of_cylinders</th>\n",
       "      <th>number_of_doors</th>\n",
       "    </tr>\n",
       "  </thead>\n",
       "  <tbody>\n",
       "    <tr>\n",
       "      <th>0</th>\n",
       "      <td>4</td>\n",
       "      <td>2</td>\n",
       "    </tr>\n",
       "    <tr>\n",
       "      <th>1</th>\n",
       "      <td>4</td>\n",
       "      <td>2</td>\n",
       "    </tr>\n",
       "    <tr>\n",
       "      <th>2</th>\n",
       "      <td>6</td>\n",
       "      <td>2</td>\n",
       "    </tr>\n",
       "    <tr>\n",
       "      <th>3</th>\n",
       "      <td>4</td>\n",
       "      <td>4</td>\n",
       "    </tr>\n",
       "    <tr>\n",
       "      <th>4</th>\n",
       "      <td>5</td>\n",
       "      <td>4</td>\n",
       "    </tr>\n",
       "    <tr>\n",
       "      <th>5</th>\n",
       "      <td>5</td>\n",
       "      <td>2</td>\n",
       "    </tr>\n",
       "    <tr>\n",
       "      <th>6</th>\n",
       "      <td>5</td>\n",
       "      <td>4</td>\n",
       "    </tr>\n",
       "    <tr>\n",
       "      <th>7</th>\n",
       "      <td>5</td>\n",
       "      <td>4</td>\n",
       "    </tr>\n",
       "    <tr>\n",
       "      <th>8</th>\n",
       "      <td>5</td>\n",
       "      <td>4</td>\n",
       "    </tr>\n",
       "    <tr>\n",
       "      <th>9</th>\n",
       "      <td>4</td>\n",
       "      <td>2</td>\n",
       "    </tr>\n",
       "  </tbody>\n",
       "</table>\n",
       "</div>"
      ],
      "text/plain": [
       "   number_of_cylinders  number_of_doors\n",
       "0                    4                2\n",
       "1                    4                2\n",
       "2                    6                2\n",
       "3                    4                4\n",
       "4                    5                4\n",
       "5                    5                2\n",
       "6                    5                4\n",
       "7                    5                4\n",
       "8                    5                4\n",
       "9                    4                2"
      ]
     },
     "execution_count": 6,
     "metadata": {},
     "output_type": "execute_result"
    }
   ],
   "source": [
    "#Converte a informação sobre número de portas para um valor numérico \n",
    "mapa_str_num = {\"one\":int(1),\"two\":int(2),\"three\":int(3),\"four\":int(4),\"five\":int(5),\"six\":int(6),\n",
    "                 \"seven\":int(7),\"eight\":int(8),\"nine\":int(9),\"ten\":int(10),\"eleven\":int(11),\"twelve\":int(12)}\n",
    "\n",
    "\n",
    "automobile[\"number_of_doors\"] = automobile[\"number_of_doors\"].map(mapa_str_num) \n",
    "automobile[\"number_of_cylinders\"] = automobile[\"number_of_cylinders\"].map(mapa_str_num)\n",
    "\n",
    "automobile[[\"number_of_cylinders\",\"number_of_doors\"]].head(10)"
   ]
  },
  {
   "cell_type": "code",
   "execution_count": 7,
   "metadata": {},
   "outputs": [
    {
     "data": {
      "text/html": [
       "<div>\n",
       "<style scoped>\n",
       "    .dataframe tbody tr th:only-of-type {\n",
       "        vertical-align: middle;\n",
       "    }\n",
       "\n",
       "    .dataframe tbody tr th {\n",
       "        vertical-align: top;\n",
       "    }\n",
       "\n",
       "    .dataframe thead th {\n",
       "        text-align: right;\n",
       "    }\n",
       "</style>\n",
       "<table border=\"1\" class=\"dataframe\">\n",
       "  <thead>\n",
       "    <tr style=\"text-align: right;\">\n",
       "      <th></th>\n",
       "      <th>number_of_doors</th>\n",
       "      <th>wheel_base</th>\n",
       "      <th>length</th>\n",
       "      <th>width</th>\n",
       "      <th>height</th>\n",
       "      <th>curb_weight</th>\n",
       "      <th>number_of_cylinders</th>\n",
       "      <th>engine_size</th>\n",
       "      <th>bore</th>\n",
       "      <th>stroke</th>\n",
       "      <th>compression_ratio</th>\n",
       "      <th>horsepower</th>\n",
       "      <th>peak_rpm</th>\n",
       "      <th>city_mpg</th>\n",
       "      <th>highway_mpg</th>\n",
       "      <th>price</th>\n",
       "    </tr>\n",
       "  </thead>\n",
       "  <tbody>\n",
       "    <tr>\n",
       "      <th>0</th>\n",
       "      <td>-0.567164</td>\n",
       "      <td>-0.297289</td>\n",
       "      <td>-0.080612</td>\n",
       "      <td>-0.152911</td>\n",
       "      <td>-0.413889</td>\n",
       "      <td>-0.002974</td>\n",
       "      <td>-0.036318</td>\n",
       "      <td>0.011790</td>\n",
       "      <td>0.100213</td>\n",
       "      <td>-0.277020</td>\n",
       "      <td>-0.072767</td>\n",
       "      <td>0.036151</td>\n",
       "      <td>-0.009517</td>\n",
       "      <td>-0.080102</td>\n",
       "      <td>-0.065648</td>\n",
       "      <td>0.007146</td>\n",
       "    </tr>\n",
       "    <tr>\n",
       "      <th>1</th>\n",
       "      <td>-0.567164</td>\n",
       "      <td>-0.297289</td>\n",
       "      <td>-0.080612</td>\n",
       "      <td>-0.152911</td>\n",
       "      <td>-0.413889</td>\n",
       "      <td>-0.002974</td>\n",
       "      <td>-0.036318</td>\n",
       "      <td>0.011790</td>\n",
       "      <td>0.100213</td>\n",
       "      <td>-0.277020</td>\n",
       "      <td>-0.072767</td>\n",
       "      <td>0.036151</td>\n",
       "      <td>-0.009517</td>\n",
       "      <td>-0.080102</td>\n",
       "      <td>-0.065648</td>\n",
       "      <td>0.081745</td>\n",
       "    </tr>\n",
       "    <tr>\n",
       "      <th>2</th>\n",
       "      <td>-0.567164</td>\n",
       "      <td>-0.125277</td>\n",
       "      <td>-0.044791</td>\n",
       "      <td>-0.033253</td>\n",
       "      <td>-0.113889</td>\n",
       "      <td>0.103698</td>\n",
       "      <td>0.163682</td>\n",
       "      <td>0.094809</td>\n",
       "      <td>-0.464072</td>\n",
       "      <td>0.099171</td>\n",
       "      <td>-0.072767</td>\n",
       "      <td>0.237086</td>\n",
       "      <td>-0.009517</td>\n",
       "      <td>-0.120918</td>\n",
       "      <td>-0.084167</td>\n",
       "      <td>0.081745</td>\n",
       "    </tr>\n",
       "    <tr>\n",
       "      <th>3</th>\n",
       "      <td>0.432836</td>\n",
       "      <td>0.029242</td>\n",
       "      <td>0.035806</td>\n",
       "      <td>0.026577</td>\n",
       "      <td>0.044444</td>\n",
       "      <td>-0.084820</td>\n",
       "      <td>-0.036318</td>\n",
       "      <td>-0.067455</td>\n",
       "      <td>-0.099787</td>\n",
       "      <td>0.065837</td>\n",
       "      <td>-0.010267</td>\n",
       "      <td>-0.005905</td>\n",
       "      <td>0.066240</td>\n",
       "      <td>-0.018878</td>\n",
       "      <td>-0.010093</td>\n",
       "      <td>0.018442</td>\n",
       "    </tr>\n",
       "    <tr>\n",
       "      <th>4</th>\n",
       "      <td>0.432836</td>\n",
       "      <td>0.017580</td>\n",
       "      <td>0.035806</td>\n",
       "      <td>0.043671</td>\n",
       "      <td>0.044444</td>\n",
       "      <td>0.104086</td>\n",
       "      <td>0.063682</td>\n",
       "      <td>0.034432</td>\n",
       "      <td>-0.099787</td>\n",
       "      <td>0.065837</td>\n",
       "      <td>-0.135267</td>\n",
       "      <td>0.054843</td>\n",
       "      <td>0.066240</td>\n",
       "      <td>-0.141327</td>\n",
       "      <td>-0.158241</td>\n",
       "      <td>0.105329</td>\n",
       "    </tr>\n",
       "    <tr>\n",
       "      <th>5</th>\n",
       "      <td>-0.567164</td>\n",
       "      <td>0.029242</td>\n",
       "      <td>0.046254</td>\n",
       "      <td>0.035124</td>\n",
       "      <td>-0.055556</td>\n",
       "      <td>-0.018878</td>\n",
       "      <td>0.063682</td>\n",
       "      <td>0.034432</td>\n",
       "      <td>-0.099787</td>\n",
       "      <td>0.065837</td>\n",
       "      <td>-0.104017</td>\n",
       "      <td>0.031478</td>\n",
       "      <td>0.066240</td>\n",
       "      <td>-0.120918</td>\n",
       "      <td>-0.102685</td>\n",
       "      <td>0.050714</td>\n",
       "    </tr>\n",
       "    <tr>\n",
       "      <th>6</th>\n",
       "      <td>0.432836</td>\n",
       "      <td>0.204169</td>\n",
       "      <td>0.276105</td>\n",
       "      <td>0.471021</td>\n",
       "      <td>0.161111</td>\n",
       "      <td>0.111844</td>\n",
       "      <td>0.063682</td>\n",
       "      <td>0.034432</td>\n",
       "      <td>-0.099787</td>\n",
       "      <td>0.065837</td>\n",
       "      <td>-0.104017</td>\n",
       "      <td>0.031478</td>\n",
       "      <td>0.066240</td>\n",
       "      <td>-0.120918</td>\n",
       "      <td>-0.102685</td>\n",
       "      <td>0.111784</td>\n",
       "    </tr>\n",
       "    <tr>\n",
       "      <th>7</th>\n",
       "      <td>0.432836</td>\n",
       "      <td>0.204169</td>\n",
       "      <td>0.276105</td>\n",
       "      <td>0.471021</td>\n",
       "      <td>0.161111</td>\n",
       "      <td>0.154513</td>\n",
       "      <td>0.063682</td>\n",
       "      <td>0.034432</td>\n",
       "      <td>-0.099787</td>\n",
       "      <td>0.065837</td>\n",
       "      <td>-0.104017</td>\n",
       "      <td>0.031478</td>\n",
       "      <td>0.066240</td>\n",
       "      <td>-0.120918</td>\n",
       "      <td>-0.102685</td>\n",
       "      <td>0.141822</td>\n",
       "    </tr>\n",
       "    <tr>\n",
       "      <th>8</th>\n",
       "      <td>0.432836</td>\n",
       "      <td>0.204169</td>\n",
       "      <td>0.276105</td>\n",
       "      <td>0.471021</td>\n",
       "      <td>0.177778</td>\n",
       "      <td>0.205715</td>\n",
       "      <td>0.063682</td>\n",
       "      <td>0.015564</td>\n",
       "      <td>-0.142644</td>\n",
       "      <td>0.065837</td>\n",
       "      <td>-0.116517</td>\n",
       "      <td>0.171665</td>\n",
       "      <td>0.066240</td>\n",
       "      <td>-0.161735</td>\n",
       "      <td>-0.195278</td>\n",
       "      <td>0.264830</td>\n",
       "    </tr>\n",
       "    <tr>\n",
       "      <th>9</th>\n",
       "      <td>-0.567164</td>\n",
       "      <td>0.070058</td>\n",
       "      <td>0.038791</td>\n",
       "      <td>-0.093082</td>\n",
       "      <td>0.044444</td>\n",
       "      <td>-0.062322</td>\n",
       "      <td>-0.036318</td>\n",
       "      <td>-0.071229</td>\n",
       "      <td>0.121642</td>\n",
       "      <td>-0.219877</td>\n",
       "      <td>-0.085267</td>\n",
       "      <td>-0.010578</td>\n",
       "      <td>0.111695</td>\n",
       "      <td>-0.039286</td>\n",
       "      <td>-0.028611</td>\n",
       "      <td>0.080008</td>\n",
       "    </tr>\n",
       "  </tbody>\n",
       "</table>\n",
       "</div>"
      ],
      "text/plain": [
       "   number_of_doors  wheel_base    length     width    height  curb_weight  \\\n",
       "0        -0.567164   -0.297289 -0.080612 -0.152911 -0.413889    -0.002974   \n",
       "1        -0.567164   -0.297289 -0.080612 -0.152911 -0.413889    -0.002974   \n",
       "2        -0.567164   -0.125277 -0.044791 -0.033253 -0.113889     0.103698   \n",
       "3         0.432836    0.029242  0.035806  0.026577  0.044444    -0.084820   \n",
       "4         0.432836    0.017580  0.035806  0.043671  0.044444     0.104086   \n",
       "5        -0.567164    0.029242  0.046254  0.035124 -0.055556    -0.018878   \n",
       "6         0.432836    0.204169  0.276105  0.471021  0.161111     0.111844   \n",
       "7         0.432836    0.204169  0.276105  0.471021  0.161111     0.154513   \n",
       "8         0.432836    0.204169  0.276105  0.471021  0.177778     0.205715   \n",
       "9        -0.567164    0.070058  0.038791 -0.093082  0.044444    -0.062322   \n",
       "\n",
       "   number_of_cylinders  engine_size      bore    stroke  compression_ratio  \\\n",
       "0            -0.036318     0.011790  0.100213 -0.277020          -0.072767   \n",
       "1            -0.036318     0.011790  0.100213 -0.277020          -0.072767   \n",
       "2             0.163682     0.094809 -0.464072  0.099171          -0.072767   \n",
       "3            -0.036318    -0.067455 -0.099787  0.065837          -0.010267   \n",
       "4             0.063682     0.034432 -0.099787  0.065837          -0.135267   \n",
       "5             0.063682     0.034432 -0.099787  0.065837          -0.104017   \n",
       "6             0.063682     0.034432 -0.099787  0.065837          -0.104017   \n",
       "7             0.063682     0.034432 -0.099787  0.065837          -0.104017   \n",
       "8             0.063682     0.015564 -0.142644  0.065837          -0.116517   \n",
       "9            -0.036318    -0.071229  0.121642 -0.219877          -0.085267   \n",
       "\n",
       "   horsepower  peak_rpm  city_mpg  highway_mpg     price  \n",
       "0    0.036151 -0.009517 -0.080102    -0.065648  0.007146  \n",
       "1    0.036151 -0.009517 -0.080102    -0.065648  0.081745  \n",
       "2    0.237086 -0.009517 -0.120918    -0.084167  0.081745  \n",
       "3   -0.005905  0.066240 -0.018878    -0.010093  0.018442  \n",
       "4    0.054843  0.066240 -0.141327    -0.158241  0.105329  \n",
       "5    0.031478  0.066240 -0.120918    -0.102685  0.050714  \n",
       "6    0.031478  0.066240 -0.120918    -0.102685  0.111784  \n",
       "7    0.031478  0.066240 -0.120918    -0.102685  0.141822  \n",
       "8    0.171665  0.066240 -0.161735    -0.195278  0.264830  \n",
       "9   -0.010578  0.111695 -0.039286    -0.028611  0.080008  "
      ]
     },
     "execution_count": 7,
     "metadata": {},
     "output_type": "execute_result"
    }
   ],
   "source": [
    "def normalize(df,colunas):\n",
    "    df_aux = df.copy()\n",
    "    for col in colunas:\n",
    "        df_aux[col] = (df_aux[col] - df_aux[col].mean()) / (df_aux[col].max() - df_aux[col].min())\n",
    "    return (df_aux) \n",
    "\n",
    "cols_numericas = [\"number_of_doors\",\"wheel_base\",\"length\",\"width\",\"height\",\n",
    "                      \"curb_weight\",\"number_of_cylinders\",\"engine_size\",\n",
    "                      \"bore\",\"stroke\",\"compression_ratio\",\"horsepower\",\"peak_rpm\",\n",
    "                      \"city_mpg\",\"highway_mpg\",\"price\"]\n",
    "\n",
    "#Normaliza as informações númericas do dataframe de automóveis \n",
    "automobile_norm = normalize(automobile,cols_numericas)\n",
    "\n",
    "automobile_norm[cols_numericas].head(10)"
   ]
  },
  {
   "cell_type": "code",
   "execution_count": null,
   "metadata": {},
   "outputs": [],
   "source": [
    "import math \n",
    "\n",
    "n_linhas = len(cols_numericas)\n",
    "fig,ax = plt.subplots(nrows=n_linhas,ncols=2, sharey=True)\n",
    "\n",
    "\n",
    "fig.set_size_inches(18, 88)\n",
    "for i in range(n_linhas):    \n",
    "    sns.boxplot(ax=ax[i,0], data=[automobile_norm[cols_numericas[i]]]).set_title(cols_numericas[i])\n",
    "    sns.violinplot(ax=ax[i,1], data=[automobile_norm[cols_numericas[i]]]).set_title(cols_numericas[i])    "
   ]
  },
  {
   "cell_type": "markdown",
   "metadata": {},
   "source": [
    "Podemos verificar visualmente que há candidatos a serem outliers para as seguinte características dos veículos: wheel_base, length, width, curb_weight, number_of_cylinders, engine_size, bore, stroke, compression_ratio, horsepower, peak_rpm, city_mpg, highway_mpg e price. "
   ]
  },
  {
   "cell_type": "code",
   "execution_count": null,
   "metadata": {},
   "outputs": [],
   "source": [
    "estat = automobile_norm.describe()\n",
    "for col in cols_numericas:\n",
    "    #Intervalo inter-quartil\n",
    "    iq = (estat[col][\"75%\"] - estat[col][\"25%\"])\n",
    "    #Limite superior para outlier é 1,5 vezes o intervalo interquartílico acima do 75% percentil\n",
    "    lim_sup = estat[col][\"75%\"] + 1.5 * iq \n",
    "    #Limite inferior para outlier é 1,5 vezes o intervalo interquartílico abaixo do 25% percentil\n",
    "    lim_inf = estat[col][\"25%\"] - 1.5 * iq \n",
    "    #Seleciona os carros que seguem a regra calculada acima\n",
    "    vet_out = automobile_norm[(automobile_norm[col] > lim_sup) | (automobile_norm[col] < lim_inf)][[col]]\n",
    "    #Se algum elemento foi selecionado, imprima\n",
    "    if (len(vet_out) > 0 ):\n",
    "       print(\"Candidatos a outliers para \" + col) \n",
    "       print(vet_out)\n",
    "       print(\"\\n\\n\")"
   ]
  },
  {
   "cell_type": "code",
   "execution_count": null,
   "metadata": {},
   "outputs": [],
   "source": [
    "#Análise dos atributos categóricos nominais\n",
    "cols_alfa = [\"make\",\"fuel_type\",\"aspiration\",\"body_style\",\"drive_wheels\",\"engine_type\",\"engine_location\",\"fuel_system\"]\n",
    "n_linhas = len(cols_alfa)\n",
    "fig,ax = plt.subplots(nrows=n_linhas, sharey=True)\n",
    "fig.set_size_inches(18, 38)\n",
    "#Exibe o histograma de quantidades de elementos por categoria para verificar se há alguma informação discrepante\n",
    "for i in range(n_linhas):\n",
    "    sns.countplot(ax=ax[i],x=cols_alfa[i],data=automobile_norm)\n",
    "    "
   ]
  },
  {
   "cell_type": "markdown",
   "metadata": {},
   "source": [
    "Observando os atributos categóricos sobre veículos, não há valor discrepante que não represente a informação correspondente. Deste modo, os fabricantes de veículos são realmente nomes de fabricantes, o tipo de combustível é coerente com o esperado, e assim sucessivamente. "
   ]
  },
  {
   "cell_type": "markdown",
   "metadata": {},
   "source": [
    "Antes de explorar melhor as correlações, vamos analisar se há dados discrepante no conjunto de dados. Analisar os dados sem esta análise preliminar pode nos levar a algum viés indesejado."
   ]
  },
  {
   "cell_type": "markdown",
   "metadata": {},
   "source": [
    "### Análise de valores inválidos"
   ]
  },
  {
   "cell_type": "markdown",
   "metadata": {},
   "source": [
    "Analise e busque por valores considerados nulos."
   ]
  },
  {
   "cell_type": "code",
   "execution_count": null,
   "metadata": {},
   "outputs": [],
   "source": [
    "#Verifica se há valores nulos\n",
    "automobile.isnull().any()"
   ]
  },
  {
   "cell_type": "code",
   "execution_count": null,
   "metadata": {},
   "outputs": [],
   "source": [
    "#Automóveis com peak_rpm nulo\n",
    "automobile[automobile[\"peak_rpm\"].isnull()]"
   ]
  },
  {
   "cell_type": "code",
   "execution_count": null,
   "metadata": {},
   "outputs": [],
   "source": [
    "#Automóveis com city_mpg nulo\n",
    "automobile[automobile[\"city_mpg\"].isnull()]"
   ]
  },
  {
   "cell_type": "code",
   "execution_count": null,
   "metadata": {},
   "outputs": [],
   "source": [
    "#Automóveis com highway_mpg nulo\n",
    "automobile[automobile[\"highway_mpg\"].isnull()]"
   ]
  },
  {
   "cell_type": "code",
   "execution_count": null,
   "metadata": {},
   "outputs": [],
   "source": [
    "#Verifica-se a correlação entre o consumo na estrada e o consumo na cidade\n",
    "#e percebe-se que há uma alta correlação entre os atributos \n",
    "print(automobile[[\"highway_mpg\", \"city_mpg\"]].corr())\n",
    "\n",
    "\n",
    "#Calcula a relação entre o consumo da estrada e o consumo da cidade para quando há os valores ou quando \n",
    "#os valores não são zerados \n",
    "automobile[\"relacao_estrada_cidade\"] = np.where((automobile[\"city_mpg\"].isnull())  | (automobile[\"city_mpg\"]==0) |\n",
    "                                                (automobile[\"highway_mpg\"].isnull()) | (automobile[\"highway_mpg\"]==0),\n",
    "                                                 np.nan,\n",
    "                                                automobile[\"highway_mpg\"] / automobile[\"city_mpg\"])\n",
    "\n",
    "\n",
    "#Percebe-se pelo gráfico que a distribuição entre a relacao_estrada_cidade é muito concentrada ao redor da média,\n",
    "#semelhante a uma distribuição normal \n",
    "ax = plt.hist(automobile[automobile[\"relacao_estrada_cidade\"].notnull()][\"relacao_estrada_cidade\"])\n",
    "\n"
   ]
  },
  {
   "cell_type": "code",
   "execution_count": null,
   "metadata": {},
   "outputs": [],
   "source": [
    "#Verifica-se agora que o peak_rpm não possui uma alta correlação com nenhum outro atributo sobre automóveis\n",
    "#conforme percebe-se abaixo \n",
    "automobile.corr()[\"peak_rpm\"]"
   ]
  },
  {
   "cell_type": "markdown",
   "metadata": {},
   "source": [
    "Há valores nulos para <b>peak_rpm</b>, <b>city_mpg</b> e <b>highway_mpg</b>. \n",
    "\n",
    "Para os valores de city_mpg e highway_mpg, por haver forte correlação entre essas variáveis é possível realizar uma estimativa\n",
    "de um valor a partir do outro. \n",
    "\n",
    "No caso de peak_rpm, não há essa característica percebida."
   ]
  },
  {
   "cell_type": "markdown",
   "metadata": {},
   "source": [
    "Para os dados considerados nulos, realize a imputação de dados utilizando um valor apropriado (note que pode haver dados paramétricos e dados numéricos). Justique sua resposta."
   ]
  },
  {
   "cell_type": "markdown",
   "metadata": {},
   "source": [
    "Para o caso das varíaveis <b>city_mpg</b> e <b>highway_mpg</b> a estimativa será numérica estimada em função um do outro atributo, será assumido que há uma proporção média entre essas duas variáveis. \n",
    "\n",
    "Para o caso da variável <b>peak_rpm</b> será considerada a substituição simples pela média do valor."
   ]
  },
  {
   "cell_type": "code",
   "execution_count": null,
   "metadata": {},
   "outputs": [],
   "source": [
    "#calcula a média da relação entre o consumo da estrada / consumo da cidade \n",
    "media_estrada_cidade = automobile[\"relacao_estrada_cidade\"].mean(skipna=True)\n",
    "media_estrada_cidade\n"
   ]
  },
  {
   "cell_type": "code",
   "execution_count": null,
   "metadata": {},
   "outputs": [],
   "source": [
    "#Converte o consumo na cidade quando null em função do consumo da estrada \n",
    "for i,row in automobile.loc[automobile[\"city_mpg\"].isnull(),:].iterrows():\n",
    "    automobile.loc[i,\"city_mpg\"] = automobile.loc[i,\"highway_mpg\"] / media_estrada_cidade\n",
    "    \n",
    "\n",
    "#Converte o consumo na estrada quando null em função do consumo da cidade \n",
    "for i,row in automobile.loc[automobile[\"highway_mpg\"].isnull(),:].iterrows():\n",
    "    automobile.loc[i,\"highway_mpg\"] = automobile.loc[i,\"city_mpg\"] * media_estrada_cidade\n",
    "\n",
    "\n"
   ]
  },
  {
   "cell_type": "code",
   "execution_count": null,
   "metadata": {},
   "outputs": [],
   "source": [
    "#Tratamento para os carros com peak_rpm nulo\n",
    "\n",
    "#Seleciona os carros com peak_rpm que não são nulos e nem tem valor de peak_rpm com valores iguais a zero \n",
    "peak_rpm_tratado = automobile[(automobile[\"peak_rpm\"].notnull()) & (automobile[\"peak_rpm\"] > 0)]\n",
    "\n",
    "\n",
    "#Obtem a média do peak_rpm\n",
    "peak_rpm_medio = peak_rpm_tratado[\"peak_rpm\"].mean()\n",
    "\n",
    "for i,row in automobile.loc[automobile[\"peak_rpm\"].isnull(),:].iterrows():\n",
    "    automobile.loc[i,\"peak_rpm\"] = peak_rpm_medio\n",
    "\n"
   ]
  },
  {
   "cell_type": "markdown",
   "metadata": {},
   "source": [
    "### Análise de valores com valores iguais a 0"
   ]
  },
  {
   "cell_type": "markdown",
   "metadata": {},
   "source": [
    "Analise se no conjunto de dados se há valores iguais a 0 e verifique se faz parte do contexto. Caso não faça parte do contexto, utilize alguma técnica de imputação de dados apropriada.\n",
    "\n",
    "Inspecione o dataset por dados iguais a 0."
   ]
  },
  {
   "cell_type": "code",
   "execution_count": null,
   "metadata": {},
   "outputs": [],
   "source": [
    "#Lista as colunas que possuem valores zerados \n",
    "for col in cols_numericas: \n",
    "    vet_0 = automobile[automobile[col] == 0]\n",
    "    if (len(vet_0) > 0):\n",
    "       print(\"Coluna = \" + col + \" com valores zerados\\n\")\n",
    "       print(automobile[automobile[col] ==0][col])\n",
    "       print(\"\\n\\n\")\n",
    "\n"
   ]
  },
  {
   "cell_type": "markdown",
   "metadata": {},
   "source": [
    "A imputação de dados pode seguir algum padrão dos demais exemplos ou pode ser simplesmente atribuído um valor. Avalie tais condições de acordo com as inspeções de dados."
   ]
  },
  {
   "cell_type": "markdown",
   "metadata": {},
   "source": [
    "\n",
    "Os mesmos atributos que apresentaram valores nulos também apresentam valores zerados. \n",
    "\n",
    "Os atributos citados não deveriam ter valores zerados, pois um veículo com motor não pode ter o número máximo de rotações por minuto (peak_rpm) sendo 0 e nem ter o consumo de combustível nem na estrada e nem na cidade (highway_mpg, city_mpg) como sendo iguais a zero. \n",
    "\n",
    "O tratamento sugerido será o mesmo aplicado no caso de valores nulos. \n",
    "\n",
    "Para os atributos city_mpg e highway_mpg teremos um cálculo em função do outro e o valor do peak_rpm será substituído pelo valor médio. \n"
   ]
  },
  {
   "cell_type": "code",
   "execution_count": null,
   "metadata": {},
   "outputs": [],
   "source": [
    "#Converte o consumo na cidade quando zero em função do consumo da estrada \n",
    "for i,row in automobile.loc[automobile[\"city_mpg\"]==0,:].iterrows():\n",
    "    automobile.loc[i,\"city_mpg\"] = automobile.loc[i,\"highway_mpg\"] / media_estrada_cidade\n",
    "    \n",
    "\n",
    "#Converte o consumo na estrada quando zero em função do consumo da cidade \n",
    "for i,row in automobile.loc[automobile[\"highway_mpg\"]==0,:].iterrows():\n",
    "    automobile.loc[i,\"highway_mpg\"] = automobile.loc[i,\"city_mpg\"] * media_estrada_cidade\n",
    "\n",
    "\n"
   ]
  },
  {
   "cell_type": "code",
   "execution_count": null,
   "metadata": {},
   "outputs": [],
   "source": [
    "#Converte o peak_rpm para o valor médio quando o valor é zero\n",
    "for i,row in automobile.loc[automobile[\"peak_rpm\"]==0,:].iterrows():\n",
    "    automobile.loc[i,\"peak_rpm\"] = peak_rpm_medio"
   ]
  },
  {
   "cell_type": "markdown",
   "metadata": {},
   "source": [
    "### Análise Numérica de Outliers"
   ]
  },
  {
   "cell_type": "markdown",
   "metadata": {},
   "source": [
    "Da análise visual de outliers realizada acima vamos utilizar uma métrica de verificação mais apropriada e objetiva afim de criar um patamar aceitável de dados não discrepantes.\n",
    "\n",
    "Neste projeto vamos considerar [o Método Turco para identificar discrepantes](http://datapigtechnologies.com/blog/index.php/highlighting-outliers-in-your-data-with-the-tukey-method/), que utiliza um __passo de limite__ que é 5 vezes (em nosso projeto) a diferença entre o terceiro (Q3) e o primeiro quartil (Q1). Deste modo, valores que sejam maiores que o Q3 + passo de limite ou menor Q1 - passo de limite sejam sinalizados como outliers.\n",
    "\n",
    "Construa uma função que receba como parâmetro de entrada um série de dados e exiba os valores discrepantes. Utilize o boilerplate abaixo para completar as instruções faltantes.\n",
    "\n",
    "*Dica: utilize a função do Numpy de percentil, np.percentile(serie, 25) para quartil 1 e np.percentile(serie, 75) para quartil 3.*"
   ]
  },
  {
   "cell_type": "code",
   "execution_count": null,
   "metadata": {},
   "outputs": [],
   "source": [
    "def identificacao_outlier(df, col): \n",
    "    print(col)\n",
    " \n",
    "    estat = df.describe()\n",
    "    #Intervalo inter-quartil\n",
    "    iq = (estat[col][\"75%\"] - estat[col][\"25%\"])\n",
    "    #Limite superior para outlier é 5 vezes o intervalo interquartílica acima do 75% percentil\n",
    "    lim_sup = estat[col][\"75%\"] + 5 * iq \n",
    "    #Limite inferior para outlier é 5 vezes o intervalo interquarílica abaixo do 25% percentil\n",
    "    lim_inf = estat[col][\"25%\"] - 5 * iq \n",
    "    #Seleciona os elementos que seguem a regra calculada acima\n",
    "    vet_out_sup = df[(df[col] > lim_sup)][[col]]\n",
    "    vet_out_inf = df[(df[col] < lim_inf)][[col]]\n",
    "    #Se algum elemento foi selecionado, imprima\n",
    "    if (len(vet_out_sup) > 0 ):\n",
    "       print(\"Candidatos a outliers superiores para \" + col) \n",
    "       print(vet_out_sup)\n",
    "       print(\"\\n\\n\")\n",
    "    \n",
    "    if (len(vet_out_inf) > 0 ):\n",
    "       print(\"Candidatos a outliers inferiores para \" + col) \n",
    "       print(vet_out_inf)\n",
    "       print(\"\\n\\n\")\n",
    "\n",
    "    "
   ]
  },
  {
   "cell_type": "code",
   "execution_count": null,
   "metadata": {
    "scrolled": true
   },
   "outputs": [],
   "source": [
    "for col in cols_numericas: \n",
    "    identificacao_outlier(automobile,col)"
   ]
  },
  {
   "cell_type": "markdown",
   "metadata": {},
   "source": [
    "Pelo método utilizado, há potenciais outliers para dois atributos: número de cilindros (<b>number_of_cylinders</b>) e taxa de compressão (<b>compression_ratio</b>). \n",
    "\n",
    "Pesquisando na Internet, encontram-se referências em vários sites (revista 4 rodas, jornal do veículo) para motores de veículos cujo número de cilindros variam de 2 a 12, sendo que a maioria dos veículos possuem 4 (vide estatística abaixo). Deste modo, não faz sentido excluir este veículos pois os números parecem passíveis de serem reais \n",
    "\n"
   ]
  },
  {
   "cell_type": "code",
   "execution_count": null,
   "metadata": {},
   "outputs": [],
   "source": [
    "automobile.groupby([\"number_of_cylinders\"])[\"number_of_cylinders\"].count()"
   ]
  },
  {
   "cell_type": "markdown",
   "metadata": {},
   "source": [
    "No caso do atributo de taxa de compressão, percebemos que todos os elementos selecionados possuem motores a diesel, e segundo a wikipedia (https://pt.wikipedia.org/wiki/Motor_a_diesel), motores a diesel tem a taxa de compressão variando de 15 a 25, ou seja, os dados parecem verossímeis. \n",
    "\n"
   ]
  },
  {
   "cell_type": "code",
   "execution_count": null,
   "metadata": {},
   "outputs": [],
   "source": [
    "automobile[automobile[\"compression_ratio\"]>=21.0][[\"fuel_type\",\"compression_ratio\"]]"
   ]
  },
  {
   "cell_type": "markdown",
   "metadata": {},
   "source": [
    "**Pergunta:** Houve dados discrepantes localizados pela metodologia sugerida? Qual foi a sua conclusão, são realmente dados que devem ser removidos ou mantidos? Justifique.\n",
    "\n",
    "**Resposta:**\n",
    "Sim. Pela metodologia sugerida foram localizados dados discrepantes. Contudo os dados devem ser mantidos, pois há uma enorme variedade no número de cilindros dos veículos, compatível com aquilo observado na amostra e a taxa de compressão de veículos é muito mais alta naqueles com motores à diesel, também condizentes com o identificado na amostra"
   ]
  },
  {
   "cell_type": "markdown",
   "metadata": {},
   "source": [
    "### Mapeamento de Dados Paramétricos"
   ]
  },
  {
   "cell_type": "markdown",
   "metadata": {},
   "source": [
    "Os algoritmos de aprendizado de máquina precisam receber dados que sejam inteiramente numéricos. Dados que representam uma classificação como por exemplo um tipo de carro, como sedan ou hatchback, deve ser convertido em um valor numérico associado, como por exemplo 1 ou 2.\n",
    "\n",
    "Crie uma função que receba uma lista única e retorne um dicionário com a categoria e um código numérico crescente e incremental para posteriormente utilizarmos como mapeamento."
   ]
  },
  {
   "cell_type": "code",
   "execution_count": null,
   "metadata": {},
   "outputs": [],
   "source": [
    "def mapear_serie(serie):\n",
    "    dict_gen = {}\n",
    "    valores = serie.unique()\n",
    "    ordinal = 0 \n",
    "    for valor in valores:\n",
    "        ordinal += 1\n",
    "        dict_gen[valor] = ordinal \n",
    "            \n",
    "    return (dict_gen)"
   ]
  },
  {
   "cell_type": "markdown",
   "metadata": {},
   "source": [
    "Com a funcão criada, crie dicionários para cada coluna paramétrica. Lembre-se que é necessário passar somente valores únicos.\n",
    "\n",
    "*Dica: utilize a função unique() do dataframe para obter valores únicos de uma determinada série (ou coluna).*"
   ]
  },
  {
   "cell_type": "code",
   "execution_count": null,
   "metadata": {},
   "outputs": [],
   "source": [
    "#Converte todas as colunas alfanuméricas para os seus valores ordinais\n",
    "for col in cols_alfa:\n",
    "    mapa_ordinal = mapear_serie(automobile[col])\n",
    "    automobile[col] = automobile[col].map(mapa_ordinal)\n"
   ]
  },
  {
   "cell_type": "markdown",
   "metadata": {},
   "source": [
    "Até este momento seu conjunto de dados não deve conter nenhum dado paramétrico. Todos os dados armazenados com valores como texto, por exemplo, \"diesel\", \"gas\" deve estar preenchido com valores numéricos, como 1 ou 2.\n",
    "\n",
    "Inspecione seus dados e certifique de que tudo está certo.\n",
    "\n",
    "*Dica: utilize uma inspeção simples visual, com 20 amostras.*"
   ]
  },
  {
   "cell_type": "code",
   "execution_count": null,
   "metadata": {
    "scrolled": true
   },
   "outputs": [],
   "source": [
    "#Colunas marcadas como alfanuméricas agora já estão convertidas\n",
    "automobile[cols_alfa]\n",
    "\n"
   ]
  },
  {
   "cell_type": "code",
   "execution_count": null,
   "metadata": {},
   "outputs": [],
   "source": [
    "#Se existe a coluna auxiliar incluída para o tratamento de dados faltantes então a exclui\n",
    "if \"relacao_estrada_cidade\" in list(automobile.columns.values):\n",
    "   automobile = automobile.drop(\"relacao_estrada_cidade\",1)\n"
   ]
  },
  {
   "cell_type": "code",
   "execution_count": null,
   "metadata": {},
   "outputs": [],
   "source": [
    "def is_numeric_array(array):\n",
    "    numerical_dtype_kinds = {'b', # boolean\n",
    "                             'u', # unsigned integer\n",
    "                             'i', # signed integer\n",
    "                             'f', # floats\n",
    "                             'c'} # complex\n",
    "    try:\n",
    "        return array.dtype.kind in numerical_dtype_kinds\n",
    "    except AttributeError:\n",
    "        # in case it's not a numpy array it will probably have no dtype.\n",
    "        return np.asarray(array).dtype.kind in numerical_dtype_kinds"
   ]
  },
  {
   "cell_type": "code",
   "execution_count": null,
   "metadata": {},
   "outputs": [],
   "source": [
    "#Verifica se todos os atributos dos automóveis são numéricos\n",
    "print(is_numeric_array(automobile))"
   ]
  },
  {
   "cell_type": "markdown",
   "metadata": {},
   "source": [
    "Nesse ponto, temos a garantia que todas as colunas do dataframe <b>automobile</b> são numéricas. Pode-se prosseguir para a utilização de modelos de aprendizagem de máquina para realizar os treinamentos, testes e predições. \n"
   ]
  },
  {
   "cell_type": "markdown",
   "metadata": {},
   "source": [
    "## Desenvolvimento do Modelo"
   ]
  },
  {
   "cell_type": "markdown",
   "metadata": {},
   "source": [
    "O conjunto de dados que temos a nossa disposição indica a aplicação de um modelo voltado a regressão, ou seja, queremos prever um preço de um veículo dada certas condições. É um problema típico de predição de série numérica.\n",
    "\n",
    "Podemos aplicar quaisquer algoritmos de regressão existente que tenha aplicação de classificação, pois é de um domínio diferente.\n",
    "\n",
    "Iremos explorar 3 modelos de algoritmos de regressão para testar a performance de cada um deles. Ao final será eleito o que apresentar melhor performance de pontuação R2.\n",
    "\n",
    "Os algoritmos são:\n",
    "\n",
    "1. [Regressão Linear](http://scikit-learn.org/stable/auto_examples/linear_model/plot_ols.html)\n",
    "2. [Regressão de Árvore de Decisão](http://scikit-learn.org/stable/modules/generated/sklearn.tree.DecisionTreeRegressor.html)\n",
    "3. [Regressão Ridge](http://scikit-learn.org/stable/modules/linear_model.html#ridge-regression)"
   ]
  },
  {
   "cell_type": "markdown",
   "metadata": {},
   "source": [
    "**Pergunta:** Explique como cada modelo de regressão funciona, indicando pelo menos um caso de uso em cada um deles.\n",
    "\n",
    "**Resposta:** \n",
    "\n",
    "* **Regressão Linear** \n",
    "\n",
    "Modelo que estima o valor desejado, traçando a melhor linha reta baseada na distribuição das observações. Os coeficientes dessa linha são calculados pelos valores que minimizam a soma residual do método dos mínimos quadrados entre o valor estimado e as observações.\n",
    "\n",
    "Caso de uso: Estimar o tempo de percurso de bicicleta entre estações de locação da cidade de Los Angeles, utilizando o dataset [“Los Angeles Metro Bike Share Trip Data”](https://www.kaggle.com/cityofLA/los-angeles-metro-bike-share-trip-data) do Kaggle. A regressão pode ser realizada utilizando o ID das estações de início e fim do percurso e o horário de início da viagem.\n",
    "\n",
    "\n",
    "* **Regressão por Árvore de Decisão** \n",
    "\n",
    "Modelo que estima o valor desejado utilizando regras de decisão inferidas pelos atributos. As regras podem estar no formato “if-then-else”. Para cada decisão tomada, uma nova regra pode ser aplicada aumentando a profundidade da árvore de decisão. Quando mais profunda a árvore, maior a acurácia do modelo.\n",
    "\n",
    "Caso de uso: Utilizando o dataset [“Kickstarter Projects”](https://www.kaggle.com/kemical/kickstarter-projects) do Kaggle, estimar a chance de sucesso de um projeto. Utilizando os nós: categoria, categoria principal, período de arrecadação e valor pleiteado, a árvore de decisão pode combinar os nós de modo a apresentar o melhor resultado.\n",
    "\n",
    "\n",
    "* **Regressão Ridge** \n",
    "\n",
    "Dependendo da quantidade de atributos e da correlação entre eles, o método dos mínimos quadrados, utilizado na regressão linear, pode ocasionar overfitting ou até falhar em encontrar coeficientes únicos. A regressão Ridge corrige essas falhas, adionando um parâmetro à soma residual do método dos mínimos quadrados, isso regulariza o modelo, penalizando coeficientes grandes, e, por consequência, encolhendo os coeficientes da regressão.\n",
    "\n",
    "Caso de uso: Utilizando o dataset [“Breast Cancer Wisconsin Data”](https://www.kaggle.com/uciml/breast-cancer-wisconsin-data) do Kaggle, estimar o tipo de câncer de mama (maligno ou benigno) baseando-se em todos os atributos do dataset. Nesse caso, os atributos perímetro e área são calculados pelo atributo raio, ou seja, são correlacionados, dessa forma, utilizando a regressão de Ridge evitamos overfitting\n",
    "\n"
   ]
  },
  {
   "cell_type": "markdown",
   "metadata": {},
   "source": [
    "Antes de partimos para o treinamento do modelo, precisaremos separar os dados em subconjuntos para permitir avaliar adequadamente o modelo.\n",
    "\n",
    "Uma boa razão de tamanho de conjunto de treinamento e testes é 80% e 20% ou ainda, 70% e 30%. O importante é não misturar dados de treinamento com os de teste para termos uma ideia melhor sobre a performance do modelo com dados previamente não treinados.\n",
    "\n",
    "Antes de separarmos os dados, a partir das análises realizadas anteriormente, quais seriam os atributos a serem utilizados e qual seria o atributo preditor?"
   ]
  },
  {
   "cell_type": "code",
   "execution_count": null,
   "metadata": {},
   "outputs": [],
   "source": [
    "# Para a predição do preço dos automóveis, vamos utilizar os atributos com maiores correlação com relação ao atributo procurado\n",
    "print(automobile.corr()[\"price\"])\n",
    "\n",
    "# Os atributos são: drive_wheels, wheel_base, length, width, curb_weight, number_of_cylinders, engine_size, bore, horsepower,\n",
    "# city_mpg e highway_mpg\n",
    "preditor_col_names = ['drive_wheels','wheel_base','length','width','curb_weight','number_of_cylinders','engine_size','bore','horsepower','city_mpg','highway_mpg']"
   ]
  },
  {
   "cell_type": "markdown",
   "metadata": {},
   "source": [
    "Crie subsets de treinamento e teste utilizado uma razão adequada de tamanho.\n",
    "Utilze o ```train_test_split``` passando como parâmetros"
   ]
  },
  {
   "cell_type": "code",
   "execution_count": null,
   "metadata": {},
   "outputs": [],
   "source": [
    "from sklearn.model_selection import train_test_split\n",
    "\n",
    "# armazena os atributos preditores\n",
    "X = automobile[preditor_col_names].values\n",
    "# armazena os valores a estimar\n",
    "y = automobile['price'].values\n",
    "\n",
    "# define que 30% do data set será utilizado para teste e 70% treinamento\n",
    "split_test_size = 0.30\n",
    "\n",
    "# gera randomicamente os data sets de treinamento e teste, utilizando como seed o numero 42\n",
    "X_train, X_test, y_train, y_test = train_test_split(X, y, test_size=split_test_size, random_state=42)"
   ]
  },
  {
   "cell_type": "markdown",
   "metadata": {},
   "source": [
    "Inspecione cada subconjunto de dados obtidos do ```train_test_split```. Note que nos conjuntos X devemos ter atributos, logo é esperado uma matriz com mais de uma coluna. Nos conjuntos y, é a classe de predição, logo é esperado apenas um atributo."
   ]
  },
  {
   "cell_type": "code",
   "execution_count": null,
   "metadata": {},
   "outputs": [],
   "source": [
    "#Inspeção de X_train\n",
    "print(\"Atributos de treinamento: \")\n",
    "print(X_train[0:6])\n",
    "\n",
    "# array com arrays de 11 valores, a mesma quantidade de atributos escolhida"
   ]
  },
  {
   "cell_type": "code",
   "execution_count": null,
   "metadata": {},
   "outputs": [],
   "source": [
    "#Inspeção de y_train\n",
    "print(\"Atributo procurado: \")\n",
    "print(y_train[0:6])"
   ]
  },
  {
   "cell_type": "markdown",
   "metadata": {},
   "source": [
    "Verifique também se a razão dos conjuntos está coerente com a divisão estabelecida. Para estes cálculos divida o número de itens do conjunto de treino pelo total e também o de testes pelo total."
   ]
  },
  {
   "cell_type": "code",
   "execution_count": null,
   "metadata": {},
   "outputs": [],
   "source": [
    "#IMPLEMENTAÇÃO\n",
    "print(\"Relação dos dados de treinamento com o conjunto total: %.2f\" % (len(X_train) / automobile['price'].size) )\n",
    "print(\"Relação dos dados de teste com o conjunto total: %.2f\" % (len(X_test) / automobile['price'].size) )"
   ]
  },
  {
   "cell_type": "markdown",
   "metadata": {},
   "source": [
    "## Treinamento e teste do modelo\n",
    "\n",
    "Após separarmos os dados adequadamente, selecionar os atributos que irão compor como o modelo deve treinar e qual atributo deve perseguir, o próximo passo é treinar este modelo e verificar, pelos testes, sua performance.\n",
    "\n",
    "Este estudo também irá levar a escolhermos qual algoritmo devemos utilizar dentre os três selecionados neste ajuste.\n",
    "\n",
    "Para avaliarmos a performance dos modelos, vamos criar uma função que determinará a pontuação R2.\n",
    "\n",
    "Não esqueça de avaliar os conjuntos de dados de treino (```X_train```, ```y_train``` e de teste, ```X_test``` e ```y_test```)"
   ]
  },
  {
   "cell_type": "code",
   "execution_count": null,
   "metadata": {},
   "outputs": [],
   "source": [
    "from sklearn.metrics import mean_squared_error, r2_score\n",
    "\n",
    "def pontuacao(modelo, X_test, y_test):\n",
    "    y_pred = modelo.predict(X_test)\n",
    "    print(\"%s R2 score: %.2f\" %(modelo,r2_score(y_test, y_pred)))"
   ]
  },
  {
   "cell_type": "markdown",
   "metadata": {},
   "source": [
    "### Regressão Linear\n",
    "\n",
    "Utilize para a variável preditora a função ```.ravel()``` para converter os dados no formato que o ```sklearn``` espera."
   ]
  },
  {
   "cell_type": "code",
   "execution_count": null,
   "metadata": {},
   "outputs": [],
   "source": [
    "from sklearn import linear_model\n",
    "\n",
    "lr_model = linear_model.LinearRegression()\n",
    "lr_model.fit(X_train, y_train.ravel())"
   ]
  },
  {
   "cell_type": "markdown",
   "metadata": {},
   "source": [
    "Obténha a pontuação R2, utilizando a função ```pontuacao``` para os conjuntos de treino e de teste."
   ]
  },
  {
   "cell_type": "code",
   "execution_count": null,
   "metadata": {},
   "outputs": [],
   "source": [
    "print(\"Pontuação R2 para os dados de treinamento:\")\n",
    "pontuacao(lr_model, X_train, y_train)\n",
    "print(\"\\n\")\n",
    "print(\"Pontuação R2 para os dados de test:\")\n",
    "pontuacao(lr_model, X_test, y_test)"
   ]
  },
  {
   "cell_type": "markdown",
   "metadata": {},
   "source": [
    "### Regressão de árvore de Decisão"
   ]
  },
  {
   "cell_type": "code",
   "execution_count": null,
   "metadata": {},
   "outputs": [],
   "source": [
    "from sklearn import tree\n",
    "\n",
    "dtr_model = tree.DecisionTreeRegressor(max_depth=5,random_state=2018, splitter='random').fit(X_train, y_train.ravel())"
   ]
  },
  {
   "cell_type": "markdown",
   "metadata": {},
   "source": [
    "Obténha a pontuação R2, utilizando a função ```pontuacao``` para os conjuntos de treino e de teste."
   ]
  },
  {
   "cell_type": "code",
   "execution_count": null,
   "metadata": {},
   "outputs": [],
   "source": [
    "print(\"Pontuação R2 para os dados de treinamento:\")\n",
    "pontuacao(dtr_model, X_train, y_train)\n",
    "print(\"\\n\")\n",
    "print(\"Pontuação R2 para os dados de test:\")\n",
    "pontuacao(dtr_model, X_test, y_test)"
   ]
  },
  {
   "cell_type": "markdown",
   "metadata": {},
   "source": [
    "### Regressão Ridge"
   ]
  },
  {
   "cell_type": "code",
   "execution_count": null,
   "metadata": {},
   "outputs": [],
   "source": [
    "from sklearn import linear_model\n",
    "\n",
    "lrr_model = linear_model.Ridge().fit(X_train, y_train.ravel())"
   ]
  },
  {
   "cell_type": "markdown",
   "metadata": {},
   "source": [
    "Obténha a pontuação R2, utilizando a função ```pontuacao``` para os conjuntos de treino e de teste."
   ]
  },
  {
   "cell_type": "code",
   "execution_count": null,
   "metadata": {},
   "outputs": [],
   "source": [
    "print(\"Pontuação R2 para os dados de treinamento:\")\n",
    "pontuacao(lrr_model, X_train, y_train)\n",
    "print(\"\\n\")\n",
    "print(\"Pontuação R2 para os dados de test:\")\n",
    "pontuacao(lrr_model, X_test, y_test)"
   ]
  },
  {
   "cell_type": "markdown",
   "metadata": {},
   "source": [
    "**Pergunta:** Nesta análise preliminar, como foi a performance de cada algoritmo? Explique os resultados e detalhe como a característica de cada algoritmo influenciou no resultado.\n",
    "\n",
    "**Resposta:**"
   ]
  },
  {
   "cell_type": "markdown",
   "metadata": {},
   "source": [
    "## Validação e Otimização do Modelo\n",
    "\n",
    "Cada algoritmo de modelo pode oferecer a possibilidade de ajustes de seus parâmetros. Tais ajustes podem contribuir para melhorar ou piorar o modelo, portanto esta fase de otimização e validação é importante entender o patamar de partida, com os valores padrões obtidos nos passos anteriores versus as otimizações.\n",
    "\n",
    "É comum que as otimizações não sejam capazes de alterar os patamares padrão.\n",
    "\n",
    "O Scikit Learn oferece uma forma simplificada de testar diversas condições de parâmetros diferentes por meio do ```GridSearchCV```. Após diversos testes é apresentado os parâmetros que obtiveram os melhores resultados."
   ]
  },
  {
   "cell_type": "markdown",
   "metadata": {},
   "source": [
    "### Regulação dos parâmetros dos modelos\n",
    "\n",
    "Analise os parâmetros possíveis de cada algortimo de regressão e crie um dicionário para ser utilizado no ```GridSearchCV```.\n",
    "O dicionário é composto pelo nome do parâmetro como chave. Seu valor será uma lista de valores que se deseja otimizar. Não deixe de revisar a [documentação](http://scikit-learn.org/stable/modules/generated/sklearn.model_selection.GridSearchCV.html)\n",
    "\n",
    "Verfique a pontuação R2 para os conjuntos de dados de treino e de teste, pois nem sempre preditores que se saem bem durante o treinamento terão a mesma performance com os dados de teste."
   ]
  },
  {
   "cell_type": "markdown",
   "metadata": {},
   "source": [
    "### Regulação do Modelo de Regressão Linear\n",
    "\n",
    "Escolha quais atributos incluir na variável ```parameters```para serem otimizados. Essa variável é um dicionário onde cada chave representa uma configuração do modelo, o valor pode ser único ou uma lista, neste caso utilize ```[]``` para incluir múltiplos valores. Como nosso problema é relacionado a regressão, utilize a pontuação R2 em ```scoring``` na configuração do ```GridSearchCV```. "
   ]
  },
  {
   "cell_type": "code",
   "execution_count": null,
   "metadata": {},
   "outputs": [],
   "source": [
    "from sklearn.model_selection import GridSearchCV\n",
    "\n",
    "print(lr_model.get_params())\n",
    "parameters = {'normalize': [True]}\n",
    "\n",
    "opt_model_lr = GridSearchCV(lr_model, parameters, scoring='r2')\n",
    "opt_model_lr.fit(X_train, y_train.ravel())"
   ]
  },
  {
   "cell_type": "markdown",
   "metadata": {},
   "source": [
    "Calcule as pontuações para o melhor estimador com dados de treino."
   ]
  },
  {
   "cell_type": "code",
   "execution_count": null,
   "metadata": {},
   "outputs": [],
   "source": [
    "opt_model_lr.score(X_train, y_train.ravel()).round(2)*100, opt_model_lr.best_estimator_"
   ]
  },
  {
   "cell_type": "markdown",
   "metadata": {},
   "source": [
    "E também para os dados de testes."
   ]
  },
  {
   "cell_type": "code",
   "execution_count": null,
   "metadata": {},
   "outputs": [],
   "source": [
    "opt_model_lr.score(X_test, y_test.ravel()).round(2)*100, opt_model_lr.best_estimator_"
   ]
  },
  {
   "cell_type": "markdown",
   "metadata": {},
   "source": [
    "### Regulação do Modelo de Regressão de Árvore de Decisão"
   ]
  },
  {
   "cell_type": "code",
   "execution_count": null,
   "metadata": {},
   "outputs": [],
   "source": [
    "print(dtr_model.get_params())\n",
    "parameters = {'splitter':['best']}\n",
    "\n",
    "opt_model_dtr = GridSearchCV(dtr_model, parameters, scoring='r2')\n",
    "opt_model_dtr.fit(X_train, y_train.ravel())"
   ]
  },
  {
   "cell_type": "markdown",
   "metadata": {},
   "source": [
    "Pontuação dos dados de treino."
   ]
  },
  {
   "cell_type": "code",
   "execution_count": null,
   "metadata": {},
   "outputs": [],
   "source": [
    "opt_model_dtr.score(X_train, y_train.ravel()).round(2)*100, opt_model_dtr.best_estimator_"
   ]
  },
  {
   "cell_type": "markdown",
   "metadata": {},
   "source": [
    "Pontuação dos dados de teste."
   ]
  },
  {
   "cell_type": "code",
   "execution_count": null,
   "metadata": {},
   "outputs": [],
   "source": [
    "opt_model_dtr.score(X_test, y_test.ravel()).round(2)*100, opt_model_dtr.best_estimator_"
   ]
  },
  {
   "cell_type": "markdown",
   "metadata": {},
   "source": [
    "### Regulação do Modelo de Regressão Ridge"
   ]
  },
  {
   "cell_type": "code",
   "execution_count": null,
   "metadata": {},
   "outputs": [],
   "source": [
    "print(lrr_model.get_params())\n",
    "parameters = {'normalize':[True]}\n",
    "\n",
    "opt_model_lrr = GridSearchCV(lrr_model, parameters, scoring='r2')\n",
    "opt_model_lrr.fit(X_train, y_train.ravel())"
   ]
  },
  {
   "cell_type": "markdown",
   "metadata": {},
   "source": [
    "Pontuação dos dados de treino."
   ]
  },
  {
   "cell_type": "code",
   "execution_count": null,
   "metadata": {},
   "outputs": [],
   "source": [
    "opt_model_lrr.score(X_train, y_train.ravel()).round(2)*100, opt_model_lrr.best_estimator_"
   ]
  },
  {
   "cell_type": "markdown",
   "metadata": {},
   "source": [
    "Pontuação dos dados de teste."
   ]
  },
  {
   "cell_type": "code",
   "execution_count": null,
   "metadata": {},
   "outputs": [],
   "source": [
    "opt_model_lrr.score(X_test, y_test.ravel()).round(2)*100, opt_model_lrr.best_estimator_"
   ]
  },
  {
   "cell_type": "markdown",
   "metadata": {},
   "source": [
    "Sumarize na tabela abaixo os indicadores para cada um dos preditores e suas respectivas pontuações para os conjuntos de dados de treino e de testes"
   ]
  },
  {
   "cell_type": "markdown",
   "metadata": {},
   "source": [
    "|                     | Regressão linear | Regressão árvore de decisão | Regressão ridge |\n",
    "|:---------------------|:------------------:|:-----------------------------:|:-----------------:|\n",
    "| R2 treino |      84%           |      95%                       |   81%              |\n",
    "| R2 teste  |      77%            |      91%                       |   71%              |\n"
   ]
  },
  {
   "cell_type": "markdown",
   "metadata": {},
   "source": [
    "**Pergunta:** Qual dos algoritmos de regressão obteve os melhores resultados? Quais caracaterísticas deste algoritmo podem ajudar a justificar tal resultado?\n",
    "\n",
    "**Resposta:**"
   ]
  },
  {
   "cell_type": "markdown",
   "metadata": {},
   "source": [
    "### Implementação do algoritmo otimizado\n",
    "\n",
    "Configure o classificador selecionado com os parâmetros otimizados obtidos anteriormente."
   ]
  },
  {
   "cell_type": "code",
   "execution_count": null,
   "metadata": {},
   "outputs": [],
   "source": [
    "#IMPLEMENTAÇÃO\n",
    "\n"
   ]
  },
  {
   "cell_type": "markdown",
   "metadata": {},
   "source": [
    "### Teste com exemplos\n",
    "\n",
    "Utilize 3 exemplos criados por você mesmo para obter um valor de venda de veículo. Escolha caracaterísticas que demonstrem como o regressor deveria se comportar. Para tanto, imagine exemplos dos quais você espera um valor baixo, mediano e alto do preço do veículo baseado nos atributos escolhidos"
   ]
  },
  {
   "cell_type": "code",
   "execution_count": null,
   "metadata": {},
   "outputs": [],
   "source": [
    "#Lembre-se que os atributos são os armazenados na lista feature_col_names\n",
    "\n",
    "feature_col_names"
   ]
  },
  {
   "cell_type": "code",
   "execution_count": null,
   "metadata": {},
   "outputs": [],
   "source": [
    "#IMPLEMENTAÇÃO\n",
    "#A entrada de dados deve ser uma matriz do seguinte formato, note que há dois colchetes pois é uma \n",
    "#matriz dentro de outra matriz [[a,b,c,d,e]]\n",
    "\n",
    "test_example_1 = [[]]\n",
    "test_example_2 = [[]]\n",
    "test_example_3 = [[]]\n"
   ]
  },
  {
   "cell_type": "markdown",
   "metadata": {},
   "source": [
    "## Conclusões finais\n",
    "\n",
    "Este projeto apresentou de forma simplifcada o __Worflow de Machine Learning__ que pode servir como base para estudos relacionados a classificação ou predição de séries numéricas.\n",
    "\n",
    "A fase de preparação, evidenciada no projeto, é uma das mais importantes da qual se precisa investir um bom tempo para dar os dados organizados e confiáveis, pois é a forma como os classificadores irão aprender com os exemplos e tentarão desvencilhar de efeitos indesejáveis como os vieses.\n",
    "\n",
    "Regressores são um tipo de algoritmo de machine learning que pode ser aplicado em diversas áreas das quais é necessário predizer um número baseado em um conjunto de dados numéricos ou série numérica, logo sua aplicação é bem ampla."
   ]
  },
  {
   "cell_type": "markdown",
   "metadata": {},
   "source": [
    "**Pergunta:** Seu modelo conseguiu prever adequadamente novos dados a partir do treinamento dos dados de teste? O que você faria diferente?\n",
    "\n",
    "**Resposta:**"
   ]
  },
  {
   "cell_type": "markdown",
   "metadata": {},
   "source": [
    "**Pergunta:**: Em que outras áreas você poderia aplicar estes tipos de algoritmos de regressão de aprendizado de máquina?\n",
    "\n",
    "**Resposta**:"
   ]
  },
  {
   "cell_type": "code",
   "execution_count": null,
   "metadata": {},
   "outputs": [],
   "source": []
  },
  {
   "cell_type": "code",
   "execution_count": null,
   "metadata": {},
   "outputs": [],
   "source": []
  }
 ],
 "metadata": {
  "kernelspec": {
   "display_name": "Python 3",
   "language": "python",
   "name": "python3"
  },
  "language_info": {
   "codemirror_mode": {
    "name": "ipython",
    "version": 3
   },
   "file_extension": ".py",
   "mimetype": "text/x-python",
   "name": "python",
   "nbconvert_exporter": "python",
   "pygments_lexer": "ipython3",
   "version": "3.6.5"
  }
 },
 "nbformat": 4,
 "nbformat_minor": 2
}
